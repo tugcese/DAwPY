{
 "cells": [
  {
   "cell_type": "code",
   "execution_count": 3,
   "id": "67f46290",
   "metadata": {},
   "outputs": [],
   "source": [
    "import numpy as np\n",
    "import pandas as pd\n",
    "import matplotlib.pyplot as plt\n",
    "import seaborn as sns \n",
    "from scipy import stats\n",
    "from scipy.stats.mstats import winsorize\n",
    "from scipy.stats import norm\n",
    "#import ipywidgets as widgets\n",
    "from IPython.display import display\n",
    "import warnings\n",
    "warnings.filterwarnings('ignore')\n",
    "warnings.warn(\"this will not show\")\n",
    "\n",
    "%matplotlib inline\n",
    "#%matplotlib notebook\n",
    "\n",
    "plt.rcParams[\"figure.figsize\"] = (10,6)\n",
    "# plt.rcParams['figure.dpi'] = 100pd.set_option('display.max_columns', 500)\n",
    "\n",
    "sns.set_style(\"whitegrid\")\n",
    "pd.set_option('display.float_format', lambda x: '%.3f' % x)\n",
    "\n",
    "pd.options.display.max_rows = 150\n",
    "pd.options.display.max_columns = 100\n",
    "pd.set_option('display.float_format', lambda x: '%.2f' % x)\n",
    "np.set_printoptions(suppress=True)"
   ]
  },
  {
   "cell_type": "code",
   "execution_count": 4,
   "id": "46997ee9",
   "metadata": {},
   "outputs": [],
   "source": [
    "df0 = pd.read_csv(\"AutoScout_Part_2.csv\")"
   ]
  },
  {
   "cell_type": "code",
   "execution_count": 5,
   "id": "7f37bcf7",
   "metadata": {},
   "outputs": [],
   "source": [
    "df = df0.copy()"
   ]
  },
  {
   "cell_type": "code",
   "execution_count": 6,
   "id": "2ae03258",
   "metadata": {},
   "outputs": [
    {
     "data": {
      "text/plain": [
       "(24375, 31)"
      ]
     },
     "execution_count": 6,
     "metadata": {},
     "output_type": "execute_result"
    }
   ],
   "source": [
    "df.shape #(24375,31)"
   ]
  },
  {
   "cell_type": "code",
   "execution_count": 7,
   "id": "da8f32a7",
   "metadata": {},
   "outputs": [],
   "source": [
    "pd.set_option('display.float_format', lambda x: '%.2f' % x)"
   ]
  },
  {
   "cell_type": "code",
   "execution_count": 8,
   "id": "d6fd1291",
   "metadata": {
    "scrolled": true
   },
   "outputs": [
    {
     "name": "stdout",
     "output_type": "stream",
     "text": [
      "<class 'pandas.core.frame.DataFrame'>\n",
      "RangeIndex: 24375 entries, 0 to 24374\n",
      "Data columns (total 31 columns):\n",
      " #   Column                     Non-Null Count  Dtype  \n",
      "---  ------                     --------------  -----  \n",
      " 0   make_model                 24375 non-null  object \n",
      " 1   make                       24375 non-null  object \n",
      " 2   location                   24375 non-null  object \n",
      " 3   price                      24375 non-null  int64  \n",
      " 4   body_type                  24375 non-null  object \n",
      " 5   type                       24375 non-null  object \n",
      " 6   doors                      24375 non-null  float64\n",
      " 7   warranty                   24375 non-null  object \n",
      " 8   mileage                    24375 non-null  float64\n",
      " 9   gearbox                    24375 non-null  object \n",
      " 10  fuel_type                  24375 non-null  object \n",
      " 11  paint                      24375 non-null  object \n",
      " 12  seller                     24375 non-null  object \n",
      " 13  seats                      24375 non-null  float64\n",
      " 14  power                      24375 non-null  float64\n",
      " 15  engine_size                24375 non-null  float64\n",
      " 16  gears                      24375 non-null  float64\n",
      " 17  co_emissions               24375 non-null  float64\n",
      " 18  drivetrain                 24375 non-null  object \n",
      " 19  cylinders                  24375 non-null  float64\n",
      " 20  comfort_convenience        24375 non-null  object \n",
      " 21  safety_security            24375 non-null  object \n",
      " 22  full_service_history       24375 non-null  object \n",
      " 23  non_smoker_vehicle         24375 non-null  object \n",
      " 24  emission_class             24375 non-null  object \n",
      " 25  upholstery                 24375 non-null  object \n",
      " 26  previous_owner             24375 non-null  float64\n",
      " 27  age                        24375 non-null  float64\n",
      " 28  fuel_consumption_comb      24375 non-null  float64\n",
      " 29  entertainment_media_count  24375 non-null  object \n",
      " 30  extras_count               24375 non-null  float64\n",
      "dtypes: float64(12), int64(1), object(18)\n",
      "memory usage: 5.8+ MB\n"
     ]
    }
   ],
   "source": [
    "df.info()"
   ]
  },
  {
   "cell_type": "code",
   "execution_count": 9,
   "id": "a9919354",
   "metadata": {},
   "outputs": [],
   "source": [
    "# Calculating of limits\n",
    "def limits(df, column):\n",
    "    Q1 = df[column].quantile(0.25)\n",
    "    Q3 = df[column].quantile(0.75)\n",
    "    IQR = Q3-Q1\n",
    "    lower_lim= Q1-1.5*IQR\n",
    "    upper_lim= Q3+1.5*IQR\n",
    "    \n",
    "    print(\"Lower Limit:\",lower_lim) \n",
    "    print(\"Upper limit:\", upper_lim)"
   ]
  },
  {
   "cell_type": "code",
   "execution_count": 10,
   "id": "11f30287",
   "metadata": {},
   "outputs": [],
   "source": [
    "# Counting of Outliers\n",
    "def outliers(df, column):\n",
    "    Q1 = df[column].quantile(0.25)\n",
    "    Q3 = df[column].quantile(0.75)\n",
    "    IQR = Q3-Q1\n",
    "    lower_lim= Q1-1.5*IQR\n",
    "    upper_lim= Q3+1.5*IQR\n",
    "    \n",
    "    return ((df[column]<lower_lim) | (df[column]>upper_lim)).sum()"
   ]
  },
  {
   "cell_type": "code",
   "execution_count": 11,
   "id": "f26d1d4e",
   "metadata": {},
   "outputs": [],
   "source": [
    "# Dropping of Outliers\n",
    "def dropping_of_outliers(df, column):\n",
    "    Q1 = df[column].quantile(0.25)\n",
    "    Q3 = df[column].quantile(0.75)\n",
    "    IQR = Q3-Q1\n",
    "    lower_lim= Q1-1.5*IQR\n",
    "    upper_lim= Q3+1.5*IQR\n",
    "    \n",
    "    return df[column].loc[~((df[column]<lower_lim) | (df[column]>upper_lim))]"
   ]
  },
  {
   "cell_type": "code",
   "execution_count": 12,
   "id": "710fdefd",
   "metadata": {},
   "outputs": [],
   "source": [
    "def describe(column):\n",
    "    print(\"Column Name    : \", column)\n",
    "    print(\"-\"*40)\n",
    "    print(\"Per_of_nulls   : \", \"%\", round(df[column].isnull().sum()/df.shape[0]*100, 2))\n",
    "    print(\"Num_of_nulls   : \", df[column].isnull().sum())\n",
    "    print(\"Num_of_uniques : \", df[column].nunique())\n",
    "    print(\"-\"*40)\n",
    "    print(df[column].value_counts(dropna = False))"
   ]
  },
  {
   "cell_type": "code",
   "execution_count": 13,
   "id": "5a5f09a6",
   "metadata": {},
   "outputs": [],
   "source": [
    "def analyze(column):\n",
    "\n",
    "    # Graphs\n",
    "    if pd.api.types.is_numeric_dtype(df[column]):\n",
    "        # boxplot for numeric columns\n",
    "        plt.figure(figsize=(14, 6))\n",
    "\n",
    "        plt.subplot(1, 2, 1)\n",
    "        sns.boxplot(x=df[column])\n",
    "        plt.title(f'Boxplot for {column}')\n",
    "\n",
    "        #scatterplot (with price) for numeric columns\n",
    "        plt.subplot(1, 2, 2)\n",
    "        sns.scatterplot(x=df[column], y=df['price'])\n",
    "        plt.title(f'Scatterplot for {column} and price')\n",
    "\n",
    "        plt.show()\n",
    "    else:\n",
    "        #boxplot (with price) for categoric columns\n",
    "        plt.figure(figsize=(10, 6))\n",
    "        sns.boxplot(x=df[column], y=df['price'])\n",
    "        plt.title(f'Boxplot for {column} and price')\n",
    "        plt.xticks(rotation=45)\n",
    "        plt.show()"
   ]
  },
  {
   "cell_type": "markdown",
   "id": "b0a8a1bd",
   "metadata": {},
   "source": [
    "<a id=\"13\"></a>\n",
    "<div class=\"alert alert-info\" role=\"alert\">\n",
    "<h1>Column name :<span style=\"color:red\"> price </span></h1>\n",
    "</div>\n",
    "\n",
    "<div class=\"alert alert-block alert-warning\">\n",
    "<b>Operation : </b> \n",
    "Let's remove <span style=\"color:red\"><b> the outlier values</b></span> from the \"first_registration\" column.\n",
    "</div>\n",
    "<a href=\"#toc\" class=\"btn btn-warning btn-lg active\" role=\"button\" aria-pressed=\"true\" style=\"color:black;\">Content</a>"
   ]
  },
  {
   "cell_type": "code",
   "execution_count": 14,
   "id": "4e604123",
   "metadata": {},
   "outputs": [
    {
     "data": {
      "text/plain": [
       "count     24375.00\n",
       "mean      23822.72\n",
       "std       26418.65\n",
       "min         490.00\n",
       "25%       11900.00\n",
       "50%       18650.00\n",
       "75%       28488.00\n",
       "max     1346900.00\n",
       "Name: price, dtype: float64"
      ]
     },
     "execution_count": 14,
     "metadata": {},
     "output_type": "execute_result"
    }
   ],
   "source": [
    "df.price.describe()\n",
    "\n",
    "# std is bigger than mean so there are outliers in this feature"
   ]
  },
  {
   "cell_type": "code",
   "execution_count": 15,
   "id": "88a71c1e",
   "metadata": {},
   "outputs": [
    {
     "data": {
      "image/png": "[encoded data removed]",
      "text/plain": [
       "<Figure size 1000x1200 with 3 Axes>"
      ]
     },
     "metadata": {},
     "output_type": "display_data"
    }
   ],
   "source": [
    "# Let's detect the POSSIBLE OUTLIERS with graphs\n",
    "\n",
    "plt.figure(figsize=(10, 12))\n",
    "\n",
    "plt.subplot(211)\n",
    "sns.boxplot(df.price, orient=\"h\", whis=3, flierprops={\"marker\": \"x\", \"markeredgecolor\": \"red\"})\n",
    "\n",
    "plt.subplot(223)\n",
    "sns.regplot(data=df, x=df.price, y=df.power, line_kws={'color': 'r'})\n",
    "\n",
    "plt.subplot(224)\n",
    "sns.histplot(df.price, bins=40, color=\"red\")\n",
    "\n",
    "plt.tight_layout();"
   ]
  },
  {
   "cell_type": "markdown",
   "id": "1d566dd7",
   "metadata": {},
   "source": [
    "- By 04.06.24 actual domain search for possible outliers according to make_models from www.autoscout24.com\n",
    "\n",
    "Make_Model\t            Lowest_Price\tHighest_Price\n",
    "\n",
    "Mercedes Benz AMG GT\t55350\t        348900\n",
    "Nissan GT-R \t        55000\t        240000\n",
    "Mercedes Benz EQS \t    63000\t        182000\n",
    "Ford Mustang\t         1000\t        358000\n",
    "Mercedes Benz S 580\t    92000\t        654000\n",
    "Mercedes Benz G 63 AMG\t35000\t       1700000\n",
    "Mercedes Benz S 63 AMG\t13000\t        428000\n",
    "Ford GT\t                 8000\t       1600000\n",
    "Mercedes Benz G 500 \t30000\t        240000\n",
    "Mercedes Benz E 63 AMG\t30000\t        199000\n",
    "Mercedes Benz C 63 AMG\t34000\t        180000\n",
    "Nissan Skyline\t         5000\t        269000\n",
    "Volvo 240\t             2000\t         30000\n",
    "Fiat Coupe\t             1300\t        145000\n",
    "Ford Ranger\t             3600\t        120000\n",
    "Ford M\t                10000\t         64000\n",
    "Toyota Supra\t        10000\t        175000\n",
    "Fiat 131\t             2000\t        260000\n",
    "Renault R 5\t            65000\t        280000\n",
    "Renault Alpine\t        56000\t        119000\n",
    "\n",
    "\n",
    "When compared to our dataset Volvo 240 and Ford M seems to have outliers.\n",
    "\n",
    "Moreover some make and models like Renault R 5, Fiat 131, Ford M, Fiat Coupe, Volvo 240, Nissan Skyline, Ford GT are generally older cars. When those cars are replica or upgraded prices increase very much but they seem to be unique and highly priced."
   ]
  },
  {
   "cell_type": "code",
   "execution_count": 16,
   "id": "413588d8",
   "metadata": {},
   "outputs": [],
   "source": [
    "# According to domain knowledge let's find the differences between maximum and minimum price values between same make_models\n",
    "\n",
    "make_price_gap = df.groupby(\"make_model\")[\"price\"].agg([\"max\", \"min\"])"
   ]
  },
  {
   "cell_type": "code",
   "execution_count": 17,
   "id": "e6013cb9",
   "metadata": {},
   "outputs": [],
   "source": [
    "make_price_gap[\"price_range\"] = make_price_gap[\"max\"] - make_price_gap[\"min\"]"
   ]
  },
  {
   "cell_type": "code",
   "execution_count": 18,
   "id": "ac6b6923",
   "metadata": {},
   "outputs": [],
   "source": [
    "big_price_gap = make_price_gap[make_price_gap[\"price_range\"] > 100000].index"
   ]
  },
  {
   "cell_type": "code",
   "execution_count": 19,
   "id": "0a96c8db",
   "metadata": {
    "scrolled": true
   },
   "outputs": [
    {
     "data": {
      "text/html": [
       "<div>\n",
       "<style scoped>\n",
       "    .dataframe tbody tr th:only-of-type {\n",
       "        vertical-align: middle;\n",
       "    }\n",
       "\n",
       "    .dataframe tbody tr th {\n",
       "        vertical-align: top;\n",
       "    }\n",
       "\n",
       "    .dataframe thead th {\n",
       "        text-align: right;\n",
       "    }\n",
       "</style>\n",
       "<table border=\"1\" class=\"dataframe\">\n",
       "  <thead>\n",
       "    <tr style=\"text-align: right;\">\n",
       "      <th></th>\n",
       "      <th>count</th>\n",
       "      <th>mean</th>\n",
       "      <th>std</th>\n",
       "      <th>min</th>\n",
       "      <th>25%</th>\n",
       "      <th>50%</th>\n",
       "      <th>75%</th>\n",
       "      <th>max</th>\n",
       "    </tr>\n",
       "    <tr>\n",
       "      <th>make_model</th>\n",
       "      <th></th>\n",
       "      <th></th>\n",
       "      <th></th>\n",
       "      <th></th>\n",
       "      <th></th>\n",
       "      <th></th>\n",
       "      <th></th>\n",
       "      <th></th>\n",
       "    </tr>\n",
       "  </thead>\n",
       "  <tbody>\n",
       "    <tr>\n",
       "      <th>Fiat 131</th>\n",
       "      <td>4.00</td>\n",
       "      <td>68850.00</td>\n",
       "      <td>97469.60</td>\n",
       "      <td>14000.00</td>\n",
       "      <td>20000.00</td>\n",
       "      <td>23250.00</td>\n",
       "      <td>72100.00</td>\n",
       "      <td>214900.00</td>\n",
       "    </tr>\n",
       "    <tr>\n",
       "      <th>Fiat Coupe</th>\n",
       "      <td>160.00</td>\n",
       "      <td>12387.08</td>\n",
       "      <td>13410.80</td>\n",
       "      <td>950.00</td>\n",
       "      <td>5999.75</td>\n",
       "      <td>9500.00</td>\n",
       "      <td>14922.50</td>\n",
       "      <td>150000.00</td>\n",
       "    </tr>\n",
       "    <tr>\n",
       "      <th>Ford GT</th>\n",
       "      <td>8.00</td>\n",
       "      <td>607400.00</td>\n",
       "      <td>474151.51</td>\n",
       "      <td>129950.00</td>\n",
       "      <td>167337.50</td>\n",
       "      <td>489500.00</td>\n",
       "      <td>1017475.00</td>\n",
       "      <td>1346900.00</td>\n",
       "    </tr>\n",
       "    <tr>\n",
       "      <th>Ford M</th>\n",
       "      <td>2.00</td>\n",
       "      <td>72500.00</td>\n",
       "      <td>74246.21</td>\n",
       "      <td>20000.00</td>\n",
       "      <td>46250.00</td>\n",
       "      <td>72500.00</td>\n",
       "      <td>98750.00</td>\n",
       "      <td>125000.00</td>\n",
       "    </tr>\n",
       "    <tr>\n",
       "      <th>Ford Mustang</th>\n",
       "      <td>629.00</td>\n",
       "      <td>47105.66</td>\n",
       "      <td>25176.97</td>\n",
       "      <td>5950.00</td>\n",
       "      <td>32950.00</td>\n",
       "      <td>42550.00</td>\n",
       "      <td>54950.00</td>\n",
       "      <td>208101.00</td>\n",
       "    </tr>\n",
       "    <tr>\n",
       "      <th>Ford Ranger</th>\n",
       "      <td>36.00</td>\n",
       "      <td>45550.25</td>\n",
       "      <td>36964.40</td>\n",
       "      <td>23999.00</td>\n",
       "      <td>34103.00</td>\n",
       "      <td>37225.00</td>\n",
       "      <td>42732.50</td>\n",
       "      <td>250000.00</td>\n",
       "    </tr>\n",
       "    <tr>\n",
       "      <th>Mercedes Benz 190</th>\n",
       "      <td>4.00</td>\n",
       "      <td>127309.75</td>\n",
       "      <td>73831.69</td>\n",
       "      <td>49900.00</td>\n",
       "      <td>71980.00</td>\n",
       "      <td>129670.00</td>\n",
       "      <td>184999.75</td>\n",
       "      <td>199999.00</td>\n",
       "    </tr>\n",
       "    <tr>\n",
       "      <th>Mercedes Benz 220</th>\n",
       "      <td>6.00</td>\n",
       "      <td>67808.33</td>\n",
       "      <td>72332.69</td>\n",
       "      <td>7000.00</td>\n",
       "      <td>8725.00</td>\n",
       "      <td>43175.00</td>\n",
       "      <td>115987.50</td>\n",
       "      <td>176000.00</td>\n",
       "    </tr>\n",
       "    <tr>\n",
       "      <th>Mercedes Benz 230</th>\n",
       "      <td>3.00</td>\n",
       "      <td>67963.33</td>\n",
       "      <td>59032.05</td>\n",
       "      <td>9990.00</td>\n",
       "      <td>37945.00</td>\n",
       "      <td>65900.00</td>\n",
       "      <td>96950.00</td>\n",
       "      <td>128000.00</td>\n",
       "    </tr>\n",
       "    <tr>\n",
       "      <th>Mercedes Benz AMG GT</th>\n",
       "      <td>72.00</td>\n",
       "      <td>141663.12</td>\n",
       "      <td>46864.71</td>\n",
       "      <td>18890.00</td>\n",
       "      <td>105994.25</td>\n",
       "      <td>140794.50</td>\n",
       "      <td>167486.25</td>\n",
       "      <td>283900.00</td>\n",
       "    </tr>\n",
       "    <tr>\n",
       "      <th>Mercedes Benz E 63 AMG</th>\n",
       "      <td>23.00</td>\n",
       "      <td>82119.70</td>\n",
       "      <td>35065.84</td>\n",
       "      <td>27499.00</td>\n",
       "      <td>53947.50</td>\n",
       "      <td>78900.00</td>\n",
       "      <td>110895.00</td>\n",
       "      <td>154900.00</td>\n",
       "    </tr>\n",
       "    <tr>\n",
       "      <th>Mercedes Benz G 500</th>\n",
       "      <td>9.00</td>\n",
       "      <td>150367.89</td>\n",
       "      <td>40874.32</td>\n",
       "      <td>88899.00</td>\n",
       "      <td>121463.00</td>\n",
       "      <td>164500.00</td>\n",
       "      <td>178900.00</td>\n",
       "      <td>209000.00</td>\n",
       "    </tr>\n",
       "    <tr>\n",
       "      <th>Mercedes Benz G 63 AMG</th>\n",
       "      <td>17.00</td>\n",
       "      <td>258033.71</td>\n",
       "      <td>140771.04</td>\n",
       "      <td>92380.00</td>\n",
       "      <td>213900.00</td>\n",
       "      <td>259000.00</td>\n",
       "      <td>279063.00</td>\n",
       "      <td>696900.00</td>\n",
       "    </tr>\n",
       "    <tr>\n",
       "      <th>Mercedes Benz GLE 63 AMG</th>\n",
       "      <td>9.00</td>\n",
       "      <td>134038.56</td>\n",
       "      <td>101979.54</td>\n",
       "      <td>46900.00</td>\n",
       "      <td>60999.00</td>\n",
       "      <td>75490.00</td>\n",
       "      <td>154970.00</td>\n",
       "      <td>299000.00</td>\n",
       "    </tr>\n",
       "    <tr>\n",
       "      <th>Mercedes Benz GLS 400</th>\n",
       "      <td>9.00</td>\n",
       "      <td>94907.67</td>\n",
       "      <td>33475.96</td>\n",
       "      <td>41499.00</td>\n",
       "      <td>78870.00</td>\n",
       "      <td>102900.00</td>\n",
       "      <td>115500.00</td>\n",
       "      <td>144980.00</td>\n",
       "    </tr>\n",
       "    <tr>\n",
       "      <th>Mercedes Benz S 400</th>\n",
       "      <td>16.00</td>\n",
       "      <td>70403.06</td>\n",
       "      <td>37157.09</td>\n",
       "      <td>23950.00</td>\n",
       "      <td>50847.50</td>\n",
       "      <td>64945.00</td>\n",
       "      <td>74135.00</td>\n",
       "      <td>169780.00</td>\n",
       "    </tr>\n",
       "    <tr>\n",
       "      <th>Mercedes Benz S 500</th>\n",
       "      <td>23.00</td>\n",
       "      <td>67147.61</td>\n",
       "      <td>41011.91</td>\n",
       "      <td>13980.00</td>\n",
       "      <td>48900.00</td>\n",
       "      <td>56990.00</td>\n",
       "      <td>74980.00</td>\n",
       "      <td>168990.00</td>\n",
       "    </tr>\n",
       "    <tr>\n",
       "      <th>Mercedes Benz S 63 AMG</th>\n",
       "      <td>19.00</td>\n",
       "      <td>128270.42</td>\n",
       "      <td>43957.92</td>\n",
       "      <td>31990.00</td>\n",
       "      <td>106445.00</td>\n",
       "      <td>129900.00</td>\n",
       "      <td>162875.00</td>\n",
       "      <td>199500.00</td>\n",
       "    </tr>\n",
       "    <tr>\n",
       "      <th>Mercedes Benz SL 500</th>\n",
       "      <td>25.00</td>\n",
       "      <td>43977.56</td>\n",
       "      <td>26352.23</td>\n",
       "      <td>15990.00</td>\n",
       "      <td>24888.00</td>\n",
       "      <td>36950.00</td>\n",
       "      <td>55000.00</td>\n",
       "      <td>125985.00</td>\n",
       "    </tr>\n",
       "    <tr>\n",
       "      <th>Mercedes Benz SL 63 AMG</th>\n",
       "      <td>8.00</td>\n",
       "      <td>125895.62</td>\n",
       "      <td>86423.09</td>\n",
       "      <td>44500.00</td>\n",
       "      <td>45000.00</td>\n",
       "      <td>118901.00</td>\n",
       "      <td>207797.25</td>\n",
       "      <td>217900.00</td>\n",
       "    </tr>\n",
       "    <tr>\n",
       "      <th>Nissan GT-R</th>\n",
       "      <td>82.00</td>\n",
       "      <td>109540.54</td>\n",
       "      <td>39171.57</td>\n",
       "      <td>54950.00</td>\n",
       "      <td>79960.00</td>\n",
       "      <td>99945.00</td>\n",
       "      <td>127990.00</td>\n",
       "      <td>237500.00</td>\n",
       "    </tr>\n",
       "    <tr>\n",
       "      <th>Nissan Skyline</th>\n",
       "      <td>35.00</td>\n",
       "      <td>58058.51</td>\n",
       "      <td>47350.29</td>\n",
       "      <td>12950.00</td>\n",
       "      <td>34750.00</td>\n",
       "      <td>41900.00</td>\n",
       "      <td>64950.00</td>\n",
       "      <td>264900.00</td>\n",
       "    </tr>\n",
       "    <tr>\n",
       "      <th>Renault Alpine A110</th>\n",
       "      <td>39.00</td>\n",
       "      <td>75348.95</td>\n",
       "      <td>15826.98</td>\n",
       "      <td>57999.00</td>\n",
       "      <td>69920.00</td>\n",
       "      <td>73555.00</td>\n",
       "      <td>77883.50</td>\n",
       "      <td>160000.00</td>\n",
       "    </tr>\n",
       "    <tr>\n",
       "      <th>Renault R 5</th>\n",
       "      <td>4.00</td>\n",
       "      <td>48597.50</td>\n",
       "      <td>74537.00</td>\n",
       "      <td>4890.00</td>\n",
       "      <td>8347.50</td>\n",
       "      <td>14750.00</td>\n",
       "      <td>55000.00</td>\n",
       "      <td>160000.00</td>\n",
       "    </tr>\n",
       "    <tr>\n",
       "      <th>Toyota Supra</th>\n",
       "      <td>94.00</td>\n",
       "      <td>52674.15</td>\n",
       "      <td>19321.96</td>\n",
       "      <td>9500.00</td>\n",
       "      <td>47900.00</td>\n",
       "      <td>57412.50</td>\n",
       "      <td>62487.50</td>\n",
       "      <td>120000.00</td>\n",
       "    </tr>\n",
       "    <tr>\n",
       "      <th>Volvo 240</th>\n",
       "      <td>7.00</td>\n",
       "      <td>168849.86</td>\n",
       "      <td>369062.70</td>\n",
       "      <td>5200.00</td>\n",
       "      <td>8900.00</td>\n",
       "      <td>15000.00</td>\n",
       "      <td>71975.00</td>\n",
       "      <td>999999.00</td>\n",
       "    </tr>\n",
       "  </tbody>\n",
       "</table>\n",
       "</div>"
      ],
      "text/plain": [
       "                          count      mean       std       min       25%  \\\n",
       "make_model                                                                \n",
       "Fiat 131                   4.00  68850.00  97469.60  14000.00  20000.00   \n",
       "Fiat Coupe               160.00  12387.08  13410.80    950.00   5999.75   \n",
       "Ford GT                    8.00 607400.00 474151.51 129950.00 167337.50   \n",
       "Ford M                     2.00  72500.00  74246.21  20000.00  46250.00   \n",
       "Ford Mustang             629.00  47105.66  25176.97   5950.00  32950.00   \n",
       "Ford Ranger               36.00  45550.25  36964.40  23999.00  34103.00   \n",
       "Mercedes Benz 190          4.00 127309.75  73831.69  49900.00  71980.00   \n",
       "Mercedes Benz 220          6.00  67808.33  72332.69   7000.00   8725.00   \n",
       "Mercedes Benz 230          3.00  67963.33  59032.05   9990.00  37945.00   \n",
       "Mercedes Benz AMG GT      72.00 141663.12  46864.71  18890.00 105994.25   \n",
       "Mercedes Benz E 63 AMG    23.00  82119.70  35065.84  27499.00  53947.50   \n",
       "Mercedes Benz G 500        9.00 150367.89  40874.32  88899.00 121463.00   \n",
       "Mercedes Benz G 63 AMG    17.00 258033.71 140771.04  92380.00 213900.00   \n",
       "Mercedes Benz GLE 63 AMG   9.00 134038.56 101979.54  46900.00  60999.00   \n",
       "Mercedes Benz GLS 400      9.00  94907.67  33475.96  41499.00  78870.00   \n",
       "Mercedes Benz S 400       16.00  70403.06  37157.09  23950.00  50847.50   \n",
       "Mercedes Benz S 500       23.00  67147.61  41011.91  13980.00  48900.00   \n",
       "Mercedes Benz S 63 AMG    19.00 128270.42  43957.92  31990.00 106445.00   \n",
       "Mercedes Benz SL 500      25.00  43977.56  26352.23  15990.00  24888.00   \n",
       "Mercedes Benz SL 63 AMG    8.00 125895.62  86423.09  44500.00  45000.00   \n",
       "Nissan GT-R               82.00 109540.54  39171.57  54950.00  79960.00   \n",
       "Nissan Skyline            35.00  58058.51  47350.29  12950.00  34750.00   \n",
       "Renault Alpine A110       39.00  75348.95  15826.98  57999.00  69920.00   \n",
       "Renault R 5                4.00  48597.50  74537.00   4890.00   8347.50   \n",
       "Toyota Supra              94.00  52674.15  19321.96   9500.00  47900.00   \n",
       "Volvo 240                  7.00 168849.86 369062.70   5200.00   8900.00   \n",
       "\n",
       "                               50%        75%        max  \n",
       "make_model                                                \n",
       "Fiat 131                  23250.00   72100.00  214900.00  \n",
       "Fiat Coupe                 9500.00   14922.50  150000.00  \n",
       "Ford GT                  489500.00 1017475.00 1346900.00  \n",
       "Ford M                    72500.00   98750.00  125000.00  \n",
       "Ford Mustang              42550.00   54950.00  208101.00  \n",
       "Ford Ranger               37225.00   42732.50  250000.00  \n",
       "Mercedes Benz 190        129670.00  184999.75  199999.00  \n",
       "Mercedes Benz 220         43175.00  115987.50  176000.00  \n",
       "Mercedes Benz 230         65900.00   96950.00  128000.00  \n",
       "Mercedes Benz AMG GT     140794.50  167486.25  283900.00  \n",
       "Mercedes Benz E 63 AMG    78900.00  110895.00  154900.00  \n",
       "Mercedes Benz G 500      164500.00  178900.00  209000.00  \n",
       "Mercedes Benz G 63 AMG   259000.00  279063.00  696900.00  \n",
       "Mercedes Benz GLE 63 AMG  75490.00  154970.00  299000.00  \n",
       "Mercedes Benz GLS 400    102900.00  115500.00  144980.00  \n",
       "Mercedes Benz S 400       64945.00   74135.00  169780.00  \n",
       "Mercedes Benz S 500       56990.00   74980.00  168990.00  \n",
       "Mercedes Benz S 63 AMG   129900.00  162875.00  199500.00  \n",
       "Mercedes Benz SL 500      36950.00   55000.00  125985.00  \n",
       "Mercedes Benz SL 63 AMG  118901.00  207797.25  217900.00  \n",
       "Nissan GT-R               99945.00  127990.00  237500.00  \n",
       "Nissan Skyline            41900.00   64950.00  264900.00  \n",
       "Renault Alpine A110       73555.00   77883.50  160000.00  \n",
       "Renault R 5               14750.00   55000.00  160000.00  \n",
       "Toyota Supra              57412.50   62487.50  120000.00  \n",
       "Volvo 240                 15000.00   71975.00  999999.00  "
      ]
     },
     "execution_count": 19,
     "metadata": {},
     "output_type": "execute_result"
    }
   ],
   "source": [
    "df[df[\"make_model\"].isin(big_price_gap)].groupby(\"make_model\")[\"price\"].describe()\n",
    "\n",
    "# as you can see some of the standard deviations are more than means \n",
    "# and maximum prices of some make_models are really high "
   ]
  },
  {
   "cell_type": "code",
   "execution_count": 20,
   "id": "2d447f9e",
   "metadata": {},
   "outputs": [],
   "source": [
    "# Define a function to flag outliers using IQR within the gapped make and model groups\n",
    "def flag_outliers(group):\n",
    "    Q1 = group['price'].quantile(0.25)\n",
    "    Q3 = group['price'].quantile(0.75)\n",
    "    IQR = Q3 - Q1\n",
    "\n",
    "    upper_bound = Q3 + 1.5 * IQR\n",
    "\n",
    "    group['is_outlier'] = (group['price'] > upper_bound)\n",
    "    return group\n",
    "\n",
    "# Apply outlier detection only to the big gapped make_model groups\n",
    "df['is_outlier'] = False  # Initialize the is_outlier column\n",
    "for model in big_price_gap:\n",
    "    df.loc[df['make_model'] == model, 'is_outlier'] = flag_outliers(df[df['make_model'] == model])['is_outlier']\n"
   ]
  },
  {
   "cell_type": "code",
   "execution_count": 21,
   "id": "2c70676f",
   "metadata": {},
   "outputs": [],
   "source": [
    "outlier_index = df[df[\"is_outlier\"] == True].index"
   ]
  },
  {
   "cell_type": "code",
   "execution_count": 22,
   "id": "48466bd3",
   "metadata": {},
   "outputs": [],
   "source": [
    "df.drop(outlier_index, axis=0, inplace=True)"
   ]
  },
  {
   "cell_type": "code",
   "execution_count": 23,
   "id": "3f96c6fc",
   "metadata": {},
   "outputs": [
    {
     "data": {
      "text/plain": [
       "count     24308.00\n",
       "mean      23450.23\n",
       "std       24435.71\n",
       "min         490.00\n",
       "25%       11900.00\n",
       "50%       18520.00\n",
       "75%       28249.25\n",
       "max     1346900.00\n",
       "Name: price, dtype: float64"
      ]
     },
     "execution_count": 23,
     "metadata": {},
     "output_type": "execute_result"
    }
   ],
   "source": [
    "df.price.describe()"
   ]
  },
  {
   "cell_type": "code",
   "execution_count": 24,
   "id": "f042d8c9",
   "metadata": {},
   "outputs": [
    {
     "data": {
      "text/html": [
       "<div>\n",
       "<style scoped>\n",
       "    .dataframe tbody tr th:only-of-type {\n",
       "        vertical-align: middle;\n",
       "    }\n",
       "\n",
       "    .dataframe tbody tr th {\n",
       "        vertical-align: top;\n",
       "    }\n",
       "\n",
       "    .dataframe thead th {\n",
       "        text-align: right;\n",
       "    }\n",
       "</style>\n",
       "<table border=\"1\" class=\"dataframe\">\n",
       "  <thead>\n",
       "    <tr style=\"text-align: right;\">\n",
       "      <th></th>\n",
       "      <th>count</th>\n",
       "      <th>mean</th>\n",
       "      <th>std</th>\n",
       "      <th>min</th>\n",
       "      <th>25%</th>\n",
       "      <th>50%</th>\n",
       "      <th>75%</th>\n",
       "      <th>max</th>\n",
       "    </tr>\n",
       "    <tr>\n",
       "      <th>make_model</th>\n",
       "      <th></th>\n",
       "      <th></th>\n",
       "      <th></th>\n",
       "      <th></th>\n",
       "      <th></th>\n",
       "      <th></th>\n",
       "      <th></th>\n",
       "      <th></th>\n",
       "    </tr>\n",
       "  </thead>\n",
       "  <tbody>\n",
       "    <tr>\n",
       "      <th>Fiat 131</th>\n",
       "      <td>3.00</td>\n",
       "      <td>20166.67</td>\n",
       "      <td>5484.83</td>\n",
       "      <td>14000.00</td>\n",
       "      <td>18000.00</td>\n",
       "      <td>22000.00</td>\n",
       "      <td>23250.00</td>\n",
       "      <td>24500.00</td>\n",
       "    </tr>\n",
       "    <tr>\n",
       "      <th>Fiat Coupe</th>\n",
       "      <td>153.00</td>\n",
       "      <td>10482.63</td>\n",
       "      <td>5728.45</td>\n",
       "      <td>950.00</td>\n",
       "      <td>5970.00</td>\n",
       "      <td>9000.00</td>\n",
       "      <td>13990.00</td>\n",
       "      <td>27000.00</td>\n",
       "    </tr>\n",
       "    <tr>\n",
       "      <th>Ford GT</th>\n",
       "      <td>8.00</td>\n",
       "      <td>607400.00</td>\n",
       "      <td>474151.51</td>\n",
       "      <td>129950.00</td>\n",
       "      <td>167337.50</td>\n",
       "      <td>489500.00</td>\n",
       "      <td>1017475.00</td>\n",
       "      <td>1346900.00</td>\n",
       "    </tr>\n",
       "    <tr>\n",
       "      <th>Ford M</th>\n",
       "      <td>2.00</td>\n",
       "      <td>72500.00</td>\n",
       "      <td>74246.21</td>\n",
       "      <td>20000.00</td>\n",
       "      <td>46250.00</td>\n",
       "      <td>72500.00</td>\n",
       "      <td>98750.00</td>\n",
       "      <td>125000.00</td>\n",
       "    </tr>\n",
       "    <tr>\n",
       "      <th>Ford Mustang</th>\n",
       "      <td>596.00</td>\n",
       "      <td>42603.55</td>\n",
       "      <td>14937.63</td>\n",
       "      <td>5950.00</td>\n",
       "      <td>32567.50</td>\n",
       "      <td>41625.00</td>\n",
       "      <td>52982.50</td>\n",
       "      <td>86000.00</td>\n",
       "    </tr>\n",
       "    <tr>\n",
       "      <th>Ford Ranger</th>\n",
       "      <td>32.00</td>\n",
       "      <td>36732.91</td>\n",
       "      <td>6370.48</td>\n",
       "      <td>23999.00</td>\n",
       "      <td>31533.75</td>\n",
       "      <td>36985.00</td>\n",
       "      <td>40240.00</td>\n",
       "      <td>51490.00</td>\n",
       "    </tr>\n",
       "    <tr>\n",
       "      <th>Mercedes Benz 190</th>\n",
       "      <td>4.00</td>\n",
       "      <td>127309.75</td>\n",
       "      <td>73831.69</td>\n",
       "      <td>49900.00</td>\n",
       "      <td>71980.00</td>\n",
       "      <td>129670.00</td>\n",
       "      <td>184999.75</td>\n",
       "      <td>199999.00</td>\n",
       "    </tr>\n",
       "    <tr>\n",
       "      <th>Mercedes Benz 220</th>\n",
       "      <td>6.00</td>\n",
       "      <td>67808.33</td>\n",
       "      <td>72332.69</td>\n",
       "      <td>7000.00</td>\n",
       "      <td>8725.00</td>\n",
       "      <td>43175.00</td>\n",
       "      <td>115987.50</td>\n",
       "      <td>176000.00</td>\n",
       "    </tr>\n",
       "    <tr>\n",
       "      <th>Mercedes Benz 230</th>\n",
       "      <td>3.00</td>\n",
       "      <td>67963.33</td>\n",
       "      <td>59032.05</td>\n",
       "      <td>9990.00</td>\n",
       "      <td>37945.00</td>\n",
       "      <td>65900.00</td>\n",
       "      <td>96950.00</td>\n",
       "      <td>128000.00</td>\n",
       "    </tr>\n",
       "    <tr>\n",
       "      <th>Mercedes Benz AMG GT</th>\n",
       "      <td>71.00</td>\n",
       "      <td>139659.79</td>\n",
       "      <td>43983.94</td>\n",
       "      <td>18890.00</td>\n",
       "      <td>105989.50</td>\n",
       "      <td>139999.00</td>\n",
       "      <td>165942.50</td>\n",
       "      <td>239000.00</td>\n",
       "    </tr>\n",
       "    <tr>\n",
       "      <th>Mercedes Benz E 63 AMG</th>\n",
       "      <td>23.00</td>\n",
       "      <td>82119.70</td>\n",
       "      <td>35065.84</td>\n",
       "      <td>27499.00</td>\n",
       "      <td>53947.50</td>\n",
       "      <td>78900.00</td>\n",
       "      <td>110895.00</td>\n",
       "      <td>154900.00</td>\n",
       "    </tr>\n",
       "    <tr>\n",
       "      <th>Mercedes Benz G 500</th>\n",
       "      <td>9.00</td>\n",
       "      <td>150367.89</td>\n",
       "      <td>40874.32</td>\n",
       "      <td>88899.00</td>\n",
       "      <td>121463.00</td>\n",
       "      <td>164500.00</td>\n",
       "      <td>178900.00</td>\n",
       "      <td>209000.00</td>\n",
       "    </tr>\n",
       "    <tr>\n",
       "      <th>Mercedes Benz G 63 AMG</th>\n",
       "      <td>16.00</td>\n",
       "      <td>230604.56</td>\n",
       "      <td>86572.68</td>\n",
       "      <td>92380.00</td>\n",
       "      <td>190375.00</td>\n",
       "      <td>254445.00</td>\n",
       "      <td>271440.75</td>\n",
       "      <td>375900.00</td>\n",
       "    </tr>\n",
       "    <tr>\n",
       "      <th>Mercedes Benz GLE 63 AMG</th>\n",
       "      <td>7.00</td>\n",
       "      <td>86906.71</td>\n",
       "      <td>46947.09</td>\n",
       "      <td>46900.00</td>\n",
       "      <td>57999.00</td>\n",
       "      <td>60999.00</td>\n",
       "      <td>114740.00</td>\n",
       "      <td>154970.00</td>\n",
       "    </tr>\n",
       "    <tr>\n",
       "      <th>Mercedes Benz GLS 400</th>\n",
       "      <td>9.00</td>\n",
       "      <td>94907.67</td>\n",
       "      <td>33475.96</td>\n",
       "      <td>41499.00</td>\n",
       "      <td>78870.00</td>\n",
       "      <td>102900.00</td>\n",
       "      <td>115500.00</td>\n",
       "      <td>144980.00</td>\n",
       "    </tr>\n",
       "    <tr>\n",
       "      <th>Mercedes Benz S 400</th>\n",
       "      <td>14.00</td>\n",
       "      <td>58342.14</td>\n",
       "      <td>17476.44</td>\n",
       "      <td>23950.00</td>\n",
       "      <td>49542.50</td>\n",
       "      <td>61490.00</td>\n",
       "      <td>72615.00</td>\n",
       "      <td>79950.00</td>\n",
       "    </tr>\n",
       "    <tr>\n",
       "      <th>Mercedes Benz S 500</th>\n",
       "      <td>19.00</td>\n",
       "      <td>50958.68</td>\n",
       "      <td>20110.56</td>\n",
       "      <td>13980.00</td>\n",
       "      <td>41449.50</td>\n",
       "      <td>53900.00</td>\n",
       "      <td>63199.50</td>\n",
       "      <td>84899.00</td>\n",
       "    </tr>\n",
       "    <tr>\n",
       "      <th>Mercedes Benz S 63 AMG</th>\n",
       "      <td>19.00</td>\n",
       "      <td>128270.42</td>\n",
       "      <td>43957.92</td>\n",
       "      <td>31990.00</td>\n",
       "      <td>106445.00</td>\n",
       "      <td>129900.00</td>\n",
       "      <td>162875.00</td>\n",
       "      <td>199500.00</td>\n",
       "    </tr>\n",
       "    <tr>\n",
       "      <th>Mercedes Benz SL 500</th>\n",
       "      <td>24.00</td>\n",
       "      <td>40560.58</td>\n",
       "      <td>20495.09</td>\n",
       "      <td>15990.00</td>\n",
       "      <td>24641.00</td>\n",
       "      <td>35225.00</td>\n",
       "      <td>51999.25</td>\n",
       "      <td>84000.00</td>\n",
       "    </tr>\n",
       "    <tr>\n",
       "      <th>Mercedes Benz SL 63 AMG</th>\n",
       "      <td>8.00</td>\n",
       "      <td>125895.62</td>\n",
       "      <td>86423.09</td>\n",
       "      <td>44500.00</td>\n",
       "      <td>45000.00</td>\n",
       "      <td>118901.00</td>\n",
       "      <td>207797.25</td>\n",
       "      <td>217900.00</td>\n",
       "    </tr>\n",
       "    <tr>\n",
       "      <th>Nissan GT-R</th>\n",
       "      <td>79.00</td>\n",
       "      <td>105453.47</td>\n",
       "      <td>33510.31</td>\n",
       "      <td>54950.00</td>\n",
       "      <td>79925.00</td>\n",
       "      <td>99900.00</td>\n",
       "      <td>124950.00</td>\n",
       "      <td>200000.00</td>\n",
       "    </tr>\n",
       "    <tr>\n",
       "      <th>Nissan Skyline</th>\n",
       "      <td>32.00</td>\n",
       "      <td>45536.22</td>\n",
       "      <td>17584.07</td>\n",
       "      <td>12950.00</td>\n",
       "      <td>34125.00</td>\n",
       "      <td>39750.00</td>\n",
       "      <td>61225.00</td>\n",
       "      <td>83000.00</td>\n",
       "    </tr>\n",
       "    <tr>\n",
       "      <th>Renault Alpine A110</th>\n",
       "      <td>37.00</td>\n",
       "      <td>72435.38</td>\n",
       "      <td>6461.18</td>\n",
       "      <td>57999.00</td>\n",
       "      <td>69890.00</td>\n",
       "      <td>73110.00</td>\n",
       "      <td>76666.00</td>\n",
       "      <td>81980.00</td>\n",
       "    </tr>\n",
       "    <tr>\n",
       "      <th>Renault R 5</th>\n",
       "      <td>3.00</td>\n",
       "      <td>11463.33</td>\n",
       "      <td>7743.97</td>\n",
       "      <td>4890.00</td>\n",
       "      <td>7195.00</td>\n",
       "      <td>9500.00</td>\n",
       "      <td>14750.00</td>\n",
       "      <td>20000.00</td>\n",
       "    </tr>\n",
       "    <tr>\n",
       "      <th>Toyota Supra</th>\n",
       "      <td>93.00</td>\n",
       "      <td>51950.22</td>\n",
       "      <td>18099.65</td>\n",
       "      <td>9500.00</td>\n",
       "      <td>47900.00</td>\n",
       "      <td>56945.00</td>\n",
       "      <td>62450.00</td>\n",
       "      <td>79000.00</td>\n",
       "    </tr>\n",
       "    <tr>\n",
       "      <th>Volvo 240</th>\n",
       "      <td>6.00</td>\n",
       "      <td>30325.00</td>\n",
       "      <td>47539.32</td>\n",
       "      <td>5200.00</td>\n",
       "      <td>8425.00</td>\n",
       "      <td>12425.00</td>\n",
       "      <td>16500.00</td>\n",
       "      <td>126950.00</td>\n",
       "    </tr>\n",
       "  </tbody>\n",
       "</table>\n",
       "</div>"
      ],
      "text/plain": [
       "                          count      mean       std       min       25%  \\\n",
       "make_model                                                                \n",
       "Fiat 131                   3.00  20166.67   5484.83  14000.00  18000.00   \n",
       "Fiat Coupe               153.00  10482.63   5728.45    950.00   5970.00   \n",
       "Ford GT                    8.00 607400.00 474151.51 129950.00 167337.50   \n",
       "Ford M                     2.00  72500.00  74246.21  20000.00  46250.00   \n",
       "Ford Mustang             596.00  42603.55  14937.63   5950.00  32567.50   \n",
       "Ford Ranger               32.00  36732.91   6370.48  23999.00  31533.75   \n",
       "Mercedes Benz 190          4.00 127309.75  73831.69  49900.00  71980.00   \n",
       "Mercedes Benz 220          6.00  67808.33  72332.69   7000.00   8725.00   \n",
       "Mercedes Benz 230          3.00  67963.33  59032.05   9990.00  37945.00   \n",
       "Mercedes Benz AMG GT      71.00 139659.79  43983.94  18890.00 105989.50   \n",
       "Mercedes Benz E 63 AMG    23.00  82119.70  35065.84  27499.00  53947.50   \n",
       "Mercedes Benz G 500        9.00 150367.89  40874.32  88899.00 121463.00   \n",
       "Mercedes Benz G 63 AMG    16.00 230604.56  86572.68  92380.00 190375.00   \n",
       "Mercedes Benz GLE 63 AMG   7.00  86906.71  46947.09  46900.00  57999.00   \n",
       "Mercedes Benz GLS 400      9.00  94907.67  33475.96  41499.00  78870.00   \n",
       "Mercedes Benz S 400       14.00  58342.14  17476.44  23950.00  49542.50   \n",
       "Mercedes Benz S 500       19.00  50958.68  20110.56  13980.00  41449.50   \n",
       "Mercedes Benz S 63 AMG    19.00 128270.42  43957.92  31990.00 106445.00   \n",
       "Mercedes Benz SL 500      24.00  40560.58  20495.09  15990.00  24641.00   \n",
       "Mercedes Benz SL 63 AMG    8.00 125895.62  86423.09  44500.00  45000.00   \n",
       "Nissan GT-R               79.00 105453.47  33510.31  54950.00  79925.00   \n",
       "Nissan Skyline            32.00  45536.22  17584.07  12950.00  34125.00   \n",
       "Renault Alpine A110       37.00  72435.38   6461.18  57999.00  69890.00   \n",
       "Renault R 5                3.00  11463.33   7743.97   4890.00   7195.00   \n",
       "Toyota Supra              93.00  51950.22  18099.65   9500.00  47900.00   \n",
       "Volvo 240                  6.00  30325.00  47539.32   5200.00   8425.00   \n",
       "\n",
       "                               50%        75%        max  \n",
       "make_model                                                \n",
       "Fiat 131                  22000.00   23250.00   24500.00  \n",
       "Fiat Coupe                 9000.00   13990.00   27000.00  \n",
       "Ford GT                  489500.00 1017475.00 1346900.00  \n",
       "Ford M                    72500.00   98750.00  125000.00  \n",
       "Ford Mustang              41625.00   52982.50   86000.00  \n",
       "Ford Ranger               36985.00   40240.00   51490.00  \n",
       "Mercedes Benz 190        129670.00  184999.75  199999.00  \n",
       "Mercedes Benz 220         43175.00  115987.50  176000.00  \n",
       "Mercedes Benz 230         65900.00   96950.00  128000.00  \n",
       "Mercedes Benz AMG GT     139999.00  165942.50  239000.00  \n",
       "Mercedes Benz E 63 AMG    78900.00  110895.00  154900.00  \n",
       "Mercedes Benz G 500      164500.00  178900.00  209000.00  \n",
       "Mercedes Benz G 63 AMG   254445.00  271440.75  375900.00  \n",
       "Mercedes Benz GLE 63 AMG  60999.00  114740.00  154970.00  \n",
       "Mercedes Benz GLS 400    102900.00  115500.00  144980.00  \n",
       "Mercedes Benz S 400       61490.00   72615.00   79950.00  \n",
       "Mercedes Benz S 500       53900.00   63199.50   84899.00  \n",
       "Mercedes Benz S 63 AMG   129900.00  162875.00  199500.00  \n",
       "Mercedes Benz SL 500      35225.00   51999.25   84000.00  \n",
       "Mercedes Benz SL 63 AMG  118901.00  207797.25  217900.00  \n",
       "Nissan GT-R               99900.00  124950.00  200000.00  \n",
       "Nissan Skyline            39750.00   61225.00   83000.00  \n",
       "Renault Alpine A110       73110.00   76666.00   81980.00  \n",
       "Renault R 5                9500.00   14750.00   20000.00  \n",
       "Toyota Supra              56945.00   62450.00   79000.00  \n",
       "Volvo 240                 12425.00   16500.00  126950.00  "
      ]
     },
     "execution_count": 24,
     "metadata": {},
     "output_type": "execute_result"
    }
   ],
   "source": [
    "df[df[\"make_model\"].isin(big_price_gap)].groupby(\"make_model\")[\"price\"].describe()"
   ]
  },
  {
   "cell_type": "code",
   "execution_count": 25,
   "id": "4b6c0a56",
   "metadata": {},
   "outputs": [],
   "source": [
    "# Define a function to flag outliers using IQR within the gapped make and model groups\n",
    "def flag_outliers(group):\n",
    "    Q1 = group['price'].quantile(0.25)\n",
    "    Q3 = group['price'].quantile(0.75)\n",
    "    IQR = Q3 - Q1\n",
    "\n",
    "    upper_bound = Q3 + 1.5 * IQR\n",
    "\n",
    "    group['is_outlier'] = (group['price'] > upper_bound)\n",
    "    return group\n",
    "\n",
    "# Apply outlier detection only to the big gapped make_model groups\n",
    "df['is_outlier'] = False  # Initialize the is_outlier column\n",
    "for model in big_price_gap:\n",
    "    df.loc[df['make_model'] == model, 'is_outlier'] = flag_outliers(df[df['make_model'] == model])['is_outlier']\n"
   ]
  },
  {
   "cell_type": "code",
   "execution_count": 26,
   "id": "2e54838f",
   "metadata": {},
   "outputs": [
    {
     "data": {
      "text/html": [
       "<div>\n",
       "<style scoped>\n",
       "    .dataframe tbody tr th:only-of-type {\n",
       "        vertical-align: middle;\n",
       "    }\n",
       "\n",
       "    .dataframe tbody tr th {\n",
       "        vertical-align: top;\n",
       "    }\n",
       "\n",
       "    .dataframe thead th {\n",
       "        text-align: right;\n",
       "    }\n",
       "</style>\n",
       "<table border=\"1\" class=\"dataframe\">\n",
       "  <thead>\n",
       "    <tr style=\"text-align: right;\">\n",
       "      <th></th>\n",
       "      <th>make_model</th>\n",
       "      <th>make</th>\n",
       "      <th>location</th>\n",
       "      <th>price</th>\n",
       "      <th>body_type</th>\n",
       "      <th>type</th>\n",
       "      <th>doors</th>\n",
       "      <th>warranty</th>\n",
       "      <th>mileage</th>\n",
       "      <th>gearbox</th>\n",
       "      <th>fuel_type</th>\n",
       "      <th>paint</th>\n",
       "      <th>seller</th>\n",
       "      <th>seats</th>\n",
       "      <th>power</th>\n",
       "      <th>engine_size</th>\n",
       "      <th>gears</th>\n",
       "      <th>co_emissions</th>\n",
       "      <th>drivetrain</th>\n",
       "      <th>cylinders</th>\n",
       "      <th>comfort_convenience</th>\n",
       "      <th>safety_security</th>\n",
       "      <th>full_service_history</th>\n",
       "      <th>non_smoker_vehicle</th>\n",
       "      <th>emission_class</th>\n",
       "      <th>upholstery</th>\n",
       "      <th>previous_owner</th>\n",
       "      <th>age</th>\n",
       "      <th>fuel_consumption_comb</th>\n",
       "      <th>entertainment_media_count</th>\n",
       "      <th>extras_count</th>\n",
       "      <th>is_outlier</th>\n",
       "    </tr>\n",
       "  </thead>\n",
       "  <tbody>\n",
       "    <tr>\n",
       "      <th>9929</th>\n",
       "      <td>Fiat Coupe</td>\n",
       "      <td>Fiat</td>\n",
       "      <td>ES</td>\n",
       "      <td>27000</td>\n",
       "      <td>Coupe</td>\n",
       "      <td>Used</td>\n",
       "      <td>3.00</td>\n",
       "      <td>No</td>\n",
       "      <td>200000.00</td>\n",
       "      <td>Manual</td>\n",
       "      <td>Benzin</td>\n",
       "      <td>Metallic</td>\n",
       "      <td>Private seller</td>\n",
       "      <td>4.00</td>\n",
       "      <td>162.00</td>\n",
       "      <td>1998.00</td>\n",
       "      <td>6.00</td>\n",
       "      <td>240.00</td>\n",
       "      <td>Front</td>\n",
       "      <td>5.00</td>\n",
       "      <td>Air Conditioning, Armrest, Electrical Side Mir...</td>\n",
       "      <td>Basic, Basic, Basic, Basic, Premium, Basic</td>\n",
       "      <td>Yes</td>\n",
       "      <td>Yes</td>\n",
       "      <td>Euro 1</td>\n",
       "      <td>Leather</td>\n",
       "      <td>1.00</td>\n",
       "      <td>22.00</td>\n",
       "      <td>9.00</td>\n",
       "      <td>Standart</td>\n",
       "      <td>6.00</td>\n",
       "      <td>True</td>\n",
       "    </tr>\n",
       "    <tr>\n",
       "      <th>17683</th>\n",
       "      <td>Nissan GT-R</td>\n",
       "      <td>Nissan</td>\n",
       "      <td>IT</td>\n",
       "      <td>200000</td>\n",
       "      <td>Coupe</td>\n",
       "      <td>Used</td>\n",
       "      <td>3.00</td>\n",
       "      <td>No</td>\n",
       "      <td>64000.00</td>\n",
       "      <td>Manual</td>\n",
       "      <td>Benzin</td>\n",
       "      <td>non-metallic</td>\n",
       "      <td>Dealer</td>\n",
       "      <td>4.00</td>\n",
       "      <td>343.00</td>\n",
       "      <td>2569.00</td>\n",
       "      <td>6.00</td>\n",
       "      <td>1.00</td>\n",
       "      <td>4WD</td>\n",
       "      <td>6.00</td>\n",
       "      <td>Air Conditioning, Air Suspension, Armrest, Aut...</td>\n",
       "      <td>Basic, Middle, Basic, Middle, Basic, Middle, P...</td>\n",
       "      <td>No</td>\n",
       "      <td>Yes</td>\n",
       "      <td>Euro 2</td>\n",
       "      <td>Cloth</td>\n",
       "      <td>2.00</td>\n",
       "      <td>23.00</td>\n",
       "      <td>1.00</td>\n",
       "      <td>Standart</td>\n",
       "      <td>6.00</td>\n",
       "      <td>True</td>\n",
       "    </tr>\n",
       "    <tr>\n",
       "      <th>17700</th>\n",
       "      <td>Nissan GT-R</td>\n",
       "      <td>Nissan</td>\n",
       "      <td>IT</td>\n",
       "      <td>199000</td>\n",
       "      <td>Coupe</td>\n",
       "      <td>Employee's car</td>\n",
       "      <td>3.00</td>\n",
       "      <td>Yes</td>\n",
       "      <td>2400.00</td>\n",
       "      <td>Automatic</td>\n",
       "      <td>Benzin</td>\n",
       "      <td>non-metallic</td>\n",
       "      <td>Dealer</td>\n",
       "      <td>4.00</td>\n",
       "      <td>419.00</td>\n",
       "      <td>3799.00</td>\n",
       "      <td>6.00</td>\n",
       "      <td>275.00</td>\n",
       "      <td>4WD</td>\n",
       "      <td>6.00</td>\n",
       "      <td>Air Conditioning, Air Suspension, Armrest, Aut...</td>\n",
       "      <td>Basic, Middle, Premium, Basic, Middle, Middle,...</td>\n",
       "      <td>No</td>\n",
       "      <td>Yes</td>\n",
       "      <td>Euro 6</td>\n",
       "      <td>Leather</td>\n",
       "      <td>1.00</td>\n",
       "      <td>1.00</td>\n",
       "      <td>12.00</td>\n",
       "      <td>Upgrated</td>\n",
       "      <td>10.00</td>\n",
       "      <td>True</td>\n",
       "    </tr>\n",
       "    <tr>\n",
       "      <th>19727</th>\n",
       "      <td>Ford Mustang</td>\n",
       "      <td>Ford</td>\n",
       "      <td>DE</td>\n",
       "      <td>86000</td>\n",
       "      <td>Coupe</td>\n",
       "      <td>Used</td>\n",
       "      <td>3.00</td>\n",
       "      <td>No</td>\n",
       "      <td>54951.00</td>\n",
       "      <td>Manual</td>\n",
       "      <td>Benzin</td>\n",
       "      <td>non-metallic</td>\n",
       "      <td>Dealer</td>\n",
       "      <td>4.00</td>\n",
       "      <td>316.00</td>\n",
       "      <td>6653.00</td>\n",
       "      <td>6.00</td>\n",
       "      <td>10.00</td>\n",
       "      <td>Front</td>\n",
       "      <td>4.00</td>\n",
       "      <td>Air Conditioning, Automatic Climate Control, C...</td>\n",
       "      <td>Basic</td>\n",
       "      <td>No</td>\n",
       "      <td>No</td>\n",
       "      <td>Euro 1</td>\n",
       "      <td>Other</td>\n",
       "      <td>3.00</td>\n",
       "      <td>57.00</td>\n",
       "      <td>8.60</td>\n",
       "      <td>Standart</td>\n",
       "      <td>2.00</td>\n",
       "      <td>True</td>\n",
       "    </tr>\n",
       "    <tr>\n",
       "      <th>19757</th>\n",
       "      <td>Ford Mustang</td>\n",
       "      <td>Ford</td>\n",
       "      <td>ES</td>\n",
       "      <td>85000</td>\n",
       "      <td>Coupe</td>\n",
       "      <td>Used</td>\n",
       "      <td>3.00</td>\n",
       "      <td>Yes</td>\n",
       "      <td>8597.00</td>\n",
       "      <td>Automatic</td>\n",
       "      <td>Benzin</td>\n",
       "      <td>non-metallic</td>\n",
       "      <td>Dealer</td>\n",
       "      <td>4.00</td>\n",
       "      <td>324.00</td>\n",
       "      <td>5038.00</td>\n",
       "      <td>0.00</td>\n",
       "      <td>281.00</td>\n",
       "      <td>Rear</td>\n",
       "      <td>8.00</td>\n",
       "      <td>Air Conditioning, Armrest, Automatic Climate C...</td>\n",
       "      <td>Basic, Middle, Basic, Basic, Middle, Middle, P...</td>\n",
       "      <td>No</td>\n",
       "      <td>No</td>\n",
       "      <td>Euro 6</td>\n",
       "      <td>Leather</td>\n",
       "      <td>2.00</td>\n",
       "      <td>6.00</td>\n",
       "      <td>12.20</td>\n",
       "      <td>Standart</td>\n",
       "      <td>6.00</td>\n",
       "      <td>True</td>\n",
       "    </tr>\n",
       "    <tr>\n",
       "      <th>23116</th>\n",
       "      <td>Volvo 240</td>\n",
       "      <td>Volvo</td>\n",
       "      <td>BE</td>\n",
       "      <td>126950</td>\n",
       "      <td>Coupe</td>\n",
       "      <td>Used</td>\n",
       "      <td>3.00</td>\n",
       "      <td>No</td>\n",
       "      <td>1.00</td>\n",
       "      <td>Manual</td>\n",
       "      <td>Benzin</td>\n",
       "      <td>non-metallic</td>\n",
       "      <td>Dealer</td>\n",
       "      <td>1.00</td>\n",
       "      <td>246.00</td>\n",
       "      <td>1986.00</td>\n",
       "      <td>1.00</td>\n",
       "      <td>115.00</td>\n",
       "      <td>Rear</td>\n",
       "      <td>4.00</td>\n",
       "      <td>Multi-Function Steering Wheel</td>\n",
       "      <td>Basic, Middle</td>\n",
       "      <td>No</td>\n",
       "      <td>No</td>\n",
       "      <td>Euro 6</td>\n",
       "      <td>Cloth</td>\n",
       "      <td>3.00</td>\n",
       "      <td>40.00</td>\n",
       "      <td>12.00</td>\n",
       "      <td>Standart</td>\n",
       "      <td>6.00</td>\n",
       "      <td>True</td>\n",
       "    </tr>\n",
       "  </tbody>\n",
       "</table>\n",
       "</div>"
      ],
      "text/plain": [
       "         make_model    make location   price body_type            type  doors  \\\n",
       "9929     Fiat Coupe    Fiat       ES   27000     Coupe            Used   3.00   \n",
       "17683   Nissan GT-R  Nissan       IT  200000     Coupe            Used   3.00   \n",
       "17700   Nissan GT-R  Nissan       IT  199000     Coupe  Employee's car   3.00   \n",
       "19727  Ford Mustang    Ford       DE   86000     Coupe            Used   3.00   \n",
       "19757  Ford Mustang    Ford       ES   85000     Coupe            Used   3.00   \n",
       "23116     Volvo 240   Volvo       BE  126950     Coupe            Used   3.00   \n",
       "\n",
       "      warranty   mileage    gearbox fuel_type         paint          seller  \\\n",
       "9929        No 200000.00     Manual    Benzin      Metallic  Private seller   \n",
       "17683       No  64000.00     Manual    Benzin  non-metallic          Dealer   \n",
       "17700      Yes   2400.00  Automatic    Benzin  non-metallic          Dealer   \n",
       "19727       No  54951.00     Manual    Benzin  non-metallic          Dealer   \n",
       "19757      Yes   8597.00  Automatic    Benzin  non-metallic          Dealer   \n",
       "23116       No      1.00     Manual    Benzin  non-metallic          Dealer   \n",
       "\n",
       "       seats  power  engine_size  gears  co_emissions drivetrain  cylinders  \\\n",
       "9929    4.00 162.00      1998.00   6.00        240.00      Front       5.00   \n",
       "17683   4.00 343.00      2569.00   6.00          1.00        4WD       6.00   \n",
       "17700   4.00 419.00      3799.00   6.00        275.00        4WD       6.00   \n",
       "19727   4.00 316.00      6653.00   6.00         10.00      Front       4.00   \n",
       "19757   4.00 324.00      5038.00   0.00        281.00       Rear       8.00   \n",
       "23116   1.00 246.00      1986.00   1.00        115.00       Rear       4.00   \n",
       "\n",
       "                                     comfort_convenience  \\\n",
       "9929   Air Conditioning, Armrest, Electrical Side Mir...   \n",
       "17683  Air Conditioning, Air Suspension, Armrest, Aut...   \n",
       "17700  Air Conditioning, Air Suspension, Armrest, Aut...   \n",
       "19727  Air Conditioning, Automatic Climate Control, C...   \n",
       "19757  Air Conditioning, Armrest, Automatic Climate C...   \n",
       "23116                      Multi-Function Steering Wheel   \n",
       "\n",
       "                                         safety_security full_service_history  \\\n",
       "9929          Basic, Basic, Basic, Basic, Premium, Basic                  Yes   \n",
       "17683  Basic, Middle, Basic, Middle, Basic, Middle, P...                   No   \n",
       "17700  Basic, Middle, Premium, Basic, Middle, Middle,...                   No   \n",
       "19727                                              Basic                   No   \n",
       "19757  Basic, Middle, Basic, Basic, Middle, Middle, P...                   No   \n",
       "23116                                      Basic, Middle                   No   \n",
       "\n",
       "      non_smoker_vehicle emission_class upholstery  previous_owner   age  \\\n",
       "9929                 Yes         Euro 1    Leather            1.00 22.00   \n",
       "17683                Yes         Euro 2      Cloth            2.00 23.00   \n",
       "17700                Yes         Euro 6    Leather            1.00  1.00   \n",
       "19727                 No         Euro 1      Other            3.00 57.00   \n",
       "19757                 No         Euro 6    Leather            2.00  6.00   \n",
       "23116                 No         Euro 6      Cloth            3.00 40.00   \n",
       "\n",
       "       fuel_consumption_comb entertainment_media_count  extras_count  \\\n",
       "9929                    9.00                  Standart          6.00   \n",
       "17683                   1.00                  Standart          6.00   \n",
       "17700                  12.00                  Upgrated         10.00   \n",
       "19727                   8.60                  Standart          2.00   \n",
       "19757                  12.20                  Standart          6.00   \n",
       "23116                  12.00                  Standart          6.00   \n",
       "\n",
       "       is_outlier  \n",
       "9929         True  \n",
       "17683        True  \n",
       "17700        True  \n",
       "19727        True  \n",
       "19757        True  \n",
       "23116        True  "
      ]
     },
     "execution_count": 26,
     "metadata": {},
     "output_type": "execute_result"
    }
   ],
   "source": [
    "df[df[\"is_outlier\"] == True]"
   ]
  },
  {
   "cell_type": "code",
   "execution_count": 27,
   "id": "ce3f2710",
   "metadata": {},
   "outputs": [],
   "source": [
    "outlier_index = df[df[\"is_outlier\"] == True].index"
   ]
  },
  {
   "cell_type": "code",
   "execution_count": 28,
   "id": "5731b808",
   "metadata": {},
   "outputs": [],
   "source": [
    "df.drop(outlier_index, axis=0, inplace=True)"
   ]
  },
  {
   "cell_type": "code",
   "execution_count": 29,
   "id": "658ad544",
   "metadata": {},
   "outputs": [
    {
     "data": {
      "text/plain": [
       "count     24302.00\n",
       "mean      23426.23\n",
       "std       24370.92\n",
       "min         490.00\n",
       "25%       11900.00\n",
       "50%       18500.00\n",
       "75%       28208.00\n",
       "max     1346900.00\n",
       "Name: price, dtype: float64"
      ]
     },
     "execution_count": 29,
     "metadata": {},
     "output_type": "execute_result"
    }
   ],
   "source": [
    "df.price.describe()"
   ]
  },
  {
   "cell_type": "code",
   "execution_count": 30,
   "id": "184d7ca4",
   "metadata": {},
   "outputs": [
    {
     "data": {
      "image/png": "[encoded data removed]",
      "text/plain": [
       "<Figure size 1000x600 with 1 Axes>"
      ]
     },
     "metadata": {},
     "output_type": "display_data"
    }
   ],
   "source": [
    "sns.scatterplot(data=df, x=\"price\", y=\"power\");"
   ]
  },
  {
   "cell_type": "code",
   "execution_count": 31,
   "id": "20b9342d",
   "metadata": {},
   "outputs": [],
   "source": [
    "fordgt_index = df.loc[(df[\"make_model\"] == \"Ford GT\") & (df[\"price\"] > 400000)].index"
   ]
  },
  {
   "cell_type": "code",
   "execution_count": 32,
   "id": "b60db699",
   "metadata": {},
   "outputs": [],
   "source": [
    "df.drop(fordgt_index, axis=0, inplace=True)"
   ]
  },
  {
   "cell_type": "code",
   "execution_count": 33,
   "id": "bafef456",
   "metadata": {},
   "outputs": [
    {
     "data": {
      "image/png": "[encoded data removed]",
      "text/plain": [
       "<Figure size 1000x600 with 1 Axes>"
      ]
     },
     "metadata": {},
     "output_type": "display_data"
    }
   ],
   "source": [
    "sns.scatterplot(data=df, x=\"price\", y=\"power\");"
   ]
  },
  {
   "cell_type": "code",
   "execution_count": 34,
   "id": "666a8670",
   "metadata": {},
   "outputs": [
    {
     "data": {
      "text/plain": [
       "count    24297.00\n",
       "mean     23249.97\n",
       "std      20471.49\n",
       "min        490.00\n",
       "25%      11900.00\n",
       "50%      18500.00\n",
       "75%      28200.00\n",
       "max     375900.00\n",
       "Name: price, dtype: float64"
      ]
     },
     "execution_count": 34,
     "metadata": {},
     "output_type": "execute_result"
    }
   ],
   "source": [
    "df.price.describe()"
   ]
  },
  {
   "cell_type": "code",
   "execution_count": 35,
   "id": "38781bad",
   "metadata": {},
   "outputs": [
    {
     "data": {
      "image/png": "[encoded data removed]",
      "text/plain": [
       "<Figure size 2000x600 with 2 Axes>"
      ]
     },
     "metadata": {},
     "output_type": "display_data"
    }
   ],
   "source": [
    "plt.figure(figsize=(20, 6))\n",
    "\n",
    "plt.subplot(121)\n",
    "plt.hist(df.price, bins=40)\n",
    "\n",
    "plt.subplot(122)\n",
    "plt.boxplot(df.price, whis=3)\n",
    "\n",
    "plt.show()"
   ]
  },
  {
   "cell_type": "code",
   "execution_count": 36,
   "id": "7becff41",
   "metadata": {},
   "outputs": [
    {
     "name": "stdout",
     "output_type": "stream",
     "text": [
      "Number of rows before dropping outliers: 24297\n",
      "Number of rows after dropping outliers: 23561\n"
     ]
    }
   ],
   "source": [
    "# Let's determine the First & Third Quantile and Inter Quantile Range \n",
    "# so we can calculate lowest and highest boundries of fence to drop extreme values\n",
    "\n",
    "print(\"Number of rows before dropping outliers:\", len(df))\n",
    "q1 = df[\"price\"].quantile(0.25)\n",
    "q3 = df[\"price\"].quantile(0.75)\n",
    "iqr = q3-q1  # Interquartile range\n",
    "\n",
    "fence_low  = q1-1.5*iqr\n",
    "fence_high = q3+2.5*iqr\n",
    "\n",
    "df = df.loc[(df[\"price\"] > fence_low) & (df[\"price\"] < fence_high)]\n",
    "df.reset_index(drop=True, inplace=True)\n",
    "print(\"Number of rows after dropping outliers:\", len(df))"
   ]
  },
  {
   "cell_type": "code",
   "execution_count": 37,
   "id": "ff5834b7",
   "metadata": {},
   "outputs": [
    {
     "data": {
      "text/plain": [
       "count   23561.00\n",
       "mean    20743.26\n",
       "std     13103.43\n",
       "min       490.00\n",
       "25%     11599.00\n",
       "50%     17990.00\n",
       "75%     26990.00\n",
       "max     68900.00\n",
       "Name: price, dtype: float64"
      ]
     },
     "execution_count": 37,
     "metadata": {},
     "output_type": "execute_result"
    }
   ],
   "source": [
    "df.price.describe()"
   ]
  },
  {
   "cell_type": "code",
   "execution_count": 38,
   "id": "868b3dcf",
   "metadata": {},
   "outputs": [
    {
     "data": {
      "image/png": "[encoded data removed]",
      "text/plain": [
       "<Figure size 2000x600 with 2 Axes>"
      ]
     },
     "metadata": {},
     "output_type": "display_data"
    }
   ],
   "source": [
    "plt.figure(figsize=(20, 6))\n",
    "\n",
    "plt.subplot(121)\n",
    "plt.hist(df.price, bins=40)\n",
    "\n",
    "plt.subplot(122)\n",
    "plt.boxplot(df.price, whis=3)\n",
    "\n",
    "plt.show()"
   ]
  },
  {
   "cell_type": "code",
   "execution_count": null,
   "id": "23067343",
   "metadata": {},
   "outputs": [
    {
     "data": {
      "text/plain": [
       "<Figure size 1600x600 with 0 Axes>"
      ]
     },
     "metadata": {},
     "output_type": "display_data"
    }
   ],
   "source": [
    "import numpy as np\n",
    "import pandas as pd\n",
    "import matplotlib.pyplot as plt\n",
    "from scipy import stats\n",
    "from scipy.stats import norm\n",
    "\n",
    "plt.figure(figsize=(16, 6))\n",
    "\n",
    "# Sample 100 observations from the 'price' column\n",
    "my_data = df['price'].sample(100)\n",
    "\n",
    "# Calculate the mean and standard deviation of the sample\n",
    "mu = np.mean(my_data)\n",
    "sigma = np.std(my_data)\n",
    "\n",
    "# Generate a normal distribution with the same mean and standard deviation as the sample\n",
    "x = np.linspace(mu - 3*sigma, mu + 3*sigma, 100)\n",
    "y = norm.pdf(x, mu, sigma)\n",
    "\n",
    "# Plot the normal distribution as a dotted red line on the Q-Q plot\n",
    "# plt.plot(x, y, 'r--', linewidth=2)\n",
    "\n",
    "# Create the Q-Q plot\n",
    "fig, ax = plt.subplots()\n",
    "stats.probplot(my_data, dist=\"norm\", plot=ax)\n",
    "\n",
    "# Show the plot\n",
    "plt.show()"
   ]
  },
  {
   "cell_type": "code",
   "execution_count": null,
   "id": "a3479ee5",
   "metadata": {},
   "outputs": [],
   "source": [
    "df.drop(\"is_outlier\", axis=1, inplace=True)"
   ]
  },
  {
   "cell_type": "markdown",
   "id": "89d2eb02-b12a-4e12-98ac-c561a6752553",
   "metadata": {},
   "source": [
    "<a id=\"13\"></a>\n",
    "<div class=\"alert alert-info\" role=\"alert\">\n",
    "<h1>Column name :<span style=\"color:red\"> age </span></h1>\n",
    "</div>\n",
    "\n",
    "<div class=\"alert alert-block alert-warning\">\n",
    "<b>Operation : </b> \n",
    "Let's remove <span style=\"color:red\"><b> the outlier values</b></span> from the \"first_registration\" column.\n",
    "</div>\n",
    "<a href=\"#toc\" class=\"btn btn-warning btn-lg active\" role=\"button\" aria-pressed=\"true\" style=\"color:black;\">Content</a>"
   ]
  },
  {
   "cell_type": "code",
   "execution_count": null,
   "id": "5e91842b-400f-45ba-acf5-1fa6f49e76b1",
   "metadata": {},
   "outputs": [],
   "source": [
    "df.shape"
   ]
  },
  {
   "cell_type": "code",
   "execution_count": null,
   "id": "24006b50-bc2b-4789-827e-46faf7d69748",
   "metadata": {},
   "outputs": [],
   "source": [
    "df.age.value_counts()"
   ]
  },
  {
   "cell_type": "code",
   "execution_count": null,
   "id": "c66d0174-675e-4938-93dd-64f770ae9451",
   "metadata": {},
   "outputs": [],
   "source": [
    "display(df.age.describe())\n",
    "\n",
    "# Differences between intervals\n",
    "diff1 = df.age.describe()['mean'] - df.age.describe()['std']\n",
    "diff2 = df.age.describe()['25%'] - df.age.describe()['min']\n",
    "diff3 = df.age.describe()['max'] - df.age.describe()['75%']\n",
    "\n",
    "print(f\"The difference between the mean value ({df.price.describe()['mean']:.2f}) and the standard deviation ({df.price.describe()['std']:.2f}) is {diff1:.2f}.\")\n",
    "print(f\"The difference between the 25th percentile ({df.price.describe()['25%']:.2f}) and the minimum value ({df.price.describe()['min']:.2f}) is {diff2:.2f}.\")\n",
    "print(f\"The difference between the 75th percentile ({df.price.describe()['75%']:.2f}) and the maximum value ({df.price.describe()['max']:.2f}) is {diff3:.2f}.\")"
   ]
  },
  {
   "cell_type": "code",
   "execution_count": null,
   "id": "32e9adac-93e3-4198-9b5a-59c5b851b933",
   "metadata": {},
   "outputs": [],
   "source": [
    "# Let's check how the observations in \"age\" feature are distributed via Histogram and Boxplot\n",
    "\n",
    "plt.figure(figsize=(20, 6))\n",
    "\n",
    "plt.subplot(121)\n",
    "plt.hist(df[\"age\"], bins=100)\n",
    "\n",
    "plt.subplot(122)\n",
    "plt.boxplot(df[\"age\"], whis=2.5)  # boxplot based on 2.5 whisker\n",
    "\n",
    "plt.show()"
   ]
  },
  {
   "cell_type": "code",
   "execution_count": null,
   "id": "898b97fa-1a9a-4f67-b6da-521b4db0bc40",
   "metadata": {},
   "outputs": [],
   "source": [
    "# Let's examine the first lowest 20 observation in \"age\" to see if there have been some extreme values away from others\n",
    "\n",
    "df.sort_values(by=[\"age\"], ascending=True)[\"age\"].tail(20)"
   ]
  },
  {
   "cell_type": "code",
   "execution_count": null,
   "id": "f5c0ec60-f040-47bf-ada6-55f33c7025be",
   "metadata": {},
   "outputs": [],
   "source": [
    "# let's explore if there is any pattern among \"\"make_model\", \"body_type\", \"type\", and \"previous_owner\" by \"first_registration\"\n",
    "\n",
    "df.groupby([\"make_model\", \"body_type\", \"type\"]).age.describe()"
   ]
  },
  {
   "cell_type": "code",
   "execution_count": null,
   "id": "7679f2d8-070a-42ba-bce7-79494c174b11",
   "metadata": {},
   "outputs": [],
   "source": [
    "old_cars_index = df.loc[(df[\"age\"] > 21)].index"
   ]
  },
  {
   "cell_type": "code",
   "execution_count": null,
   "id": "3f82c989-5fec-4599-a537-91e943c045ff",
   "metadata": {},
   "outputs": [],
   "source": [
    "df.loc[old_cars_index, [\"make_model\", \"age\",\"mileage\",  \"emission_class\", \"previous_owner\", \"body_type\", \"drivetrain\", \"engine_size\", \"fuel_type\"]].sort_values(by=[\"age\"], ascending=False)"
   ]
  },
  {
   "cell_type": "code",
   "execution_count": null,
   "id": "5a1158ec-4847-40d1-821d-47d4be0b9a8a",
   "metadata": {},
   "outputs": [],
   "source": [
    "df.loc[old_cars_index, 'make_model'].value_counts()"
   ]
  },
  {
   "cell_type": "code",
   "execution_count": null,
   "id": "fec029f3-1d9a-4ab7-9cb6-df7d4ba46078",
   "metadata": {},
   "outputs": [],
   "source": [
    "len(df.loc[old_cars_index, [\"make_model\", \"age\"]])"
   ]
  },
  {
   "cell_type": "code",
   "execution_count": null,
   "id": "d2809a67-7b9e-4e76-a178-6989ea42a6d2",
   "metadata": {
    "scrolled": true
   },
   "outputs": [],
   "source": [
    "df.loc[old_cars_index, [\"age\"]].value_counts()"
   ]
  },
  {
   "cell_type": "code",
   "execution_count": null,
   "id": "4a387c79-5ada-4232-8084-d6290d63351a",
   "metadata": {},
   "outputs": [],
   "source": [
    "import seaborn as sns\n",
    "import matplotlib.pyplot as plt\n",
    "\n",
    "# Scatter plot oluşturma\n",
    "plt.figure(figsize=(24, 6))\n",
    "sns.barplot(x=\"age\", y=\"price\", data=df, alpha=0.5)\n",
    "plt.title(\"Age vs Price Scatter Plot\")\n",
    "plt.xlabel(\"Age\")\n",
    "plt.ylabel(\"Price\")\n",
    "plt.grid(True)\n",
    "plt.show()"
   ]
  },
  {
   "cell_type": "code",
   "execution_count": null,
   "id": "b5c6c4d8-0d91-4e67-8064-509dff95d588",
   "metadata": {},
   "outputs": [],
   "source": [
    "sns.scatterplot(data=df, x=\"price\", y=\"age\");"
   ]
  },
  {
   "cell_type": "code",
   "execution_count": null,
   "id": "35187800-46a9-4b92-9f47-12c398b1810a",
   "metadata": {},
   "outputs": [],
   "source": [
    "print(df.shape)\n",
    "df.drop(old_cars_index, axis=0, inplace=True)\n",
    "print(df.shape)"
   ]
  },
  {
   "cell_type": "code",
   "execution_count": null,
   "id": "206e1c4f-c8bc-4755-86de-d65dd33b5d54",
   "metadata": {},
   "outputs": [],
   "source": [
    "plt.figure(figsize=(20, 6))\n",
    "\n",
    "plt.subplot(121)\n",
    "plt.hist(df[\"age\"], bins=100, width=0.5)\n",
    "\n",
    "plt.subplot(122)\n",
    "plt.boxplot(df[\"age\"], whis=2.5)  # boxplot based on 2.5 whisker\n",
    "\n",
    "plt.show()"
   ]
  },
  {
   "cell_type": "code",
   "execution_count": null,
   "id": "54cee8c7-13a8-4227-9768-b4dab5a947c3",
   "metadata": {},
   "outputs": [],
   "source": [
    "import seaborn as sns\n",
    "import matplotlib.pyplot as plt\n",
    "\n",
    "# Scatter plot oluşturma\n",
    "plt.figure(figsize=(16, 6))\n",
    "sns.barplot(x=\"age\", y=\"price\", data=df, alpha=0.5)\n",
    "plt.title(\"Age vs Price Scatter Plot\")\n",
    "plt.xlabel(\"Age\")\n",
    "plt.ylabel(\"Price\")\n",
    "plt.grid(True)\n",
    "plt.show()"
   ]
  },
  {
   "cell_type": "code",
   "execution_count": null,
   "id": "2a7267c5-db11-469b-8f59-f879622de8a2",
   "metadata": {},
   "outputs": [],
   "source": [
    "import numpy as np\n",
    "import pandas as pd\n",
    "import matplotlib.pyplot as plt\n",
    "from scipy.stats import norm\n",
    "\n",
    "plt.figure(figsize=(20, 6))\n",
    "\n",
    "# Sample 50 observations from the 'cons_avg' column\n",
    "my_data = df['age'].sample(100)\n",
    "\n",
    "# Calculate the mean and standard deviation of the sample\n",
    "mu = np.mean(my_data)\n",
    "sigma = np.std(my_data)\n",
    "\n",
    "# Generate a normal distribution with the same mean and standard deviation as the sample\n",
    "x = np.linspace(mu - 3*sigma, mu + 3*sigma, 100)\n",
    "y = norm.pdf(x, mu, sigma)\n",
    "\n",
    "# Plot the normal distribution as a dotted red line on the Q-Q plot\n",
    "# plt.plot(x, y, 'r--', linewidth=2)\n",
    "\n",
    "# Create the Q-Q plot\n",
    "fig, ax = plt.subplots()\n",
    "stats.probplot(my_data, dist=\"norm\", plot=ax)\n",
    "\n",
    "# Show the plot\n",
    "plt.show()"
   ]
  },
  {
   "cell_type": "markdown",
   "id": "c5bcae64-69b7-4942-a86b-25365839fd95",
   "metadata": {},
   "source": [
    "<a id=\"13\"></a>\n",
    "<div class=\"alert alert-info\" role=\"alert\">\n",
    "<h1>Column name :<span style=\"color:red\"> fuel_consumption_comb </span></h1>\n",
    "</div>\n",
    "\n",
    "<div class=\"alert alert-block alert-warning\">\n",
    "<b>Operation : </b> \n",
    "Let's remove <span style=\"color:red\"><b> the outlier values</b></span> from the \"first_registration\" column.\n",
    "</div>\n",
    "<a href=\"#toc\" class=\"btn btn-warning btn-lg active\" role=\"button\" aria-pressed=\"true\" style=\"color:black;\">Content</a>"
   ]
  },
  {
   "cell_type": "code",
   "execution_count": null,
   "id": "8f1510c6-d0cd-47d5-8d79-a3414fb3c61c",
   "metadata": {},
   "outputs": [],
   "source": [
    "df.fuel_consumption_comb.value_counts()"
   ]
  },
  {
   "cell_type": "code",
   "execution_count": null,
   "id": "69e36717-eca3-4e98-8126-40b147af6a04",
   "metadata": {},
   "outputs": [],
   "source": [
    "# Differences between intervals\n",
    "display(df.fuel_consumption_comb.describe())\n",
    "\n",
    "diff1 = df.fuel_consumption_comb.describe()['mean'] - df.fuel_consumption_comb.describe()['std']\n",
    "diff2 = df.fuel_consumption_comb.describe()['25%'] - df.fuel_consumption_comb.describe()['min']\n",
    "diff3 = df.fuel_consumption_comb.describe()['max'] - df.fuel_consumption_comb.describe()['75%']\n",
    "\n",
    "print(f\"The difference between the mean value ({df.fuel_consumption_comb.describe()['mean']:.2f}) and the standard deviation ({df.fuel_consumption_comb.describe()['std']:.2f}) is {diff1:.2f}.\")\n",
    "print(f\"The difference between the 25th percentile ({df.fuel_consumption_comb.describe()['25%']:.2f}) and the minimum value ({df.fuel_consumption_comb.describe()['min']:.2f}) is {diff2:.2f}.\")\n",
    "print(f\"The difference between the 75th percentile ({df.fuel_consumption_comb.describe()['75%']:.2f}) and the maximum value ({df.fuel_consumption_comb.describe()['max']:.2f}) is {diff3:.2f}.\")"
   ]
  },
  {
   "cell_type": "code",
   "execution_count": null,
   "id": "142479b9-b8e1-452e-993d-74ba1c847251",
   "metadata": {},
   "outputs": [],
   "source": [
    "plt.figure(figsize = (20, 6))\n",
    "\n",
    "plt.subplot(121)\n",
    "plt.hist(df.fuel_consumption_comb, bins = 25)\n",
    "\n",
    "plt.subplot(122)\n",
    "plt.boxplot(df.fuel_consumption_comb, whis=2.5)  # boxplot based on 2.5 whisker\n",
    "\n",
    "plt.show()"
   ]
  },
  {
   "cell_type": "code",
   "execution_count": null,
   "id": "3884a77f-6175-45bd-ad32-be0fece38a89",
   "metadata": {},
   "outputs": [],
   "source": [
    "def box_plot_column(df, column):\n",
    "    plt.figure(figsize=(7, 4))\n",
    "    sns.boxplot(data=df[column])\n",
    "    # Calculate whisker bounds\n",
    "    Q1 = df[column].quantile(0.25)\n",
    "    Q3 = df[column].quantile(0.75)\n",
    "    IQR = Q3 - Q1\n",
    "    lower_whisker = Q1 - 1.5 * IQR\n",
    "    upper_whisker = Q3 + 1.5 * IQR\n",
    "    # Annotate the plot with whisker bounds\n",
    "    plt.text(0.5, lower_whisker, f'Lower Whisker: {lower_whisker:.2f}', horizontalalignment='center', verticalalignment='bottom', fontsize=10, color='blue')\n",
    "    plt.text(0.5, upper_whisker, f'Upper Whisker: {upper_whisker:.2f}', horizontalalignment='center', verticalalignment='top', fontsize=10, color='blue')\n",
    "    plt.title(f'Box plot of {column}')\n",
    "    plt.xlabel(column)\n",
    "    plt.show()"
   ]
  },
  {
   "cell_type": "code",
   "execution_count": null,
   "id": "16e4ec8c-395e-4fe4-9031-4f455f02e2bd",
   "metadata": {},
   "outputs": [],
   "source": [
    "box_plot_column(df, 'fuel_consumption_comb')"
   ]
  },
  {
   "cell_type": "code",
   "execution_count": null,
   "id": "602d66ad-51c9-4f3d-a718-08dcea11df21",
   "metadata": {},
   "outputs": [],
   "source": [
    "# let's explore if there is any pattern among \"\"make_model\", \"body_type\", \"fuel_type\", and \"fuel_consumption\" by \"mileage\"\n",
    "\n",
    "df.groupby([\"make_model\", \"body_type\", \"fuel_type\", \"fuel_consumption_comb\"]).mileage.describe()"
   ]
  },
  {
   "cell_type": "code",
   "execution_count": null,
   "id": "5e926966-c02e-4486-b8c1-446ead3c3d6d",
   "metadata": {},
   "outputs": [],
   "source": [
    "df.loc[df[\"fuel_consumption_comb\"] >= 10][[\"make_model\", \"age\", \"body_type\", \"gearbox\", \"drivetrain\", \"gears\", \"engine_size\", \"fuel_type\",  \"fuel_consumption_comb\"]]\\\n",
    "                                 .sort_values(by=[\"fuel_consumption_comb\"], ascending=False)"
   ]
  },
  {
   "cell_type": "markdown",
   "id": "73725803-f61e-41fc-8c81-624eba2baebc",
   "metadata": {},
   "source": [
    "### 📝 Domain Knowledge About ``Average Fuel Consumptions`` of some Vehicles:\n",
    "\n",
    "- ``Mercedes-Benz A 180``'s Average Fuel Consumption value is **5.7 L/100km**\n",
    "- ``Nissan Qashqai``'s Average Fuel Consumption value is **6.2 L/100 km**\n",
    "- ``Ford Focus``'s co2 Average Fuel Consumption value is **4.6 to 6.7 L/100 km**\n",
    "- ``Mercedes-Benz E 200``'s Average Fuel Consumption value is **7.1 to 8 L/100 km**\n",
    "- ``Renault Megane``'s Average Fuel Consumption value is **4.4 to 6.8 L/100 km**\n",
    "- ``Toyota Yaris``'s Average Fuel Consumption value is **5.4 to 6.9 L/100 km**\n",
    "- ``Hyundai KONA``'s Average Fuel Consumption value is **4 to 5.8 L/100 km**\n",
    "- ``Mercedes-Benz GLC 63 AMG``'s Average Fuel Consumption value is **9 to 16 L/100km**\n",
    "- ``Ford Mustang``'s Average Fuel Consumption value is **12 to 16.2 L/100 km**\n",
    "- ``Nissan GT-R``'s co2 Average Fuel Consumption value is **11.8 to 19.4 L/100 km**\n",
    "- ``Nissan Skyline``'s Average Fuel Consumption value is **16 to 17.7 L/100 km**\n",
    "- ``Nissan 370Z``'s Average Fuel Consumption value is **11.2 to 18.1 L/100 km**\n",
    "- ``Peugeot 205``'s Average Fuel Consumption value is **6.3 to 9.9 L/100 km**\n",
    "- ``Volvo C70``'s Average Fuel Consumption value is **8.9 to 9.8 L/100 km**\n",
    "- ``Renault Alpine A310``'s Average Fuel Consumption value is **8.7 to 16.6 L/100 km**\n",
    "- ``Hyundai Genesis``'s Average Fuel Consumption value is **9.4 to 14.4 L/100 km**\n",
    "- ``Fiat Coupe``'s Average Fuel Consumption value is **8 to 14 L/100 km**\n",
    "- ``Ford Thunderbird``'s Average Fuel Consumption value is **13.5 to 19 L/100 km**\n",
    "\n",
    "**To get more information in detail about Average Car Fuel Consumption of each make and model, you can visit 🧐 [car-emissions.com](https://www.car-emissions.com/), 🧐 [incardoc.com](https://incardoc.com/en-us/), and 🧐 [carsfuelconsumption.com](http://carsfuelconsumption.com/)**\n",
    "\n",
    "**Considering our domain knowledge, it can be concluded that the max value equal to/greater than 20 is anomaly.**"
   ]
  },
  {
   "cell_type": "code",
   "execution_count": null,
   "id": "4e3c6968-512d-4e1e-9d14-c70a5765de04",
   "metadata": {},
   "outputs": [],
   "source": [
    "df.loc[df[\"engine_size\"]== 0][[\"make_model\",\"fuel_type\", \"age\", \"drivetrain\", \"gears\", \"engine_size\", \"fuel_consumption_comb\"]]\\\n",
    "                                 .sort_values(by=[\"fuel_consumption_comb\"], ascending=False)"
   ]
  },
  {
   "cell_type": "code",
   "execution_count": null,
   "id": "7c357225-fefd-4244-a6bf-6427cd6cfc80",
   "metadata": {},
   "outputs": [],
   "source": [
    "df.fuel_type.value_counts()"
   ]
  },
  {
   "cell_type": "code",
   "execution_count": null,
   "id": "b3c52415-e60a-4917-a417-e01d9052354b",
   "metadata": {},
   "outputs": [],
   "source": [
    "df.loc[df[\"engine_size\"]== 0][\"fuel_type\"].value_counts()"
   ]
  },
  {
   "cell_type": "code",
   "execution_count": null,
   "id": "92c7ee7d-20be-4718-b7f2-42b9d7e25353",
   "metadata": {},
   "outputs": [],
   "source": [
    "df.loc[((df[\"fuel_consumption_comb\"] < 4) & (df[\"fuel_type\"] != \"Electric\"))][[\"make_model\",\"fuel_type\", \"age\", \"drivetrain\", \"gears\", \"engine_size\", \"fuel_consumption_comb\"]]\\\n",
    "                                 .sort_values(by=[\"fuel_consumption_comb\"], ascending=False)"
   ]
  },
  {
   "cell_type": "code",
   "execution_count": null,
   "id": "267ab686-17e5-455e-8547-ecc8d978dbe0",
   "metadata": {},
   "outputs": [],
   "source": [
    "df.loc[(df[\"fuel_consumption_comb\"] < 4) & (df[\"fuel_type\"] != \"Electric\"), \"fuel_consumption_comb\"] = np.nan"
   ]
  },
  {
   "cell_type": "code",
   "execution_count": null,
   "id": "c87b25a1-2409-4a14-ae2b-f6c58bbee230",
   "metadata": {},
   "outputs": [],
   "source": [
    "groups = [\n",
    "    [\"make_model\", \"body_type\", \"drivetrain\", \"power\"],\n",
    "    [\"make_model\", \"body_type\", \"drivetrain\", \"engine_size\"],\n",
    "    [\"make_model\", \"body_type\", \"drivetrain\", \"cylinders\"]\n",
    "]\n",
    "\n",
    "# Yukarıdaki her bir grup için fuel_consumption_comb sütunundaki NaN değerleri doldur\n",
    "for group in groups:\n",
    "    df['fuel_consumption_comb'] = df['fuel_consumption_comb'].fillna(\n",
    "        df.groupby(group)['fuel_consumption_comb'].transform(lambda x: x.mode()[0] if not x.mode().empty else np.nan)\n",
    "    )\n",
    "    print(df['fuel_consumption_comb'].isnull().sum())"
   ]
  },
  {
   "cell_type": "code",
   "execution_count": null,
   "id": "0cf578d0-85e9-4ee5-b523-e1088c615b0c",
   "metadata": {},
   "outputs": [],
   "source": [
    "df = df.dropna(subset=['fuel_consumption_comb'])"
   ]
  },
  {
   "cell_type": "code",
   "execution_count": null,
   "id": "8f09ca30-3134-4341-bd68-bf6623114ca2",
   "metadata": {},
   "outputs": [],
   "source": [
    "df.shape"
   ]
  },
  {
   "cell_type": "code",
   "execution_count": null,
   "id": "36a21c8c-111b-4a6e-93f3-bf321b7fdc69",
   "metadata": {},
   "outputs": [],
   "source": [
    "plt.figure(figsize = (20, 6))\n",
    "\n",
    "plt.subplot(121)\n",
    "plt.hist(df.fuel_consumption_comb, bins = 25)\n",
    "\n",
    "plt.subplot(122)\n",
    "plt.boxplot(df.fuel_consumption_comb, whis=2.5)  # boxplot based on 2.5 whisker\n",
    "\n",
    "plt.show()"
   ]
  },
  {
   "cell_type": "code",
   "execution_count": null,
   "id": "dc792c2c-541d-431c-ad20-0c1939a2d478",
   "metadata": {},
   "outputs": [],
   "source": [
    "box_plot_column(df, 'fuel_consumption_comb')"
   ]
  },
  {
   "cell_type": "code",
   "execution_count": null,
   "id": "0c04e497-1b7b-4c5e-89bd-75fb98e02900",
   "metadata": {},
   "outputs": [],
   "source": [
    "df = df.drop(df[df['fuel_consumption_comb'] > 14].index)"
   ]
  },
  {
   "cell_type": "code",
   "execution_count": null,
   "id": "1273e7cf-4eda-4eae-8f7f-e2aed0e7c3a8",
   "metadata": {},
   "outputs": [],
   "source": [
    "df = df.drop(df[df['fuel_consumption_comb'] < 0.5].index)"
   ]
  },
  {
   "cell_type": "code",
   "execution_count": null,
   "id": "79f45d26",
   "metadata": {},
   "outputs": [],
   "source": [
    "# Yakıt tüketimini 10 parçaya bölmek\n",
    "df['fuel_consumption_bin'] = pd.cut(df['fuel_consumption_comb'], bins=10)\n",
    "# Her bir parça için ortalama fiyatları hesaplamak\n",
    "price_mean_by_bin = df.groupby('fuel_consumption_bin')['price'].mean().reset_index()\n",
    "# Çubuk grafik çizmek\n",
    "plt.figure(figsize=(10, 6))\n",
    "sns.barplot(x='fuel_consumption_bin', y='price', data=price_mean_by_bin)\n",
    "plt.title('Average Price by Fuel Consumption Bins')\n",
    "plt.xlabel('Fuel Consumption Bins')\n",
    "plt.ylabel('Average Price')\n",
    "plt.xticks(rotation=45)\n",
    "plt.grid(True)\n",
    "plt.show()"
   ]
  },
  {
   "cell_type": "code",
   "execution_count": null,
   "id": "d294996b-6aff-483e-80b3-0bf0aa5bdc81",
   "metadata": {},
   "outputs": [],
   "source": [
    "import numpy as np\n",
    "import pandas as pd\n",
    "import matplotlib.pyplot as plt\n",
    "from scipy.stats import norm\n",
    "\n",
    "plt.figure(figsize=(20, 6))\n",
    "\n",
    "# Sample 50 observations from the 'cons_avg' column\n",
    "my_data = df['fuel_consumption_comb'].sample(200)\n",
    "\n",
    "# Calculate the mean and standard deviation of the sample\n",
    "mu = np.mean(my_data)\n",
    "sigma = np.std(my_data)\n",
    "\n",
    "# Generate a normal distribution with the same mean and standard deviation as the sample\n",
    "x = np.linspace(mu - 3*sigma, mu + 3*sigma, 100)\n",
    "y = norm.pdf(x, mu, sigma)\n",
    "\n",
    "# Plot the normal distribution as a dotted red line on the Q-Q plot\n",
    "# plt.plot(x, y, 'r--', linewidth=2)\n",
    "\n",
    "# Create the Q-Q plot\n",
    "fig, ax = plt.subplots()\n",
    "stats.probplot(my_data, dist=\"norm\", plot=ax)\n",
    "\n",
    "# Show the plot\n",
    "plt.show()"
   ]
  },
  {
   "cell_type": "markdown",
   "id": "eb30cf15",
   "metadata": {},
   "source": [
    "<a id=\"13\"></a>\n",
    "<div class=\"alert alert-info\" role=\"alert\">\n",
    "<h1>Column name :<span style=\"color:red\"> power </span></h1>\n",
    "</div>\n",
    "\n",
    "<div class=\"alert alert-block alert-warning\">\n",
    "<b>Operation : </b> \n",
    "Let's remove <span style=\"color:red\"><b> the outlier values</b></span> from the \"power\" column.\n",
    "</div>\n",
    "<a href=\"#toc\" class=\"btn btn-warning btn-lg active\" role=\"button\" aria-pressed=\"true\" style=\"color:black;\">Content</a>"
   ]
  },
  {
   "cell_type": "code",
   "execution_count": null,
   "id": "d15fce8f",
   "metadata": {},
   "outputs": [],
   "source": [
    "df.power.value_counts()"
   ]
  },
  {
   "cell_type": "code",
   "execution_count": null,
   "id": "3534c8ee",
   "metadata": {},
   "outputs": [],
   "source": [
    "# Differences between intervals\n",
    "display(df.power.describe())\n",
    "\n",
    "diff1 = df.power.describe()['mean'] - df.power.describe()['std']\n",
    "diff2 = df.power.describe()['25%'] - df.power.describe()['min']\n",
    "diff3 = df.power.describe()['max'] - df.power.describe()['75%']\n",
    "\n",
    "print(f\"The difference between the mean value ({df.power.describe()['mean']:.2f}) and the standard deviation ({df.power.describe()['std']:.2f}) is {diff1:.2f}.\")\n",
    "print(f\"The difference between the 25th percentile ({df.power.describe()['25%']:.2f}) and the minimum value ({df.power.describe()['min']:.2f}) is {diff2:.2f}.\")\n",
    "print(f\"The difference between the 75th percentile ({df.power.describe()['75%']:.2f}) and the maximum value ({df.power.describe()['max']:.2f}) is {diff3:.2f}.\")"
   ]
  },
  {
   "cell_type": "code",
   "execution_count": null,
   "id": "be11b510",
   "metadata": {},
   "outputs": [],
   "source": [
    "plt.figure(figsize = (20, 6))\n",
    "\n",
    "plt.subplot(121)\n",
    "plt.hist(df.power, bins = 25)\n",
    "\n",
    "plt.subplot(122)\n",
    "plt.boxplot(df.power, whis=2.5)  # boxplot based on 2.5 whisker\n",
    "\n",
    "plt.show()"
   ]
  },
  {
   "cell_type": "code",
   "execution_count": null,
   "id": "164ad9f9",
   "metadata": {},
   "outputs": [],
   "source": [
    "box_plot_column(df, 'power')"
   ]
  },
  {
   "cell_type": "code",
   "execution_count": null,
   "id": "77deb82c",
   "metadata": {},
   "outputs": [],
   "source": [
    "# let's explore if there is any pattern among \"\"make_model\", \"body_type\", and \"fuel_type\" by \"power_kW\"\n",
    "\n",
    "df.groupby([\"make_model\", \"body_type\", \"fuel_type\"]).power.describe()"
   ]
  },
  {
   "cell_type": "code",
   "execution_count": null,
   "id": "2b7be264",
   "metadata": {},
   "outputs": [],
   "source": [
    "df.sort_values(by=[\"power\"], ascending=False)[\"power\"].head(20)"
   ]
  },
  {
   "cell_type": "code",
   "execution_count": null,
   "id": "69270427",
   "metadata": {},
   "outputs": [],
   "source": [
    "df[\"power\"].sort_values().head(20)"
   ]
  },
  {
   "cell_type": "code",
   "execution_count": null,
   "id": "eaa30106",
   "metadata": {},
   "outputs": [],
   "source": [
    "df.groupby('fuel_type')['power'].describe()"
   ]
  },
  {
   "cell_type": "code",
   "execution_count": null,
   "id": "79eecc86",
   "metadata": {},
   "outputs": [],
   "source": [
    "df.groupby([\"make_model\",\"body_type\",\"fuel_type\"]).power.describe()"
   ]
  },
  {
   "cell_type": "code",
   "execution_count": null,
   "id": "d7fa231d",
   "metadata": {
    "scrolled": false
   },
   "outputs": [],
   "source": [
    "df[df[\"power\"]<15][[\"make_model\", \"age\", \"body_type\", \"gearbox\",\"cylinders\", \"drivetrain\", \"gears\", \"engine_size\", \"fuel_type\",\"power\"]].sort_values(by=\"power\")"
   ]
  },
  {
   "cell_type": "code",
   "execution_count": null,
   "id": "e7e2aff7",
   "metadata": {},
   "outputs": [],
   "source": [
    "df[df[\"power\"]<30].make_model.value_counts()"
   ]
  },
  {
   "cell_type": "code",
   "execution_count": null,
   "id": "f2598049",
   "metadata": {},
   "outputs": [],
   "source": [
    "df[df[\"power\"]<50].fuel_type.value_counts()"
   ]
  },
  {
   "cell_type": "code",
   "execution_count": null,
   "id": "84a1ca89",
   "metadata": {},
   "outputs": [],
   "source": [
    "df[df[\"make_model\"]==\"Renault Twizy\"][[\"make_model\", \"age\", \"body_type\", \"gearbox\", \"drivetrain\", \"gears\", \"engine_size\", \"fuel_type\", \"power\"]]"
   ]
  },
  {
   "cell_type": "code",
   "execution_count": null,
   "id": "77c87c43",
   "metadata": {},
   "outputs": [],
   "source": [
    "df[df[\"make_model\"]==\"Renault Megane\"][[\"make_model\", \"age\", \"body_type\", \"gearbox\", \"drivetrain\", \"gears\", \"engine_size\", \"fuel_type\", \"power\"]]"
   ]
  },
  {
   "cell_type": "code",
   "execution_count": null,
   "id": "156308d8",
   "metadata": {},
   "outputs": [],
   "source": [
    "df.loc[(df[\"power\"] < 10) & (df[\"fuel_type\"] == \"Electric\"), \"power\"] = np.nan"
   ]
  },
  {
   "cell_type": "code",
   "execution_count": null,
   "id": "b3b82990",
   "metadata": {},
   "outputs": [],
   "source": [
    "groups = [\n",
    "    [\"make_model\", \"body_type\", \"drivetrain\"],\n",
    "    [\"make_model\", \"body_type\"],\n",
    "    [\"make_model\"]\n",
    "]\n",
    "\n",
    "# Yukarıdaki her bir grup için power sütunundaki NaN değerleri doldur\n",
    "for group in groups:\n",
    "    df['power'] = df['power'].fillna(\n",
    "        df.groupby(group)['power'].transform(lambda x: x.mode()[0] if not x.mode().empty else np.nan)\n",
    "    )\n",
    "    print(df['power'].isnull().sum())"
   ]
  },
  {
   "cell_type": "code",
   "execution_count": null,
   "id": "fab58a0a",
   "metadata": {},
   "outputs": [],
   "source": [
    "df.loc[(df[\"power\"] < 30) & (df[\"fuel_type\"] != \"Electric\"), \"power\"] = np.nan"
   ]
  },
  {
   "cell_type": "code",
   "execution_count": null,
   "id": "da0ef7c7",
   "metadata": {},
   "outputs": [],
   "source": [
    "groups = [\n",
    "    [\"make_model\", \"body_type\", \"drivetrain\"],\n",
    "    [\"make_model\", \"body_type\"],\n",
    "    [\"make_model\"]\n",
    "]\n",
    "\n",
    "# Yukarıdaki her bir grup için power sütunundaki NaN değerleri doldur\n",
    "for group in groups:\n",
    "    df['power'] = df['power'].fillna(\n",
    "        df.groupby(group)['power'].transform(lambda x: x.mode()[0] if not x.mode().empty else np.nan)\n",
    "    )\n",
    "    print(df['power'].isnull().sum())"
   ]
  },
  {
   "cell_type": "code",
   "execution_count": null,
   "id": "71d3d762",
   "metadata": {},
   "outputs": [],
   "source": [
    "sns.scatterplot(data=df, x=\"price\", y=\"power\");"
   ]
  },
  {
   "cell_type": "code",
   "execution_count": null,
   "id": "5ae0ec33",
   "metadata": {},
   "outputs": [],
   "source": [
    "df[df[\"power\"]>450].make_model.value_counts()"
   ]
  },
  {
   "cell_type": "code",
   "execution_count": null,
   "id": "dbb53a20",
   "metadata": {},
   "outputs": [],
   "source": [
    "df[df[\"power\"]>450].fuel_type.value_counts()"
   ]
  },
  {
   "cell_type": "code",
   "execution_count": null,
   "id": "d8e9c80a",
   "metadata": {},
   "outputs": [],
   "source": [
    "df[df[\"power\"] > 450][[\"make_model\", \"age\", \"body_type\", \"gearbox\",\"cylinders\", \"drivetrain\", \"gears\", \"engine_size\", \"fuel_type\",\"power\"]].sort_values(by=\"power\")"
   ]
  },
  {
   "cell_type": "code",
   "execution_count": null,
   "id": "94be40d5",
   "metadata": {},
   "outputs": [],
   "source": [
    "df = df.drop(df[df['power'] > 450].index)"
   ]
  },
  {
   "cell_type": "code",
   "execution_count": null,
   "id": "fd50dd4a",
   "metadata": {},
   "outputs": [],
   "source": [
    "box_plot_column(df, 'power')"
   ]
  },
  {
   "cell_type": "code",
   "execution_count": null,
   "id": "512c0ca8",
   "metadata": {},
   "outputs": [],
   "source": [
    "sns.scatterplot(data=df, x=\"price\", y=\"power\");"
   ]
  },
  {
   "cell_type": "code",
   "execution_count": null,
   "id": "f017d36b",
   "metadata": {},
   "outputs": [],
   "source": [
    "# Yakıt tüketimini 10 parçaya bölmek\n",
    "df['power_bin'] = pd.cut(df['power'], bins=10)\n",
    "# Her bir parça için ortalama fiyatları hesaplamak\n",
    "price_mean_by_bin = df.groupby('power_bin')['price'].mean().reset_index()\n",
    "# Çubuk grafik çizmek\n",
    "plt.figure(figsize=(10, 6))\n",
    "sns.barplot(x='power_bin', y='price', data=price_mean_by_bin)\n",
    "plt.title('Average Price by Power Bins')\n",
    "plt.xlabel('Power Bins')\n",
    "plt.ylabel('Average Price')\n",
    "plt.xticks(rotation=45)\n",
    "plt.grid(True)\n",
    "plt.show()"
   ]
  },
  {
   "cell_type": "code",
   "execution_count": null,
   "id": "2222c903",
   "metadata": {},
   "outputs": [],
   "source": [
    "plt.figure(figsize=(16, 6))\n",
    "\n",
    "# Sample 100 observations from the 'price' column\n",
    "my_data = df['power'].sample(100)\n",
    "\n",
    "# Calculate the mean and standard deviation of the sample\n",
    "mu = np.mean(my_data)\n",
    "sigma = np.std(my_data)\n",
    "\n",
    "# Generate a normal distribution with the same mean and standard deviation as the sample\n",
    "x = np.linspace(mu - 3*sigma, mu + 3*sigma, 100)\n",
    "y = norm.pdf(x, mu, sigma)\n",
    "\n",
    "# Plot the normal distribution as a dotted red line on the Q-Q plot\n",
    "#plt.plot(x, y, 'r--', linewidth=2)\n",
    "\n",
    "# Create the Q-Q plot\n",
    "fig, ax = plt.subplots()\n",
    "stats.probplot(my_data, dist=\"norm\", plot=ax)\n",
    "\n",
    "# Show the plot\n",
    "plt.show()"
   ]
  },
  {
   "cell_type": "markdown",
   "id": "a839fd1d",
   "metadata": {},
   "source": [
    "<a id=\"8\"></a>\n",
    "<div class=\"alert alert-info\" role=\"alert\">\n",
    "<h1>Column name :<span style=\"color:red\"> mileage </span></h1>\n",
    "</div>"
   ]
  },
  {
   "cell_type": "code",
   "execution_count": null,
   "id": "036ec618",
   "metadata": {},
   "outputs": [],
   "source": [
    "describe(\"mileage\")"
   ]
  },
  {
   "cell_type": "code",
   "execution_count": null,
   "id": "6b8b2b17",
   "metadata": {},
   "outputs": [],
   "source": [
    "# Descriptive Satatistics on \"mileage\"\n",
    "\n",
    "display(df.mileage.describe())\n",
    "\n",
    "# Aralıklar arası farklar\n",
    "diff1 = df.mileage.describe()['mean'] - df.mileage.describe()['std']\n",
    "diff2 = df.mileage.describe()['25%'] - df.mileage.describe()['min']\n",
    "diff3 = df.mileage.describe()['max'] - df.mileage.describe()['75%']\n",
    "\n",
    "print(f\"Ortalama değer ({df.mileage.describe()['mean']:.2f}) ile standart sapma ({df.mileage.describe()['std']:.2f}) arasındaki fark {diff1:.2f}.\")\n",
    "print(f\"Yüzde 25 lik dilim ({df.mileage.describe()['25%']:.2f}) ile minimum değer ({df.mileage.describe()['min']:.2f}) arasındaki fark {diff2:.2f}.\")\n",
    "print(f\"Yüzde 75 lik dilim ({df.mileage.describe()['75%']:.2f}) ile maximum değer ({df.mileage.describe()['max']:.2f}) arasındaki fark {diff3:.2f}.\")\n"
   ]
  },
  {
   "cell_type": "code",
   "execution_count": null,
   "id": "b044921e",
   "metadata": {},
   "outputs": [],
   "source": [
    "# “mileage” Sütunundaki gözlemlerin nasıl dağıldığını Histogram ve Boxplot aracılığıyla kontrol edelim\n",
    "plt.figure(figsize=(15,6))\n",
    "plt.subplot(141)\n",
    "plt.hist(df.mileage, bins = 50)\n",
    "#plt.ticklabel_format(style='plain', axis='x')\n",
    "plt.subplot(142)\n",
    "plt.boxplot(df.mileage)     \n",
    "plt.ticklabel_format(style='plain', axis='y')\n",
    "plt.subplot(143)\n",
    "plt.boxplot(np.log(df.mileage), whis = 3)    # 3 whisker box plot\n",
    "plt.tight_layout()\n",
    "plt.show()"
   ]
  },
  {
   "cell_type": "code",
   "execution_count": null,
   "id": "040ca6c0",
   "metadata": {},
   "outputs": [],
   "source": [
    "df.mileage.sort_values().head(25)  # En düşük 25 değer"
   ]
  },
  {
   "cell_type": "code",
   "execution_count": null,
   "id": "74e9c45b",
   "metadata": {},
   "outputs": [],
   "source": [
    "df.mileage.sort_values().tail(25)   # En yüksek 25 değer"
   ]
  },
  {
   "cell_type": "code",
   "execution_count": null,
   "id": "6d396f51",
   "metadata": {},
   "outputs": [],
   "source": [
    "df[df[\"mileage\"] > 999998][[\"make_model\", \"body_type\", \"mileage\", \"age\",\"previous_owner\",\"price\"]]"
   ]
  },
  {
   "cell_type": "code",
   "execution_count": null,
   "id": "01f80c7b",
   "metadata": {},
   "outputs": [],
   "source": [
    "drop_1M_mile_index = df[df[\"mileage\"] > 999998].index\n",
    "drop_1M_mile_index"
   ]
  },
  {
   "cell_type": "code",
   "execution_count": null,
   "id": "51b54657",
   "metadata": {},
   "outputs": [],
   "source": [
    "print(df.shape)\n",
    "df.drop(drop_1M_mile_index, inplace=True)\n",
    "print(df.shape)"
   ]
  },
  {
   "cell_type": "code",
   "execution_count": null,
   "id": "8ee107a2",
   "metadata": {},
   "outputs": [],
   "source": [
    "df[(df[\"mileage\"] < 100) & (df[\"age\"] > 1)][[\"make_model\", \"body_type\", \"mileage\", \"age\",\"previous_owner\",\"price\"]]\n",
    "print(f\"1 yaşından ve 100 km den küçük olan araçların sayısı : \", (len(df[(df[\"mileage\"] < 100) & (df[\"age\"] > 1)])))"
   ]
  },
  {
   "cell_type": "code",
   "execution_count": null,
   "id": "8dd21bd1",
   "metadata": {},
   "outputs": [],
   "source": [
    "drop_100_mile_1_age_index = df[(df[\"mileage\"] < 100) & (df[\"age\"] > 1)].index\n",
    "drop_100_mile_1_age_index"
   ]
  },
  {
   "cell_type": "code",
   "execution_count": null,
   "id": "9a18d16c",
   "metadata": {},
   "outputs": [],
   "source": [
    "print(df.shape)\n",
    "df.drop(drop_100_mile_1_age_index, inplace=True)\n",
    "print(df.shape)"
   ]
  },
  {
   "cell_type": "code",
   "execution_count": null,
   "id": "483f7e3c",
   "metadata": {},
   "outputs": [],
   "source": [
    "# Gözlemleri Drop ettikten sonraki Boxplot ve Histogram\n",
    "\n",
    "plt.figure(figsize=(15,6))\n",
    "plt.subplot(141)\n",
    "plt.hist(df.mileage, bins = 50)\n",
    "#plt.ticklabel_format(style='plain', axis='x')\n",
    "plt.subplot(142)\n",
    "plt.boxplot(df.mileage)     \n",
    "plt.ticklabel_format(style='plain', axis='y')\n",
    "plt.subplot(143)\n",
    "plt.boxplot(np.log(df.mileage), whis = 3)    # 3 whisker box plot\n",
    "plt.tight_layout()\n",
    "plt.show()"
   ]
  },
  {
   "cell_type": "markdown",
   "id": "77f7b59e",
   "metadata": {},
   "source": [
    "Kilometre geniş bir değer aralığına sahip bir değişkendir. Yukarıdaki bu uç değerler gerçek dünya senaryosunun bir parçası olabileceğinden gerçek aykırı değerler olarak ***KABUL EDİLEMEZ***; ancak regresyon doğrularını etkileyebilir, regresyon doğrularını diğer verileri tahmin etmede daha az doğru hale getirebilir ve en iyi uyum doğrusunun eğiminin beklediğinizden daha az dik olmasına neden olabilir. Dolayısıyla, bu uç değerleri olduğu gibi tutmayacağız."
   ]
  },
  {
   "cell_type": "markdown",
   "id": "d8843e45",
   "metadata": {},
   "source": [
    "**🧐 [Aykırı değerlerin regresyon modeli üzerindeki etkileri?](https://whanchoi.people.uic.edu/TheEffectofOutliersonRegressionAnalysis.pdf)**"
   ]
  },
  {
   "cell_type": "markdown",
   "id": "2c7088a9",
   "metadata": {},
   "source": [
    "</ul>\n",
    "</li>  \n",
    "  <li class=\"nav-item\">\n",
    "    <a class=\"nav-link\" style=\"background-color:; color:green\" href=\"https://community.ibm.com/community/user/ai-datascience/blogs/moloy-de1/2021/03/23/points-to-ponder\"><b>Tukey Fences for Outliers</b></a>\n",
    "  </li>\n",
    "</ul>"
   ]
  },
  {
   "cell_type": "code",
   "execution_count": null,
   "id": "940fbd44",
   "metadata": {},
   "outputs": [],
   "source": [
    "limits(df,\"mileage\")"
   ]
  },
  {
   "cell_type": "code",
   "execution_count": null,
   "id": "494a823a",
   "metadata": {},
   "outputs": [],
   "source": [
    "outliers(df,\"mileage\")"
   ]
  },
  {
   "cell_type": "code",
   "execution_count": null,
   "id": "f0dcdbc3",
   "metadata": {},
   "outputs": [],
   "source": [
    "dropping_of_outliers(df,\"mileage\")"
   ]
  },
  {
   "cell_type": "code",
   "execution_count": null,
   "id": "9333726f",
   "metadata": {},
   "outputs": [],
   "source": [
    "Q1 = df[\"mileage\"].quantile(0.25)\n",
    "Q3 = df[\"mileage\"].quantile(0.75)\n",
    "IQR = Q3 - Q1"
   ]
  },
  {
   "cell_type": "code",
   "execution_count": null,
   "id": "e8a580da",
   "metadata": {},
   "outputs": [],
   "source": [
    "IQR,Q3,Q1"
   ]
  },
  {
   "cell_type": "code",
   "execution_count": null,
   "id": "a31cb378",
   "metadata": {},
   "outputs": [],
   "source": [
    "# Burada Tukey in Fance kuralından faydalanalım\n",
    "# Birinci ve Üçüncü Quantil ve Quantiller Arası Aralığı belirleyelim \n",
    "# böylece uç değerleri düşürmek için çitin en düşük ve en yüksek sınırlarını hesaplayabiliriz\n",
    "\n",
    "\n",
    "print(\"Outliers çıkarılmadan önceki satır sayısı:\", len(df))\n",
    "Q1 = df[\"mileage\"].quantile(0.25)\n",
    "Q3 = df[\"mileage\"].quantile(0.75)\n",
    "IQR = Q3 - Q1\n",
    "\n",
    "whisker_low  = Q1 - 1.5 * IQR\n",
    "whisker_high = Q3 + 2 * IQR\n",
    "\n",
    "df = df.loc[(df[\"mileage\"] > whisker_low) & (df[\"mileage\"] < whisker_high)]\n",
    "df.reset_index(drop=True, inplace=True)\n",
    "print(\"Outliers Drop edildikten sonraki satır sayısı:\", len(df))"
   ]
  },
  {
   "cell_type": "code",
   "execution_count": null,
   "id": "928c5d44",
   "metadata": {},
   "outputs": [],
   "source": [
    "# Yakıt tüketimini 10 parçaya bölmek\n",
    "df['mileage_bin'] = pd.cut(df['mileage'], bins=10)\n",
    "# Her bir parça için ortalama fiyatları hesaplamak\n",
    "price_mean_by_bin = df.groupby('mileage_bin')['price'].mean().reset_index()\n",
    "# Çubuk grafik çizmek\n",
    "plt.figure(figsize=(10, 6))\n",
    "sns.barplot(x='mileage_bin', y='price', data=price_mean_by_bin)\n",
    "plt.title('Average Price by Mileage Bins')\n",
    "plt.xlabel('Mileage Bins')\n",
    "plt.ylabel('Average Price')\n",
    "plt.xticks(rotation=45)\n",
    "plt.grid(True)\n",
    "plt.show()"
   ]
  },
  {
   "cell_type": "markdown",
   "id": "bde69aa8",
   "metadata": {},
   "source": [
    "                                           TUKEY FENCES sonrası ***mileage*** dağılımı"
   ]
  },
  {
   "cell_type": "code",
   "execution_count": null,
   "id": "e20df874",
   "metadata": {},
   "outputs": [],
   "source": [
    "plt.figure(figsize=(18, 6))\n",
    "plt.subplot(121)\n",
    "plt.hist(df.mileage, bins=50)\n",
    "plt.subplot(122)\n",
    "plt.boxplot(df.mileage)\n",
    "plt.show()"
   ]
  },
  {
   "cell_type": "code",
   "execution_count": null,
   "id": "6710f613",
   "metadata": {},
   "outputs": [],
   "source": [
    "analyze(\"mileage\")"
   ]
  },
  {
   "cell_type": "code",
   "execution_count": null,
   "id": "3ca2e1a5",
   "metadata": {},
   "outputs": [],
   "source": [
    "plt.figure(figsize=(20, 6))\n",
    "\n",
    "# 'mileage' sütunundan rastgele alınan 100 örneklem\n",
    "df_sample = df['mileage'].sample(100)\n",
    "\n",
    "# Örneklemin ortalama ve standart sapması\n",
    "mu = np.mean(df_sample)\n",
    "sigma = np.std(df_sample)\n",
    "\n",
    "# Örneklemle aynı ortalama ve standart sapmaya sahip bir normal dağılım oluşturun\n",
    "x = np.linspace(mu - 3*sigma, mu + 3*sigma, 100)\n",
    "y = norm.pdf(x, mu, sigma)\n",
    "\n",
    "# Q-Q plot\n",
    "fig, ax = plt.subplots()\n",
    "stats.probplot(df_sample, dist=\"norm\", plot=ax)\n",
    "plt.show();"
   ]
  },
  {
   "cell_type": "code",
   "execution_count": null,
   "id": "b66f2821",
   "metadata": {},
   "outputs": [],
   "source": [
    "\n",
    "sns.boxplot(df['co_emissions'], whis=1.5)"
   ]
  },
  {
   "cell_type": "code",
   "execution_count": null,
   "id": "fc363fb2",
   "metadata": {},
   "outputs": [],
   "source": [
    "def identify_outliers(series):\n",
    "    q1 = series.quantile(0.25)\n",
    "    q3 = series.quantile(0.75)\n",
    "    iqr = q3 - q1\n",
    "    lower_bound = q1 - 1.5 * iqr\n",
    "    upper_bound = q3 + 2.0 * iqr\n",
    "    return (series < lower_bound) | (series > upper_bound)\n",
    "\n",
    "# Identify outliers in the co_emissions column\n",
    "outliers_mask = identify_outliers(df['co_emissions'])\n",
    "\n",
    "# Replace outliers with NaN\n",
    "df.loc[outliers_mask, 'co_emissions'] = np.nan\n",
    "\n",
    "# Replace NaN values with the mode value of each subgroup defined by make_model and fuel_type\n",
    "df.co_emissions.fillna(df.groupby(['make_model', 'engine_size', 'cylinders', 'power', 'fuel_type'])['co_emissions'].transform(lambda x: x.fillna(x.mode().max())), inplace = True)"
   ]
  },
  {
   "cell_type": "code",
   "execution_count": null,
   "id": "5b399134",
   "metadata": {},
   "outputs": [],
   "source": [
    "\n",
    "sns.boxplot(df['co_emissions'], whis=2)"
   ]
  },
  {
   "cell_type": "markdown",
   "id": "30fabdcc",
   "metadata": {},
   "source": [
    "<a id=\"8\"></a>\n",
    "<div class=\"alert alert-info\" role=\"alert\">\n",
    "<h1>Column name :<span style=\"color:red\"> engine_size </span></h1>\n",
    "</div>"
   ]
  },
  {
   "cell_type": "code",
   "execution_count": null,
   "id": "eaf89a91",
   "metadata": {},
   "outputs": [],
   "source": [
    "df.engine_size.describe()"
   ]
  },
  {
   "cell_type": "code",
   "execution_count": null,
   "id": "061ce8ca",
   "metadata": {},
   "outputs": [],
   "source": [
    "# Descriptive Satatistics on \"mileage\"\n",
    "\n",
    "display(df.engine_size.describe())\n",
    "\n",
    "# Aralıklar arası farklar\n",
    "diff1 = df.engine_size.describe()['mean'] - df.engine_size.describe()['std']\n",
    "diff2 = df.engine_size.describe()['25%'] - df.engine_size.describe()['min']\n",
    "diff3 = df.engine_size.describe()['max'] - df.engine_size.describe()['75%']\n",
    "\n",
    "print(f\"Ortalama değer ({df.engine_size.describe()['mean']:.2f}) ile standart sapma ({df.engine_size.describe()['std']:.2f}) arasındaki fark {diff1:.2f}.\")\n",
    "print(f\"Yüzde 25 lik dilim ({df.engine_size.describe()['25%']:.2f}) ile minimum değer ({df.engine_size.describe()['min']:.2f}) arasındaki fark {diff2:.2f}.\")\n",
    "print(f\"Yüzde 75 lik dilim ({df.engine_size.describe()['75%']:.2f}) ile maximum değer ({df.engine_size.describe()['max']:.2f}) arasındaki fark {diff3:.2f}.\")\n"
   ]
  },
  {
   "cell_type": "code",
   "execution_count": null,
   "id": "51c89dfc",
   "metadata": {},
   "outputs": [],
   "source": [
    "sns.boxplot(df.engine_size);"
   ]
  },
  {
   "cell_type": "code",
   "execution_count": null,
   "id": "ce4c224b",
   "metadata": {},
   "outputs": [],
   "source": [
    "df[(df.engine_size<500)][\"engine_size\"].value_counts()"
   ]
  },
  {
   "cell_type": "code",
   "execution_count": null,
   "id": "5113c918",
   "metadata": {},
   "outputs": [],
   "source": [
    "df.loc[(df.engine_size<500) & (df.engine_size!=0), 'engine_size'] = np.nan"
   ]
  },
  {
   "cell_type": "code",
   "execution_count": null,
   "id": "8d19dac6",
   "metadata": {},
   "outputs": [],
   "source": [
    "df[\"engine_size\"].value_counts(dropna=False).sort_index()"
   ]
  },
  {
   "cell_type": "code",
   "execution_count": null,
   "id": "b534d572",
   "metadata": {},
   "outputs": [],
   "source": [
    "df['engine_size'] = df['engine_size'].fillna(df.groupby([\"make_model\", \"drivetrain\",\"power\",])['engine_size'].transform(lambda x: x.mode()[0] if not x.mode().empty else np.nan))"
   ]
  },
  {
   "cell_type": "code",
   "execution_count": null,
   "id": "e3ed94ed",
   "metadata": {},
   "outputs": [],
   "source": [
    "df.engine_size.isnull().sum()"
   ]
  },
  {
   "cell_type": "code",
   "execution_count": null,
   "id": "703f7410",
   "metadata": {},
   "outputs": [],
   "source": [
    "df['engine_size'] = df['engine_size'].fillna(df.groupby([\"make_model\",\"power\",])['engine_size'].transform(lambda x: x.mode()[0] if not x.mode().empty else np.nan))"
   ]
  },
  {
   "cell_type": "code",
   "execution_count": null,
   "id": "4e7a757c",
   "metadata": {},
   "outputs": [],
   "source": [
    "df.engine_size.isnull().sum()"
   ]
  },
  {
   "cell_type": "code",
   "execution_count": null,
   "id": "1e41722e",
   "metadata": {},
   "outputs": [],
   "source": [
    "df['engine_size'] = df['engine_size'].fillna(df.groupby([\"make_model\",\"body_type\"])['engine_size'].transform(lambda x: x.mode()[0] if not x.mode().empty else np.nan))"
   ]
  },
  {
   "cell_type": "code",
   "execution_count": null,
   "id": "e7588c4e",
   "metadata": {},
   "outputs": [],
   "source": [
    "df.engine_size.isnull().sum()"
   ]
  },
  {
   "cell_type": "code",
   "execution_count": null,
   "id": "59fae7ed",
   "metadata": {},
   "outputs": [],
   "source": [
    "df['engine_size'] = df['engine_size'].fillna(df.groupby([\"make_model\"])['engine_size'].transform(lambda x: x.mode()[0] if not x.mode().empty else np.nan))"
   ]
  },
  {
   "cell_type": "code",
   "execution_count": null,
   "id": "e43a8371",
   "metadata": {},
   "outputs": [],
   "source": [
    "drop_engine = df[df.engine_size.isnull()].index"
   ]
  },
  {
   "cell_type": "code",
   "execution_count": null,
   "id": "74837dd6",
   "metadata": {},
   "outputs": [],
   "source": [
    "df.drop(drop_engine,inplace=True)"
   ]
  },
  {
   "cell_type": "code",
   "execution_count": null,
   "id": "333b152a",
   "metadata": {},
   "outputs": [],
   "source": [
    "df.loc[df[\"engine_size\"]>=15000,[\"engine_size\"]]=np.nan"
   ]
  },
  {
   "cell_type": "code",
   "execution_count": null,
   "id": "29eca79b",
   "metadata": {},
   "outputs": [],
   "source": [
    "sns.boxplot(df.engine_size);"
   ]
  },
  {
   "cell_type": "code",
   "execution_count": null,
   "id": "188b7e1d",
   "metadata": {},
   "outputs": [],
   "source": [
    "df[df.engine_size>2200] .make_model.value_counts()"
   ]
  },
  {
   "cell_type": "code",
   "execution_count": null,
   "id": "45ddd5a0",
   "metadata": {},
   "outputs": [],
   "source": [
    "df[df.make_model==\"Ford Mustang\"].engine_size.value_counts()"
   ]
  },
  {
   "cell_type": "code",
   "execution_count": null,
   "id": "4828abcc",
   "metadata": {},
   "outputs": [],
   "source": [
    "sns.scatterplot(data=df, x=\"power\", y=\"engine_size\")"
   ]
  },
  {
   "cell_type": "code",
   "execution_count": null,
   "id": "9e26004e",
   "metadata": {},
   "outputs": [],
   "source": [
    "df[(df.engine_size>4800) & (df.power<200)]"
   ]
  },
  {
   "cell_type": "code",
   "execution_count": null,
   "id": "007b1f61",
   "metadata": {},
   "outputs": [],
   "source": [
    "df.loc[(df.engine_size>4800) & (df.power<200),[\"power\"]]=np.nan"
   ]
  },
  {
   "cell_type": "code",
   "execution_count": null,
   "id": "e1953bb8",
   "metadata": {},
   "outputs": [],
   "source": [
    "df['power'] = df['power'].fillna(df.groupby([\"make_model\",\"body_type\",\"drivetrain\",\"engine_size\"])['power'].transform(lambda x: x.mode()[0] if not x.mode().empty else np.nan))"
   ]
  },
  {
   "cell_type": "code",
   "execution_count": null,
   "id": "0e7a6887",
   "metadata": {},
   "outputs": [],
   "source": [
    "df[df.engine_size>5040].make_model.value_counts() #5040 autlier range olarak belirlenmistir."
   ]
  },
  {
   "cell_type": "code",
   "execution_count": null,
   "id": "3e06fc27",
   "metadata": {},
   "outputs": [],
   "source": [
    "engine_size_drop = df[df.engine_size>5040].index"
   ]
  },
  {
   "cell_type": "code",
   "execution_count": null,
   "id": "6554bbb0",
   "metadata": {},
   "outputs": [],
   "source": [
    "df.drop(engine_size_drop,inplace=True)"
   ]
  },
  {
   "cell_type": "code",
   "execution_count": null,
   "id": "e4c7c04f",
   "metadata": {},
   "outputs": [],
   "source": [
    "plt.figure(figsize=(20, 6))\n",
    "\n",
    "# 'mileage' sütunundan rastgele alınan 100 örneklem\n",
    "df_sample = df['engine_size'].sample(100)\n",
    "\n",
    "# Örneklemin ortalama ve standart sapması\n",
    "mu = np.mean(df_sample)\n",
    "sigma = np.std(df_sample)\n",
    "\n",
    "# Örneklemle aynı ortalama ve standart sapmaya sahip bir normal dağılım oluşturun\n",
    "x = np.linspace(mu - 3*sigma, mu + 3*sigma, 100)\n",
    "y = norm.pdf(x, mu, sigma)\n",
    "\n",
    "# Q-Q plot\n",
    "fig, ax = plt.subplots()\n",
    "stats.probplot(df_sample, dist=\"norm\", plot=ax)\n",
    "plt.show();"
   ]
  },
  {
   "cell_type": "code",
   "execution_count": null,
   "id": "3ea5f6b6",
   "metadata": {},
   "outputs": [],
   "source": [
    "df.engine_size.value_counts(dropna=False).sort_index().head(75)"
   ]
  },
  {
   "cell_type": "code",
   "execution_count": null,
   "id": "3cb23763",
   "metadata": {},
   "outputs": [],
   "source": [
    "plt.figure(figsize = (20, 6))\n",
    "\n",
    "plt.subplot(121)\n",
    "plt.hist(df.engine_size, bins = 25)\n",
    "\n",
    "plt.subplot(122)\n",
    "sns.boxplot(df.engine_size)  # boxplot based on 2.5 whisker\n",
    "\n",
    "plt.show()"
   ]
  },
  {
   "cell_type": "code",
   "execution_count": null,
   "id": "39cca00c",
   "metadata": {},
   "outputs": [],
   "source": [
    "# Yakıt tüketimini 10 parçaya bölmek\n",
    "df['engine_size_bin'] = pd.cut(df['engine_size'], bins=15)\n",
    "\n",
    "# Her bir parça için ortalama fiyatları hesaplamak\n",
    "price_mean_by_bin = df.groupby('engine_size_bin')['price'].mean().reset_index()\n",
    "\n",
    "# Çubuk grafik çizmek\n",
    "plt.figure(figsize=(10, 6))\n",
    "sns.barplot(x='engine_size_bin', y='price', data=price_mean_by_bin)\n",
    "plt.title('Average Price by Engine Size Bins')\n",
    "plt.xlabel('Engine Size Bins')\n",
    "plt.ylabel('Average Price')\n",
    "plt.xticks(rotation=45)\n",
    "plt.grid(True)\n",
    "plt.show()"
   ]
  },
  {
   "cell_type": "code",
   "execution_count": null,
   "id": "46b2c8e8",
   "metadata": {},
   "outputs": [],
   "source": [
    "df.engine_size.unique()"
   ]
  },
  {
   "cell_type": "code",
   "execution_count": null,
   "id": "76fd70dd",
   "metadata": {},
   "outputs": [],
   "source": [
    "def engine_size_category(x):\n",
    "    \n",
    "    if x == 0: \n",
    "        return \"Electric\"\n",
    "    elif x<1450:\n",
    "        return \"Low\"\n",
    "    elif x<2350:\n",
    "        return \"Medium\"\n",
    "    else:\n",
    "        return \"High\""
   ]
  },
  {
   "cell_type": "code",
   "execution_count": null,
   "id": "68fa554b",
   "metadata": {},
   "outputs": [],
   "source": [
    "df[\"engine_size_cat\"] = df.engine_size.transform(lambda x:engine_size_category(x))"
   ]
  },
  {
   "cell_type": "code",
   "execution_count": null,
   "id": "02a38478",
   "metadata": {},
   "outputs": [],
   "source": [
    "df.drop(\"engine_size\", axis=1,inplace=True)"
   ]
  },
  {
   "cell_type": "markdown",
   "id": "100c4044",
   "metadata": {},
   "source": [
    "<a id=\"8\"></a>\n",
    "<div class=\"alert alert-info\" role=\"alert\">\n",
    "<h1>Column name :<span style=\"color:red\"> gears </span></h1>\n",
    "</div>"
   ]
  },
  {
   "cell_type": "code",
   "execution_count": null,
   "id": "3057ea6a",
   "metadata": {},
   "outputs": [],
   "source": [
    "describe(\"gears\")"
   ]
  },
  {
   "cell_type": "code",
   "execution_count": null,
   "id": "c6b61ce8",
   "metadata": {},
   "outputs": [],
   "source": [
    "# Descriptive Satatistics on \"mileage\"\n",
    "\n",
    "display(df.mileage.describe())\n",
    "\n",
    "# Aralıklar arası farklar\n",
    "diff1 = df.gears.describe()['mean'] - df.gears.describe()['std']\n",
    "diff2 = df.gears.describe()['25%'] - df.gears.describe()['min']\n",
    "diff3 = df.gears.describe()['max'] - df.gears.describe()['75%']\n",
    "\n",
    "print(f\"Ortalama değer ({df.gears.describe()['mean']:.2f}) ile standart sapma ({df.gears.describe()['std']:.2f}) arasındaki fark {diff1:.2f}.\")\n",
    "print(f\"Yüzde 25 lik dilim ({df.gears.describe()['25%']:.2f}) ile minimum değer ({df.gears.describe()['min']:.2f}) arasındaki fark {diff2:.2f}.\")\n",
    "print(f\"Yüzde 75 lik dilim ({df.gears.describe()['75%']:.2f}) ile maximum değer ({df.gears.describe()['max']:.2f}) arasındaki fark {diff3:.2f}.\")\n"
   ]
  },
  {
   "cell_type": "code",
   "execution_count": null,
   "id": "2b1b39ba",
   "metadata": {},
   "outputs": [],
   "source": [
    "# “gears” Sütunundaki gözlemlerin nasıl dağıldığını Histogram ve Boxplot aracılığıyla kontrol edelim\n",
    "plt.figure(figsize=(15,6))\n",
    "plt.subplot(141)\n",
    "plt.hist(df.gears, bins = 50)\n",
    "#plt.ticklabel_format(style='plain', axis='x')\n",
    "plt.subplot(142)\n",
    "plt.boxplot(df.gears)     \n",
    "plt.ticklabel_format(style='plain', axis='y')\n",
    "plt.subplot(143)\n",
    "plt.boxplot(np.log(df.gears), whis = 3)    # 3 whisker box plot\n",
    "plt.tight_layout()\n",
    "plt.show()"
   ]
  },
  {
   "cell_type": "code",
   "execution_count": null,
   "id": "a8fa0dee",
   "metadata": {},
   "outputs": [],
   "source": [
    "df[df[\"gears\"]==0]"
   ]
  },
  {
   "cell_type": "code",
   "execution_count": null,
   "id": "22ba36c6",
   "metadata": {},
   "outputs": [],
   "source": [
    "df.gears.replace(0,np.nan, inplace=True)"
   ]
  },
  {
   "cell_type": "code",
   "execution_count": null,
   "id": "4031f722",
   "metadata": {},
   "outputs": [],
   "source": [
    "df.gears.value_counts(dropna=False)"
   ]
  },
  {
   "cell_type": "code",
   "execution_count": null,
   "id": "28197943",
   "metadata": {},
   "outputs": [],
   "source": [
    "df['gears'] = df['gears'].fillna(df.groupby([\"make_model\", \"gearbox\", \"body_type\"])['gears'].transform(lambda x: x.mode()[0] if not x.mode().empty else np.nan))"
   ]
  },
  {
   "cell_type": "code",
   "execution_count": null,
   "id": "968af649",
   "metadata": {},
   "outputs": [],
   "source": [
    "df.gears.value_counts(dropna=False)"
   ]
  },
  {
   "cell_type": "code",
   "execution_count": null,
   "id": "3c165751",
   "metadata": {},
   "outputs": [],
   "source": [
    "df[df.gears==2]"
   ]
  },
  {
   "cell_type": "code",
   "execution_count": null,
   "id": "a4964bd6",
   "metadata": {},
   "outputs": [],
   "source": [
    "df[\"gears\"].replace(2,np.nan, inplace=True)"
   ]
  },
  {
   "cell_type": "code",
   "execution_count": null,
   "id": "deea079b",
   "metadata": {},
   "outputs": [],
   "source": [
    "df.gears.value_counts(dropna=False)"
   ]
  },
  {
   "cell_type": "code",
   "execution_count": null,
   "id": "b073daf5",
   "metadata": {},
   "outputs": [],
   "source": [
    "df[df.gears==3][\"age\"]"
   ]
  },
  {
   "cell_type": "code",
   "execution_count": null,
   "id": "51b20454",
   "metadata": {},
   "outputs": [],
   "source": [
    "df.at[6552, 'gears'] = np.nan"
   ]
  },
  {
   "cell_type": "code",
   "execution_count": null,
   "id": "424e4293",
   "metadata": {},
   "outputs": [],
   "source": [
    "df.loc[6552][\"gears\"]"
   ]
  },
  {
   "cell_type": "code",
   "execution_count": null,
   "id": "4fbdb30b",
   "metadata": {},
   "outputs": [],
   "source": [
    "df['gears'] = df['gears'].fillna(df.groupby([\"make_model\", \"gearbox\",\"fuel_type\"])['gears'].transform(lambda x: x.mode()[0] if not x.mode().empty else np.nan))"
   ]
  },
  {
   "cell_type": "code",
   "execution_count": null,
   "id": "643dbfaa",
   "metadata": {},
   "outputs": [],
   "source": [
    "df.gears.value_counts(dropna=False)"
   ]
  },
  {
   "cell_type": "code",
   "execution_count": null,
   "id": "eb8c6eca",
   "metadata": {},
   "outputs": [],
   "source": [
    "df[df.gears==3]"
   ]
  },
  {
   "cell_type": "code",
   "execution_count": null,
   "id": "6a8e21f2",
   "metadata": {},
   "outputs": [],
   "source": [
    "df[df.make_model == \"Renault R 9\"] # Renault R 9 arabalari cok eski oldugundan yanlis olduguna karar verilmistir "
   ]
  },
  {
   "cell_type": "code",
   "execution_count": null,
   "id": "5ec7951f",
   "metadata": {},
   "outputs": [],
   "source": [
    "drop_gears = df[df.make_model == \"Renault R 9\"].index"
   ]
  },
  {
   "cell_type": "code",
   "execution_count": null,
   "id": "2dd703b7",
   "metadata": {},
   "outputs": [],
   "source": [
    "df.drop(drop_gears,inplace=True)"
   ]
  },
  {
   "cell_type": "code",
   "execution_count": null,
   "id": "774c01e4",
   "metadata": {},
   "outputs": [],
   "source": [
    "df[df.make_model == \"Ford Mustang\"][\"gears\"].value_counts()"
   ]
  },
  {
   "cell_type": "code",
   "execution_count": null,
   "id": "37d3088c",
   "metadata": {},
   "outputs": [],
   "source": [
    "df[(df.make_model == \"Ford Mustang\") & (df.gears == 3)][[\"age\"]] # bu yastaki Ford Mustanglerin 3 vitesli olma imkani yoktur."
   ]
  },
  {
   "cell_type": "code",
   "execution_count": null,
   "id": "2237c487",
   "metadata": {},
   "outputs": [],
   "source": [
    "df.at[17100, 'gears'] = np.nan\n",
    "df.at[17229, 'gears'] = np.nan"
   ]
  },
  {
   "cell_type": "code",
   "execution_count": null,
   "id": "97e798ec",
   "metadata": {},
   "outputs": [],
   "source": [
    "df['gears'] = df['gears'].fillna(df.groupby([\"make_model\", \"gearbox\",\"fuel_type\"])['gears'].transform(lambda x: x.mode()[0] if not x.mode().empty else np.nan))"
   ]
  },
  {
   "cell_type": "code",
   "execution_count": null,
   "id": "6bf307f8",
   "metadata": {},
   "outputs": [],
   "source": [
    "df[\"gears\"].replace(1,np.nan, inplace=True)"
   ]
  },
  {
   "cell_type": "code",
   "execution_count": null,
   "id": "4af4212e",
   "metadata": {},
   "outputs": [],
   "source": [
    "df[\"gears\"].value_counts(dropna=False)"
   ]
  },
  {
   "cell_type": "code",
   "execution_count": null,
   "id": "cafd2124",
   "metadata": {},
   "outputs": [],
   "source": [
    "df['gears'] = df['gears'].fillna(df.groupby([\"make_model\", \"gearbox\",\"fuel_type\"])['gears'].transform(lambda x: x.mode()[0] if not x.mode().empty else np.nan))"
   ]
  },
  {
   "cell_type": "code",
   "execution_count": null,
   "id": "6f2ab834",
   "metadata": {},
   "outputs": [],
   "source": [
    "df[\"gears\"].value_counts(dropna=False)"
   ]
  },
  {
   "cell_type": "code",
   "execution_count": null,
   "id": "bc1533fc",
   "metadata": {},
   "outputs": [],
   "source": [
    "df['gears'] = df['gears'].fillna(df.groupby([\"make_model\", \"gearbox\"])['gears'].transform(lambda x: x.mode()[0] if not x.mode().empty else np.nan))"
   ]
  },
  {
   "cell_type": "code",
   "execution_count": null,
   "id": "27d14279",
   "metadata": {},
   "outputs": [],
   "source": [
    "df[\"gears\"].value_counts(dropna=False)"
   ]
  },
  {
   "cell_type": "code",
   "execution_count": null,
   "id": "1767b077",
   "metadata": {},
   "outputs": [],
   "source": [
    "df['gears'] = df['gears'].fillna(df.groupby([\"make_model\"])['gears'].transform(lambda x: x.mode()[0] if not x.mode().empty else np.nan))"
   ]
  },
  {
   "cell_type": "code",
   "execution_count": null,
   "id": "56517e5d",
   "metadata": {},
   "outputs": [],
   "source": [
    "df[\"gears\"].value_counts(dropna=False)"
   ]
  },
  {
   "cell_type": "code",
   "execution_count": null,
   "id": "dde3915d",
   "metadata": {},
   "outputs": [],
   "source": [
    "df.dropna(subset=[\"gears\"],inplace=True)"
   ]
  },
  {
   "cell_type": "code",
   "execution_count": null,
   "id": "fcb3c278",
   "metadata": {},
   "outputs": [],
   "source": [
    "df[\"gears\"].value_counts(dropna=False)"
   ]
  },
  {
   "cell_type": "markdown",
   "id": "4c36728f",
   "metadata": {},
   "source": [
    "<a id=\"8\"></a>\n",
    "<div class=\"alert alert-info\" role=\"alert\">\n",
    "<h1>Column name :<span style=\"color:red\"> cylinders </span></h1>\n",
    "</div>"
   ]
  },
  {
   "cell_type": "code",
   "execution_count": null,
   "id": "8c785e71",
   "metadata": {},
   "outputs": [],
   "source": [
    "describe(\"cylinders\")"
   ]
  },
  {
   "cell_type": "code",
   "execution_count": null,
   "id": "3f9625ca",
   "metadata": {},
   "outputs": [],
   "source": [
    "# Descriptive Satatistics on \"mileage\"\n",
    "\n",
    "display(df.mileage.describe())\n",
    "\n",
    "# Aralıklar arası farklar\n",
    "diff1 = df.cylinders.describe()['mean'] - df.cylinders.describe()['std']\n",
    "diff2 = df.cylinders.describe()['25%'] - df.cylinders.describe()['min']\n",
    "diff3 = df.cylinders.describe()['max'] - df.cylinders.describe()['75%']\n",
    "\n",
    "print(f\"Ortalama değer ({df.cylinders.describe()['mean']:.2f}) ile standart sapma ({df.cylinders.describe()['std']:.2f}) arasındaki fark {diff1:.2f}.\")\n",
    "print(f\"Yüzde 25 lik dilim ({df.cylinders.describe()['25%']:.2f}) ile minimum değer ({df.cylinders.describe()['min']:.2f}) arasındaki fark {diff2:.2f}.\")\n",
    "print(f\"Yüzde 75 lik dilim ({df.cylinders.describe()['75%']:.2f}) ile maximum değer ({df.cylinders.describe()['max']:.2f}) arasındaki fark {diff3:.2f}.\")\n"
   ]
  },
  {
   "cell_type": "code",
   "execution_count": null,
   "id": "3a95af15",
   "metadata": {},
   "outputs": [],
   "source": [
    "# “cylinders” Sütunundaki gözlemlerin nasıl dağıldığını Histogram ve Boxplot aracılığıyla kontrol edelim\n",
    "plt.figure(figsize=(15,6))\n",
    "plt.subplot(141)\n",
    "plt.hist(df.cylinders, bins = 50)\n",
    "#plt.ticklabel_format(style='plain', axis='x')\n",
    "plt.subplot(142)\n",
    "plt.boxplot(df.cylinders)     \n",
    "plt.ticklabel_format(style='plain', axis='y')\n",
    "plt.subplot(143)\n",
    "plt.boxplot(np.log(df.gears), whis = 3)    # 3 whisker box plot\n",
    "plt.tight_layout()\n",
    "plt.show()"
   ]
  },
  {
   "cell_type": "code",
   "execution_count": null,
   "id": "ddf50286",
   "metadata": {},
   "outputs": [],
   "source": [
    "df.cylinders.replace([1,2], np.nan, inplace=True)"
   ]
  },
  {
   "cell_type": "code",
   "execution_count": null,
   "id": "32258f8c",
   "metadata": {},
   "outputs": [],
   "source": [
    "df.cylinders.value_counts(dropna=False)"
   ]
  },
  {
   "cell_type": "code",
   "execution_count": null,
   "id": "ea2e3823",
   "metadata": {},
   "outputs": [],
   "source": [
    "df['cylinders'] = df['cylinders'].fillna(df.groupby([\"make_model\", \"power\"])['cylinders'].transform(lambda x: x.mode()[0] if not x.mode().empty else np.nan))"
   ]
  },
  {
   "cell_type": "code",
   "execution_count": null,
   "id": "13b2f47a",
   "metadata": {},
   "outputs": [],
   "source": [
    "df.cylinders.value_counts(dropna=False)"
   ]
  },
  {
   "cell_type": "code",
   "execution_count": null,
   "id": "c34af084",
   "metadata": {},
   "outputs": [],
   "source": [
    "df['cylinders'] = df['cylinders'].fillna(df.groupby([\"make_model\"])['cylinders'].transform(lambda x: x.mode()[0] if not x.mode().empty else np.nan))"
   ]
  },
  {
   "cell_type": "code",
   "execution_count": null,
   "id": "9ab4d3a2",
   "metadata": {},
   "outputs": [],
   "source": [
    "df.cylinders.value_counts(dropna=False)"
   ]
  },
  {
   "cell_type": "code",
   "execution_count": null,
   "id": "f7318a76",
   "metadata": {},
   "outputs": [],
   "source": [
    "df[df.cylinders==0]['fuel_type'].value_counts()"
   ]
  },
  {
   "cell_type": "code",
   "execution_count": null,
   "id": "614ea420",
   "metadata": {},
   "outputs": [],
   "source": [
    "benzin = df[(df.cylinders==0) & (df.fuel_type==\"Benzin\")]['fuel_type'].index"
   ]
  },
  {
   "cell_type": "code",
   "execution_count": null,
   "id": "2a8cf942",
   "metadata": {},
   "outputs": [],
   "source": [
    "df.loc[benzin,[\"make_model\",\"body_type\", \"power\",\"cylinders\"]]"
   ]
  },
  {
   "cell_type": "code",
   "execution_count": null,
   "id": "7f5fd97b",
   "metadata": {},
   "outputs": [],
   "source": [
    "# elektrikli araclarin cylinder sayisi olmayacagindan dolayi sutunun dusulmesi kanisina varilmistir.\n",
    "df.drop([\"cylinders\"], axis=1,inplace=True)"
   ]
  },
  {
   "cell_type": "markdown",
   "id": "17116068",
   "metadata": {},
   "source": [
    "<a id=\"8\"></a>\n",
    "<div class=\"alert alert-info\" role=\"alert\">\n",
    "<h1>Column name :<span style=\"color:red\"> safety_security </span></h1>\n",
    "</div>"
   ]
  },
  {
   "cell_type": "code",
   "execution_count": null,
   "id": "af88bbbb",
   "metadata": {},
   "outputs": [],
   "source": [
    "def security_category(x):\n",
    "    if 'Premium' in x:\n",
    "        return 'Premium'\n",
    "    elif 'Middle' in x:\n",
    "        return 'Middle'\n",
    "    else:\n",
    "        return 'Basic'\n",
    "df['safety_security_category'] = df['safety_security'].apply(security_category)"
   ]
  },
  {
   "cell_type": "code",
   "execution_count": null,
   "id": "8cce70a4",
   "metadata": {},
   "outputs": [],
   "source": [
    "df.drop([\"safety_security\"], axis=1, inplace=True)"
   ]
  },
  {
   "cell_type": "markdown",
   "id": "0fa0d32a",
   "metadata": {},
   "source": [
    "<a id=\"8\"></a>\n",
    "<div class=\"alert alert-info\" role=\"alert\">\n",
    "<h1>Column name :<span style=\"color:red\"> extras_count </span></h1>\n",
    "</div>"
   ]
  },
  {
   "cell_type": "code",
   "execution_count": null,
   "id": "ec91cf0e",
   "metadata": {},
   "outputs": [],
   "source": [
    "df[\"extras_category\"] = df[\"extras_count\"].transform(lambda x: \"luxury\" if x > 7.0 else \"standard\")"
   ]
  },
  {
   "cell_type": "code",
   "execution_count": null,
   "id": "be061ef4",
   "metadata": {},
   "outputs": [],
   "source": [
    "df.drop([\"extras_count\"], axis=1, inplace=True)"
   ]
  },
  {
   "cell_type": "markdown",
   "id": "bceba581",
   "metadata": {},
   "source": [
    "<a id=\"8\"></a>\n",
    "<div class=\"alert alert-info\" role=\"alert\">\n",
    "<h1>Column name :<span style=\"color:red\"> seats </span></h1>\n",
    "</div>"
   ]
  },
  {
   "cell_type": "code",
   "execution_count": null,
   "id": "2f8e2331",
   "metadata": {},
   "outputs": [],
   "source": [
    "df[\"comfort_convenience_count\"] = df[\"comfort_convenience\"].apply(lambda x: 0 if pd.isna(x) else len(x.split(\",\")))"
   ]
  },
  {
   "cell_type": "code",
   "execution_count": null,
   "id": "c586c1e6",
   "metadata": {},
   "outputs": [],
   "source": [
    "df[\"comfort_convenience_count\"].value_counts().sort_index().cumsum()"
   ]
  },
  {
   "cell_type": "markdown",
   "id": "87eff2c4",
   "metadata": {},
   "source": [
    "<a id=\"8\"></a>\n",
    "<div class=\"alert alert-info\" role=\"alert\">\n",
    "<h1>Column name :<span style=\"color:red\"> comfort_convenience_count </span></h1>\n",
    "</div>"
   ]
  },
  {
   "cell_type": "code",
   "execution_count": null,
   "id": "883cf21b",
   "metadata": {},
   "outputs": [],
   "source": [
    "df[\"comfort_convenience_cat\"] = df[\"comfort_convenience_count\"].transform(lambda x: \"luxury\" if x > 18.0 else \"standard\")"
   ]
  },
  {
   "cell_type": "code",
   "execution_count": null,
   "id": "0d9d9705",
   "metadata": {},
   "outputs": [],
   "source": [
    "df.drop([\"comfort_convenience_count\"], axis=1, inplace=True)"
   ]
  },
  {
   "cell_type": "code",
   "execution_count": null,
   "id": "403348a8",
   "metadata": {},
   "outputs": [],
   "source": [
    "df.drop([\"comfort_convenience\"], axis=1, inplace=True)"
   ]
  },
  {
   "cell_type": "code",
   "execution_count": null,
   "id": "c3932df7",
   "metadata": {},
   "outputs": [],
   "source": [
    "df.drop([\"fuel_consumption_bin\"], axis=1, inplace=True)\n",
    "df.drop([\"power_bin\"], axis=1, inplace=True)\n",
    "df.drop([\"mileage_bin\"], axis=1, inplace=True)\n",
    "df.drop([\"engine_size_bin\"], axis=1, inplace=True)"
   ]
  },
  {
   "cell_type": "code",
   "execution_count": null,
   "id": "7e3555e2",
   "metadata": {},
   "outputs": [],
   "source": [
    "df.to_csv(\"ara.csv\")"
   ]
  },
  {
   "cell_type": "markdown",
   "id": "f2cf8c8b",
   "metadata": {},
   "source": [
    "<a id=\"18\"></a>\n",
    "# <p style=\"background-color:#3498DB; font-family:newtimeroman;color:#FFF9ED; font-size:150%; text-align:center; border-radius: 15px 50px;\"> :sparkles: Final Step :sparkles:</p>"
   ]
  },
  {
   "cell_type": "code",
   "execution_count": null,
   "id": "10a7a0ee",
   "metadata": {},
   "outputs": [],
   "source": [
    "df.T"
   ]
  },
  {
   "cell_type": "markdown",
   "id": "7c36cfb9",
   "metadata": {},
   "source": [
    "# Drop Duplicated "
   ]
  },
  {
   "cell_type": "code",
   "execution_count": null,
   "id": "ade6eb03",
   "metadata": {},
   "outputs": [],
   "source": [
    "df.duplicated().sum()"
   ]
  },
  {
   "cell_type": "code",
   "execution_count": null,
   "id": "ebb5546f",
   "metadata": {},
   "outputs": [],
   "source": [
    "df.drop_duplicates(inplace=True)"
   ]
  },
  {
   "cell_type": "code",
   "execution_count": null,
   "id": "7d6cb702",
   "metadata": {},
   "outputs": [],
   "source": [
    "df.shape"
   ]
  },
  {
   "cell_type": "code",
   "execution_count": null,
   "id": "19c611f3",
   "metadata": {},
   "outputs": [],
   "source": [
    "df.corr(numeric_only=True)"
   ]
  },
  {
   "cell_type": "code",
   "execution_count": null,
   "id": "84e9781a",
   "metadata": {},
   "outputs": [],
   "source": [
    "heat_map = df.corr(numeric_only=True)"
   ]
  },
  {
   "cell_type": "code",
   "execution_count": null,
   "id": "4277db5a",
   "metadata": {},
   "outputs": [],
   "source": [
    "sns.heatmap(heat_map, annot=True, cmap=\"YlGnBu\");"
   ]
  },
  {
   "cell_type": "code",
   "execution_count": null,
   "id": "5f488782",
   "metadata": {},
   "outputs": [],
   "source": [
    "# heatmap sonucu emissions, seats, dorrs, previous owner,  in corr u "
   ]
  },
  {
   "cell_type": "code",
   "execution_count": null,
   "id": "f1165a02",
   "metadata": {},
   "outputs": [],
   "source": [
    "df.describe(include = \"O\").T "
   ]
  },
  {
   "cell_type": "code",
   "execution_count": null,
   "id": "3587953b",
   "metadata": {},
   "outputs": [],
   "source": [
    "sns.regplot(data=df, x=\"price\", y=\"age\",line_kws={\"color\":\"Red\"});"
   ]
  },
  {
   "cell_type": "code",
   "execution_count": null,
   "id": "2ea85951",
   "metadata": {},
   "outputs": [],
   "source": [
    "plt.figure(figsize=(16, 6))\n",
    "sns.barplot(x=\"age\", y=\"price\", data=df, alpha=0.5)\n",
    "plt.title(\"Age vs Price Scatter Plot\")\n",
    "plt.xlabel(\"Age\")\n",
    "plt.ylabel(\"Price\")\n",
    "plt.grid(True)\n",
    "plt.show()"
   ]
  },
  {
   "cell_type": "code",
   "execution_count": null,
   "id": "74039a2b",
   "metadata": {},
   "outputs": [],
   "source": [
    "sns.scatterplot(data=df, x=\"price\", y=\"age\", hue=\"engine_size_cat\");"
   ]
  },
  {
   "cell_type": "code",
   "execution_count": null,
   "id": "91b18667",
   "metadata": {},
   "outputs": [],
   "source": [
    "sns.scatterplot(data=df, x=\"price\", y=\"age\", hue=\"fuel_type\");"
   ]
  },
  {
   "cell_type": "code",
   "execution_count": null,
   "id": "3a85f5d9",
   "metadata": {},
   "outputs": [],
   "source": [
    "sns.scatterplot(data=df, x=\"price\", y=\"age\", hue=\"body_type\");"
   ]
  },
  {
   "cell_type": "code",
   "execution_count": null,
   "id": "068e4e91",
   "metadata": {},
   "outputs": [],
   "source": [
    "sns.scatterplot(data=df, x=\"mileage\", y=\"age\",hue=\"body_type\");"
   ]
  },
  {
   "cell_type": "code",
   "execution_count": null,
   "id": "7e10907c",
   "metadata": {},
   "outputs": [],
   "source": [
    "sns.regplot(data=df, x=\"mileage\", y=\"age\",line_kws={\"color\":\"Red\"});"
   ]
  },
  {
   "cell_type": "markdown",
   "id": "f87c9cec",
   "metadata": {},
   "source": [
    "# Power"
   ]
  },
  {
   "cell_type": "code",
   "execution_count": null,
   "id": "bb25d8b1",
   "metadata": {},
   "outputs": [],
   "source": [
    "sns.regplot(data=df, x=\"power\", y=\"price\",line_kws={\"color\":\"Red\"});"
   ]
  },
  {
   "cell_type": "code",
   "execution_count": null,
   "id": "664e4e91",
   "metadata": {},
   "outputs": [],
   "source": [
    "sns.scatterplot(data=df, x=\"power\", y=\"price\", hue=\"engine_size_cat\");"
   ]
  },
  {
   "cell_type": "code",
   "execution_count": null,
   "id": "be3728a5",
   "metadata": {},
   "outputs": [],
   "source": [
    "sns.scatterplot(data=df, x=\"power\", y=\"price\", hue=\"age\");"
   ]
  },
  {
   "cell_type": "code",
   "execution_count": null,
   "id": "6cd931cf",
   "metadata": {},
   "outputs": [],
   "source": [
    "# grafik analizi sonucunda farkedilen outlierlar drop edilecektir.\n",
    "df[(df.price>50000) & (df.age>15)]"
   ]
  },
  {
   "cell_type": "code",
   "execution_count": null,
   "id": "b71b564d",
   "metadata": {},
   "outputs": [],
   "source": [
    "df.drop([3865,4447,5633], axis=0, inplace=True)"
   ]
  },
  {
   "cell_type": "code",
   "execution_count": null,
   "id": "5851597d",
   "metadata": {},
   "outputs": [],
   "source": [
    "sns.scatterplot(data=df, x=\"power\", y=\"price\", hue=\"age\");"
   ]
  },
  {
   "cell_type": "markdown",
   "id": "1d0ae161",
   "metadata": {},
   "source": [
    "# engine_size_cat"
   ]
  },
  {
   "cell_type": "code",
   "execution_count": null,
   "id": "237c1227",
   "metadata": {},
   "outputs": [],
   "source": [
    "sns.barplot(data=df, x=\"engine_size_cat\", y=\"price\");"
   ]
  },
  {
   "cell_type": "code",
   "execution_count": null,
   "id": "756ff4a2",
   "metadata": {},
   "outputs": [],
   "source": [
    "sns.barplot(data=df, x=\"engine_size_cat\", y=\"price\", hue=\"gearbox\");"
   ]
  },
  {
   "cell_type": "code",
   "execution_count": null,
   "id": "9f34b911",
   "metadata": {},
   "outputs": [],
   "source": [
    "# Elektrikli araclarin manuel olamayacagi durmdan dolayi outlier olduklarina karar verip inceledik.\n",
    "df[(df.engine_size_cat==\"Electric\") & (df.gearbox==\"Manual\")]"
   ]
  },
  {
   "cell_type": "code",
   "execution_count": null,
   "id": "24d16a37",
   "metadata": {},
   "outputs": [],
   "source": [
    "# outlier olduklarini farkedip drop etme karari aldik\n"
   ]
  },
  {
   "cell_type": "code",
   "execution_count": null,
   "id": "f0b4dbc4",
   "metadata": {},
   "outputs": [],
   "source": [
    "df.loc[[5630,9408,17607,19361,7573,11621,12429],\"gearbox\"].replace(\"Manual\",\"Automatic\", inplace=True)"
   ]
  },
  {
   "cell_type": "code",
   "execution_count": null,
   "id": "146b7a7c",
   "metadata": {},
   "outputs": [],
   "source": [
    "for index in [5630,9408,17607,19361,7573,11621,12429]:\n",
    "    df.at[index, 'gearbox'] = 'Automatic'"
   ]
  },
  {
   "cell_type": "code",
   "execution_count": null,
   "id": "f2c23e53",
   "metadata": {},
   "outputs": [],
   "source": [
    "for index in [5630,9408,17607,19361,7573,11621,12429]:\n",
    "    df.at[index, 'fuel_type'] = 'Electric'"
   ]
  },
  {
   "cell_type": "code",
   "execution_count": null,
   "id": "d4718df9",
   "metadata": {},
   "outputs": [],
   "source": [
    "df[(df.engine_size_cat==\"Electric\") & (df.gearbox==\"Manual\")]"
   ]
  },
  {
   "cell_type": "code",
   "execution_count": null,
   "id": "c25c7c7b",
   "metadata": {},
   "outputs": [],
   "source": [
    "#engine sizelarini bilmedigim icin drop ediyorum\n",
    "df.drop([1736,2003,3457,6214,7521,15890],axis=0, inplace=True)"
   ]
  },
  {
   "cell_type": "code",
   "execution_count": null,
   "id": "effa9066",
   "metadata": {},
   "outputs": [],
   "source": [
    "sns.barplot(data=df, x=\"engine_size_cat\", y=\"price\", hue=\"gearbox\");"
   ]
  },
  {
   "cell_type": "code",
   "execution_count": null,
   "id": "3ed1a294",
   "metadata": {},
   "outputs": [],
   "source": [
    "sns.barplot(data=df, x=\"engine_size_cat\", y=\"price\", hue=\"drivetrain\");"
   ]
  },
  {
   "cell_type": "code",
   "execution_count": null,
   "id": "e11186a4",
   "metadata": {},
   "outputs": [],
   "source": [
    "sns.barplot(data=df, x=\"engine_size_cat\", y=\"price\", hue=\"age\");"
   ]
  },
  {
   "cell_type": "markdown",
   "id": "d99988e5",
   "metadata": {},
   "source": [
    "# mileage"
   ]
  },
  {
   "cell_type": "code",
   "execution_count": null,
   "id": "44a3e1e9",
   "metadata": {},
   "outputs": [],
   "source": [
    "sns.regplot(data=df, x=\"mileage\", y=\"price\",line_kws={\"color\":\"Red\"});"
   ]
  },
  {
   "cell_type": "code",
   "execution_count": null,
   "id": "8063de67",
   "metadata": {},
   "outputs": [],
   "source": [
    "sns.scatterplot(data=df, x=\"mileage\", y=\"price\", hue=\"age\");\n"
   ]
  },
  {
   "cell_type": "code",
   "execution_count": null,
   "id": "b659f2be",
   "metadata": {},
   "outputs": [],
   "source": [
    "sns.scatterplot(data=df, x=\"mileage\", y=\"price\", hue=\"previous_owner\");\n"
   ]
  },
  {
   "cell_type": "code",
   "execution_count": null,
   "id": "7e9e20b7",
   "metadata": {},
   "outputs": [],
   "source": [
    "#previous owner i gruplanmaasi gerektigine kanaat getirdim.\n",
    "\n",
    "df[\"previous_owner\"] = df.previous_owner.apply(lambda x: x if x==1 else 2)"
   ]
  },
  {
   "cell_type": "code",
   "execution_count": null,
   "id": "68162787",
   "metadata": {},
   "outputs": [],
   "source": [
    "df[\"previous_owner\"] = df.previous_owner.apply(lambda x: \"First Hand\" if x==1 else \"Second Hand\")"
   ]
  },
  {
   "cell_type": "code",
   "execution_count": null,
   "id": "ddb13537",
   "metadata": {},
   "outputs": [],
   "source": [
    "sns.scatterplot(data=df, x=\"mileage\", y=\"price\", hue=\"previous_owner\");"
   ]
  },
  {
   "cell_type": "code",
   "execution_count": null,
   "id": "895d43e5",
   "metadata": {},
   "outputs": [],
   "source": [
    "sns.scatterplot(data=df, x=\"mileage\", y=\"price\", hue=\"seller\");"
   ]
  },
  {
   "cell_type": "markdown",
   "id": "c92bd7b8",
   "metadata": {},
   "source": [
    "# seller"
   ]
  },
  {
   "cell_type": "code",
   "execution_count": null,
   "id": "b89d0e21",
   "metadata": {},
   "outputs": [],
   "source": [
    "sns.barplot(data=df, x=\"seller\", y=\"price\");"
   ]
  },
  {
   "cell_type": "code",
   "execution_count": null,
   "id": "5b363a9f",
   "metadata": {},
   "outputs": [],
   "source": [
    "sns.barplot(data=df, x=\"make\", y=\"price\", hue=\"seller\");"
   ]
  },
  {
   "cell_type": "code",
   "execution_count": null,
   "id": "222be99f",
   "metadata": {},
   "outputs": [],
   "source": [
    "sns.barplot(data=df, x=\"location\", y=\"price\", hue=\"seller\");"
   ]
  },
  {
   "cell_type": "markdown",
   "id": "a1be2c4e",
   "metadata": {},
   "source": [
    "# Smoker"
   ]
  },
  {
   "cell_type": "code",
   "execution_count": null,
   "id": "66d41af5",
   "metadata": {},
   "outputs": [],
   "source": [
    "sns.barplot(data=df, x=\"non_smoker_vehicle\", y=\"price\");"
   ]
  },
  {
   "cell_type": "code",
   "execution_count": null,
   "id": "5afa6ecd",
   "metadata": {},
   "outputs": [],
   "source": [
    "sns.barplot(data=df, x=\"location\", y=\"price\", hue=\"non_smoker_vehicle\");"
   ]
  },
  {
   "cell_type": "markdown",
   "id": "f7d357a9",
   "metadata": {},
   "source": [
    "# full_service_history"
   ]
  },
  {
   "cell_type": "code",
   "execution_count": null,
   "id": "33b8651e",
   "metadata": {},
   "outputs": [],
   "source": [
    "sns.barplot(data=df, x=\"full_service_history\", y=\"price\");"
   ]
  },
  {
   "cell_type": "markdown",
   "id": "2edc72f4",
   "metadata": {},
   "source": [
    "# emission_class"
   ]
  },
  {
   "cell_type": "code",
   "execution_count": null,
   "id": "67bd5353",
   "metadata": {},
   "outputs": [],
   "source": [
    "sns.barplot(data=df, x=\"emission_class\", y=\"price\");"
   ]
  },
  {
   "cell_type": "code",
   "execution_count": null,
   "id": "b17f9488",
   "metadata": {},
   "outputs": [],
   "source": [
    "sns.barplot(data=df, x=\"location\", y=\"price\", hue=\"emission_class\");"
   ]
  },
  {
   "cell_type": "code",
   "execution_count": null,
   "id": "c713230c",
   "metadata": {},
   "outputs": [],
   "source": [
    "sns.barplot(data=df, x=\"emission_class\", y=\"age\");"
   ]
  },
  {
   "cell_type": "code",
   "execution_count": null,
   "id": "e7a26fc0",
   "metadata": {},
   "outputs": [],
   "source": [
    "# emission standartlari geregince duzeltme yapilmistir\n",
    "#index_6 = df[(df.emission_class != \"Euro 6\")& (df.age< 6)][\"age\"].index\n",
    "#for i in index_6:\n",
    " #   df.at[i, 'emission_class'] = \"Euro 6\""
   ]
  },
  {
   "cell_type": "code",
   "execution_count": null,
   "id": "23577ac7",
   "metadata": {},
   "outputs": [],
   "source": [
    "sns.barplot(data=df, x=\"emission_class\", y=\"price\");"
   ]
  },
  {
   "cell_type": "code",
   "execution_count": null,
   "id": "9b1ba208",
   "metadata": {},
   "outputs": [],
   "source": [
    "df[\"emission_class\"] = df.emission_class.apply(lambda x: \"Euro 6\" if x==\"Euro 6\" else \"Other\")"
   ]
  },
  {
   "cell_type": "code",
   "execution_count": null,
   "id": "04b7e278",
   "metadata": {},
   "outputs": [],
   "source": [
    "sns.barplot(data=df, x=\"emission_class\", y=\"price\");"
   ]
  },
  {
   "cell_type": "markdown",
   "id": "0e4896e8",
   "metadata": {},
   "source": [
    "# upholstery"
   ]
  },
  {
   "cell_type": "code",
   "execution_count": null,
   "id": "9b68e316",
   "metadata": {},
   "outputs": [],
   "source": [
    "sns.barplot(data=df, x=\"upholstery\", y=\"price\");"
   ]
  },
  {
   "cell_type": "code",
   "execution_count": null,
   "id": "58fd4a60",
   "metadata": {},
   "outputs": [],
   "source": [
    "sns.barplot(data=df, x=\"upholstery\", y=\"price\", hue=\"comfort_convenience_cat\");"
   ]
  },
  {
   "cell_type": "markdown",
   "id": "a1149f83",
   "metadata": {},
   "source": [
    "# safety_security_category"
   ]
  },
  {
   "cell_type": "code",
   "execution_count": null,
   "id": "45778a73",
   "metadata": {},
   "outputs": [],
   "source": [
    "sns.barplot(data=df, x=\"safety_security_category\", y=\"price\");"
   ]
  },
  {
   "cell_type": "markdown",
   "id": "95053432",
   "metadata": {},
   "source": [
    "# entertainment_media_count\n"
   ]
  },
  {
   "cell_type": "code",
   "execution_count": null,
   "id": "0940fe89",
   "metadata": {},
   "outputs": [],
   "source": [
    "sns.barplot(data=df, x=\"entertainment_media_count\", y=\"price\");"
   ]
  },
  {
   "cell_type": "markdown",
   "id": "11601779",
   "metadata": {},
   "source": [
    "# extras_category"
   ]
  },
  {
   "cell_type": "code",
   "execution_count": null,
   "id": "c5125aaf",
   "metadata": {},
   "outputs": [],
   "source": [
    "sns.barplot(data=df, x=\"extras_category\", y=\"price\");"
   ]
  },
  {
   "cell_type": "markdown",
   "id": "9525e9e1",
   "metadata": {},
   "source": [
    "# comfort_convenience_cat"
   ]
  },
  {
   "cell_type": "code",
   "execution_count": null,
   "id": "6de1bfe1",
   "metadata": {},
   "outputs": [],
   "source": [
    "sns.barplot(data=df, x=\"comfort_convenience_cat\", y=\"price\");"
   ]
  },
  {
   "cell_type": "markdown",
   "id": "e18fef56",
   "metadata": {},
   "source": [
    "# drivetrain"
   ]
  },
  {
   "cell_type": "code",
   "execution_count": null,
   "id": "ca01c48e",
   "metadata": {},
   "outputs": [],
   "source": [
    "sns.barplot(data=df, x=\"drivetrain\", y=\"price\");"
   ]
  },
  {
   "cell_type": "code",
   "execution_count": null,
   "id": "9acfcbc8",
   "metadata": {},
   "outputs": [],
   "source": [
    "sns.barplot(data=df, x=\"make\", y=\"price\",hue=\"drivetrain\");"
   ]
  },
  {
   "cell_type": "code",
   "execution_count": null,
   "id": "85237b2c",
   "metadata": {},
   "outputs": [],
   "source": [
    "sns.scatterplot(data=df, x=\"power\", y=\"price\", hue=\"drivetrain\");"
   ]
  },
  {
   "cell_type": "code",
   "execution_count": null,
   "id": "4316c723",
   "metadata": {},
   "outputs": [],
   "source": [
    "sns.barplot(data=df, x=\"drivetrain\", y=\"price\", hue=\"engine_size_cat\");"
   ]
  },
  {
   "cell_type": "markdown",
   "id": "de2b8a19",
   "metadata": {},
   "source": [
    "# paint"
   ]
  },
  {
   "cell_type": "code",
   "execution_count": null,
   "id": "5bd2c887",
   "metadata": {},
   "outputs": [],
   "source": [
    "sns.barplot(data=df, x=\"paint\", y=\"price\");"
   ]
  },
  {
   "cell_type": "markdown",
   "id": "6386b7cb",
   "metadata": {},
   "source": [
    "# warranty"
   ]
  },
  {
   "cell_type": "code",
   "execution_count": null,
   "id": "667fa467",
   "metadata": {},
   "outputs": [],
   "source": [
    "sns.barplot(data=df, x=\"warranty\", y=\"price\");"
   ]
  },
  {
   "cell_type": "markdown",
   "id": "bf8ccc2a",
   "metadata": {},
   "source": [
    "# type"
   ]
  },
  {
   "cell_type": "code",
   "execution_count": null,
   "id": "4f93dcf8",
   "metadata": {},
   "outputs": [],
   "source": [
    "sns.barplot(data=df, x=\"type\", y=\"price\");"
   ]
  },
  {
   "cell_type": "code",
   "execution_count": null,
   "id": "9cf39068",
   "metadata": {},
   "outputs": [],
   "source": [
    "sns.barplot(data=df, x=\"body_type\", y=\"price\");"
   ]
  },
  {
   "cell_type": "markdown",
   "id": "e3c2b7a0",
   "metadata": {},
   "source": [
    "# location"
   ]
  },
  {
   "cell_type": "code",
   "execution_count": null,
   "id": "43b197df",
   "metadata": {},
   "outputs": [],
   "source": [
    "sns.barplot(data=df, x=\"location\", y=\"price\");\n"
   ]
  },
  {
   "cell_type": "code",
   "execution_count": null,
   "id": "093ae555",
   "metadata": {},
   "outputs": [],
   "source": [
    "sns.countplot(data=df, x=\"make\",hue=\"location\");"
   ]
  },
  {
   "cell_type": "code",
   "execution_count": null,
   "id": "d4edfd58",
   "metadata": {},
   "outputs": [],
   "source": [
    "sns.scatterplot(data=df, x=\"power\", y=\"price\", hue=\"location\");"
   ]
  },
  {
   "cell_type": "markdown",
   "id": "db3474d6",
   "metadata": {},
   "source": [
    "# doors"
   ]
  },
  {
   "cell_type": "code",
   "execution_count": null,
   "id": "91d77496",
   "metadata": {},
   "outputs": [],
   "source": [
    "sns.barplot(data=df, x=\"doors\", y=\"price\");"
   ]
  },
  {
   "cell_type": "code",
   "execution_count": null,
   "id": "c4dc7c6b",
   "metadata": {},
   "outputs": [],
   "source": [
    "sns.scatterplot(data=df, x=\"power\", y=\"price\", hue=\"doors\");"
   ]
  },
  {
   "cell_type": "markdown",
   "id": "8225d699",
   "metadata": {},
   "source": [
    "# seats"
   ]
  },
  {
   "cell_type": "code",
   "execution_count": null,
   "id": "f1cce872",
   "metadata": {},
   "outputs": [],
   "source": [
    "sns.barplot(data=df, x=\"seats\", y=\"price\");"
   ]
  },
  {
   "cell_type": "markdown",
   "id": "2a2f2c00",
   "metadata": {},
   "source": [
    "# dody_type"
   ]
  },
  {
   "cell_type": "code",
   "execution_count": null,
   "id": "bfde9f06",
   "metadata": {},
   "outputs": [],
   "source": [
    "sns.barplot(data=df, x=\"body_type\", y=\"price\");"
   ]
  },
  {
   "cell_type": "code",
   "execution_count": null,
   "id": "9c9b27ef",
   "metadata": {},
   "outputs": [],
   "source": [
    "sns.barplot(data=df, x=\"body_type\", y=\"price\", hue=\"doors\");"
   ]
  },
  {
   "cell_type": "code",
   "execution_count": null,
   "id": "0d286bad",
   "metadata": {},
   "outputs": [],
   "source": [
    "sns.scatterplot(data=df, x=\"power\", y=\"price\", hue=\"body_type\");"
   ]
  },
  {
   "cell_type": "markdown",
   "id": "91a99b44",
   "metadata": {},
   "source": [
    "# fuel_consumption_comb"
   ]
  },
  {
   "cell_type": "code",
   "execution_count": null,
   "id": "faee4247",
   "metadata": {},
   "outputs": [],
   "source": [
    "sns.scatterplot(data=df, x=\"fuel_consumption_comb\", y=\"price\");"
   ]
  },
  {
   "cell_type": "markdown",
   "id": "c780e743",
   "metadata": {},
   "source": [
    "# co_emissions"
   ]
  },
  {
   "cell_type": "code",
   "execution_count": null,
   "id": "87b985e6",
   "metadata": {},
   "outputs": [],
   "source": [
    "sns.scatterplot(data=df, x=\"co_emissions\", y=\"price\", hue=\"emission_class\");"
   ]
  },
  {
   "cell_type": "code",
   "execution_count": null,
   "id": "ab43945c",
   "metadata": {},
   "outputs": [],
   "source": [
    "sns.regplot(data=df, x=\"co_emissions\", y=\"price\",line_kws={\"color\":\"Red\"});"
   ]
  },
  {
   "cell_type": "code",
   "execution_count": null,
   "id": "d6bfc772",
   "metadata": {},
   "outputs": [],
   "source": [
    "#make_model_counts = df['make_model'].value_counts()\n",
    "\n",
    "# Sadece 10'dan fazla tekrar eden 'make_model' değerlerini filtreleyin\n",
    "#make_model_to_keep = make_model_counts[make_model_counts > 15].index\n",
    "\n",
    "# Orijinal DataFrame'de sadece bu 'make_model' değerlerini içeren satırları seçin\n",
    "#filtered_df = df[df['make_model'].isin(make_model_to_keep)]"
   ]
  },
  {
   "cell_type": "code",
   "execution_count": null,
   "id": "03cad016",
   "metadata": {},
   "outputs": [],
   "source": [
    "# 1. Analizimizin sonucunda elenecek sutunlari belirledik\n",
    "atilacaklar_listesi = [ \"upholstery\",\"safety_security_category\",\"extras_category\", \"paint\", \"warranty\", \"type\" , \"drivetrain\", \"location\", \"doors\", \"seats\", \"fuel_consumption_comb\", \"co_emissions\"]\n",
    "for i in atilacaklar_listesi:\n",
    "    filtered_df.drop(i,axis=1, inplace=True)"
   ]
  },
  {
   "cell_type": "code",
   "execution_count": null,
   "id": "848d7180",
   "metadata": {},
   "outputs": [],
   "source": [
    "df.shape"
   ]
  },
  {
   "cell_type": "code",
   "execution_count": null,
   "id": "b0acb69b",
   "metadata": {},
   "outputs": [],
   "source": [
    "df.T"
   ]
  },
  {
   "cell_type": "code",
   "execution_count": null,
   "id": "b23a0068",
   "metadata": {},
   "outputs": [],
   "source": [
    "df.duplicated().sum()"
   ]
  },
  {
   "cell_type": "code",
   "execution_count": null,
   "id": "2a29a67c",
   "metadata": {},
   "outputs": [],
   "source": [
    "df.drop_duplicates(inplace=True)"
   ]
  },
  {
   "cell_type": "code",
   "execution_count": null,
   "id": "cb9babc5",
   "metadata": {},
   "outputs": [],
   "source": [
    "df.dropna(inplace=True)"
   ]
  },
  {
   "cell_type": "code",
   "execution_count": null,
   "id": "8d257db4",
   "metadata": {},
   "outputs": [],
   "source": [
    "df.to_csv(\"final_2.csv\",index=False)"
   ]
  },
  {
   "cell_type": "code",
   "execution_count": null,
   "id": "32c30928",
   "metadata": {},
   "outputs": [],
   "source": []
  },
  {
   "cell_type": "code",
   "execution_count": null,
   "id": "677182b3",
   "metadata": {},
   "outputs": [],
   "source": [
    "#sns.regplot(data=df, x=\"mileage\", y=\"price\",line_kws={\"color\":\"Red\"});\n",
    "#sns.scatterplot(data=df, x=\"power\", y=\"price\", hue=\"age\");\n",
    "#sns.barplot(data=df, x=\"engine_size_cat\", y=\"price\");\n",
    "#line_kws={\"color\":\"Red\"}\n",
    "df.columns"
   ]
  },
  {
   "cell_type": "code",
   "execution_count": null,
   "id": "6b38d405",
   "metadata": {},
   "outputs": [],
   "source": [
    "# analizlerimiz sonucu age, power, engine_size, mileage, seller, emission_class,entertainment_media_count,comfort_convenience_cat,\n",
    "#previous_owner, *body_type*\n",
    "\n",
    "\n",
    "# drop non smoker vehicle, full_service_history, upholstery,safety_security_category,extras_category, paint, warranty,\n",
    "# type, drivetrain, location, doors, seats, fuel_consumption_comb,fuel_consumption_bin, co_emissions\n"
   ]
  }
 ],
 "metadata": {
  "kernelspec": {
   "display_name": "Python 3 (ipykernel)",
   "language": "python",
   "name": "python3"
  },
  "language_info": {
   "codemirror_mode": {
    "name": "ipython",
    "version": 3
   },
   "file_extension": ".py",
   "mimetype": "text/x-python",
   "name": "python",
   "nbconvert_exporter": "python",
   "pygments_lexer": "ipython3",
   "version": "3.11.5"
  },
  "toc": {
   "base_numbering": 1,
   "nav_menu": {},
   "number_sections": true,
   "sideBar": true,
   "skip_h1_title": false,
   "title_cell": "Table of Contents",
   "title_sidebar": "Contents",
   "toc_cell": false,
   "toc_position": {},
   "toc_section_display": true,
   "toc_window_display": false
  },
  "varInspector": {
   "cols": {
    "lenName": 16,
    "lenType": 16,
    "lenVar": 40
   },
   "kernels_config": {
    "python": {
     "delete_cmd_postfix": "",
     "delete_cmd_prefix": "del ",
     "library": "var_list.py",
     "varRefreshCmd": "print(var_dic_list())"
    },
    "r": {
     "delete_cmd_postfix": ") ",
     "delete_cmd_prefix": "rm(",
     "library": "var_list.r",
     "varRefreshCmd": "cat(var_dic_list()) "
    }
   },
   "types_to_exclude": [
    "module",
    "function",
    "builtin_function_or_method",
    "instance",
    "_Feature"
   ],
   "window_display": false
  }
 },
 "nbformat": 4,
 "nbformat_minor": 5
}
