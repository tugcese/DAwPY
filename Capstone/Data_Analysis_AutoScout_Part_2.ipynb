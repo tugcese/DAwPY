{
 "cells": [
  {
   "cell_type": "markdown",
   "metadata": {},
   "source": [
    "<p style=\"text-align: center;\"><img src=\"https://i.ibb.co/Rpz9L36/clarusway-logo-black.png\" width=\"450\" height=\"200\" class=\"img-fluid\" alt=\"CLRSWY_LOGO\"></p>\n",
    "\n",
    "<p style=\"background-color:#E51A59; font-family:newtimeroman; color:#FDFEFE; font-size:130%; text-align:center; border-radius:10px 10px;\">WAY TO REINVENT YOURSELF</p>\n",
    "\n",
    "<p style=\"background-color:#FDFEFE; font-family:newtimeroman; color:#060108; font-size:300%; text-align:center; border-radius:10px 10px;\">Data Analytics Module Completion Project</p>\n",
    "\n",
    "<p style=\"text-align: center;\"><img src=\"https://www.autoscout24.it/cms-content-assets/iyeNvpf7mHAQ68gkQvuAT-f4e18944a886f5e856e8925ee451cd1c-Osservatorio_di_AutoScout24-1100.jpeg\" width=\"600\" height=\"200\" class=\"img-fluid\" alt=\"AutoScout\"></p>\n",
    "\n",
    "<p style=\"background-color:#FDFEFE; font-family:newtimeroman; color:#060108; font-size:200%; text-align:center; border-radius:10px 10px;\"><mark><u>AutoScout Car Price Prediction Exploratory Data Analysis (EDA) Project</u></mark></p>\n",
    "\n",
    "<p style=\"background-color:#E51A59; font-family:newtimeroman; color:#FDFEFE; font-size:175%; text-align:left; border-radius:0px 0px;\">Introduction</p>\n",
    "\n",
    "<p dir=\"ltr\">Welcome to <b>\"AutoScout Exploratory Data Analysis (EDA) Project\"</b>. This is the project of completing <b>Data Analysis &amp; Data Visualization</b> Courses and a successful hand-over is mandatory for getting certification for both courses. <b>AutoScout</b> data used in this project scraped from the Website of an online car trading company in 2022, and contains many features of 13 different car makes including 594 models. In this project, you will have the opportunity to apply many commonly used algorithms for Data Cleaning and Exploratory Data Analysis by using a variety of Python libraries, such as <a href=\"https://lms.clarusway.com/course/view.php?id=37&amp;section=1\" target=\"_blank\">Numpy</a>, <a href=\"https://lms.clarusway.com/course/view.php?id=37&amp;section=2\" target=\"_blank\">Pandas</a>, <a href=\"https://lms.clarusway.com/course/view.php?id=38&amp;section=1\" target=\"_blank\">Matplotlib</a>, <a href=\"https://lms.clarusway.com/course/view.php?id=38&amp;section=2\" target=\"_blank\">Seaborn</a>, <a href=\"https://scipy.org/\" target=\"_blank\">Scipy</a>, and then you will get a clean dataset for your analysis and predictive modelling in Machine Learning Path. So you will have the chance to use all the skills you have already learned in the Data Analysis and Visualization courses.</p>\n",
    "\n",
    "<p dir=\"ltr\"><b>In this context, the project consists of <mark><u>3 parts</u></mark> in general:</b></p>\n",
    "\n",
    "<ol>\n",
    "    <li><b>The first part</b> is related to 'Data Cleaning'. It deals with Incorrect Headers, Incorrect Format, Anomalies, and Dropping useless columns.</li>\n",
    "    <li><b>The second part</b> is related to 'Filling Data', in other words 'Imputation'. It deals with Missing Values. Categorical to numeric transformation, Encoding, is done as well.</li>\n",
    "    <li><b>The third part</b> is related to 'Handling Outliers of Data' via Visualization libraries. So, some insights will be extracted.</li>\n",
    "</ol>\n",
    "\n",
    "<p dir=\"ltr\"><mark><b><u>SPECIAL NOTE:</u></b></mark>&nbsp; However, you are <b>free to create your own style</b>. You do <b>NOT</b> have to stick to the steps above. Nevertheless, we, the DA &amp; DV instructors, recommend you study each part separately to create a source notebook for your further studies.&nbsp;</p>\n",
    "\n",
    "<p>In order to build your Portfolio in terms of the&nbsp;<b>GitHub</b>&nbsp;account, you need to push your solution file up to your own&nbsp;<b>repository.</b><br></p>\n",
    "\n",
    "<p><mark><b><b>Please after solving the task/project, commit your solution notebook to your personal GitHub Repository and SUBMIT its GITHUB LINK to the related LMS page.</b><br></b></mark></p>\n",
    "\n",
    "<p><b><mark><b><u>BE NOTED:</u></b></mark></b> Please <mark><b><u>DO NOT FORGET</u></b></mark> to click the <mark><b><u>SUBMIT button on LMS submission page.</u></b></mark></p>\n",
    "\n",
    "<p style=\"background-color:#E51A59; font-family:newtimeroman; color:#FDFEFE; font-size:175%; text-align:left; border-radius:0px 0px;\">👉 Some Reminders on Exploratory Data Analysis (EDA) 👈</p>\n",
    "\n",
    "<p dir=\"ltr\">Exploratory data analysis (EDA) is an especially important activity in the routine of a data analyst or scientist. It enables an in depth understanding of the dataset, define or discard hypotheses and create predictive models on a solid basis. It uses data manipulation techniques and several statistical tools to describe and understand the relationship between variables and how these can impact business. By means of EDA, we can obtain meaningful insights that can impact analysis under the following questions (If a checklist is good enough for pilots to use every flight, it’s good enough for data scientists to use with every dataset).</p>\n",
    "\n",
    "<ol type=\"I\">\n",
    "    <li>What question are you trying to solve (or prove wrong)?</li>\n",
    "    <li>What kind of data do you have?</li>\n",
    "    <li>What’s missing from the data?</li>\n",
    "    <li>Where are the outliers?</li>\n",
    "    <li>How can you add, change or remove features (Feature Engineering) to get more out of your data?</li>\n",
    "</ol>\n",
    "\n",
    "<p dir=\"ltr\"><b>Exploratory data analysis (EDA)</b> is often an <b>iterative brainstorming process</b> where you pose a question, review the data, and develop further questions to investigate before beginning model development work. The image below shows how the brainstorming phase is connected with that of understanding the variables and how this in turn is connected again with the brainstorming phase.</p>\n",
    "\n",
    "<p style=\"text-align: center;\"><img src=\"https://i.ibb.co/k0MC950/EDA-Process.png\"  width=\"300\" height=\"200\" class=\"img-fluid\" alt=\"EDA_Workflow\"></p>\n",
    "\n",
    "<a href=\"https://towardsdatascience.com/exploratory-data-analysis-in-python-a-step-by-step-process-d0dfa6bf94ee\" target=\"_blank\"><u>Image Credit: Andrew D.</u></a>.<br><br>"
   ]
  },
  {
   "cell_type": "markdown",
   "metadata": {
    "id": "uGeKSdYds1MD"
   },
   "source": [
    "# <p style=\"background-color:#FF6961; font-family:newtimeroman;color:#FFF9ED; font-size:150%; text-align:center; border-radius: 15px 50px;\"> ✨ PART - 2 ( Handling With Missing Values ) ✨</p>\n"
   ]
  },
  {
   "cell_type": "markdown",
   "metadata": {},
   "source": [
    "<h3 style=\"text-align:center;font-size:200%;\">Progress Bars</h3>\n",
    "<div class=\"progress\">\n",
    "  <div class=\"progress-bar bg-danger\" role=\"progressbar\" style=\"width: 33%;\" aria-valuenow=\"33\" aria-valuemin=\"33\" aria-valuemax=\"100\">33%</div>\n",
    "</div>"
   ]
  },
  {
   "cell_type": "code",
   "execution_count": 1,
   "metadata": {},
   "outputs": [],
   "source": [
    "from skimpy import clean_columns\n",
    "import pandas as pd\n",
    "import numpy as np\n",
    "import re\n",
    "import matplotlib.pyplot as plt\n",
    "import seaborn as sns\n",
    "import warnings\n",
    "warnings.filterwarnings('ignore')"
   ]
  },
  {
   "cell_type": "code",
   "execution_count": 2,
   "metadata": {},
   "outputs": [],
   "source": [
    "df0 = pd.read_csv('AutoScout_Part_1.csv')"
   ]
  },
  {
   "cell_type": "code",
   "execution_count": 3,
   "metadata": {},
   "outputs": [],
   "source": [
    "df=df0"
   ]
  },
  {
   "cell_type": "code",
   "execution_count": 4,
   "metadata": {},
   "outputs": [],
   "source": [
    "def missing_counts(column):\n",
    "    # Count the number of missing values in the column\n",
    "    missing_count = df[column].isnull().sum()\n",
    "    \n",
    "    # Calculate the percentage of missing values\n",
    "    missing_percentage = (missing_count / len(df)) * 100\n",
    "    \n",
    "    # Print the results\n",
    "    print(\"Missing Values in {}\".format(column), \"is {}\".format(missing_count) )\n",
    "    print(\"Percentage: {:.2f}%\".format(missing_percentage))"
   ]
  },
  {
   "cell_type": "code",
   "execution_count": 5,
   "metadata": {},
   "outputs": [],
   "source": [
    "def missing_values(df):\n",
    "    missing_number = df.isnull().sum().sort_values(ascending=False)\n",
    "    missing_percent = (df.isnull().sum()/df.isnull().count()*100).sort_values(ascending=False)\n",
    "    missing_values = pd.concat([missing_number, missing_percent], axis=1, keys=['Missing_Number', 'Missing_Percent'])\n",
    "    return missing_values[missing_values['Missing_Number']>0]"
   ]
  },
  {
   "cell_type": "code",
   "execution_count": 6,
   "metadata": {},
   "outputs": [],
   "source": [
    "def filling_columns(target, column1, column2):\n",
    "    # Iterate through unique values of column1 and column2\n",
    "    first_null = df[target].isnull().sum()\n",
    "    print(\"Before filling nan values count : \",first_null)\n",
    "    for group1 in df[column1].unique():\n",
    "        for group2 in df[column2].unique():\n",
    "            cond = (df[column1] == group1) & (df[column2] == group2)\n",
    "            mode = df[cond][target].mode()\n",
    "            if not mode.empty:\n",
    "                df.loc[cond, target] = df.loc[cond, target].fillna(df[cond][target].mode()[0])\n",
    "            else:\n",
    "                df.loc[cond, target] = df.loc[cond, target].fillna(df[target].mode()[0])    \n",
    "    # Check if there are still any null values in the target column\n",
    "    second_null = df[target].isnull().sum()\n",
    "    print(f\"After first filling {first_null-second_null} values filled\")\n",
    "    print(f\"Now new nan values count is {second_null}\")\n",
    "    if df[target].isnull().sum() != 0:\n",
    "        for group1 in list(df[column1].unique()):\n",
    "            cond = (df[column1] == group1)\n",
    "            mode = list(df[cond][target].mode())\n",
    "            if mode != []:\n",
    "                df.loc[cond, target] = df.loc[cond, target].fillna(df[cond][target].mode()[0])\n",
    "            else:\n",
    "                df.loc[cond, target] = df.loc[cond,target].fillna(df[target].mode()[0])  \n",
    "     # Print the number of null values remaining in the target column\n",
    "    third_null = df[target].isnull().sum()\n",
    "    print(f\"After first filling {second_null-third_null} values filled\")\n",
    "    print(f\"Last null values is {df[target].isnull().sum()}\")"
   ]
  },
  {
   "cell_type": "code",
   "execution_count": 7,
   "metadata": {},
   "outputs": [],
   "source": [
    "def describe(column):\n",
    "    print(\"Column Name    : \", column)\n",
    "    print(\"-\"*40)\n",
    "    print(\"Per_of_nulls   : \", \"%\", round(df[column].isnull().sum()/df.shape[0]*100, 2))\n",
    "    print(\"Num_of_nulls   : \", df[column].isnull().sum())\n",
    "    print(\"Num_of_uniques : \", df[column].nunique())\n",
    "    print(\"-\"*40)\n",
    "    print(df[column].value_counts(dropna = False))"
   ]
  },
  {
   "cell_type": "code",
   "execution_count": 8,
   "metadata": {},
   "outputs": [],
   "source": [
    "def analyze(column):\n",
    "\n",
    "    # Graphs\n",
    "    if pd.api.types.is_numeric_dtype(df[column]):\n",
    "        # boxplot for numeric columns\n",
    "        plt.figure(figsize=(14, 6))\n",
    "\n",
    "        plt.subplot(1, 2, 1)\n",
    "        sns.boxplot(x=df[column])\n",
    "        plt.title(f'Boxplot for {column}')\n",
    "\n",
    "        #scatterplot (with price) for numeric columns\n",
    "        plt.subplot(1, 2, 2)\n",
    "        sns.scatterplot(x=df[column], y=df['price'])\n",
    "        plt.title(f'Scatterplot for {column} and price')\n",
    "\n",
    "        plt.show()\n",
    "    else:\n",
    "        #boxplot (with price) for categoric columns\n",
    "        plt.figure(figsize=(10, 6))\n",
    "        sns.boxplot(x=df[column], y=df['price'])\n",
    "        plt.title(f'Boxplot for {column} and price')\n",
    "        plt.xticks(rotation=45)\n",
    "        plt.show()"
   ]
  },
  {
   "cell_type": "code",
   "execution_count": 9,
   "metadata": {},
   "outputs": [
    {
     "data": {
      "text/plain": [
       "(24739, 47)"
      ]
     },
     "execution_count": 9,
     "metadata": {},
     "output_type": "execute_result"
    }
   ],
   "source": [
    "df.shape"
   ]
  },
  {
   "cell_type": "code",
   "execution_count": 10,
   "metadata": {},
   "outputs": [
    {
     "name": "stdout",
     "output_type": "stream",
     "text": [
      "<class 'pandas.core.frame.DataFrame'>\n",
      "RangeIndex: 24739 entries, 0 to 24738\n",
      "Data columns (total 47 columns):\n",
      " #   Column                     Non-Null Count  Dtype  \n",
      "---  ------                     --------------  -----  \n",
      " 0   make_model                 24739 non-null  object \n",
      " 1   short_description          24535 non-null  object \n",
      " 2   make                       24739 non-null  object \n",
      " 3   location                   24739 non-null  object \n",
      " 4   price                      24739 non-null  int64  \n",
      " 5   body_type                  24739 non-null  object \n",
      " 6   type                       24739 non-null  object \n",
      " 7   doors                      24400 non-null  float64\n",
      " 8   country_version            13859 non-null  object \n",
      " 9   warranty                   12813 non-null  object \n",
      " 10  mileage                    24738 non-null  float64\n",
      " 11  gearbox                    24505 non-null  object \n",
      " 12  fuel_type                  23149 non-null  object \n",
      " 13  colour                     23291 non-null  object \n",
      " 14  paint                      13349 non-null  object \n",
      " 15  desc                       24098 non-null  object \n",
      " 16  seller                     24739 non-null  object \n",
      " 17  seats                      22174 non-null  float64\n",
      " 18  power                      24181 non-null  float64\n",
      " 19  engine_size                23456 non-null  float64\n",
      " 20  gears                      16234 non-null  float64\n",
      " 21  co_emissions               17108 non-null  float64\n",
      " 22  manufacturer_colour        18418 non-null  object \n",
      " 23  drivetrain                 14207 non-null  object \n",
      " 24  cylinders                  16245 non-null  float64\n",
      " 25  comfort_convenience        22268 non-null  object \n",
      " 26  entertainment_media        20914 non-null  object \n",
      " 27  safety_security            22264 non-null  object \n",
      " 28  extras                     20639 non-null  object \n",
      " 29  full_service_history       24739 non-null  object \n",
      " 30  non_smoker_vehicle         24739 non-null  object \n",
      " 31  emission_class             16501 non-null  object \n",
      " 32  emissions_sticker          8881 non-null   object \n",
      " 33  upholstery_colour          13557 non-null  object \n",
      " 34  upholstery                 17118 non-null  object \n",
      " 35  production_date            5475 non-null   float64\n",
      " 36  previous_owner             13004 non-null  float64\n",
      " 37  energy_efficiency_class    7268 non-null   object \n",
      " 38  age                        24737 non-null  float64\n",
      " 39  fuel_consumption_comb      19207 non-null  float64\n",
      " 40  fuel_consumption_city      16596 non-null  float64\n",
      " 41  fuel_consumption_country   16612 non-null  float64\n",
      " 42  comfort_convenience_count  24739 non-null  int64  \n",
      " 43  entertainment_media_count  24739 non-null  int64  \n",
      " 44  safety_security_count      24739 non-null  int64  \n",
      " 45  extras_count               24739 non-null  int64  \n",
      " 46  short_desc_translated      24534 non-null  object \n",
      "dtypes: float64(14), int64(5), object(28)\n",
      "memory usage: 8.9+ MB\n"
     ]
    }
   ],
   "source": [
    "df.info()"
   ]
  },
  {
   "cell_type": "code",
   "execution_count": 11,
   "metadata": {},
   "outputs": [
    {
     "data": {
      "image/png": "[encoded data removed]",
      "text/plain": [
       "<Figure size 640x480 with 1 Axes>"
      ]
     },
     "metadata": {},
     "output_type": "display_data"
    }
   ],
   "source": [
    "sns.heatmap(df.isnull(), yticklabels=False, cbar=False, cmap='viridis');"
   ]
  },
  {
   "cell_type": "markdown",
   "metadata": {},
   "source": [
    "<a id=\"8\"></a>\n",
    "<div class=\"alert alert-info\" role=\"alert\">\n",
    "<h1>Column name :<span style=\"color:red\"> mileage </span></h1>\n",
    "</div>"
   ]
  },
  {
   "cell_type": "code",
   "execution_count": 12,
   "metadata": {},
   "outputs": [
    {
     "name": "stdout",
     "output_type": "stream",
     "text": [
      "Missing Values in mileage is 1\n",
      "Percentage: 0.00%\n"
     ]
    }
   ],
   "source": [
    "missing_counts(\"mileage\")"
   ]
  },
  {
   "cell_type": "code",
   "execution_count": 13,
   "metadata": {},
   "outputs": [],
   "source": [
    "# drop mialage nan values\n",
    "df.dropna(subset=[\"mileage\"], inplace=True)"
   ]
  },
  {
   "cell_type": "code",
   "execution_count": 14,
   "metadata": {},
   "outputs": [
    {
     "name": "stdout",
     "output_type": "stream",
     "text": [
      "Missing Values in mileage is 0\n",
      "Percentage: 0.00%\n"
     ]
    }
   ],
   "source": [
    "missing_counts(\"mileage\")"
   ]
  },
  {
   "cell_type": "markdown",
   "metadata": {},
   "source": [
    "<a id=\"8\"></a>\n",
    "<div class=\"alert alert-info\" role=\"alert\">\n",
    "<h1>Column name :<span style=\"color:red\"> age & production_date </span></h1>\n",
    "</div>"
   ]
  },
  {
   "cell_type": "code",
   "execution_count": 15,
   "metadata": {},
   "outputs": [],
   "source": [
    "df[\"production_date\"]= 2022 - df[\"production_date\"]"
   ]
  },
  {
   "cell_type": "code",
   "execution_count": 16,
   "metadata": {},
   "outputs": [
    {
     "name": "stdout",
     "output_type": "stream",
     "text": [
      "Missing Values in age is 2\n",
      "Percentage: 0.01%\n"
     ]
    }
   ],
   "source": [
    "missing_counts(\"age\")"
   ]
  },
  {
   "cell_type": "code",
   "execution_count": 17,
   "metadata": {},
   "outputs": [
    {
     "data": {
      "text/plain": [
       "make_model                                                       Hyundai IONIQ\n",
       "short_description               Style PluIHybrid 1.6  PHEV (MJ21) Navigation/R\n",
       "make                                                                   Hyundai\n",
       "location                                                                    DE\n",
       "price                                                                    26991\n",
       "body_type                                                                Sedan\n",
       "type                                                                      Used\n",
       "doors                                                                      5.0\n",
       "country_version                                                        Germany\n",
       "warranty                                                                   NaN\n",
       "mileage                                                                29961.0\n",
       "gearbox                                                              Automatic\n",
       "fuel_type                                                               Benzin\n",
       "colour                                                                    Grey\n",
       "paint                                                                 Metallic\n",
       "desc                         Getriebe: Automatiktechnik: Bordcomputer, Star...\n",
       "seller                                                                  Dealer\n",
       "seats                                                                      5.0\n",
       "power                                                                    103.0\n",
       "engine_size                                                             1580.0\n",
       "gears                                                                      6.0\n",
       "co_emissions                                                              26.0\n",
       "manufacturer_colour                                           Cyber grey / met\n",
       "drivetrain                                                               Front\n",
       "cylinders                                                                  4.0\n",
       "comfort_convenience          Air Conditioning, Armrest, Automatic Climate C...\n",
       "entertainment_media          Android Auto, Apple Carplay, Bluetooth, Digita...\n",
       "safety_security              Abs, Adaptive Cruise Control, Alarm System, Bi...\n",
       "extras                               Alloy wheels, Shift paddles, Touch screen\n",
       "full_service_history                                                       Yes\n",
       "non_smoker_vehicle                                                         Yes\n",
       "emission_class                                                          Euro 6\n",
       "emissions_sticker                                                          NaN\n",
       "upholstery_colour                                                          NaN\n",
       "upholstery                                                               Cloth\n",
       "production_date                                                            2.0\n",
       "previous_owner                                                             1.0\n",
       "energy_efficiency_class                                                     A+\n",
       "age                                                                      122.0\n",
       "fuel_consumption_comb                                                      1.1\n",
       "fuel_consumption_city                                                      NaN\n",
       "fuel_consumption_country                                                   NaN\n",
       "comfort_convenience_count                                                   19\n",
       "entertainment_media_count                                                    9\n",
       "safety_security_count                                                       24\n",
       "extras_count                                                                 3\n",
       "short_desc_translated           Style PluIHybrid 1.6  PHEV (MJ21) Navigation/R\n",
       "Name: 22726, dtype: object"
      ]
     },
     "execution_count": 17,
     "metadata": {},
     "output_type": "execute_result"
    }
   ],
   "source": [
    "df.loc[22726]"
   ]
  },
  {
   "cell_type": "code",
   "execution_count": 18,
   "metadata": {},
   "outputs": [],
   "source": [
    "df.loc[22726, 'age'] = 2.0\n",
    "\n",
    "df.loc[15593, 'age'] = 1.0"
   ]
  },
  {
   "cell_type": "code",
   "execution_count": 19,
   "metadata": {},
   "outputs": [],
   "source": [
    "df.loc[664, 'age'] = 1.0"
   ]
  },
  {
   "cell_type": "code",
   "execution_count": 20,
   "metadata": {},
   "outputs": [
    {
     "name": "stdout",
     "output_type": "stream",
     "text": [
      "Missing Values in age is 0\n",
      "Percentage: 0.00%\n"
     ]
    }
   ],
   "source": [
    "missing_counts(\"age\")"
   ]
  },
  {
   "cell_type": "code",
   "execution_count": 21,
   "metadata": {},
   "outputs": [
    {
     "data": {
      "text/html": [
       "<div>\n",
       "<style scoped>\n",
       "    .dataframe tbody tr th:only-of-type {\n",
       "        vertical-align: middle;\n",
       "    }\n",
       "\n",
       "    .dataframe tbody tr th {\n",
       "        vertical-align: top;\n",
       "    }\n",
       "\n",
       "    .dataframe thead th {\n",
       "        text-align: right;\n",
       "    }\n",
       "</style>\n",
       "<table border=\"1\" class=\"dataframe\">\n",
       "  <thead>\n",
       "    <tr style=\"text-align: right;\">\n",
       "      <th></th>\n",
       "      <th>age</th>\n",
       "      <th>production_date</th>\n",
       "    </tr>\n",
       "  </thead>\n",
       "  <tbody>\n",
       "    <tr>\n",
       "      <th>6754</th>\n",
       "      <td>-180.0</td>\n",
       "      <td>NaN</td>\n",
       "    </tr>\n",
       "    <tr>\n",
       "      <th>9377</th>\n",
       "      <td>-3.0</td>\n",
       "      <td>NaN</td>\n",
       "    </tr>\n",
       "    <tr>\n",
       "      <th>17581</th>\n",
       "      <td>-1.0</td>\n",
       "      <td>NaN</td>\n",
       "    </tr>\n",
       "  </tbody>\n",
       "</table>\n",
       "</div>"
      ],
      "text/plain": [
       "         age  production_date\n",
       "6754  -180.0              NaN\n",
       "9377    -3.0              NaN\n",
       "17581   -1.0              NaN"
      ]
     },
     "execution_count": 21,
     "metadata": {},
     "output_type": "execute_result"
    }
   ],
   "source": [
    "df[df['age'] < 0][['age', 'production_date']]"
   ]
  },
  {
   "cell_type": "code",
   "execution_count": 22,
   "metadata": {},
   "outputs": [],
   "source": [
    "df.loc[6754, 'age'] = 3.0\n",
    "df.loc[9377, 'age'] = 3.0\n",
    "df.loc[17581, 'age'] = 7.0"
   ]
  },
  {
   "cell_type": "markdown",
   "metadata": {},
   "source": [
    "<a id=\"8\"></a>\n",
    "<div class=\"alert alert-info\" role=\"alert\">\n",
    "<h1>Column name :<span style=\"color:red\"> gearbox </span></h1>\n",
    "</div>"
   ]
  },
  {
   "cell_type": "code",
   "execution_count": 23,
   "metadata": {},
   "outputs": [
    {
     "name": "stdout",
     "output_type": "stream",
     "text": [
      "Missing Values in gearbox is 234\n",
      "Percentage: 0.95%\n"
     ]
    }
   ],
   "source": [
    "missing_counts(\"gearbox\")"
   ]
  },
  {
   "cell_type": "code",
   "execution_count": 24,
   "metadata": {},
   "outputs": [
    {
     "data": {
      "text/html": [
       "<div>\n",
       "<style scoped>\n",
       "    .dataframe tbody tr th:only-of-type {\n",
       "        vertical-align: middle;\n",
       "    }\n",
       "\n",
       "    .dataframe tbody tr th {\n",
       "        vertical-align: top;\n",
       "    }\n",
       "\n",
       "    .dataframe thead th {\n",
       "        text-align: right;\n",
       "    }\n",
       "</style>\n",
       "<table border=\"1\" class=\"dataframe\">\n",
       "  <thead>\n",
       "    <tr style=\"text-align: right;\">\n",
       "      <th></th>\n",
       "      <th>short_description</th>\n",
       "      <th>short_desc_translated</th>\n",
       "      <th>desc</th>\n",
       "    </tr>\n",
       "  </thead>\n",
       "  <tbody>\n",
       "    <tr>\n",
       "      <th>142</th>\n",
       "      <td>d AMG PANORAMADAK/WIDESCREEN/SFEER/MEMORY/BOMVOL</td>\n",
       "      <td>d AMG PANORAMIC ROOF/WIDESCREEN/ATHERIENCE/MEM...</td>\n",
       "      <td>Auto'S Als Deze Mercedes-Benz A-Klasse Bieden ...</td>\n",
       "    </tr>\n",
       "    <tr>\n",
       "      <th>166</th>\n",
       "      <td>35 AMG 306ch 4Matic 7DCT Speedshift AMG</td>\n",
       "      <td>35 AMG 306ch 4Matic 7DCT Speedshift AMG</td>\n",
       "      <td>Instrumentation Digitale Avec Écran 10';Touche...</td>\n",
       "    </tr>\n",
       "    <tr>\n",
       "      <th>201</th>\n",
       "      <td>200 d Business 7DCT</td>\n",
       "      <td>200 d Business 7DCT</td>\n",
       "      <td>Marron rient;Sièges Av. Chauffants;Similaire: ...</td>\n",
       "    </tr>\n",
       "    <tr>\n",
       "      <th>213</th>\n",
       "      <td>220 d Fascination 7DCT</td>\n",
       "      <td>220 d Fascination 7DCT</td>\n",
       "      <td>Similaire: A3 Serie 1 Golf Classe A C4;Similai...</td>\n",
       "    </tr>\n",
       "    <tr>\n",
       "      <th>226</th>\n",
       "      <td>220 190ch Progressive Line 7DCT Siege chauf gran</td>\n",
       "      <td>220 190hp Progressive Line 7DCT Large heated seat</td>\n",
       "      <td>Argent Iridium Métallisé;Sièges Avant Chauffan...</td>\n",
       "    </tr>\n",
       "    <tr>\n",
       "      <th>...</th>\n",
       "      <td>...</td>\n",
       "      <td>...</td>\n",
       "      <td>...</td>\n",
       "    </tr>\n",
       "    <tr>\n",
       "      <th>23559</th>\n",
       "      <td>PV444 HS</td>\n",
       "      <td>PV444 HS</td>\n",
       "      <td>Volvo Pv 444 Hs Impeccabile Restauro Auto Pari...</td>\n",
       "    </tr>\n",
       "    <tr>\n",
       "      <th>24139</th>\n",
       "      <td>D4 Kombi Momentum Standheizung</td>\n",
       "      <td>D4 Combi Momentum Auxiliary Heater</td>\n",
       "      <td>Servolenkung Geschwindigkeitsabhängigstandheiz...</td>\n",
       "    </tr>\n",
       "    <tr>\n",
       "      <th>24148</th>\n",
       "      <td>D4 Inscription *Luft*STHZ*Massage*</td>\n",
       "      <td>D4 Inscription *Air*STHZ*Massage*</td>\n",
       "      <td>Ihre Ansprechpartner In Unserem Haus Sind:Herr...</td>\n",
       "    </tr>\n",
       "    <tr>\n",
       "      <th>24151</th>\n",
       "      <td>V90 CrossCountry D5 AWD *IntelliSafe*Kamera*</td>\n",
       "      <td>V90 CrossCountry D5 AWD *IntelliSafe*Kamera*</td>\n",
       "      <td>Ansprechpartner In Unserem Haus Ist Herr Passo...</td>\n",
       "    </tr>\n",
       "    <tr>\n",
       "      <th>24348</th>\n",
       "      <td>V90 2.0 d4 Business Plus geartronic</td>\n",
       "      <td>V90 2.0 d4 Business Plus geartronic</td>\n",
       "      <td>Visita Il Nostro Sito Www.Wrgarage.Ite Le Nost...</td>\n",
       "    </tr>\n",
       "  </tbody>\n",
       "</table>\n",
       "<p>234 rows × 3 columns</p>\n",
       "</div>"
      ],
      "text/plain": [
       "                                      short_description  \\\n",
       "142    d AMG PANORAMADAK/WIDESCREEN/SFEER/MEMORY/BOMVOL   \n",
       "166             35 AMG 306ch 4Matic 7DCT Speedshift AMG   \n",
       "201                                 200 d Business 7DCT   \n",
       "213                              220 d Fascination 7DCT   \n",
       "226    220 190ch Progressive Line 7DCT Siege chauf gran   \n",
       "...                                                 ...   \n",
       "23559                                          PV444 HS   \n",
       "24139                    D4 Kombi Momentum Standheizung   \n",
       "24148                D4 Inscription *Luft*STHZ*Massage*   \n",
       "24151      V90 CrossCountry D5 AWD *IntelliSafe*Kamera*   \n",
       "24348               V90 2.0 d4 Business Plus geartronic   \n",
       "\n",
       "                                   short_desc_translated  \\\n",
       "142    d AMG PANORAMIC ROOF/WIDESCREEN/ATHERIENCE/MEM...   \n",
       "166              35 AMG 306ch 4Matic 7DCT Speedshift AMG   \n",
       "201                                  200 d Business 7DCT   \n",
       "213                               220 d Fascination 7DCT   \n",
       "226    220 190hp Progressive Line 7DCT Large heated seat   \n",
       "...                                                  ...   \n",
       "23559                                           PV444 HS   \n",
       "24139                 D4 Combi Momentum Auxiliary Heater   \n",
       "24148                  D4 Inscription *Air*STHZ*Massage*   \n",
       "24151       V90 CrossCountry D5 AWD *IntelliSafe*Kamera*   \n",
       "24348                V90 2.0 d4 Business Plus geartronic   \n",
       "\n",
       "                                                    desc  \n",
       "142    Auto'S Als Deze Mercedes-Benz A-Klasse Bieden ...  \n",
       "166    Instrumentation Digitale Avec Écran 10';Touche...  \n",
       "201    Marron rient;Sièges Av. Chauffants;Similaire: ...  \n",
       "213    Similaire: A3 Serie 1 Golf Classe A C4;Similai...  \n",
       "226    Argent Iridium Métallisé;Sièges Avant Chauffan...  \n",
       "...                                                  ...  \n",
       "23559  Volvo Pv 444 Hs Impeccabile Restauro Auto Pari...  \n",
       "24139  Servolenkung Geschwindigkeitsabhängigstandheiz...  \n",
       "24148  Ihre Ansprechpartner In Unserem Haus Sind:Herr...  \n",
       "24151  Ansprechpartner In Unserem Haus Ist Herr Passo...  \n",
       "24348  Visita Il Nostro Sito Www.Wrgarage.Ite Le Nost...  \n",
       "\n",
       "[234 rows x 3 columns]"
      ]
     },
     "execution_count": 24,
     "metadata": {},
     "output_type": "execute_result"
    }
   ],
   "source": [
    "df.loc[df[\"gearbox\"].isnull(), [\"short_description\", \"short_desc_translated\", \"desc\"]]"
   ]
  },
  {
   "cell_type": "markdown",
   "metadata": {},
   "source": [
    "***From domain knowledge some semiautomatic parameters are: \"geartronic\", \"tiptronic\", \"sportmatic\", \"steptronic\", \"dct\", \"tct\", \"dsg\"\n",
    "however same cars in the dataset are mostly recorded automatic. In addition semi automatic cars are very rare in the dataset so we are going to make semi_automatic ones also automatic.***"
   ]
  },
  {
   "cell_type": "code",
   "execution_count": 25,
   "metadata": {},
   "outputs": [],
   "source": [
    "automatic_gearbox1 = df.loc[df[\"gearbox\"].isnull()][\"desc\"].str.contains('|'.join(['geartronic', 'tiptronic', \"sportmatic\", \"steptronic\", \"s-tronic\", \"dct \", \"tct \", \"dsg \"]), case=False)"
   ]
  },
  {
   "cell_type": "code",
   "execution_count": 26,
   "metadata": {},
   "outputs": [
    {
     "data": {
      "text/plain": [
       "Index([1365, 11704, 13412, 13445, 24148, 24151], dtype='int64')"
      ]
     },
     "execution_count": 26,
     "metadata": {},
     "output_type": "execute_result"
    }
   ],
   "source": [
    "automatic_gearbox1[automatic_gearbox1 == True].index"
   ]
  },
  {
   "cell_type": "code",
   "execution_count": 27,
   "metadata": {},
   "outputs": [],
   "source": [
    "auto_index = automatic_gearbox1[automatic_gearbox1 == True].index"
   ]
  },
  {
   "cell_type": "code",
   "execution_count": 29,
   "metadata": {},
   "outputs": [],
   "source": [
    "df.loc[auto_index, \"gearbox\"] = \"Automatic\""
   ]
  },
  {
   "cell_type": "code",
   "execution_count": 30,
   "metadata": {},
   "outputs": [],
   "source": [
    "automatic_gearbox2 = df.loc[df[\"gearbox\"].isnull()][\"short_description\"].str.contains('|'.join(['geartronic', 'tiptronic', \"sportmatic\", \"steptronic\", \"s-tronic\", \"dct\", \"tct\", \"dsg\"]), case=False)"
   ]
  },
  {
   "cell_type": "code",
   "execution_count": 31,
   "metadata": {},
   "outputs": [
    {
     "data": {
      "text/plain": [
       "Index([  166,   201,   213,   226,   230,   232,   235,   237,   238,   247,\n",
       "         249,   250,   257,   258,  9251, 10207, 10223, 10227, 10236, 10260,\n",
       "       10301, 10516, 10534, 10620, 10878, 12036, 12046, 12126, 12127, 12141,\n",
       "       12173, 12202, 12476, 18354, 18440, 18559, 18565, 18622, 18634, 18635,\n",
       "       18695, 18696, 22306, 22358, 24348],\n",
       "      dtype='int64')"
      ]
     },
     "execution_count": 31,
     "metadata": {},
     "output_type": "execute_result"
    }
   ],
   "source": [
    "automatic_gearbox2[automatic_gearbox2 == True].index"
   ]
  },
  {
   "cell_type": "code",
   "execution_count": 32,
   "metadata": {},
   "outputs": [],
   "source": [
    "auto_index2 = automatic_gearbox2[automatic_gearbox2 == True].index"
   ]
  },
  {
   "cell_type": "code",
   "execution_count": 33,
   "metadata": {},
   "outputs": [],
   "source": [
    "df.loc[auto_index2, \"gearbox\"] = \"Automatic\""
   ]
  },
  {
   "cell_type": "markdown",
   "metadata": {},
   "source": [
    "***For \"manuel\" word my search in description features has no result for gearbox, it is about air conditioning, mirrors, child lock and parking***"
   ]
  },
  {
   "cell_type": "code",
   "execution_count": 34,
   "metadata": {},
   "outputs": [
    {
     "data": {
      "text/plain": [
       "5"
      ]
     },
     "execution_count": 34,
     "metadata": {},
     "output_type": "execute_result"
    }
   ],
   "source": [
    "df.loc[df[\"gearbox\"].isnull()][\"desc\"].str.contains('|'.join([\"manuel\"]), case=False).sum()"
   ]
  },
  {
   "cell_type": "code",
   "execution_count": 35,
   "metadata": {},
   "outputs": [
    {
     "data": {
      "text/plain": [
       "0"
      ]
     },
     "execution_count": 35,
     "metadata": {},
     "output_type": "execute_result"
    }
   ],
   "source": [
    "df.loc[df[\"gearbox\"].isnull()][\"short_desc_translated\"].str.contains('|'.join([\"manuel\"]), case=False).sum()"
   ]
  },
  {
   "cell_type": "code",
   "execution_count": 36,
   "metadata": {},
   "outputs": [],
   "source": [
    "manual_gearbox = df.loc[df[\"gearbox\"].isnull()][\"short_description\"].str.contains('|'.join([\"manual gears box\"]), case=False)"
   ]
  },
  {
   "cell_type": "code",
   "execution_count": 37,
   "metadata": {},
   "outputs": [
    {
     "data": {
      "text/plain": [
       "Index([3250], dtype='int64')"
      ]
     },
     "execution_count": 37,
     "metadata": {},
     "output_type": "execute_result"
    }
   ],
   "source": [
    "manual_gearbox[manual_gearbox == True].index"
   ]
  },
  {
   "cell_type": "code",
   "execution_count": 38,
   "metadata": {},
   "outputs": [],
   "source": [
    "manu_index = manual_gearbox[manual_gearbox == True].index"
   ]
  },
  {
   "cell_type": "code",
   "execution_count": 39,
   "metadata": {},
   "outputs": [],
   "source": [
    "df.loc[manu_index, \"gearbox\"] = \"Manual\""
   ]
  },
  {
   "cell_type": "code",
   "execution_count": 40,
   "metadata": {},
   "outputs": [
    {
     "data": {
      "text/plain": [
       "gearbox\n",
       "Manual            14679\n",
       "Automatic          9814\n",
       "NaN                 182\n",
       "Semi-automatic       63\n",
       "Name: count, dtype: int64"
      ]
     },
     "execution_count": 40,
     "metadata": {},
     "output_type": "execute_result"
    }
   ],
   "source": [
    "df.gearbox.value_counts(dropna=False)"
   ]
  },
  {
   "cell_type": "code",
   "execution_count": 41,
   "metadata": {},
   "outputs": [],
   "source": [
    "df[\"gearbox\"].fillna(df.groupby(\"make_model\")[\"gearbox\"].transform(lambda x: x.mode()[0]), inplace=True)"
   ]
  },
  {
   "cell_type": "code",
   "execution_count": 42,
   "metadata": {},
   "outputs": [
    {
     "name": "stdout",
     "output_type": "stream",
     "text": [
      "Missing Values in gearbox is 0\n",
      "Percentage: 0.00%\n"
     ]
    }
   ],
   "source": [
    "missing_counts(\"gearbox\")"
   ]
  },
  {
   "cell_type": "code",
   "execution_count": 43,
   "metadata": {},
   "outputs": [],
   "source": [
    "semiauto_index = df[df[\"gearbox\"] == \"Semi-automatic\"].index"
   ]
  },
  {
   "cell_type": "code",
   "execution_count": 44,
   "metadata": {},
   "outputs": [],
   "source": [
    "df.loc[semiauto_index, [\"gearbox\"]] = \"Automatic\""
   ]
  },
  {
   "cell_type": "code",
   "execution_count": 45,
   "metadata": {},
   "outputs": [
    {
     "name": "stdout",
     "output_type": "stream",
     "text": [
      "Column Name    :  gearbox\n",
      "----------------------------------------\n",
      "Per_of_nulls   :  % 0.0\n",
      "Num_of_nulls   :  0\n",
      "Num_of_uniques :  2\n",
      "----------------------------------------\n",
      "gearbox\n",
      "Manual       14810\n",
      "Automatic     9928\n",
      "Name: count, dtype: int64\n"
     ]
    }
   ],
   "source": [
    "describe(\"gearbox\")"
   ]
  },
  {
   "cell_type": "markdown",
   "metadata": {},
   "source": [
    "<a id=\"8\"></a>\n",
    "<div class=\"alert alert-info\" role=\"alert\">\n",
    "<h1>Column name :<span style=\"color:red\"> doors </span></h1>\n",
    "</div>"
   ]
  },
  {
   "cell_type": "code",
   "execution_count": 46,
   "metadata": {},
   "outputs": [
    {
     "name": "stdout",
     "output_type": "stream",
     "text": [
      "Missing Values in doors is 339\n",
      "Percentage: 1.37%\n"
     ]
    }
   ],
   "source": [
    "missing_counts(\"doors\")"
   ]
  },
  {
   "cell_type": "code",
   "execution_count": 47,
   "metadata": {},
   "outputs": [
    {
     "data": {
      "text/html": [
       "<div>\n",
       "<style scoped>\n",
       "    .dataframe tbody tr th:only-of-type {\n",
       "        vertical-align: middle;\n",
       "    }\n",
       "\n",
       "    .dataframe tbody tr th {\n",
       "        vertical-align: top;\n",
       "    }\n",
       "\n",
       "    .dataframe thead th {\n",
       "        text-align: right;\n",
       "    }\n",
       "</style>\n",
       "<table border=\"1\" class=\"dataframe\">\n",
       "  <thead>\n",
       "    <tr style=\"text-align: right;\">\n",
       "      <th></th>\n",
       "      <th>doors</th>\n",
       "    </tr>\n",
       "  </thead>\n",
       "  <tbody>\n",
       "    <tr>\n",
       "      <th>doors</th>\n",
       "      <td>1.000000</td>\n",
       "    </tr>\n",
       "    <tr>\n",
       "      <th>seats</th>\n",
       "      <td>0.628809</td>\n",
       "    </tr>\n",
       "    <tr>\n",
       "      <th>safety_security_count</th>\n",
       "      <td>0.201262</td>\n",
       "    </tr>\n",
       "    <tr>\n",
       "      <th>comfort_convenience_count</th>\n",
       "      <td>0.172573</td>\n",
       "    </tr>\n",
       "    <tr>\n",
       "      <th>entertainment_media_count</th>\n",
       "      <td>0.150275</td>\n",
       "    </tr>\n",
       "    <tr>\n",
       "      <th>gears</th>\n",
       "      <td>0.060002</td>\n",
       "    </tr>\n",
       "    <tr>\n",
       "      <th>extras_count</th>\n",
       "      <td>0.022230</td>\n",
       "    </tr>\n",
       "    <tr>\n",
       "      <th>price</th>\n",
       "      <td>-0.010263</td>\n",
       "    </tr>\n",
       "    <tr>\n",
       "      <th>co_emissions</th>\n",
       "      <td>-0.167298</td>\n",
       "    </tr>\n",
       "    <tr>\n",
       "      <th>power</th>\n",
       "      <td>-0.239422</td>\n",
       "    </tr>\n",
       "    <tr>\n",
       "      <th>engine_size</th>\n",
       "      <td>-0.266031</td>\n",
       "    </tr>\n",
       "    <tr>\n",
       "      <th>mileage</th>\n",
       "      <td>-0.270772</td>\n",
       "    </tr>\n",
       "    <tr>\n",
       "      <th>previous_owner</th>\n",
       "      <td>-0.278766</td>\n",
       "    </tr>\n",
       "    <tr>\n",
       "      <th>production_date</th>\n",
       "      <td>-0.300956</td>\n",
       "    </tr>\n",
       "    <tr>\n",
       "      <th>cylinders</th>\n",
       "      <td>-0.347380</td>\n",
       "    </tr>\n",
       "    <tr>\n",
       "      <th>fuel_consumption_comb</th>\n",
       "      <td>-0.378268</td>\n",
       "    </tr>\n",
       "    <tr>\n",
       "      <th>fuel_consumption_country</th>\n",
       "      <td>-0.393958</td>\n",
       "    </tr>\n",
       "    <tr>\n",
       "      <th>fuel_consumption_city</th>\n",
       "      <td>-0.474664</td>\n",
       "    </tr>\n",
       "    <tr>\n",
       "      <th>age</th>\n",
       "      <td>-0.509246</td>\n",
       "    </tr>\n",
       "  </tbody>\n",
       "</table>\n",
       "</div>"
      ],
      "text/plain": [
       "                              doors\n",
       "doors                      1.000000\n",
       "seats                      0.628809\n",
       "safety_security_count      0.201262\n",
       "comfort_convenience_count  0.172573\n",
       "entertainment_media_count  0.150275\n",
       "gears                      0.060002\n",
       "extras_count               0.022230\n",
       "price                     -0.010263\n",
       "co_emissions              -0.167298\n",
       "power                     -0.239422\n",
       "engine_size               -0.266031\n",
       "mileage                   -0.270772\n",
       "previous_owner            -0.278766\n",
       "production_date           -0.300956\n",
       "cylinders                 -0.347380\n",
       "fuel_consumption_comb     -0.378268\n",
       "fuel_consumption_country  -0.393958\n",
       "fuel_consumption_city     -0.474664\n",
       "age                       -0.509246"
      ]
     },
     "execution_count": 47,
     "metadata": {},
     "output_type": "execute_result"
    }
   ],
   "source": [
    "df.corr(numeric_only=True)[[\"doors\"]].sort_values(by=\"doors\", ascending=False)"
   ]
  },
  {
   "cell_type": "code",
   "execution_count": 48,
   "metadata": {},
   "outputs": [
    {
     "name": "stdout",
     "output_type": "stream",
     "text": [
      "Before filling nan values count :  339\n",
      "After first filling 339 values filled\n",
      "Now new nan values count is 0\n",
      "After first filling 0 values filled\n",
      "Last null values is 0\n"
     ]
    }
   ],
   "source": [
    "filling_columns(\"doors\", \"make_model\", \"body_type\")"
   ]
  },
  {
   "cell_type": "code",
   "execution_count": 49,
   "metadata": {},
   "outputs": [],
   "source": [
    "df.doors.replace([1,2],3, inplace=True)"
   ]
  },
  {
   "cell_type": "code",
   "execution_count": 50,
   "metadata": {},
   "outputs": [],
   "source": [
    "df.doors.replace([4,6],5, inplace=True)"
   ]
  },
  {
   "cell_type": "code",
   "execution_count": 51,
   "metadata": {},
   "outputs": [
    {
     "name": "stdout",
     "output_type": "stream",
     "text": [
      "Column Name    :  doors\n",
      "----------------------------------------\n",
      "Per_of_nulls   :  % 0.0\n",
      "Num_of_nulls   :  0\n",
      "Num_of_uniques :  2\n",
      "----------------------------------------\n",
      "doors\n",
      "5.0    17687\n",
      "3.0     7051\n",
      "Name: count, dtype: int64\n"
     ]
    }
   ],
   "source": [
    "describe(\"doors\")"
   ]
  },
  {
   "cell_type": "markdown",
   "metadata": {},
   "source": [
    "<a id=\"8\"></a>\n",
    "<div class=\"alert alert-info\" role=\"alert\">\n",
    "<h1>Column name :<span style=\"color:red\"> power </span></h1>\n",
    "</div>"
   ]
  },
  {
   "cell_type": "code",
   "execution_count": 52,
   "metadata": {},
   "outputs": [
    {
     "name": "stdout",
     "output_type": "stream",
     "text": [
      "Column Name    :  power\n",
      "----------------------------------------\n",
      "Per_of_nulls   :  % 2.26\n",
      "Num_of_nulls   :  558\n",
      "Num_of_uniques :  351\n",
      "----------------------------------------\n",
      "power\n",
      "110.0    1741\n",
      "96.0     1288\n",
      "81.0      984\n",
      "66.0      918\n",
      "85.0      908\n",
      "         ... \n",
      "164.0       1\n",
      "409.0       1\n",
      "746.0       1\n",
      "570.0       1\n",
      "10.0        1\n",
      "Name: count, Length: 352, dtype: int64\n"
     ]
    }
   ],
   "source": [
    "describe(\"power\")"
   ]
  },
  {
   "cell_type": "code",
   "execution_count": 53,
   "metadata": {},
   "outputs": [
    {
     "data": {
      "image/png": "[encoded data removed]",
      "text/plain": [
       "<Figure size 1400x600 with 2 Axes>"
      ]
     },
     "metadata": {},
     "output_type": "display_data"
    }
   ],
   "source": [
    "analyze(\"power\")"
   ]
  },
  {
   "cell_type": "code",
   "execution_count": 54,
   "metadata": {},
   "outputs": [
    {
     "data": {
      "text/plain": [
       "make_model    engine_size\n",
       "Dacia         0.0             33.000000\n",
       "              999.0           81.000000\n",
       "              1289.0          40.000000\n",
       "Dacia Dokker  999.0           55.000000\n",
       "              1197.0          85.000000\n",
       "                                ...    \n",
       "Volvo XC90    1969.0         200.386364\n",
       "              2000.0         173.000000\n",
       "              2400.0         138.428571\n",
       "              2401.0         128.000000\n",
       "              2922.0         200.000000\n",
       "Name: power, Length: 2253, dtype: float64"
      ]
     },
     "execution_count": 54,
     "metadata": {},
     "output_type": "execute_result"
    }
   ],
   "source": [
    "df.groupby([\"make_model\", \"engine_size\"]).power.mean()"
   ]
  },
  {
   "cell_type": "code",
   "execution_count": 55,
   "metadata": {},
   "outputs": [],
   "source": [
    "for group1 in list(df[\"make_model\"].unique()):\n",
    "    for group2 in list(df[\"engine_size\"].unique()):\n",
    "        \n",
    "            cond = (df['make_model'] == group1) & (df['engine_size'] == group2) \n",
    "            mode = list(df[cond][\"power\"].mode())\n",
    "            if mode != []:\n",
    "                df.loc[cond, \"power\"] = df.loc[cond, \"power\"].fillna(df[cond][\"power\"].mode()[0])\n",
    "            else:\n",
    "                df.loc[cond, \"power\"] = df.loc[cond, \"power\"].fillna(df[\"power\"].mode()[0])"
   ]
  },
  {
   "cell_type": "code",
   "execution_count": 56,
   "metadata": {},
   "outputs": [
    {
     "name": "stdout",
     "output_type": "stream",
     "text": [
      "Missing Values in power is 185\n",
      "Percentage: 0.75%\n"
     ]
    }
   ],
   "source": [
    "missing_counts(\"power\")"
   ]
  },
  {
   "cell_type": "code",
   "execution_count": 57,
   "metadata": {},
   "outputs": [],
   "source": [
    "for group in list(df[\"make_model\"].unique()):\n",
    "    cond = df['make_model'] == group\n",
    "    mode = list(df[cond][\"power\"].mode())\n",
    "    if mode != []:\n",
    "        df.loc[cond, \"power\"] = df.loc[cond, \"power\"].fillna(df[cond][\"power\"].mode()[0])\n",
    "    else:\n",
    "        df.loc[cond, \"power\"] = df.loc[cond, \"power\"].fillna(df[\"power\"].mode()[0])"
   ]
  },
  {
   "cell_type": "code",
   "execution_count": 58,
   "metadata": {},
   "outputs": [
    {
     "name": "stdout",
     "output_type": "stream",
     "text": [
      "Column Name    :  power\n",
      "----------------------------------------\n",
      "Per_of_nulls   :  % 0.0\n",
      "Num_of_nulls   :  0\n",
      "Num_of_uniques :  351\n",
      "----------------------------------------\n",
      "power\n",
      "110.0    1788\n",
      "96.0     1336\n",
      "81.0     1013\n",
      "66.0      955\n",
      "85.0      946\n",
      "         ... \n",
      "164.0       1\n",
      "409.0       1\n",
      "746.0       1\n",
      "570.0       1\n",
      "30.0        1\n",
      "Name: count, Length: 351, dtype: int64\n"
     ]
    }
   ],
   "source": [
    "describe(\"power\")"
   ]
  },
  {
   "cell_type": "markdown",
   "metadata": {},
   "source": [
    "<a id=\"8\"></a>\n",
    "<div class=\"alert alert-info\" role=\"alert\">\n",
    "<h1>Column name :<span style=\"color:red\"> engine_size </span></h1>\n",
    "</div>"
   ]
  },
  {
   "cell_type": "code",
   "execution_count": 59,
   "metadata": {},
   "outputs": [
    {
     "name": "stdout",
     "output_type": "stream",
     "text": [
      "Missing Values in engine_size is 1283\n",
      "Percentage: 5.19%\n"
     ]
    }
   ],
   "source": [
    "missing_counts(\"engine_size\")"
   ]
  },
  {
   "cell_type": "code",
   "execution_count": 60,
   "metadata": {},
   "outputs": [
    {
     "data": {
      "text/html": [
       "<div>\n",
       "<style scoped>\n",
       "    .dataframe tbody tr th:only-of-type {\n",
       "        vertical-align: middle;\n",
       "    }\n",
       "\n",
       "    .dataframe tbody tr th {\n",
       "        vertical-align: top;\n",
       "    }\n",
       "\n",
       "    .dataframe thead th {\n",
       "        text-align: right;\n",
       "    }\n",
       "</style>\n",
       "<table border=\"1\" class=\"dataframe\">\n",
       "  <thead>\n",
       "    <tr style=\"text-align: right;\">\n",
       "      <th></th>\n",
       "      <th>engine_size</th>\n",
       "    </tr>\n",
       "  </thead>\n",
       "  <tbody>\n",
       "    <tr>\n",
       "      <th>engine_size</th>\n",
       "      <td>1.000000</td>\n",
       "    </tr>\n",
       "    <tr>\n",
       "      <th>cylinders</th>\n",
       "      <td>0.786640</td>\n",
       "    </tr>\n",
       "    <tr>\n",
       "      <th>power</th>\n",
       "      <td>0.579402</td>\n",
       "    </tr>\n",
       "    <tr>\n",
       "      <th>fuel_consumption_city</th>\n",
       "      <td>0.440899</td>\n",
       "    </tr>\n",
       "    <tr>\n",
       "      <th>fuel_consumption_country</th>\n",
       "      <td>0.408364</td>\n",
       "    </tr>\n",
       "    <tr>\n",
       "      <th>fuel_consumption_comb</th>\n",
       "      <td>0.360049</td>\n",
       "    </tr>\n",
       "    <tr>\n",
       "      <th>price</th>\n",
       "      <td>0.328023</td>\n",
       "    </tr>\n",
       "    <tr>\n",
       "      <th>gears</th>\n",
       "      <td>0.227209</td>\n",
       "    </tr>\n",
       "    <tr>\n",
       "      <th>co_emissions</th>\n",
       "      <td>0.222250</td>\n",
       "    </tr>\n",
       "    <tr>\n",
       "      <th>age</th>\n",
       "      <td>0.152256</td>\n",
       "    </tr>\n",
       "    <tr>\n",
       "      <th>extras_count</th>\n",
       "      <td>0.123323</td>\n",
       "    </tr>\n",
       "    <tr>\n",
       "      <th>production_date</th>\n",
       "      <td>0.103263</td>\n",
       "    </tr>\n",
       "    <tr>\n",
       "      <th>comfort_convenience_count</th>\n",
       "      <td>0.095500</td>\n",
       "    </tr>\n",
       "    <tr>\n",
       "      <th>mileage</th>\n",
       "      <td>0.087738</td>\n",
       "    </tr>\n",
       "    <tr>\n",
       "      <th>previous_owner</th>\n",
       "      <td>0.084768</td>\n",
       "    </tr>\n",
       "    <tr>\n",
       "      <th>safety_security_count</th>\n",
       "      <td>0.036765</td>\n",
       "    </tr>\n",
       "    <tr>\n",
       "      <th>entertainment_media_count</th>\n",
       "      <td>0.032905</td>\n",
       "    </tr>\n",
       "    <tr>\n",
       "      <th>doors</th>\n",
       "      <td>-0.223795</td>\n",
       "    </tr>\n",
       "    <tr>\n",
       "      <th>seats</th>\n",
       "      <td>-0.232672</td>\n",
       "    </tr>\n",
       "  </tbody>\n",
       "</table>\n",
       "</div>"
      ],
      "text/plain": [
       "                           engine_size\n",
       "engine_size                   1.000000\n",
       "cylinders                     0.786640\n",
       "power                         0.579402\n",
       "fuel_consumption_city         0.440899\n",
       "fuel_consumption_country      0.408364\n",
       "fuel_consumption_comb         0.360049\n",
       "price                         0.328023\n",
       "gears                         0.227209\n",
       "co_emissions                  0.222250\n",
       "age                           0.152256\n",
       "extras_count                  0.123323\n",
       "production_date               0.103263\n",
       "comfort_convenience_count     0.095500\n",
       "mileage                       0.087738\n",
       "previous_owner                0.084768\n",
       "safety_security_count         0.036765\n",
       "entertainment_media_count     0.032905\n",
       "doors                        -0.223795\n",
       "seats                        -0.232672"
      ]
     },
     "execution_count": 60,
     "metadata": {},
     "output_type": "execute_result"
    }
   ],
   "source": [
    "df.corr(numeric_only=True)[[\"engine_size\"]].sort_values(by=\"engine_size\", ascending=False)"
   ]
  },
  {
   "cell_type": "code",
   "execution_count": 61,
   "metadata": {},
   "outputs": [
    {
     "name": "stdout",
     "output_type": "stream",
     "text": [
      "Before filling nan values count :  1283\n",
      "After first filling 172 values filled\n",
      "Now new nan values count is 1111\n",
      "After first filling 1111 values filled\n",
      "Last null values is 0\n"
     ]
    }
   ],
   "source": [
    "filling_columns(\"engine_size\", \"make_model\", \"cylinders\")"
   ]
  },
  {
   "cell_type": "markdown",
   "metadata": {},
   "source": [
    "<a id=\"8\"></a>\n",
    "<div class=\"alert alert-info\" role=\"alert\">\n",
    "<h1>Column name :<span style=\"color:red\"> colour & manufacturer_colour </span></h1>\n",
    "</div>"
   ]
  },
  {
   "cell_type": "code",
   "execution_count": 62,
   "metadata": {},
   "outputs": [
    {
     "name": "stdout",
     "output_type": "stream",
     "text": [
      "Missing Values in manufacturer_colour is 6321\n",
      "Percentage: 25.55%\n"
     ]
    }
   ],
   "source": [
    "missing_counts(\"manufacturer_colour\")"
   ]
  },
  {
   "cell_type": "code",
   "execution_count": 63,
   "metadata": {},
   "outputs": [
    {
     "name": "stdout",
     "output_type": "stream",
     "text": [
      "Missing Values in colour is 1448\n",
      "Percentage: 5.85%\n"
     ]
    }
   ],
   "source": [
    "missing_counts(\"colour\")"
   ]
  },
  {
   "cell_type": "code",
   "execution_count": 64,
   "metadata": {},
   "outputs": [],
   "source": [
    "# it is concluded that manufacturer colour and colour of an automobile directly related.\n",
    "# since manufacturer colours has been entered in local languaages of manufacturer countries reclass has been performed.\n",
    "\n",
    "color_dict = {\n",
    "    \"Black\": [\"Negro\", \"preto\", \"schwarz\", \"Onyx black / metallic\", \"Zwart metallic\", \"zwart\", \"nero\", \"onyx schwarz\",\"SchwarMagic Perleffekt\", \"obsidianschwarz\", \"noir\", \"scharz\", \"zwarte\"],\n",
    "    \"Blue\": [\"azul\", \"blau\", \"bleu\", \"blauw\", \"azul medianoche\", \"Otros\",\"tiefsee blau\",\"POLAR\", \"blu\", \"denim blue\", \"blauw metallic\", \"race-blau metallic\", \"race-blau\", \"dark knight\", \"azul marino\"],\n",
    "    \"Yellow\": [\"amarillo\", \"geel\"],\n",
    "    \"Grey\": [\"Gris\", \"Grigio\", \"Gray\", \"grau\", \"Grijs metallic\", \"Grigio scuro\", \"schwarz metallic\",'Mountain grey metallic', \"gris plata\", \"quarz-grau metallic\", \"selenitgrau\", \"licht grau\", \"graphitgrau\", \"granate\", \"stahlgrau\", \"kosmosschwarz\", \"titan-grau\", \"grafitgrau\", \"graumet.\", \"gris oscuro\", \"gris clara\"],\n",
    "    \"Red\": [\"rojo\", \"Rood\", \"rosso\",\"ROUGE\", \"rouge\", \"race-rot\", \"rot\", \"lava rot\", \"desire rot\", \"reinrot\", \"ruby rot\", \"corrida-rot\", \"power red\", \"roz\"],\n",
    "    \"White\": [\"Blanco\", \"Weiß\", \"FrosWeiß\", \"blanco\", \"bianco\", \"wit\", \"weiss\", \"perlmutt-weiss\", \"schneeweiß\", \"weiss metallic\", \"magnetic-tech\", \"polarweiß\", \"blanc nacre\", \"blanc\", \"ice white\", \"laser-weiss\", \"candy weiss\", \"business grau\", \"arctic white\", \"candy-weiss\", \"ice white\", \"niebieski\", \"biały\"],\n",
    "    \"Silver\": [\"plata\", \"Irridium Silver\",\"silber\", \"argent\", \"platin-grau\", \"argent\", \"argentato\", \"platinsilber\", \"plata metalizado\", \"plateado\", \"argent silber\", \"zilver metallic\", \"zilver\"],\n",
    "    \"Green\": [\"verde\", \"grün\", \"groen\", \"green\", \"verde oscuro\"],\n",
    "    \"Brown\": [\"marrón\", \"bruin\", \"braun\"],\n",
    "    \"Orange\": [\"naranja\", \"oranje\"],\n",
    "    \"Purple\": [\"morado\", \"paars\", \"AMETHYST METALLIC\"],\n",
    "    \"Pink\": [\"rosa\", \"roze\"],\n",
    "    \"Beige\": [\"beige\", \"COSMOS\"],\n",
    "    \"Gold\": [\"oro\", \"goud\"],\n",
    "    \"Bronze\": [\"bronce\"],\n",
    "}"
   ]
  },
  {
   "cell_type": "code",
   "execution_count": 65,
   "metadata": {},
   "outputs": [],
   "source": [
    "# Renklerin yeniden adlandırılması\n",
    "for key, values in color_dict.items():\n",
    "    for value in values:\n",
    "        # NaN veya eksik değerlerin olduğu satırları atlayarak maske oluştur\n",
    "        mask = df['manufacturer_colour'].notna() & df['manufacturer_colour'].str.contains(value, case=False)\n",
    "        df.loc[mask, 'manufacturer_colour'] = key"
   ]
  },
  {
   "cell_type": "code",
   "execution_count": 66,
   "metadata": {},
   "outputs": [],
   "source": [
    "df['manufacturer_colour'] = df['manufacturer_colour'].fillna(df.groupby('colour')['manufacturer_colour'].transform(lambda x: x.mode()[0]))"
   ]
  },
  {
   "cell_type": "code",
   "execution_count": 67,
   "metadata": {},
   "outputs": [
    {
     "name": "stdout",
     "output_type": "stream",
     "text": [
      "Missing Values in manufacturer_colour is 230\n",
      "Percentage: 0.93%\n"
     ]
    }
   ],
   "source": [
    "missing_counts(\"manufacturer_colour\")"
   ]
  },
  {
   "cell_type": "code",
   "execution_count": 68,
   "metadata": {},
   "outputs": [],
   "source": [
    "# colour sütunundaki mevcut değerleri al\n",
    "colour_values = df[\"colour\"].value_counts().index\n",
    "\n",
    "# NaN değerleri colour sütunundaki mevcut değerlerle doldur\n",
    "df[\"colour\"].fillna(df[\"manufacturer_colour\"].apply(lambda x: x if x in colour_values else pd.NA), inplace=True)"
   ]
  },
  {
   "cell_type": "code",
   "execution_count": 69,
   "metadata": {},
   "outputs": [
    {
     "name": "stdout",
     "output_type": "stream",
     "text": [
      "Missing Values in colour is 441\n",
      "Percentage: 1.78%\n"
     ]
    }
   ],
   "source": [
    "missing_counts(\"colour\")"
   ]
  },
  {
   "cell_type": "code",
   "execution_count": 70,
   "metadata": {},
   "outputs": [],
   "source": [
    "df['colour'] = df.groupby('make_model')['colour'].transform(lambda x: x.fillna(x.mode()[0] if not x.mode().empty else x))"
   ]
  },
  {
   "cell_type": "code",
   "execution_count": 71,
   "metadata": {},
   "outputs": [
    {
     "name": "stdout",
     "output_type": "stream",
     "text": [
      "Missing Values in colour is 2\n",
      "Percentage: 0.01%\n"
     ]
    }
   ],
   "source": [
    "missing_counts(\"colour\")"
   ]
  },
  {
   "cell_type": "code",
   "execution_count": 72,
   "metadata": {},
   "outputs": [],
   "source": [
    "df['colour'] = df.groupby('make')['colour'].transform(lambda x: x.fillna(x.mode()[0] if not x.mode().empty else x))"
   ]
  },
  {
   "cell_type": "code",
   "execution_count": 73,
   "metadata": {},
   "outputs": [
    {
     "name": "stdout",
     "output_type": "stream",
     "text": [
      "Missing Values in colour is 0\n",
      "Percentage: 0.00%\n"
     ]
    }
   ],
   "source": [
    "missing_counts(\"colour\")"
   ]
  },
  {
   "cell_type": "code",
   "execution_count": 74,
   "metadata": {},
   "outputs": [],
   "source": [
    "df['manufacturer_colour'] = df['manufacturer_colour'].fillna(df.groupby(['colour'])['manufacturer_colour'].transform(lambda x: x.mode()[0] if not x.mode().empty else np.nan))"
   ]
  },
  {
   "cell_type": "code",
   "execution_count": 75,
   "metadata": {},
   "outputs": [
    {
     "name": "stdout",
     "output_type": "stream",
     "text": [
      "Missing Values in manufacturer_colour is 0\n",
      "Percentage: 0.00%\n"
     ]
    }
   ],
   "source": [
    "missing_counts(\"manufacturer_colour\")"
   ]
  },
  {
   "cell_type": "markdown",
   "metadata": {},
   "source": [
    "<a id=\"8\"></a>\n",
    "<div class=\"alert alert-info\" role=\"alert\">\n",
    "<h1>Column name :<span style=\"color:red\"> fuel_consumption_comb </span></h1>\n",
    "</div>"
   ]
  },
  {
   "cell_type": "code",
   "execution_count": 76,
   "metadata": {},
   "outputs": [
    {
     "name": "stdout",
     "output_type": "stream",
     "text": [
      "Missing Values in fuel_consumption_comb is 5531\n",
      "Percentage: 22.36%\n"
     ]
    }
   ],
   "source": [
    "missing_counts(\"fuel_consumption_comb\")"
   ]
  },
  {
   "cell_type": "code",
   "execution_count": 77,
   "metadata": {},
   "outputs": [
    {
     "data": {
      "text/html": [
       "<div>\n",
       "<style scoped>\n",
       "    .dataframe tbody tr th:only-of-type {\n",
       "        vertical-align: middle;\n",
       "    }\n",
       "\n",
       "    .dataframe tbody tr th {\n",
       "        vertical-align: top;\n",
       "    }\n",
       "\n",
       "    .dataframe thead th {\n",
       "        text-align: right;\n",
       "    }\n",
       "</style>\n",
       "<table border=\"1\" class=\"dataframe\">\n",
       "  <thead>\n",
       "    <tr style=\"text-align: right;\">\n",
       "      <th></th>\n",
       "      <th>fuel_consumption_comb</th>\n",
       "      <th>fuel_consumption_city</th>\n",
       "      <th>fuel_consumption_country</th>\n",
       "    </tr>\n",
       "  </thead>\n",
       "  <tbody>\n",
       "    <tr>\n",
       "      <th>255</th>\n",
       "      <td>99.9</td>\n",
       "      <td>7.0</td>\n",
       "      <td>4.3</td>\n",
       "    </tr>\n",
       "    <tr>\n",
       "      <th>1734</th>\n",
       "      <td>61.0</td>\n",
       "      <td>7.7</td>\n",
       "      <td>5.2</td>\n",
       "    </tr>\n",
       "    <tr>\n",
       "      <th>6361</th>\n",
       "      <td>57.0</td>\n",
       "      <td>7.2</td>\n",
       "      <td>4.9</td>\n",
       "    </tr>\n",
       "    <tr>\n",
       "      <th>17058</th>\n",
       "      <td>56.0</td>\n",
       "      <td>50.0</td>\n",
       "      <td>48.0</td>\n",
       "    </tr>\n",
       "    <tr>\n",
       "      <th>17264</th>\n",
       "      <td>99.9</td>\n",
       "      <td>6.6</td>\n",
       "      <td>4.5</td>\n",
       "    </tr>\n",
       "    <tr>\n",
       "      <th>17265</th>\n",
       "      <td>99.9</td>\n",
       "      <td>6.6</td>\n",
       "      <td>5.1</td>\n",
       "    </tr>\n",
       "    <tr>\n",
       "      <th>18214</th>\n",
       "      <td>44.0</td>\n",
       "      <td>4.2</td>\n",
       "      <td>3.6</td>\n",
       "    </tr>\n",
       "    <tr>\n",
       "      <th>19219</th>\n",
       "      <td>93.0</td>\n",
       "      <td>3.9</td>\n",
       "      <td>3.3</td>\n",
       "    </tr>\n",
       "    <tr>\n",
       "      <th>19236</th>\n",
       "      <td>93.0</td>\n",
       "      <td>3.9</td>\n",
       "      <td>3.3</td>\n",
       "    </tr>\n",
       "    <tr>\n",
       "      <th>19566</th>\n",
       "      <td>23.0</td>\n",
       "      <td>NaN</td>\n",
       "      <td>NaN</td>\n",
       "    </tr>\n",
       "    <tr>\n",
       "      <th>21177</th>\n",
       "      <td>99.9</td>\n",
       "      <td>4.8</td>\n",
       "      <td>4.0</td>\n",
       "    </tr>\n",
       "    <tr>\n",
       "      <th>22031</th>\n",
       "      <td>53.0</td>\n",
       "      <td>64.0</td>\n",
       "      <td>4.7</td>\n",
       "    </tr>\n",
       "    <tr>\n",
       "      <th>22194</th>\n",
       "      <td>53.0</td>\n",
       "      <td>64.0</td>\n",
       "      <td>4.7</td>\n",
       "    </tr>\n",
       "  </tbody>\n",
       "</table>\n",
       "</div>"
      ],
      "text/plain": [
       "       fuel_consumption_comb  fuel_consumption_city  fuel_consumption_country\n",
       "255                     99.9                    7.0                       4.3\n",
       "1734                    61.0                    7.7                       5.2\n",
       "6361                    57.0                    7.2                       4.9\n",
       "17058                   56.0                   50.0                      48.0\n",
       "17264                   99.9                    6.6                       4.5\n",
       "17265                   99.9                    6.6                       5.1\n",
       "18214                   44.0                    4.2                       3.6\n",
       "19219                   93.0                    3.9                       3.3\n",
       "19236                   93.0                    3.9                       3.3\n",
       "19566                   23.0                    NaN                       NaN\n",
       "21177                   99.9                    4.8                       4.0\n",
       "22031                   53.0                   64.0                       4.7\n",
       "22194                   53.0                   64.0                       4.7"
      ]
     },
     "execution_count": 77,
     "metadata": {},
     "output_type": "execute_result"
    }
   ],
   "source": [
    "df[df['fuel_consumption_comb'] > 17][['fuel_consumption_comb', 'fuel_consumption_city', 'fuel_consumption_country']]"
   ]
  },
  {
   "cell_type": "code",
   "execution_count": 78,
   "metadata": {},
   "outputs": [],
   "source": [
    "def fill_above_17(row):\n",
    "    if row['fuel_consumption_comb'] > 17:\n",
    "        return (row['fuel_consumption_city'] + row['fuel_consumption_country']) / 2\n",
    "    else:\n",
    "        return row['fuel_consumption_comb']\n",
    "\n",
    "df['fuel_consumption_comb'] = df.apply(fill_above_17, axis=1)"
   ]
  },
  {
   "cell_type": "code",
   "execution_count": 79,
   "metadata": {},
   "outputs": [],
   "source": [
    "# Belirtilen koşulları sağlayan değerleri istenilen yeni değerlerle değiştirme\n",
    "df.loc[df['fuel_consumption_comb'] == 49.0, 'fuel_consumption_comb'] = 4.9\n",
    "df.loc[df['fuel_consumption_comb'] == 34.35, 'fuel_consumption_comb'] = 5.5"
   ]
  },
  {
   "cell_type": "code",
   "execution_count": 80,
   "metadata": {},
   "outputs": [],
   "source": [
    "df.at[10669, 'fuel_consumption_comb'] = 5.9\n",
    "\n",
    "df.at[15854, 'fuel_consumption_comb'] = 4.3"
   ]
  },
  {
   "cell_type": "code",
   "execution_count": 81,
   "metadata": {},
   "outputs": [],
   "source": [
    "def fill_avg(row):\n",
    "    if row['fuel_consumption_comb'] > 17:\n",
    "        return (row['fuel_consumption_city'] + row['fuel_consumption_country']) / 2\n",
    "    else:\n",
    "        return row['fuel_consumption_comb']\n",
    "\n",
    "df['fuel_consumption_comb'] = df.apply(fill_avg, axis=1)"
   ]
  },
  {
   "cell_type": "code",
   "execution_count": 82,
   "metadata": {},
   "outputs": [
    {
     "name": "stdout",
     "output_type": "stream",
     "text": [
      "Missing Values in fuel_consumption_comb is 5532\n",
      "Percentage: 22.36%\n"
     ]
    }
   ],
   "source": [
    "missing_counts(\"fuel_consumption_comb\")"
   ]
  },
  {
   "cell_type": "code",
   "execution_count": 83,
   "metadata": {},
   "outputs": [],
   "source": [
    "def fill_avg_2(row):\n",
    "    if pd.isna(row['fuel_consumption_comb']):\n",
    "        return (row['fuel_consumption_city'] + row['fuel_consumption_country']) / 2\n",
    "    else:\n",
    "        return row['fuel_consumption_comb']\n",
    "\n",
    "df['fuel_consumption_comb'] = df.apply(fill_avg_2, axis=1)"
   ]
  },
  {
   "cell_type": "code",
   "execution_count": 84,
   "metadata": {},
   "outputs": [
    {
     "name": "stdout",
     "output_type": "stream",
     "text": [
      "Missing Values in fuel_consumption_comb is 5513\n",
      "Percentage: 22.29%\n"
     ]
    }
   ],
   "source": [
    "missing_counts(\"fuel_consumption_comb\")"
   ]
  },
  {
   "cell_type": "code",
   "execution_count": 85,
   "metadata": {},
   "outputs": [
    {
     "name": "stdout",
     "output_type": "stream",
     "text": [
      "4176\n",
      "3928\n",
      "3800\n",
      "1686\n",
      "1147\n",
      "1112\n",
      "1068\n",
      "1058\n",
      "1043\n",
      "1017\n",
      "585\n",
      "585\n",
      "181\n",
      "57\n",
      "0\n"
     ]
    }
   ],
   "source": [
    "groups = [\n",
    "    [\"make_model\", \"body_type\", \"drivetrain\", \"power\"],\n",
    "    [\"make_model\", \"body_type\", \"drivetrain\", \"engine_size\"],\n",
    "    [\"make_model\", \"body_type\", \"drivetrain\", \"cylinders\"],\n",
    "    [\"make_model\", \"body_type\", \"power\"],\n",
    "    [\"make_model\", \"body_type\", \"engine_size\"],\n",
    "    [\"make_model\", \"body_type\", \"cylinders\"],\n",
    "    [\"make_model\", \"drivetrain\", \"power\"],\n",
    "    [\"make_model\", \"drivetrain\", \"engine_size\"],\n",
    "    [\"make_model\", \"drivetrain\", \"cylinders\"],\n",
    "    ['make_model', 'body_type', \"drivetrain\"],\n",
    "    ['drivetrain', 'body_type'],\n",
    "    ['make_model', 'drivetrain'],\n",
    "    ['make_model', 'body_type'],\n",
    "    ['make_model'],\n",
    "    ['body_type']\n",
    "]\n",
    "\n",
    "# Yukarıdaki her bir grup için fuel_consumption_comb sütunundaki NaN değerleri doldur\n",
    "for group in groups:\n",
    "    df['fuel_consumption_comb'] = df['fuel_consumption_comb'].fillna(\n",
    "        df.groupby(group)['fuel_consumption_comb'].transform(lambda x: x.mode()[0] if not x.mode().empty else np.nan)\n",
    "    )\n",
    "    print(df['fuel_consumption_comb'].isnull().sum())"
   ]
  },
  {
   "cell_type": "code",
   "execution_count": 86,
   "metadata": {},
   "outputs": [
    {
     "data": {
      "image/png": "[encoded data removed]",
      "text/plain": [
       "<Figure size 1400x600 with 2 Axes>"
      ]
     },
     "metadata": {},
     "output_type": "display_data"
    }
   ],
   "source": [
    "analyze(\"fuel_consumption_comb\")"
   ]
  },
  {
   "cell_type": "markdown",
   "metadata": {
    "id": "WDZnqBhbs1ME"
   },
   "source": [
    "<a id=\"8\"></a>\n",
    "<div class=\"alert alert-info\" role=\"alert\">\n",
    "<h1>Column name :<span style=\"color:red\"> fuel_type </span></h1>\n",
    "</div>"
   ]
  },
  {
   "cell_type": "code",
   "execution_count": 87,
   "metadata": {},
   "outputs": [
    {
     "name": "stdout",
     "output_type": "stream",
     "text": [
      "Missing Values in fuel_type is 1589\n",
      "Percentage: 6.42%\n"
     ]
    }
   ],
   "source": [
    "missing_counts(\"fuel_type\")"
   ]
  },
  {
   "cell_type": "code",
   "execution_count": 88,
   "metadata": {},
   "outputs": [],
   "source": [
    "df['fuel_type'] = df['fuel_type'].fillna(df.groupby([\"make_model\", \"fuel_consumption_comb\"])['fuel_type'].transform(lambda x: x.mode()[0] if not x.mode().empty else np.nan))"
   ]
  },
  {
   "cell_type": "code",
   "execution_count": 89,
   "metadata": {},
   "outputs": [
    {
     "name": "stdout",
     "output_type": "stream",
     "text": [
      "Missing Values in fuel_type is 219\n",
      "Percentage: 0.89%\n"
     ]
    }
   ],
   "source": [
    "missing_counts(\"fuel_type\")"
   ]
  },
  {
   "cell_type": "code",
   "execution_count": 90,
   "metadata": {},
   "outputs": [],
   "source": [
    "df['fuel_type'] = df['fuel_type'].fillna(df.groupby([\"make_model\", \"engine_size\"])['fuel_type'].transform(lambda x: x.mode()[0] if not x.mode().empty else np.nan))"
   ]
  },
  {
   "cell_type": "code",
   "execution_count": 91,
   "metadata": {},
   "outputs": [
    {
     "name": "stdout",
     "output_type": "stream",
     "text": [
      "Missing Values in fuel_type is 37\n",
      "Percentage: 0.15%\n"
     ]
    }
   ],
   "source": [
    "missing_counts(\"fuel_type\")"
   ]
  },
  {
   "cell_type": "code",
   "execution_count": 92,
   "metadata": {},
   "outputs": [],
   "source": [
    "df['fuel_type'] = df['fuel_type'].fillna(df.groupby([\"engine_size\"])['fuel_type'].transform(lambda x: x.mode()[0] if not x.mode().empty else np.nan))"
   ]
  },
  {
   "cell_type": "code",
   "execution_count": 93,
   "metadata": {},
   "outputs": [
    {
     "name": "stdout",
     "output_type": "stream",
     "text": [
      "Missing Values in fuel_type is 0\n",
      "Percentage: 0.00%\n"
     ]
    }
   ],
   "source": [
    "missing_counts(\"fuel_type\")"
   ]
  },
  {
   "cell_type": "markdown",
   "metadata": {},
   "source": [
    "<a id=\"8\"></a>\n",
    "<div class=\"alert alert-info\" role=\"alert\">\n",
    "<h1>Column name :<span style=\"color:red\"> upholstery </span></h1>\n",
    "</div>"
   ]
  },
  {
   "cell_type": "code",
   "execution_count": 94,
   "metadata": {},
   "outputs": [
    {
     "name": "stdout",
     "output_type": "stream",
     "text": [
      "Missing Values in upholstery is 7621\n",
      "Percentage: 30.81%\n"
     ]
    }
   ],
   "source": [
    "missing_counts(\"upholstery\")"
   ]
  },
  {
   "cell_type": "code",
   "execution_count": 95,
   "metadata": {},
   "outputs": [
    {
     "name": "stdout",
     "output_type": "stream",
     "text": [
      "0\n"
     ]
    }
   ],
   "source": [
    "# UPHOLSTERY 'make_model','body_type','upholstery_colour','colour', 'age', 'comfort_convenience', 'gearbox'\n",
    "# Sütunlarından faydalanılarak dolduruldu\n",
    "columns_to_groupby = [\n",
    "    ['make_model', 'body_type', 'upholstery_colour', 'colour', 'age'],\n",
    "    ['make_model', 'body_type', 'upholstery_colour', 'colour'],\n",
    "    ['make_model', 'body_type', 'upholstery_colour'],\n",
    "    ['make_model', 'body_type'],\n",
    "    ['body_type']\n",
    "]\n",
    "\n",
    "for cols in columns_to_groupby:\n",
    "    df['upholstery'] = df['upholstery'].fillna(df.groupby(cols)['upholstery'].transform(lambda x: x.mode()[0] if not x.mode().empty else np.nan))\n",
    "print(df['fuel_consumption_comb'].isnull().sum())"
   ]
  },
  {
   "cell_type": "code",
   "execution_count": 96,
   "metadata": {},
   "outputs": [
    {
     "name": "stdout",
     "output_type": "stream",
     "text": [
      "Missing Values in upholstery is 0\n",
      "Percentage: 0.00%\n"
     ]
    }
   ],
   "source": [
    "missing_counts(\"upholstery\")"
   ]
  },
  {
   "cell_type": "markdown",
   "metadata": {},
   "source": [
    "<a id=\"8\"></a>\n",
    "<div class=\"alert alert-info\" role=\"alert\">\n",
    "<h1>Column name :<span style=\"color:red\"> safety_security </span></h1>\n",
    "</div>"
   ]
  },
  {
   "cell_type": "code",
   "execution_count": 97,
   "metadata": {},
   "outputs": [
    {
     "name": "stdout",
     "output_type": "stream",
     "text": [
      "Missing Values in safety_security is 2475\n",
      "Percentage: 10.00%\n"
     ]
    }
   ],
   "source": [
    "missing_counts(\"safety_security\")"
   ]
  },
  {
   "cell_type": "code",
   "execution_count": 98,
   "metadata": {},
   "outputs": [],
   "source": [
    "df['safety_security'] = df['safety_security'].str.replace('-', ' ')\n",
    "df['safety_security'] = df['safety_security'].str.replace('Central Door Lock With Remote Control', 'CDLWRC')\n",
    "df['safety_security'] = df['safety_security'].str.replace('Passenger Side Airbag', 'PSA')\n",
    "df['safety_security'] = df['safety_security'].str.replace('Bi Xenon Headlights', 'BXH')\n",
    "df['safety_security'] = df['safety_security'].str.replace('Full Led Headlights', 'FLH')"
   ]
  },
  {
   "cell_type": "code",
   "execution_count": 99,
   "metadata": {},
   "outputs": [],
   "source": [
    "cleaned_df = df['safety_security'].dropna()"
   ]
  },
  {
   "cell_type": "code",
   "execution_count": 100,
   "metadata": {},
   "outputs": [
    {
     "name": "stdout",
     "output_type": "stream",
     "text": [
      "{'Lane Departure Warning System', 'Traction Control', 'Power Steering', 'Driver Drowsiness Detection', 'Central Door Lock', 'Xenon Headlights', 'BXH', 'Daytime Running Lights', 'FLH', 'Adaptive Cruise Control', 'Driver Side Airbag', 'Tire Pressure Monitoring System', 'CDLWRC', 'Adaptive Headlights', 'Side Airbag', 'Glare Free High Beam Headlights', 'Alarm System', 'Blind Spot Monitor', 'Emergency Brake Assistant', 'PSA', 'Laser Headlights', 'Emergency System', 'Led Daytime Running Lights', 'High Beam Assist', 'Night View Assist', 'Electronic Stability Control', 'Fog Lights', 'Led Headlights', 'Head Airbag', 'Isofix', 'Immobilizer', 'Traffic Sign Recognition', 'Distance Warning System', 'Speed Limit Control System', 'Abs', 'Rear Airbag'}\n"
     ]
    },
    {
     "data": {
      "text/plain": [
       "36"
      ]
     },
     "execution_count": 100,
     "metadata": {},
     "output_type": "execute_result"
    }
   ],
   "source": [
    "unique_values = set()\n",
    "for item in cleaned_df:\n",
    "    values = item.split(', ')\n",
    "    unique_values.update(values)\n",
    "print(unique_values)  \n",
    "len(unique_values)"
   ]
  },
  {
   "cell_type": "code",
   "execution_count": 101,
   "metadata": {},
   "outputs": [],
   "source": [
    "categories = {\n",
    "    \"Basic\": [\n",
    "        \"Central Door Lock\",\n",
    "        \"Driver Side Airbag\",\n",
    "        \"Led Daytime Running Lights\",\n",
    "        \"Abs\",\n",
    "        \"Power Steering\",\n",
    "        \"Isofix\",\n",
    "        \"Fog Lights\",\n",
    "        \"Tire Pressure Monitoring System\"\n",
    "    ],\n",
    "    \"Middle\": [\n",
    "        \"Alarm System\",\n",
    "        \"Immobilizer\",\n",
    "        \"CDLWRC\",\n",
    "        \"Emergency System\",\n",
    "        \"Electronic Stability Control\",\n",
    "        \"Side Airbag\",\n",
    "        \"Head Airbag\",\n",
    "        \"Rear Airbag\",\n",
    "        \"Daytime Running Lights\"\n",
    "    ],\n",
    "    \"Premium\": [\n",
    "        \"PSA\",\n",
    "        \"Driver Drowsiness Detection\",\n",
    "        \"Xenon Headlights\",\n",
    "        \"Night View Assist\",\n",
    "        \"Led Headlights\",\n",
    "        \"Blind Spot Monitor\",\n",
    "        \"High Beam Assist\",\n",
    "        \"Adaptive Cruise Control\",\n",
    "        \"Traction Control\",\n",
    "        \"FLH\",\n",
    "        \"Adaptive Headlights\",\n",
    "        \"Speed Limit Control System\",\n",
    "        \"Traffic Sign Recognition\",\n",
    "        \"Distance Warning System\",\n",
    "        \"Lane Departure Warning System\",\n",
    "        \"Emergency Brake Assistant\",\n",
    "        \"Glare Free High Beam Headlights\",\n",
    "        \"Laser Headlights\",\n",
    "        \"BXH\"\n",
    "    ]\n",
    "}"
   ]
  },
  {
   "cell_type": "code",
   "execution_count": 102,
   "metadata": {},
   "outputs": [],
   "source": [
    "for category, keywords in categories.items():\n",
    "    for keyword in keywords:\n",
    "        df[\"safety_security\"] = df[\"safety_security\"].str.replace(keyword, category, regex=True)"
   ]
  },
  {
   "cell_type": "code",
   "execution_count": 103,
   "metadata": {},
   "outputs": [],
   "source": [
    "groups = [\n",
    "    ['make_model', 'body_type', 'gearbox', 'age'],\n",
    "    ['make_model', 'body_type', 'age'],\n",
    "    ['make_model', 'age'],\n",
    "    ['make_model', 'body_type'],\n",
    "    ['body_type']\n",
    "]\n",
    "# Yukarıdaki her bir grup için safety_security sütunundaki NaN değerleri doldur\n",
    "for group in groups:\n",
    "    df['safety_security'] = df['safety_security'].fillna(\n",
    "        df.groupby(group)['safety_security'].transform(lambda x: x.mode()[0] if not x.mode().empty else np.nan))"
   ]
  },
  {
   "cell_type": "code",
   "execution_count": 104,
   "metadata": {},
   "outputs": [
    {
     "name": "stdout",
     "output_type": "stream",
     "text": [
      "Missing Values in safety_security is 0\n",
      "Percentage: 0.00%\n"
     ]
    }
   ],
   "source": [
    "missing_counts(\"safety_security\")"
   ]
  },
  {
   "cell_type": "markdown",
   "metadata": {},
   "source": [
    "<a id=\"8\"></a>\n",
    "<div class=\"alert alert-info\" role=\"alert\">\n",
    "<h1>Column name :<span style=\"color:red\"> entertainment_media_count </span></h1>\n",
    "</div>"
   ]
  },
  {
   "cell_type": "code",
   "execution_count": 105,
   "metadata": {},
   "outputs": [
    {
     "name": "stdout",
     "output_type": "stream",
     "text": [
      "Missing Values in entertainment_media_count is 0\n",
      "Percentage: 0.00%\n"
     ]
    }
   ],
   "source": [
    "missing_counts(\"entertainment_media_count\")"
   ]
  },
  {
   "cell_type": "code",
   "execution_count": 106,
   "metadata": {},
   "outputs": [
    {
     "data": {
      "text/plain": [
       "entertainment_media_count\n",
       "0     3825\n",
       "3     2103\n",
       "2     2098\n",
       "7     2009\n",
       "8     1944\n",
       "6     1942\n",
       "4     1836\n",
       "5     1827\n",
       "9     1693\n",
       "1     1606\n",
       "10    1478\n",
       "11    1091\n",
       "12     746\n",
       "13     408\n",
       "14     109\n",
       "15      19\n",
       "16       4\n",
       "Name: count, dtype: int64"
      ]
     },
     "execution_count": 106,
     "metadata": {},
     "output_type": "execute_result"
    }
   ],
   "source": [
    "df.entertainment_media_count.value_counts(dropna=False)"
   ]
  },
  {
   "cell_type": "code",
   "execution_count": 107,
   "metadata": {},
   "outputs": [],
   "source": [
    "df.entertainment_media_count.replace(0,np.nan, inplace=True)"
   ]
  },
  {
   "cell_type": "code",
   "execution_count": 108,
   "metadata": {},
   "outputs": [
    {
     "data": {
      "text/html": [
       "<div>\n",
       "<style scoped>\n",
       "    .dataframe tbody tr th:only-of-type {\n",
       "        vertical-align: middle;\n",
       "    }\n",
       "\n",
       "    .dataframe tbody tr th {\n",
       "        vertical-align: top;\n",
       "    }\n",
       "\n",
       "    .dataframe thead th {\n",
       "        text-align: right;\n",
       "    }\n",
       "</style>\n",
       "<table border=\"1\" class=\"dataframe\">\n",
       "  <thead>\n",
       "    <tr style=\"text-align: right;\">\n",
       "      <th></th>\n",
       "      <th>entertainment_media_count</th>\n",
       "    </tr>\n",
       "  </thead>\n",
       "  <tbody>\n",
       "    <tr>\n",
       "      <th>entertainment_media_count</th>\n",
       "      <td>1.000000</td>\n",
       "    </tr>\n",
       "    <tr>\n",
       "      <th>safety_security_count</th>\n",
       "      <td>0.804667</td>\n",
       "    </tr>\n",
       "    <tr>\n",
       "      <th>comfort_convenience_count</th>\n",
       "      <td>0.766982</td>\n",
       "    </tr>\n",
       "    <tr>\n",
       "      <th>extras_count</th>\n",
       "      <td>0.703268</td>\n",
       "    </tr>\n",
       "    <tr>\n",
       "      <th>price</th>\n",
       "      <td>0.357802</td>\n",
       "    </tr>\n",
       "    <tr>\n",
       "      <th>power</th>\n",
       "      <td>0.252476</td>\n",
       "    </tr>\n",
       "    <tr>\n",
       "      <th>gears</th>\n",
       "      <td>0.224229</td>\n",
       "    </tr>\n",
       "    <tr>\n",
       "      <th>doors</th>\n",
       "      <td>0.194163</td>\n",
       "    </tr>\n",
       "    <tr>\n",
       "      <th>seats</th>\n",
       "      <td>0.163436</td>\n",
       "    </tr>\n",
       "    <tr>\n",
       "      <th>engine_size</th>\n",
       "      <td>0.056315</td>\n",
       "    </tr>\n",
       "    <tr>\n",
       "      <th>cylinders</th>\n",
       "      <td>0.033282</td>\n",
       "    </tr>\n",
       "    <tr>\n",
       "      <th>fuel_consumption_country</th>\n",
       "      <td>0.030064</td>\n",
       "    </tr>\n",
       "    <tr>\n",
       "      <th>fuel_consumption_city</th>\n",
       "      <td>-0.001775</td>\n",
       "    </tr>\n",
       "    <tr>\n",
       "      <th>co_emissions</th>\n",
       "      <td>-0.012852</td>\n",
       "    </tr>\n",
       "    <tr>\n",
       "      <th>fuel_consumption_comb</th>\n",
       "      <td>-0.059503</td>\n",
       "    </tr>\n",
       "    <tr>\n",
       "      <th>previous_owner</th>\n",
       "      <td>-0.285003</td>\n",
       "    </tr>\n",
       "    <tr>\n",
       "      <th>mileage</th>\n",
       "      <td>-0.389896</td>\n",
       "    </tr>\n",
       "    <tr>\n",
       "      <th>production_date</th>\n",
       "      <td>-0.413095</td>\n",
       "    </tr>\n",
       "    <tr>\n",
       "      <th>age</th>\n",
       "      <td>-0.451064</td>\n",
       "    </tr>\n",
       "  </tbody>\n",
       "</table>\n",
       "</div>"
      ],
      "text/plain": [
       "                           entertainment_media_count\n",
       "entertainment_media_count                   1.000000\n",
       "safety_security_count                       0.804667\n",
       "comfort_convenience_count                   0.766982\n",
       "extras_count                                0.703268\n",
       "price                                       0.357802\n",
       "power                                       0.252476\n",
       "gears                                       0.224229\n",
       "doors                                       0.194163\n",
       "seats                                       0.163436\n",
       "engine_size                                 0.056315\n",
       "cylinders                                   0.033282\n",
       "fuel_consumption_country                    0.030064\n",
       "fuel_consumption_city                      -0.001775\n",
       "co_emissions                               -0.012852\n",
       "fuel_consumption_comb                      -0.059503\n",
       "previous_owner                             -0.285003\n",
       "mileage                                    -0.389896\n",
       "production_date                            -0.413095\n",
       "age                                        -0.451064"
      ]
     },
     "execution_count": 108,
     "metadata": {},
     "output_type": "execute_result"
    }
   ],
   "source": [
    "df.corr(numeric_only=True)[[\"entertainment_media_count\"]].sort_values(by=\"entertainment_media_count\", ascending=False)"
   ]
  },
  {
   "cell_type": "code",
   "execution_count": 109,
   "metadata": {},
   "outputs": [
    {
     "name": "stdout",
     "output_type": "stream",
     "text": [
      "Before filling nan values count :  3825\n",
      "After first filling 3825 values filled\n",
      "Now new nan values count is 0\n",
      "After first filling 0 values filled\n",
      "Last null values is 0\n"
     ]
    }
   ],
   "source": [
    "filling_columns(\"entertainment_media_count\", \"make_model\", \"safety_security_count\")"
   ]
  },
  {
   "cell_type": "code",
   "execution_count": 110,
   "metadata": {},
   "outputs": [
    {
     "data": {
      "text/plain": [
       "entertainment_media_count\n",
       "3.0     3631\n",
       "1.0     3331\n",
       "2.0     2493\n",
       "7.0     2041\n",
       "6.0     1962\n",
       "8.0     1946\n",
       "4.0     1915\n",
       "5.0     1871\n",
       "9.0     1693\n",
       "10.0    1478\n",
       "11.0    1091\n",
       "12.0     746\n",
       "13.0     408\n",
       "14.0     109\n",
       "15.0      19\n",
       "16.0       4\n",
       "Name: count, dtype: int64"
      ]
     },
     "execution_count": 110,
     "metadata": {},
     "output_type": "execute_result"
    }
   ],
   "source": [
    "df.entertainment_media_count.value_counts(dropna=False)"
   ]
  },
  {
   "cell_type": "code",
   "execution_count": 111,
   "metadata": {},
   "outputs": [],
   "source": [
    "df.entertainment_media_count.replace([1,2,3,4,5,6,7,8],\"Standart\", inplace=True)"
   ]
  },
  {
   "cell_type": "code",
   "execution_count": 112,
   "metadata": {},
   "outputs": [],
   "source": [
    "df.entertainment_media_count.replace([9,10,11,12,13,14,15,16],\"Upgrated\", inplace=True)"
   ]
  },
  {
   "cell_type": "code",
   "execution_count": 113,
   "metadata": {},
   "outputs": [
    {
     "data": {
      "text/plain": [
       "entertainment_media_count\n",
       "Standart    19190\n",
       "Upgrated     5548\n",
       "Name: count, dtype: int64"
      ]
     },
     "execution_count": 113,
     "metadata": {},
     "output_type": "execute_result"
    }
   ],
   "source": [
    "df.entertainment_media_count.value_counts(dropna=False)"
   ]
  },
  {
   "cell_type": "markdown",
   "metadata": {},
   "source": [
    "<a id=\"8\"></a>\n",
    "<div class=\"alert alert-info\" role=\"alert\">\n",
    "<h1>Column name :<span style=\"color:red\"> extras_count </span></h1>\n",
    "</div>"
   ]
  },
  {
   "cell_type": "code",
   "execution_count": 114,
   "metadata": {},
   "outputs": [
    {
     "data": {
      "text/plain": [
       "extras_count\n",
       "0     4100\n",
       "1     3645\n",
       "2     2664\n",
       "3     2501\n",
       "4     2132\n",
       "5     1878\n",
       "6     1499\n",
       "7     1402\n",
       "8     1080\n",
       "9      961\n",
       "10     831\n",
       "11     612\n",
       "12     512\n",
       "13     336\n",
       "14     238\n",
       "15     167\n",
       "16      95\n",
       "17      49\n",
       "18      23\n",
       "19      10\n",
       "20       2\n",
       "26       1\n",
       "Name: count, dtype: int64"
      ]
     },
     "execution_count": 114,
     "metadata": {},
     "output_type": "execute_result"
    }
   ],
   "source": [
    "df.extras_count.value_counts(dropna=False)"
   ]
  },
  {
   "cell_type": "code",
   "execution_count": 115,
   "metadata": {},
   "outputs": [],
   "source": [
    "df[\"extras_count\"] = df[\"extras_count\"].replace(0, np.nan)"
   ]
  },
  {
   "cell_type": "code",
   "execution_count": 116,
   "metadata": {},
   "outputs": [
    {
     "data": {
      "text/plain": [
       "extras_count\n",
       "NaN     4100\n",
       "1.0     3645\n",
       "2.0     2664\n",
       "3.0     2501\n",
       "4.0     2132\n",
       "5.0     1878\n",
       "6.0     1499\n",
       "7.0     1402\n",
       "8.0     1080\n",
       "9.0      961\n",
       "10.0     831\n",
       "11.0     612\n",
       "12.0     512\n",
       "13.0     336\n",
       "14.0     238\n",
       "15.0     167\n",
       "16.0      95\n",
       "17.0      49\n",
       "18.0      23\n",
       "19.0      10\n",
       "20.0       2\n",
       "26.0       1\n",
       "Name: count, dtype: int64"
      ]
     },
     "execution_count": 116,
     "metadata": {},
     "output_type": "execute_result"
    }
   ],
   "source": [
    "df.extras_count.value_counts(dropna=False)"
   ]
  },
  {
   "cell_type": "code",
   "execution_count": 117,
   "metadata": {},
   "outputs": [
    {
     "name": "stdout",
     "output_type": "stream",
     "text": [
      "(18, 18)\n"
     ]
    }
   ],
   "source": [
    "corr_matrix = df.corr(numeric_only=True)\n",
    "print(corr_matrix.shape)"
   ]
  },
  {
   "cell_type": "code",
   "execution_count": 118,
   "metadata": {},
   "outputs": [
    {
     "data": {
      "text/plain": [
       "price                        0.279168\n",
       "doors                        0.085607\n",
       "mileage                     -0.201471\n",
       "seats                        0.087156\n",
       "power                        0.303585\n",
       "engine_size                  0.155374\n",
       "gears                        0.227099\n",
       "co_emissions                 0.029248\n",
       "cylinders                    0.081713\n",
       "production_date             -0.220987\n",
       "previous_owner              -0.127153\n",
       "age                         -0.234221\n",
       "fuel_consumption_comb        0.060141\n",
       "fuel_consumption_city        0.065604\n",
       "fuel_consumption_country     0.092891\n",
       "comfort_convenience_count    0.707813\n",
       "safety_security_count        0.694642\n",
       "extras_count                 1.000000\n",
       "Name: extras_count, dtype: float64"
      ]
     },
     "execution_count": 118,
     "metadata": {},
     "output_type": "execute_result"
    }
   ],
   "source": [
    "df.corr(numeric_only=True).iloc[:, 17]"
   ]
  },
  {
   "cell_type": "code",
   "execution_count": 119,
   "metadata": {},
   "outputs": [],
   "source": [
    "df[\"extras_count\"].fillna(df.groupby([\"make_model\", \"age\"])[\"extras_count\"].transform(lambda x: round(x.mean(), 1) if not x.mean() == \"\" else np.nan), inplace=True)"
   ]
  },
  {
   "cell_type": "code",
   "execution_count": 120,
   "metadata": {},
   "outputs": [
    {
     "name": "stdout",
     "output_type": "stream",
     "text": [
      "Missing Values in extras_count is 530\n",
      "Percentage: 2.14%\n"
     ]
    }
   ],
   "source": [
    "missing_counts(\"extras_count\")"
   ]
  },
  {
   "cell_type": "code",
   "execution_count": 121,
   "metadata": {},
   "outputs": [],
   "source": [
    "df[\"extras_count\"].fillna(df.groupby([\"make_model\", \"entertainment_media_count\"])[\"extras_count\"].transform(lambda x: round(x.mean(), 1) if not x.mean() == \"\" else np.nan), inplace=True)"
   ]
  },
  {
   "cell_type": "code",
   "execution_count": 122,
   "metadata": {},
   "outputs": [
    {
     "name": "stdout",
     "output_type": "stream",
     "text": [
      "Missing Values in extras_count is 94\n",
      "Percentage: 0.38%\n"
     ]
    }
   ],
   "source": [
    "missing_counts(\"extras_count\")"
   ]
  },
  {
   "cell_type": "code",
   "execution_count": 123,
   "metadata": {},
   "outputs": [],
   "source": [
    "df[\"extras_count\"].fillna(df.groupby([\"age\", \"entertainment_media_count\"])[\"extras_count\"].transform(lambda x: round(x.mean(), 1) if not x.mean() == \"\" else np.nan), inplace=True)"
   ]
  },
  {
   "cell_type": "code",
   "execution_count": 124,
   "metadata": {},
   "outputs": [
    {
     "name": "stdout",
     "output_type": "stream",
     "text": [
      "Missing Values in extras_count is 1\n",
      "Percentage: 0.00%\n"
     ]
    }
   ],
   "source": [
    "missing_counts(\"extras_count\")"
   ]
  },
  {
   "cell_type": "code",
   "execution_count": 125,
   "metadata": {},
   "outputs": [],
   "source": [
    "df[\"extras_count\"].fillna(df.groupby([\"make_model\"])[\"extras_count\"].transform(lambda x: round(x.mean(), 1) if not x.mean() == \"\" else np.nan), inplace=True)"
   ]
  },
  {
   "cell_type": "code",
   "execution_count": 126,
   "metadata": {},
   "outputs": [
    {
     "name": "stdout",
     "output_type": "stream",
     "text": [
      "Missing Values in extras_count is 0\n",
      "Percentage: 0.00%\n"
     ]
    }
   ],
   "source": [
    "missing_counts(\"extras_count\")"
   ]
  },
  {
   "cell_type": "code",
   "execution_count": 127,
   "metadata": {},
   "outputs": [],
   "source": [
    "df[\"extras_count\"] = df[\"extras_count\"].transform(lambda x: round(x)).astype(float)"
   ]
  },
  {
   "cell_type": "code",
   "execution_count": 128,
   "metadata": {},
   "outputs": [
    {
     "data": {
      "text/plain": [
       "extras_count\n",
       "1.0     3848\n",
       "3.0     3436\n",
       "2.0     3415\n",
       "4.0     3125\n",
       "5.0     2334\n",
       "6.0     1856\n",
       "7.0     1541\n",
       "8.0     1235\n",
       "9.0     1023\n",
       "10.0     864\n",
       "11.0     618\n",
       "12.0     513\n",
       "13.0     340\n",
       "14.0     241\n",
       "15.0     168\n",
       "16.0      96\n",
       "17.0      49\n",
       "18.0      23\n",
       "19.0      10\n",
       "20.0       2\n",
       "26.0       1\n",
       "Name: count, dtype: int64"
      ]
     },
     "execution_count": 128,
     "metadata": {},
     "output_type": "execute_result"
    }
   ],
   "source": [
    "df.extras_count.value_counts(dropna=False)"
   ]
  },
  {
   "cell_type": "markdown",
   "metadata": {},
   "source": [
    "<a id=\"8\"></a>\n",
    "<div class=\"alert alert-info\" role=\"alert\">\n",
    "<h1>Column name :<span style=\"color:red\"> comfort_convenience </span></h1>\n",
    "</div>"
   ]
  },
  {
   "cell_type": "code",
   "execution_count": 129,
   "metadata": {},
   "outputs": [
    {
     "name": "stdout",
     "output_type": "stream",
     "text": [
      "Missing Values in comfort_convenience is 2471\n",
      "Percentage: 9.99%\n"
     ]
    }
   ],
   "source": [
    "missing_counts(\"comfort_convenience\")"
   ]
  },
  {
   "cell_type": "code",
   "execution_count": 130,
   "metadata": {},
   "outputs": [],
   "source": [
    "groups = [\n",
    "   ['make_model', 'extras_count', 'entertainment_media_count', 'safety_security', 'upholstery'],\n",
    "   ['make_model', 'entertainment_media_count', 'safety_security', 'upholstery'],\n",
    "   ['make_model', 'entertainment_media_count', 'safety_security'],\n",
    "   ['make_model', 'entertainment_media_count'],\n",
    "   ['body_type']\n",
    "]\n",
    "\n",
    "for group in groups:\n",
    "    df.comfort_convenience.fillna(df.groupby(group)['comfort_convenience'].transform(lambda x: x.fillna(x.mode().max())), inplace = True)"
   ]
  },
  {
   "cell_type": "code",
   "execution_count": 131,
   "metadata": {},
   "outputs": [
    {
     "name": "stdout",
     "output_type": "stream",
     "text": [
      "Missing Values in comfort_convenience is 0\n",
      "Percentage: 0.00%\n"
     ]
    }
   ],
   "source": [
    "missing_counts(\"comfort_convenience\")"
   ]
  },
  {
   "cell_type": "markdown",
   "metadata": {},
   "source": [
    "<a id=\"8\"></a>\n",
    "<div class=\"alert alert-info\" role=\"alert\">\n",
    "<h1>Column name :<span style=\"color:red\"> seats </span></h1>\n",
    "</div>"
   ]
  },
  {
   "cell_type": "code",
   "execution_count": 132,
   "metadata": {},
   "outputs": [
    {
     "name": "stdout",
     "output_type": "stream",
     "text": [
      "Missing Values in seats is 2565\n",
      "Percentage: 10.37%\n"
     ]
    }
   ],
   "source": [
    "missing_counts(\"seats\")"
   ]
  },
  {
   "cell_type": "code",
   "execution_count": 133,
   "metadata": {},
   "outputs": [
    {
     "name": "stdout",
     "output_type": "stream",
     "text": [
      "Before filling nan values count :  2565\n",
      "After first filling 2565 values filled\n",
      "Now new nan values count is 0\n",
      "After first filling 0 values filled\n",
      "Last null values is 0\n"
     ]
    }
   ],
   "source": [
    "filling_columns(\"seats\", \"make_model\", \"body_type\")"
   ]
  },
  {
   "cell_type": "markdown",
   "metadata": {},
   "source": [
    "<a id=\"8\"></a>\n",
    "<div class=\"alert alert-info\" role=\"alert\">\n",
    "<h1>Column name :<span style=\"color:red\"> drivetrain </span></h1>\n",
    "</div>"
   ]
  },
  {
   "cell_type": "code",
   "execution_count": 134,
   "metadata": {},
   "outputs": [
    {
     "name": "stdout",
     "output_type": "stream",
     "text": [
      "Missing Values in drivetrain is 10531\n",
      "Percentage: 42.57%\n"
     ]
    }
   ],
   "source": [
    "missing_counts(\"drivetrain\")"
   ]
  },
  {
   "cell_type": "code",
   "execution_count": 135,
   "metadata": {},
   "outputs": [
    {
     "name": "stdout",
     "output_type": "stream",
     "text": [
      "Before filling nan values count :  10531\n",
      "After first filling 10531 values filled\n",
      "Now new nan values count is 0\n",
      "After first filling 0 values filled\n",
      "Last null values is 0\n"
     ]
    }
   ],
   "source": [
    "filling_columns(\"drivetrain\", \"make_model\", \"power\")"
   ]
  },
  {
   "cell_type": "markdown",
   "metadata": {},
   "source": [
    "<a id=\"8\"></a>\n",
    "<div class=\"alert alert-info\" role=\"alert\">\n",
    "<h1>Column name :<span style=\"color:red\"> co_emissions </span></h1>\n",
    "</div>"
   ]
  },
  {
   "cell_type": "code",
   "execution_count": 136,
   "metadata": {},
   "outputs": [
    {
     "name": "stdout",
     "output_type": "stream",
     "text": [
      "Missing Values in co_emissions is 7630\n",
      "Percentage: 30.84%\n"
     ]
    }
   ],
   "source": [
    "missing_counts(\"co_emissions\")"
   ]
  },
  {
   "cell_type": "code",
   "execution_count": 137,
   "metadata": {},
   "outputs": [
    {
     "data": {
      "text/plain": [
       "co_emissions\n",
       "0.0      178\n",
       "1.0        2\n",
       "132.0      1\n",
       "Name: count, dtype: int64"
      ]
     },
     "execution_count": 137,
     "metadata": {},
     "output_type": "execute_result"
    }
   ],
   "source": [
    "df[df['fuel_type'] == 'Electric'].co_emissions.value_counts()"
   ]
  },
  {
   "cell_type": "code",
   "execution_count": 138,
   "metadata": {},
   "outputs": [],
   "source": [
    "df.loc[df.fuel_type == 'Electric', 'co_emissions'] = 0.0\n",
    "\n",
    "df.loc[~(df.fuel_type == 'Electric') & (df.co_emissions == 0.0), 'co_emissions'] = np.nan\n",
    "\n",
    "groups = [\n",
    "    ['make_model', 'age', 'engine_size', 'cylinders', 'power'],\n",
    "    ['make_model', 'body_type', 'age', 'fuel_type'],\n",
    "    ['body_type', 'age', 'fuel_type'],\n",
    "    ['age', 'fuel_type'],\n",
    "    ['fuel_type']\n",
    "]\n",
    "# Yukarıdaki her bir grup için safety_security sütunundaki NaN değerleri doldur\n",
    "for group in groups:\n",
    "    df.co_emissions.fillna(df.groupby(group)['co_emissions'].transform(lambda x: x.fillna(x.mode().max())), inplace = True)"
   ]
  },
  {
   "cell_type": "code",
   "execution_count": 139,
   "metadata": {},
   "outputs": [
    {
     "name": "stdout",
     "output_type": "stream",
     "text": [
      "Missing Values in co_emissions is 0\n",
      "Percentage: 0.00%\n"
     ]
    }
   ],
   "source": [
    "missing_counts(\"co_emissions\")"
   ]
  },
  {
   "cell_type": "markdown",
   "metadata": {},
   "source": [
    "<a id=\"8\"></a>\n",
    "<div class=\"alert alert-info\" role=\"alert\">\n",
    "<h1>Column :<span style=\"color:red\"> emission_class </span></h1>\n",
    "</div>"
   ]
  },
  {
   "cell_type": "code",
   "execution_count": 140,
   "metadata": {},
   "outputs": [
    {
     "name": "stdout",
     "output_type": "stream",
     "text": [
      "Column Name    :  emission_class\n",
      "----------------------------------------\n",
      "Per_of_nulls   :  % 33.3\n",
      "Num_of_nulls   :  8237\n",
      "Num_of_uniques :  6\n",
      "----------------------------------------\n",
      "emission_class\n",
      "Euro 6    11939\n",
      "NaN        8237\n",
      "Euro 5     2241\n",
      "Euro 4     1515\n",
      "Euro 3      449\n",
      "Euro 2      197\n",
      "Euro 1      160\n",
      "Name: count, dtype: int64\n"
     ]
    }
   ],
   "source": [
    "describe(\"emission_class\")"
   ]
  },
  {
   "cell_type": "code",
   "execution_count": 141,
   "metadata": {},
   "outputs": [
    {
     "data": {
      "image/png": "[encoded data removed]",
      "text/plain": [
       "<Figure size 1000x600 with 1 Axes>"
      ]
     },
     "metadata": {},
     "output_type": "display_data"
    }
   ],
   "source": [
    "analyze(\"emission_class\")"
   ]
  },
  {
   "cell_type": "code",
   "execution_count": 142,
   "metadata": {},
   "outputs": [
    {
     "data": {
      "text/plain": [
       "make_model    age  emission_class\n",
       "Dacia Dokker  2.0  NaN                1\n",
       "                   Euro 6             1\n",
       "Dacia Duster  2.0  Euro 6            15\n",
       "                   NaN               13\n",
       "Dacia Lodgy   2.0  NaN                4\n",
       "                                     ..\n",
       "Volvo XC40    2.0  Euro 6             7\n",
       "Volvo XC60    2.0  Euro 6            13\n",
       "                   NaN                5\n",
       "Volvo XC90    2.0  Euro 6             8\n",
       "                   NaN                2\n",
       "Name: count, Length: 287, dtype: int64"
      ]
     },
     "execution_count": 142,
     "metadata": {},
     "output_type": "execute_result"
    }
   ],
   "source": [
    "df[df[\"age\"]==2].groupby([\"make_model\", \"age\"])[\"emission_class\"].value_counts(dropna=False)"
   ]
  },
  {
   "cell_type": "code",
   "execution_count": 143,
   "metadata": {},
   "outputs": [],
   "source": [
    "for group1 in list(df[\"make_model\"].unique()):\n",
    "    for group2 in list(df[\"age\"].unique()):\n",
    "        \n",
    "            cond = (df['make_model'] == group1) & (df['age'] == group2) \n",
    "            mode = list(df[cond][\"emission_class\"].mode())\n",
    "            if mode != []:\n",
    "                df.loc[cond, \"emission_class\"] = df.loc[cond, \"emission_class\"].fillna(df[cond][\"emission_class\"].mode()[0])\n",
    "            else:\n",
    "                df.loc[cond, \"emission_class\"] = df.loc[cond, \"emission_class\"].fillna(df[\"emission_class\"].mode()[0])"
   ]
  },
  {
   "cell_type": "code",
   "execution_count": 144,
   "metadata": {},
   "outputs": [
    {
     "name": "stdout",
     "output_type": "stream",
     "text": [
      "Column Name    :  emission_class\n",
      "----------------------------------------\n",
      "Per_of_nulls   :  % 0.0\n",
      "Num_of_nulls   :  0\n",
      "Num_of_uniques :  6\n",
      "----------------------------------------\n",
      "emission_class\n",
      "Euro 6    18493\n",
      "Euro 5     2936\n",
      "Euro 4     2035\n",
      "Euro 3      618\n",
      "Euro 2      349\n",
      "Euro 1      307\n",
      "Name: count, dtype: int64\n"
     ]
    }
   ],
   "source": [
    "describe(\"emission_class\")"
   ]
  },
  {
   "cell_type": "markdown",
   "metadata": {},
   "source": [
    "<a id=\"8\"></a>\n",
    "<div class=\"alert alert-info\" role=\"alert\">\n",
    "<h1>Column :<span style=\"color:red\"> cylinders </span></h1>\n",
    "</div>"
   ]
  },
  {
   "cell_type": "code",
   "execution_count": 145,
   "metadata": {},
   "outputs": [
    {
     "name": "stdout",
     "output_type": "stream",
     "text": [
      "Missing Values in cylinders is 8494\n",
      "Percentage: 34.34%\n"
     ]
    }
   ],
   "source": [
    "missing_counts(\"cylinders\")"
   ]
  },
  {
   "cell_type": "code",
   "execution_count": 146,
   "metadata": {},
   "outputs": [
    {
     "data": {
      "text/plain": [
       "cylinders\n",
       "4.0     11179\n",
       "NaN      8494\n",
       "3.0      2983\n",
       "6.0       952\n",
       "8.0       522\n",
       "5.0       439\n",
       "2.0        99\n",
       "0.0        33\n",
       "1.0        21\n",
       "12.0        8\n",
       "7.0         6\n",
       "26.0        1\n",
       "16.0        1\n",
       "Name: count, dtype: int64"
      ]
     },
     "execution_count": 146,
     "metadata": {},
     "output_type": "execute_result"
    }
   ],
   "source": [
    "df.cylinders.value_counts(dropna=False)"
   ]
  },
  {
   "cell_type": "code",
   "execution_count": 147,
   "metadata": {},
   "outputs": [
    {
     "data": {
      "text/html": [
       "<div>\n",
       "<style scoped>\n",
       "    .dataframe tbody tr th:only-of-type {\n",
       "        vertical-align: middle;\n",
       "    }\n",
       "\n",
       "    .dataframe tbody tr th {\n",
       "        vertical-align: top;\n",
       "    }\n",
       "\n",
       "    .dataframe thead th {\n",
       "        text-align: right;\n",
       "    }\n",
       "</style>\n",
       "<table border=\"1\" class=\"dataframe\">\n",
       "  <thead>\n",
       "    <tr style=\"text-align: right;\">\n",
       "      <th></th>\n",
       "      <th>cylinders</th>\n",
       "    </tr>\n",
       "  </thead>\n",
       "  <tbody>\n",
       "    <tr>\n",
       "      <th>cylinders</th>\n",
       "      <td>1.000000</td>\n",
       "    </tr>\n",
       "    <tr>\n",
       "      <th>engine_size</th>\n",
       "      <td>0.771933</td>\n",
       "    </tr>\n",
       "    <tr>\n",
       "      <th>power</th>\n",
       "      <td>0.682314</td>\n",
       "    </tr>\n",
       "    <tr>\n",
       "      <th>fuel_consumption_city</th>\n",
       "      <td>0.639746</td>\n",
       "    </tr>\n",
       "    <tr>\n",
       "      <th>fuel_consumption_comb</th>\n",
       "      <td>0.625010</td>\n",
       "    </tr>\n",
       "    <tr>\n",
       "      <th>fuel_consumption_country</th>\n",
       "      <td>0.602787</td>\n",
       "    </tr>\n",
       "    <tr>\n",
       "      <th>price</th>\n",
       "      <td>0.410910</td>\n",
       "    </tr>\n",
       "    <tr>\n",
       "      <th>gears</th>\n",
       "      <td>0.225702</td>\n",
       "    </tr>\n",
       "    <tr>\n",
       "      <th>age</th>\n",
       "      <td>0.224711</td>\n",
       "    </tr>\n",
       "    <tr>\n",
       "      <th>co_emissions</th>\n",
       "      <td>0.202493</td>\n",
       "    </tr>\n",
       "    <tr>\n",
       "      <th>production_date</th>\n",
       "      <td>0.120155</td>\n",
       "    </tr>\n",
       "    <tr>\n",
       "      <th>mileage</th>\n",
       "      <td>0.110405</td>\n",
       "    </tr>\n",
       "    <tr>\n",
       "      <th>previous_owner</th>\n",
       "      <td>0.091576</td>\n",
       "    </tr>\n",
       "    <tr>\n",
       "      <th>extras_count</th>\n",
       "      <td>0.077636</td>\n",
       "    </tr>\n",
       "    <tr>\n",
       "      <th>comfort_convenience_count</th>\n",
       "      <td>0.056955</td>\n",
       "    </tr>\n",
       "    <tr>\n",
       "      <th>safety_security_count</th>\n",
       "      <td>-0.015269</td>\n",
       "    </tr>\n",
       "    <tr>\n",
       "      <th>seats</th>\n",
       "      <td>-0.255129</td>\n",
       "    </tr>\n",
       "    <tr>\n",
       "      <th>doors</th>\n",
       "      <td>-0.292609</td>\n",
       "    </tr>\n",
       "  </tbody>\n",
       "</table>\n",
       "</div>"
      ],
      "text/plain": [
       "                           cylinders\n",
       "cylinders                   1.000000\n",
       "engine_size                 0.771933\n",
       "power                       0.682314\n",
       "fuel_consumption_city       0.639746\n",
       "fuel_consumption_comb       0.625010\n",
       "fuel_consumption_country    0.602787\n",
       "price                       0.410910\n",
       "gears                       0.225702\n",
       "age                         0.224711\n",
       "co_emissions                0.202493\n",
       "production_date             0.120155\n",
       "mileage                     0.110405\n",
       "previous_owner              0.091576\n",
       "extras_count                0.077636\n",
       "comfort_convenience_count   0.056955\n",
       "safety_security_count      -0.015269\n",
       "seats                      -0.255129\n",
       "doors                      -0.292609"
      ]
     },
     "execution_count": 147,
     "metadata": {},
     "output_type": "execute_result"
    }
   ],
   "source": [
    "df.corr(numeric_only=True)[[\"cylinders\"]].sort_values(by=\"cylinders\", ascending=False)"
   ]
  },
  {
   "cell_type": "code",
   "execution_count": 148,
   "metadata": {},
   "outputs": [
    {
     "name": "stdout",
     "output_type": "stream",
     "text": [
      "Before filling nan values count :  8494\n",
      "After first filling 8494 values filled\n",
      "Now new nan values count is 0\n",
      "After first filling 0 values filled\n",
      "Last null values is 0\n"
     ]
    }
   ],
   "source": [
    "filling_columns(\"cylinders\", \"make_model\", \"engine_size\")"
   ]
  },
  {
   "cell_type": "markdown",
   "metadata": {},
   "source": [
    "<a id=\"8\"></a>\n",
    "<div class=\"alert alert-info\" role=\"alert\">\n",
    "<h1>Column :<span style=\"color:red\"> gears </span></h1>\n",
    "</div>"
   ]
  },
  {
   "cell_type": "code",
   "execution_count": 149,
   "metadata": {},
   "outputs": [
    {
     "name": "stdout",
     "output_type": "stream",
     "text": [
      "Missing Values in gears is 8505\n",
      "Percentage: 34.38%\n"
     ]
    }
   ],
   "source": [
    "missing_counts(\"gears\")"
   ]
  },
  {
   "cell_type": "code",
   "execution_count": 150,
   "metadata": {},
   "outputs": [
    {
     "data": {
      "text/plain": [
       "57"
      ]
     },
     "execution_count": 150,
     "metadata": {},
     "output_type": "execute_result"
    }
   ],
   "source": [
    "df.loc[df[\"gears\"].isnull()][\"short_description\"].str.contains(\"(\\d)dct\", case=False).sum()"
   ]
  },
  {
   "cell_type": "code",
   "execution_count": 151,
   "metadata": {},
   "outputs": [],
   "source": [
    "gear_number1 = df.loc[df[\"gears\"].isnull()][\"short_description\"].str.contains(\"(\\d)dct\", case=False)"
   ]
  },
  {
   "cell_type": "code",
   "execution_count": 152,
   "metadata": {},
   "outputs": [],
   "source": [
    "gear_index1 = gear_number1[gear_number1 == True].index"
   ]
  },
  {
   "cell_type": "code",
   "execution_count": 153,
   "metadata": {},
   "outputs": [],
   "source": [
    "gear_dct = df.loc[gear_index1, \"short_description\"].str.extract(r'(\\d)DCT').astype(float)"
   ]
  },
  {
   "cell_type": "code",
   "execution_count": 154,
   "metadata": {},
   "outputs": [],
   "source": [
    "df.iloc[gear_index1, 20] = gear_dct"
   ]
  },
  {
   "cell_type": "markdown",
   "metadata": {},
   "source": [
    "#### dsg N"
   ]
  },
  {
   "cell_type": "code",
   "execution_count": 155,
   "metadata": {},
   "outputs": [
    {
     "data": {
      "text/plain": [
       "16"
      ]
     },
     "execution_count": 155,
     "metadata": {},
     "output_type": "execute_result"
    }
   ],
   "source": [
    "df.loc[df[\"gears\"].isnull()][\"short_description\"].str.contains(\"dsg(\\d)\", case=False).sum()"
   ]
  },
  {
   "cell_type": "code",
   "execution_count": 156,
   "metadata": {},
   "outputs": [],
   "source": [
    "gear_number2 = df.loc[df[\"gears\"].isnull()][\"short_description\"].str.contains(\"dsg(\\d)\", case=False)"
   ]
  },
  {
   "cell_type": "code",
   "execution_count": 157,
   "metadata": {},
   "outputs": [],
   "source": [
    "gear_index2 = gear_number2[gear_number2 == True].index"
   ]
  },
  {
   "cell_type": "code",
   "execution_count": 158,
   "metadata": {},
   "outputs": [],
   "source": [
    "df.iloc[gear_index2, 20] = df.loc[gear_index2, \"short_description\"].str.lower().str.extract(r'dsg(\\d)').astype(float)"
   ]
  },
  {
   "cell_type": "markdown",
   "metadata": {},
   "source": [
    "#### geartronic N"
   ]
  },
  {
   "cell_type": "code",
   "execution_count": 159,
   "metadata": {},
   "outputs": [
    {
     "data": {
      "text/plain": [
       "2"
      ]
     },
     "execution_count": 159,
     "metadata": {},
     "output_type": "execute_result"
    }
   ],
   "source": [
    "df.loc[df[\"gears\"].isnull()][\"short_description\"].str.contains(\"geartronic (\\d)\", case=False).sum()"
   ]
  },
  {
   "cell_type": "code",
   "execution_count": 160,
   "metadata": {},
   "outputs": [],
   "source": [
    "geartronic = df.loc[df[\"gears\"].isnull()][\"short_description\"].str.contains(\"geartronic (\\d)\", case=False)"
   ]
  },
  {
   "cell_type": "code",
   "execution_count": 161,
   "metadata": {},
   "outputs": [],
   "source": [
    "geartronic_index = geartronic[geartronic==True].index"
   ]
  },
  {
   "cell_type": "code",
   "execution_count": 162,
   "metadata": {},
   "outputs": [],
   "source": [
    "df.iloc[geartronic_index, 20] = df.loc[geartronic_index, \"short_description\"].str.lower().str.extract(r'geartronic (\\d)').astype(float)"
   ]
  },
  {
   "cell_type": "markdown",
   "metadata": {},
   "source": [
    "#### N gang"
   ]
  },
  {
   "cell_type": "code",
   "execution_count": 163,
   "metadata": {},
   "outputs": [
    {
     "data": {
      "text/plain": [
       "87"
      ]
     },
     "execution_count": 163,
     "metadata": {},
     "output_type": "execute_result"
    }
   ],
   "source": [
    "df.loc[df[\"gears\"].isnull()][\"desc\"].str.contains(\"(\\d) gang\", case=False).sum()"
   ]
  },
  {
   "cell_type": "code",
   "execution_count": 164,
   "metadata": {},
   "outputs": [],
   "source": [
    "gang = df.loc[df[\"gears\"].isnull()][\"desc\"].str.contains(\"(\\d) gang\", case=False)"
   ]
  },
  {
   "cell_type": "code",
   "execution_count": 165,
   "metadata": {},
   "outputs": [],
   "source": [
    "gang_index = gang[gang==True].index"
   ]
  },
  {
   "cell_type": "code",
   "execution_count": 166,
   "metadata": {},
   "outputs": [],
   "source": [
    "df.iloc[gang_index, 20] = df.loc[gang_index, \"desc\"].str.lower().str.extract(r'(\\d) gang').astype(float)"
   ]
  },
  {
   "cell_type": "markdown",
   "metadata": {},
   "source": [
    "#### N-gang"
   ]
  },
  {
   "cell_type": "code",
   "execution_count": 167,
   "metadata": {},
   "outputs": [
    {
     "data": {
      "text/plain": [
       "919"
      ]
     },
     "execution_count": 167,
     "metadata": {},
     "output_type": "execute_result"
    }
   ],
   "source": [
    "df.loc[df[\"gears\"].isnull()][\"desc\"].str.contains(\"(\\d)-gang\", case=False).sum()"
   ]
  },
  {
   "cell_type": "code",
   "execution_count": 168,
   "metadata": {},
   "outputs": [],
   "source": [
    "gang2 = df.loc[df[\"gears\"].isnull()][\"desc\"].str.contains(\"(\\d)-gang\", case=False)"
   ]
  },
  {
   "cell_type": "code",
   "execution_count": 169,
   "metadata": {},
   "outputs": [],
   "source": [
    "gang_index2 = gang2[gang2==True].index"
   ]
  },
  {
   "cell_type": "code",
   "execution_count": 170,
   "metadata": {},
   "outputs": [],
   "source": [
    "df.iloc[gang_index2, 20] = df.loc[gang_index2, \"desc\"].str.lower().str.extract(r'(\\d)-gang').astype(float)"
   ]
  },
  {
   "cell_type": "markdown",
   "metadata": {},
   "source": [
    "#### N velocidas"
   ]
  },
  {
   "cell_type": "code",
   "execution_count": 171,
   "metadata": {},
   "outputs": [
    {
     "data": {
      "text/plain": [
       "52"
      ]
     },
     "execution_count": 171,
     "metadata": {},
     "output_type": "execute_result"
    }
   ],
   "source": [
    "df.loc[df[\"gears\"].isnull()][\"desc\"].str.contains(\"(\\d) velocidades\", case=False).sum()"
   ]
  },
  {
   "cell_type": "code",
   "execution_count": 172,
   "metadata": {},
   "outputs": [],
   "source": [
    "velocidades = df.loc[df[\"gears\"].isnull()][\"desc\"].str.contains(\"(\\d) velocidades\", case=False)"
   ]
  },
  {
   "cell_type": "code",
   "execution_count": 173,
   "metadata": {},
   "outputs": [],
   "source": [
    "velocidades_index = velocidades[velocidades==True].index"
   ]
  },
  {
   "cell_type": "code",
   "execution_count": 174,
   "metadata": {},
   "outputs": [],
   "source": [
    "df.iloc[velocidades_index, 20] = df.loc[velocidades_index, \"desc\"].str.lower().str.extract(r'(\\d) velocidades').astype(float)"
   ]
  },
  {
   "cell_type": "markdown",
   "metadata": {},
   "source": [
    "#### N versnellingen"
   ]
  },
  {
   "cell_type": "code",
   "execution_count": 175,
   "metadata": {},
   "outputs": [
    {
     "data": {
      "text/plain": [
       "17"
      ]
     },
     "execution_count": 175,
     "metadata": {},
     "output_type": "execute_result"
    }
   ],
   "source": [
    "df.loc[df[\"gears\"].isnull()][\"short_description\"].str.contains(\"(\\d) versnellingen\", case=False).sum()"
   ]
  },
  {
   "cell_type": "code",
   "execution_count": 176,
   "metadata": {},
   "outputs": [],
   "source": [
    "versnellingen = df.loc[df[\"gears\"].isnull()][\"short_description\"].str.contains(\"(\\d) versnellingen\", case=False)"
   ]
  },
  {
   "cell_type": "code",
   "execution_count": 177,
   "metadata": {},
   "outputs": [],
   "source": [
    "versnellingen_index = versnellingen[versnellingen==True].index"
   ]
  },
  {
   "cell_type": "code",
   "execution_count": 178,
   "metadata": {},
   "outputs": [],
   "source": [
    "df.iloc[versnellingen_index, 20] = df.loc[versnellingen_index, \"short_description\"].str.lower().str.extract(r'(\\d) versnellingen').astype(float)"
   ]
  },
  {
   "cell_type": "markdown",
   "metadata": {},
   "source": [
    "#### N marce"
   ]
  },
  {
   "cell_type": "code",
   "execution_count": 179,
   "metadata": {},
   "outputs": [
    {
     "data": {
      "text/plain": [
       "6"
      ]
     },
     "execution_count": 179,
     "metadata": {},
     "output_type": "execute_result"
    }
   ],
   "source": [
    "df.loc[df[\"gears\"].isnull()][\"desc\"].str.contains(\"(\\d) marce\", case=False).sum()"
   ]
  },
  {
   "cell_type": "code",
   "execution_count": 180,
   "metadata": {},
   "outputs": [],
   "source": [
    "italian = df.loc[df[\"gears\"].isnull()][\"desc\"].str.contains(\"(\\d) marce\", case=False)"
   ]
  },
  {
   "cell_type": "code",
   "execution_count": 181,
   "metadata": {},
   "outputs": [],
   "source": [
    "italian_index = italian[italian==True].index"
   ]
  },
  {
   "cell_type": "code",
   "execution_count": 182,
   "metadata": {},
   "outputs": [],
   "source": [
    "df.iloc[italian_index, 20] = df.loc[italian_index, \"desc\"].str.lower().str.extract('|'.join([\"(\\d) marce\"])).astype(float)"
   ]
  },
  {
   "cell_type": "markdown",
   "metadata": {},
   "source": [
    "#### NG abbreviation"
   ]
  },
  {
   "cell_type": "code",
   "execution_count": 183,
   "metadata": {},
   "outputs": [
    {
     "data": {
      "text/plain": [
       "9"
      ]
     },
     "execution_count": 183,
     "metadata": {},
     "output_type": "execute_result"
    }
   ],
   "source": [
    "df.loc[df[\"gears\"].isnull()][\"short_description\"].str.contains(\" (\\d)G \", case=False).sum()"
   ]
  },
  {
   "cell_type": "code",
   "execution_count": 184,
   "metadata": {},
   "outputs": [],
   "source": [
    "g = df.loc[df[\"gears\"].isnull()][\"short_description\"].str.contains(\" (\\d)G \", case=False)"
   ]
  },
  {
   "cell_type": "code",
   "execution_count": 185,
   "metadata": {},
   "outputs": [],
   "source": [
    "g_index = g[g == True].index"
   ]
  },
  {
   "cell_type": "code",
   "execution_count": 186,
   "metadata": {},
   "outputs": [],
   "source": [
    "df.iloc[g_index, 20] = df.loc[g_index, \"short_description\"].str.lower().str.extract(r\"(\\d)\").astype(float)"
   ]
  },
  {
   "cell_type": "code",
   "execution_count": 187,
   "metadata": {},
   "outputs": [
    {
     "name": "stdout",
     "output_type": "stream",
     "text": [
      "Column Name    :  gears\n",
      "----------------------------------------\n",
      "Per_of_nulls   :  % 31.51\n",
      "Num_of_nulls   :  7795\n",
      "Num_of_uniques :  11\n",
      "----------------------------------------\n",
      "gears\n",
      "NaN     7795\n",
      "6.0     7506\n",
      "5.0     4657\n",
      "7.0     1803\n",
      "8.0     1291\n",
      "9.0      653\n",
      "1.0      625\n",
      "4.0      235\n",
      "10.0      87\n",
      "0.0       61\n",
      "3.0       22\n",
      "2.0        3\n",
      "Name: count, dtype: int64\n"
     ]
    }
   ],
   "source": [
    "describe(\"gears\")"
   ]
  },
  {
   "cell_type": "code",
   "execution_count": 188,
   "metadata": {},
   "outputs": [
    {
     "data": {
      "text/plain": [
       "price                        0.315768\n",
       "doors                        0.113122\n",
       "mileage                     -0.096913\n",
       "seats                        0.088739\n",
       "power                        0.355280\n",
       "engine_size                  0.220907\n",
       "gears                        1.000000\n",
       "co_emissions                 0.073979\n",
       "cylinders                    0.249495\n",
       "production_date             -0.126113\n",
       "previous_owner              -0.103076\n",
       "age                         -0.236224\n",
       "fuel_consumption_comb        0.069885\n",
       "fuel_consumption_city        0.086417\n",
       "fuel_consumption_country     0.109749\n",
       "comfort_convenience_count    0.320623\n",
       "safety_security_count        0.263127\n",
       "extras_count                 0.241391\n",
       "Name: gears, dtype: float64"
      ]
     },
     "execution_count": 188,
     "metadata": {},
     "output_type": "execute_result"
    }
   ],
   "source": [
    "df.corr(numeric_only=True).iloc[:,6]"
   ]
  },
  {
   "cell_type": "code",
   "execution_count": 189,
   "metadata": {},
   "outputs": [
    {
     "data": {
      "text/plain": [
       "1947"
      ]
     },
     "execution_count": 189,
     "metadata": {},
     "output_type": "execute_result"
    }
   ],
   "source": [
    "df.groupby([\"make_model\", \"gearbox\", \"power\", \"engine_size\"])[\"gears\"].transform(lambda x: x.mode()[0] if not x.mode().empty else np.nan).isnull().sum()"
   ]
  },
  {
   "cell_type": "code",
   "execution_count": 190,
   "metadata": {},
   "outputs": [],
   "source": [
    "df['gears'].fillna(df.groupby([\"make_model\", \"power\", \"engine_size\"])[\"gears\"].transform(lambda x: x.mode()[0] if not x.mode().empty else np.nan), inplace = True)"
   ]
  },
  {
   "cell_type": "code",
   "execution_count": 191,
   "metadata": {},
   "outputs": [],
   "source": [
    "df['gears'].fillna(df.groupby([\"make_model\", \"gearbox\", \"power\"])[\"gears\"].transform(lambda x: x.mode()[0] if not x.mode().empty else np.nan), inplace = True)"
   ]
  },
  {
   "cell_type": "code",
   "execution_count": 192,
   "metadata": {},
   "outputs": [
    {
     "name": "stdout",
     "output_type": "stream",
     "text": [
      "Missing Values in gears is 1072\n",
      "Percentage: 4.33%\n"
     ]
    }
   ],
   "source": [
    "missing_counts(\"gears\")"
   ]
  },
  {
   "cell_type": "code",
   "execution_count": 193,
   "metadata": {},
   "outputs": [],
   "source": [
    "df['gears'].fillna(df.groupby([\"make_model\", \"gearbox\"])[\"gears\"].transform(lambda x: x.mode()[0] if not x.mode().empty else np.nan), inplace = True)"
   ]
  },
  {
   "cell_type": "code",
   "execution_count": 194,
   "metadata": {},
   "outputs": [
    {
     "name": "stdout",
     "output_type": "stream",
     "text": [
      "Missing Values in gears is 147\n",
      "Percentage: 0.59%\n"
     ]
    }
   ],
   "source": [
    "missing_counts(\"gears\")"
   ]
  },
  {
   "cell_type": "code",
   "execution_count": 195,
   "metadata": {},
   "outputs": [],
   "source": [
    "df['gears'].fillna(df.groupby([\"body_type\", \"gearbox\"])[\"gears\"].transform(lambda x: x.mode()[0] if not x.mode().empty else np.nan), inplace = True)"
   ]
  },
  {
   "cell_type": "code",
   "execution_count": 196,
   "metadata": {},
   "outputs": [
    {
     "name": "stdout",
     "output_type": "stream",
     "text": [
      "Column Name    :  gears\n",
      "----------------------------------------\n",
      "Per_of_nulls   :  % 0.0\n",
      "Num_of_nulls   :  0\n",
      "Num_of_uniques :  11\n",
      "----------------------------------------\n",
      "gears\n",
      "6.0     10952\n",
      "5.0      6536\n",
      "7.0      2424\n",
      "8.0      1849\n",
      "1.0      1218\n",
      "9.0      1070\n",
      "4.0       339\n",
      "10.0      215\n",
      "0.0        72\n",
      "3.0        59\n",
      "2.0         4\n",
      "Name: count, dtype: int64\n"
     ]
    }
   ],
   "source": [
    "describe(\"gears\")"
   ]
  },
  {
   "cell_type": "markdown",
   "metadata": {},
   "source": [
    "<a id=\"8\"></a>\n",
    "<div class=\"alert alert-info\" role=\"alert\">\n",
    "<h1>Column :<span style=\"color:red\"> paint </span></h1>\n",
    "</div>"
   ]
  },
  {
   "cell_type": "code",
   "execution_count": 197,
   "metadata": {},
   "outputs": [
    {
     "name": "stdout",
     "output_type": "stream",
     "text": [
      "Column Name    :  paint\n",
      "----------------------------------------\n",
      "Per_of_nulls   :  % 46.04\n",
      "Num_of_nulls   :  11390\n",
      "Num_of_uniques :  2\n",
      "----------------------------------------\n",
      "paint\n",
      "Metallic     13347\n",
      "NaN          11390\n",
      "Uni/basic        1\n",
      "Name: count, dtype: int64\n"
     ]
    }
   ],
   "source": [
    "describe(\"paint\")"
   ]
  },
  {
   "cell_type": "code",
   "execution_count": 198,
   "metadata": {},
   "outputs": [
    {
     "data": {
      "image/png": "[encoded data removed]",
      "text/plain": [
       "<Figure size 1000x600 with 1 Axes>"
      ]
     },
     "metadata": {},
     "output_type": "display_data"
    }
   ],
   "source": [
    "analyze(\"paint\")"
   ]
  },
  {
   "cell_type": "code",
   "execution_count": 199,
   "metadata": {},
   "outputs": [],
   "source": [
    "df.paint.fillna(\"non-metallic\", inplace=True)"
   ]
  },
  {
   "cell_type": "code",
   "execution_count": 200,
   "metadata": {},
   "outputs": [
    {
     "name": "stdout",
     "output_type": "stream",
     "text": [
      "Column Name    :  paint\n",
      "----------------------------------------\n",
      "Per_of_nulls   :  % 0.0\n",
      "Num_of_nulls   :  0\n",
      "Num_of_uniques :  3\n",
      "----------------------------------------\n",
      "paint\n",
      "Metallic        13347\n",
      "non-metallic    11390\n",
      "Uni/basic           1\n",
      "Name: count, dtype: int64\n"
     ]
    }
   ],
   "source": [
    "describe(\"paint\")"
   ]
  },
  {
   "cell_type": "code",
   "execution_count": 201,
   "metadata": {},
   "outputs": [],
   "source": [
    "df.paint.replace(\"Uni/basic\", \"non-metallic\", inplace=True)"
   ]
  },
  {
   "cell_type": "code",
   "execution_count": 202,
   "metadata": {},
   "outputs": [
    {
     "name": "stdout",
     "output_type": "stream",
     "text": [
      "Column Name    :  paint\n",
      "----------------------------------------\n",
      "Per_of_nulls   :  % 0.0\n",
      "Num_of_nulls   :  0\n",
      "Num_of_uniques :  2\n",
      "----------------------------------------\n",
      "paint\n",
      "Metallic        13347\n",
      "non-metallic    11391\n",
      "Name: count, dtype: int64\n"
     ]
    }
   ],
   "source": [
    "describe(\"paint\")"
   ]
  },
  {
   "cell_type": "markdown",
   "metadata": {},
   "source": [
    "<a id=\"8\"></a>\n",
    "<div class=\"alert alert-info\" role=\"alert\">\n",
    "<h1>Column :<span style=\"color:red\"> previous_owner </span></h1>\n",
    "</div>"
   ]
  },
  {
   "cell_type": "code",
   "execution_count": 203,
   "metadata": {},
   "outputs": [
    {
     "data": {
      "text/html": [
       "<div>\n",
       "<style scoped>\n",
       "    .dataframe tbody tr th:only-of-type {\n",
       "        vertical-align: middle;\n",
       "    }\n",
       "\n",
       "    .dataframe tbody tr th {\n",
       "        vertical-align: top;\n",
       "    }\n",
       "\n",
       "    .dataframe thead th {\n",
       "        text-align: right;\n",
       "    }\n",
       "</style>\n",
       "<table border=\"1\" class=\"dataframe\">\n",
       "  <thead>\n",
       "    <tr style=\"text-align: right;\">\n",
       "      <th></th>\n",
       "      <th>previous_owner</th>\n",
       "    </tr>\n",
       "  </thead>\n",
       "  <tbody>\n",
       "    <tr>\n",
       "      <th>previous_owner</th>\n",
       "      <td>1.000000</td>\n",
       "    </tr>\n",
       "    <tr>\n",
       "      <th>mileage</th>\n",
       "      <td>0.415059</td>\n",
       "    </tr>\n",
       "    <tr>\n",
       "      <th>production_date</th>\n",
       "      <td>0.396915</td>\n",
       "    </tr>\n",
       "    <tr>\n",
       "      <th>age</th>\n",
       "      <td>0.391929</td>\n",
       "    </tr>\n",
       "    <tr>\n",
       "      <th>fuel_consumption_comb</th>\n",
       "      <td>0.211480</td>\n",
       "    </tr>\n",
       "    <tr>\n",
       "      <th>fuel_consumption_city</th>\n",
       "      <td>0.148876</td>\n",
       "    </tr>\n",
       "    <tr>\n",
       "      <th>fuel_consumption_country</th>\n",
       "      <td>0.113922</td>\n",
       "    </tr>\n",
       "    <tr>\n",
       "      <th>cylinders</th>\n",
       "      <td>0.107788</td>\n",
       "    </tr>\n",
       "    <tr>\n",
       "      <th>engine_size</th>\n",
       "      <td>0.093258</td>\n",
       "    </tr>\n",
       "    <tr>\n",
       "      <th>co_emissions</th>\n",
       "      <td>0.064016</td>\n",
       "    </tr>\n",
       "    <tr>\n",
       "      <th>power</th>\n",
       "      <td>-0.017422</td>\n",
       "    </tr>\n",
       "    <tr>\n",
       "      <th>gears</th>\n",
       "      <td>-0.078846</td>\n",
       "    </tr>\n",
       "    <tr>\n",
       "      <th>extras_count</th>\n",
       "      <td>-0.135908</td>\n",
       "    </tr>\n",
       "    <tr>\n",
       "      <th>price</th>\n",
       "      <td>-0.181975</td>\n",
       "    </tr>\n",
       "    <tr>\n",
       "      <th>seats</th>\n",
       "      <td>-0.184660</td>\n",
       "    </tr>\n",
       "    <tr>\n",
       "      <th>comfort_convenience_count</th>\n",
       "      <td>-0.241788</td>\n",
       "    </tr>\n",
       "    <tr>\n",
       "      <th>safety_security_count</th>\n",
       "      <td>-0.271558</td>\n",
       "    </tr>\n",
       "    <tr>\n",
       "      <th>doors</th>\n",
       "      <td>-0.284759</td>\n",
       "    </tr>\n",
       "  </tbody>\n",
       "</table>\n",
       "</div>"
      ],
      "text/plain": [
       "                           previous_owner\n",
       "previous_owner                   1.000000\n",
       "mileage                          0.415059\n",
       "production_date                  0.396915\n",
       "age                              0.391929\n",
       "fuel_consumption_comb            0.211480\n",
       "fuel_consumption_city            0.148876\n",
       "fuel_consumption_country         0.113922\n",
       "cylinders                        0.107788\n",
       "engine_size                      0.093258\n",
       "co_emissions                     0.064016\n",
       "power                           -0.017422\n",
       "gears                           -0.078846\n",
       "extras_count                    -0.135908\n",
       "price                           -0.181975\n",
       "seats                           -0.184660\n",
       "comfort_convenience_count       -0.241788\n",
       "safety_security_count           -0.271558\n",
       "doors                           -0.284759"
      ]
     },
     "execution_count": 203,
     "metadata": {},
     "output_type": "execute_result"
    }
   ],
   "source": [
    "df.corr(numeric_only=True)[[\"previous_owner\"]].sort_values(by=\"previous_owner\", ascending=False)"
   ]
  },
  {
   "cell_type": "code",
   "execution_count": 204,
   "metadata": {},
   "outputs": [
    {
     "data": {
      "text/plain": [
       "age\n",
       "3.833168     1\n",
       "8.765136     1\n",
       "14.235569    1\n",
       "16.933735    1\n",
       "16.806452    1\n",
       "16.428571    1\n",
       "18.800000    1\n",
       "17.285714    1\n",
       "18.300000    1\n",
       "23.500000    1\n",
       "18.500000    1\n",
       "25.000000    1\n",
       "15.000000    1\n",
       "Name: count, dtype: int64"
      ]
     },
     "execution_count": 204,
     "metadata": {},
     "output_type": "execute_result"
    }
   ],
   "source": [
    "df.groupby('previous_owner').age.mean().value_counts()"
   ]
  },
  {
   "cell_type": "code",
   "execution_count": 205,
   "metadata": {},
   "outputs": [
    {
     "name": "stdout",
     "output_type": "stream",
     "text": [
      "Column Name    :  previous_owner\n",
      "----------------------------------------\n",
      "Per_of_nulls   :  % 47.43\n",
      "Num_of_nulls   :  11734\n",
      "Num_of_uniques :  13\n",
      "----------------------------------------\n",
      "previous_owner\n",
      "NaN     11734\n",
      "1.0      9051\n",
      "2.0      3006\n",
      "3.0       641\n",
      "4.0       166\n",
      "5.0        62\n",
      "6.0        28\n",
      "7.0        20\n",
      "8.0        14\n",
      "9.0        10\n",
      "10.0        2\n",
      "12.0        2\n",
      "14.0        1\n",
      "13.0        1\n",
      "Name: count, dtype: int64\n"
     ]
    }
   ],
   "source": [
    "describe(\"previous_owner\")"
   ]
  },
  {
   "cell_type": "code",
   "execution_count": 206,
   "metadata": {},
   "outputs": [
    {
     "data": {
      "text/plain": [
       "dtype('float64')"
      ]
     },
     "execution_count": 206,
     "metadata": {},
     "output_type": "execute_result"
    }
   ],
   "source": [
    "df['previous_owner'].dtype"
   ]
  },
  {
   "cell_type": "code",
   "execution_count": 207,
   "metadata": {},
   "outputs": [],
   "source": [
    "def pre_owner_cal_2 (x):\n",
    "    if x['age'] <= 4 :\n",
    "        return x['previous_owner'] if pd.notnull(x['previous_owner']) else 1.0\n",
    "    elif x['age'] <= 9 : \n",
    "        return x['previous_owner'] if pd.notnull(x['previous_owner']) else 2.0\n",
    "    elif x['age'] > 9 : \n",
    "        return x['previous_owner'] if pd.notnull(x['previous_owner']) else 3.0\n",
    "    elif x['age'] == 0 : \n",
    "        return x['previous_owner'] if pd.notnull(x['previous_owner']) else 0\n",
    "    else : \n",
    "        return x['previous_owner'] if pd.notnull(x['previous_owner']) else 3.0"
   ]
  },
  {
   "cell_type": "code",
   "execution_count": 208,
   "metadata": {},
   "outputs": [],
   "source": [
    "df['previous_owner'] = df.apply(lambda x: pre_owner_cal_2(x), axis=1)"
   ]
  },
  {
   "cell_type": "code",
   "execution_count": 209,
   "metadata": {},
   "outputs": [
    {
     "name": "stdout",
     "output_type": "stream",
     "text": [
      "Column Name    :  previous_owner\n",
      "----------------------------------------\n",
      "Per_of_nulls   :  % 0.0\n",
      "Num_of_nulls   :  0\n",
      "Num_of_uniques :  13\n",
      "----------------------------------------\n",
      "previous_owner\n",
      "1.0     14482\n",
      "2.0      6074\n",
      "3.0      3876\n",
      "4.0       166\n",
      "5.0        62\n",
      "6.0        28\n",
      "7.0        20\n",
      "8.0        14\n",
      "9.0        10\n",
      "10.0        2\n",
      "12.0        2\n",
      "14.0        1\n",
      "13.0        1\n",
      "Name: count, dtype: int64\n"
     ]
    }
   ],
   "source": [
    "describe(\"previous_owner\")"
   ]
  },
  {
   "cell_type": "markdown",
   "metadata": {},
   "source": [
    "<a id=\"8\"></a>\n",
    "<div class=\"alert alert-info\" role=\"alert\">\n",
    "<h1>Column :<span style=\"color:red\"> warranty </span></h1>\n",
    "</div>"
   ]
  },
  {
   "cell_type": "code",
   "execution_count": 210,
   "metadata": {},
   "outputs": [
    {
     "name": "stdout",
     "output_type": "stream",
     "text": [
      "Column Name    :  warranty\n",
      "----------------------------------------\n",
      "Per_of_nulls   :  % 48.21\n",
      "Num_of_nulls   :  11926\n",
      "Num_of_uniques :  65\n",
      "----------------------------------------\n",
      "warranty\n",
      "NaN    11926\n",
      "12      7113\n",
      "Yes     2160\n",
      "24      1268\n",
      "60       953\n",
      "       ...  \n",
      "39         1\n",
      "142        1\n",
      "65         1\n",
      "43         1\n",
      "4          1\n",
      "Name: count, Length: 66, dtype: int64\n"
     ]
    }
   ],
   "source": [
    "describe(\"warranty\")"
   ]
  },
  {
   "cell_type": "code",
   "execution_count": 211,
   "metadata": {},
   "outputs": [],
   "source": [
    "df['warranty'] = df['warranty'].fillna('No')"
   ]
  },
  {
   "cell_type": "code",
   "execution_count": 212,
   "metadata": {},
   "outputs": [],
   "source": [
    "df['warranty'] = df['warranty'].apply(lambda x: 'Yes' if x.isdigit() else x)"
   ]
  },
  {
   "cell_type": "code",
   "execution_count": 213,
   "metadata": {},
   "outputs": [
    {
     "name": "stdout",
     "output_type": "stream",
     "text": [
      "Column Name    :  warranty\n",
      "----------------------------------------\n",
      "Per_of_nulls   :  % 0.0\n",
      "Num_of_nulls   :  0\n",
      "Num_of_uniques :  2\n",
      "----------------------------------------\n",
      "warranty\n",
      "Yes    12812\n",
      "No     11926\n",
      "Name: count, dtype: int64\n"
     ]
    }
   ],
   "source": [
    "describe(\"warranty\")"
   ]
  },
  {
   "cell_type": "markdown",
   "metadata": {},
   "source": [
    "<a id=\"8\"></a>\n",
    "<div class=\"alert alert-info\" role=\"alert\">\n",
    "<h1>Column :<span style=\"color:red\"> energy_efficiency_class </span></h1>\n",
    "</div>"
   ]
  },
  {
   "cell_type": "markdown",
   "metadata": {},
   "source": [
    "EU energy labels started to implement on 1994, but in the initial Council Directive 92/75/EEC cars are not mentioned.\n",
    "https://eur-lex.europa.eu/eli/dir/1992/75/oj\n",
    "Since EU energy labels started in 1994, it is impossible for a car older than 28 years to have energy labels."
   ]
  },
  {
   "cell_type": "markdown",
   "metadata": {},
   "source": [
    "In addition the implementation of EU energy labels mainly started after 2009. **It is highly unlikely for a car older than 13 years to have EU energy labels! It is said that labels became mandatory at the end of the 2011 for cars. https://www.bmwk.de/Redaktion/EN/Artikel/Energy/fuel-efficiency-labelling-for-passenger-cars.html"
   ]
  },
  {
   "cell_type": "code",
   "execution_count": 214,
   "metadata": {},
   "outputs": [
    {
     "name": "stdout",
     "output_type": "stream",
     "text": [
      "Column Name    :  energy_efficiency_class\n",
      "----------------------------------------\n",
      "Per_of_nulls   :  % 70.62\n",
      "Num_of_nulls   :  17470\n",
      "Num_of_uniques :  10\n",
      "----------------------------------------\n",
      "energy_efficiency_class\n",
      "NaN     17470\n",
      "B        1990\n",
      "A        1523\n",
      "C        1069\n",
      "A+        940\n",
      "D         629\n",
      "A+++      339\n",
      "G         307\n",
      "E         266\n",
      "F         141\n",
      "A++        64\n",
      "Name: count, dtype: int64\n"
     ]
    }
   ],
   "source": [
    "describe(\"energy_efficiency_class\")"
   ]
  },
  {
   "cell_type": "code",
   "execution_count": 215,
   "metadata": {},
   "outputs": [
    {
     "data": {
      "text/plain": [
       "3422"
      ]
     },
     "execution_count": 215,
     "metadata": {},
     "output_type": "execute_result"
    }
   ],
   "source": [
    "df[(df[\"age\"] > 13)][\"energy_efficiency_class\"].isnull().sum()"
   ]
  },
  {
   "cell_type": "markdown",
   "metadata": {
    "id": "Is4HLjHWs1MF"
   },
   "source": [
    "In addition to 17470 NaN values it is very risky to fill 3422 null values of energy efficiency class that belongs to cars older than 13 years. "
   ]
  },
  {
   "cell_type": "markdown",
   "metadata": {},
   "source": [
    "When we search the relation between co_emission and energy_efficiency_labels in our data we see there are inconsistency with the references. A energy label must be lower than 50 but in our dataset most of them are higher than 100.\n",
    "https://www.acriss.org/reference/co2-emissions-efficiency/"
   ]
  },
  {
   "cell_type": "code",
   "execution_count": 216,
   "metadata": {},
   "outputs": [],
   "source": [
    "age11 = df[(df[\"age\"] < 12)]"
   ]
  },
  {
   "cell_type": "code",
   "execution_count": 217,
   "metadata": {},
   "outputs": [
    {
     "data": {
      "text/plain": [
       "energy_efficiency_class  co_emissions\n",
       "A                        93.0            54\n",
       "                         114.0           54\n",
       "                         99.0            54\n",
       "                         119.0           52\n",
       "                         122.0           41\n",
       "                         111.0           41\n",
       "                         127.0           41\n",
       "                         107.0           40\n",
       "                         123.0           38\n",
       "                         106.0           37\n",
       "                         121.0           37\n",
       "                         124.0           37\n",
       "                         131.0           37\n",
       "                         98.0            35\n",
       "                         108.0           32\n",
       "                         96.0            32\n",
       "                         102.0           31\n",
       "                         109.0           30\n",
       "                         105.0           29\n",
       "                         103.0           29\n",
       "                         113.0           28\n",
       "                         112.0           28\n",
       "                         110.0           28\n",
       "                         97.0            24\n",
       "                         129.0           24\n",
       "                         125.0           24\n",
       "                         115.0           22\n",
       "                         94.0            22\n",
       "                         138.0           21\n",
       "                         117.0           21\n",
       "                         126.0           20\n",
       "                         120.0           19\n",
       "                         135.0           19\n",
       "                         144.0           17\n",
       "                         130.0           16\n",
       "                         139.0           16\n",
       "                         158.0           16\n",
       "                         142.0           15\n",
       "                         136.0           15\n",
       "                         133.0           15\n",
       "                         104.0           15\n",
       "                         140.0           14\n",
       "                         101.0           14\n",
       "                         85.0            13\n",
       "                         146.0           13\n",
       "                         128.0           13\n",
       "                         149.0           12\n",
       "                         92.0            11\n",
       "                         134.0           10\n",
       "                         151.0           10\n",
       "                         118.0           10\n",
       "                         100.0            9\n",
       "                         148.0            9\n",
       "                         147.0            8\n",
       "                         137.0            8\n",
       "                         132.0            8\n",
       "                         95.0             8\n",
       "                         154.0            7\n",
       "                         143.0            7\n",
       "                         153.0            6\n",
       "Name: count, dtype: int64"
      ]
     },
     "execution_count": 217,
     "metadata": {},
     "output_type": "execute_result"
    }
   ],
   "source": [
    "age11.loc[age11[\"energy_efficiency_class\"].notnull()].groupby([\"energy_efficiency_class\"])[\"co_emissions\"].value_counts().head(60)"
   ]
  },
  {
   "cell_type": "markdown",
   "metadata": {
    "id": "8mgL_Bd0s1MG"
   },
   "source": [
    "<a id=\"8\"></a>\n",
    "<div class=\"alert alert-info\" role=\"alert\">\n",
    "<h1>Column :<span style=\"color:red\"> DROP </span></h1>\n",
    "</div>"
   ]
  },
  {
   "cell_type": "code",
   "execution_count": 218,
   "metadata": {},
   "outputs": [
    {
     "data": {
      "text/html": [
       "<div>\n",
       "<style scoped>\n",
       "    .dataframe tbody tr th:only-of-type {\n",
       "        vertical-align: middle;\n",
       "    }\n",
       "\n",
       "    .dataframe tbody tr th {\n",
       "        vertical-align: top;\n",
       "    }\n",
       "\n",
       "    .dataframe thead th {\n",
       "        text-align: right;\n",
       "    }\n",
       "</style>\n",
       "<table border=\"1\" class=\"dataframe\">\n",
       "  <thead>\n",
       "    <tr style=\"text-align: right;\">\n",
       "      <th></th>\n",
       "      <th>Missing_Number</th>\n",
       "      <th>Missing_Percent</th>\n",
       "    </tr>\n",
       "  </thead>\n",
       "  <tbody>\n",
       "    <tr>\n",
       "      <th>production_date</th>\n",
       "      <td>19264</td>\n",
       "      <td>77.872100</td>\n",
       "    </tr>\n",
       "    <tr>\n",
       "      <th>energy_efficiency_class</th>\n",
       "      <td>17470</td>\n",
       "      <td>70.620099</td>\n",
       "    </tr>\n",
       "    <tr>\n",
       "      <th>emissions_sticker</th>\n",
       "      <td>15857</td>\n",
       "      <td>64.099766</td>\n",
       "    </tr>\n",
       "    <tr>\n",
       "      <th>upholstery_colour</th>\n",
       "      <td>11182</td>\n",
       "      <td>45.201714</td>\n",
       "    </tr>\n",
       "    <tr>\n",
       "      <th>country_version</th>\n",
       "      <td>10880</td>\n",
       "      <td>43.980920</td>\n",
       "    </tr>\n",
       "    <tr>\n",
       "      <th>fuel_consumption_city</th>\n",
       "      <td>8142</td>\n",
       "      <td>32.912927</td>\n",
       "    </tr>\n",
       "    <tr>\n",
       "      <th>fuel_consumption_country</th>\n",
       "      <td>8126</td>\n",
       "      <td>32.848250</td>\n",
       "    </tr>\n",
       "    <tr>\n",
       "      <th>extras</th>\n",
       "      <td>4100</td>\n",
       "      <td>16.573692</td>\n",
       "    </tr>\n",
       "    <tr>\n",
       "      <th>entertainment_media</th>\n",
       "      <td>3825</td>\n",
       "      <td>15.462042</td>\n",
       "    </tr>\n",
       "    <tr>\n",
       "      <th>desc</th>\n",
       "      <td>641</td>\n",
       "      <td>2.591155</td>\n",
       "    </tr>\n",
       "    <tr>\n",
       "      <th>short_desc_translated</th>\n",
       "      <td>205</td>\n",
       "      <td>0.828685</td>\n",
       "    </tr>\n",
       "    <tr>\n",
       "      <th>short_description</th>\n",
       "      <td>204</td>\n",
       "      <td>0.824642</td>\n",
       "    </tr>\n",
       "  </tbody>\n",
       "</table>\n",
       "</div>"
      ],
      "text/plain": [
       "                          Missing_Number  Missing_Percent\n",
       "production_date                    19264        77.872100\n",
       "energy_efficiency_class            17470        70.620099\n",
       "emissions_sticker                  15857        64.099766\n",
       "upholstery_colour                  11182        45.201714\n",
       "country_version                    10880        43.980920\n",
       "fuel_consumption_city               8142        32.912927\n",
       "fuel_consumption_country            8126        32.848250\n",
       "extras                              4100        16.573692\n",
       "entertainment_media                 3825        15.462042\n",
       "desc                                 641         2.591155\n",
       "short_desc_translated                205         0.828685\n",
       "short_description                    204         0.824642"
      ]
     },
     "execution_count": 218,
     "metadata": {},
     "output_type": "execute_result"
    }
   ],
   "source": [
    "missing_values(df)"
   ]
  },
  {
   "cell_type": "code",
   "execution_count": 219,
   "metadata": {},
   "outputs": [
    {
     "data": {
      "text/plain": [
       "(24738, 47)"
      ]
     },
     "execution_count": 219,
     "metadata": {},
     "output_type": "execute_result"
    }
   ],
   "source": [
    "df.shape"
   ]
  },
  {
   "cell_type": "code",
   "execution_count": 220,
   "metadata": {},
   "outputs": [],
   "source": [
    "df.drop([\"production_date\", \"energy_efficiency_class\", \"emissions_sticker\", \\\n",
    "         \"upholstery_colour\", \"country_version\", \"fuel_consumption_city\", \\\n",
    "         \"fuel_consumption_country\", \"extras\", \"desc\", \"entertainment_media\", \\\n",
    "         \"short_description\", \"short_desc_translated\"], \\\n",
    "         axis=1, inplace=True)"
   ]
  },
  {
   "cell_type": "code",
   "execution_count": 221,
   "metadata": {},
   "outputs": [
    {
     "data": {
      "image/png": "[encoded data removed]",
      "text/plain": [
       "<Figure size 640x480 with 1 Axes>"
      ]
     },
     "metadata": {},
     "output_type": "display_data"
    }
   ],
   "source": [
    "sns.heatmap(df.isnull(), yticklabels=False, cbar=False, cmap='viridis');"
   ]
  },
  {
   "cell_type": "markdown",
   "metadata": {},
   "source": [
    "<a id=\"8\"></a>\n",
    "<div class=\"alert alert-info\" role=\"alert\">\n",
    "<h1> CONCLUDE :<span style=\"color:red\">  </span></h1>\n",
    "</div>\n"
   ]
  },
  {
   "cell_type": "code",
   "execution_count": 222,
   "metadata": {},
   "outputs": [
    {
     "data": {
      "text/plain": [
       "(24738, 35)"
      ]
     },
     "execution_count": 222,
     "metadata": {},
     "output_type": "execute_result"
    }
   ],
   "source": [
    "df.shape"
   ]
  },
  {
   "cell_type": "code",
   "execution_count": 223,
   "metadata": {},
   "outputs": [
    {
     "name": "stdout",
     "output_type": "stream",
     "text": [
      "<class 'pandas.core.frame.DataFrame'>\n",
      "Index: 24738 entries, 0 to 24738\n",
      "Data columns (total 35 columns):\n",
      " #   Column                     Non-Null Count  Dtype  \n",
      "---  ------                     --------------  -----  \n",
      " 0   make_model                 24738 non-null  object \n",
      " 1   make                       24738 non-null  object \n",
      " 2   location                   24738 non-null  object \n",
      " 3   price                      24738 non-null  int64  \n",
      " 4   body_type                  24738 non-null  object \n",
      " 5   type                       24738 non-null  object \n",
      " 6   doors                      24738 non-null  float64\n",
      " 7   warranty                   24738 non-null  object \n",
      " 8   mileage                    24738 non-null  float64\n",
      " 9   gearbox                    24738 non-null  object \n",
      " 10  fuel_type                  24738 non-null  object \n",
      " 11  colour                     24738 non-null  object \n",
      " 12  paint                      24738 non-null  object \n",
      " 13  seller                     24738 non-null  object \n",
      " 14  seats                      24738 non-null  float64\n",
      " 15  power                      24738 non-null  float64\n",
      " 16  engine_size                24738 non-null  float64\n",
      " 17  gears                      24738 non-null  float64\n",
      " 18  co_emissions               24738 non-null  float64\n",
      " 19  manufacturer_colour        24738 non-null  object \n",
      " 20  drivetrain                 24738 non-null  object \n",
      " 21  cylinders                  24738 non-null  float64\n",
      " 22  comfort_convenience        24738 non-null  object \n",
      " 23  safety_security            24738 non-null  object \n",
      " 24  full_service_history       24738 non-null  object \n",
      " 25  non_smoker_vehicle         24738 non-null  object \n",
      " 26  emission_class             24738 non-null  object \n",
      " 27  upholstery                 24738 non-null  object \n",
      " 28  previous_owner             24738 non-null  float64\n",
      " 29  age                        24738 non-null  float64\n",
      " 30  fuel_consumption_comb      24738 non-null  float64\n",
      " 31  comfort_convenience_count  24738 non-null  int64  \n",
      " 32  entertainment_media_count  24738 non-null  object \n",
      " 33  safety_security_count      24738 non-null  int64  \n",
      " 34  extras_count               24738 non-null  float64\n",
      "dtypes: float64(12), int64(3), object(20)\n",
      "memory usage: 7.3+ MB\n"
     ]
    }
   ],
   "source": [
    "df.info()"
   ]
  },
  {
   "cell_type": "code",
   "execution_count": 224,
   "metadata": {},
   "outputs": [],
   "source": [
    "df.to_csv(\"AutoScout_Part_2.csv\", index=False)"
   ]
  },
  {
   "cell_type": "code",
   "execution_count": 225,
   "metadata": {
    "id": "faDyWTC9s1MJ"
   },
   "outputs": [
    {
     "data": {
      "image/png": "[encoded data removed]",
      "text/plain": [
       "<Figure size 1500x1000 with 2 Axes>"
      ]
     },
     "metadata": {},
     "output_type": "display_data"
    }
   ],
   "source": [
    "plt.figure(figsize=[15,10])\n",
    "sns.heatmap(df.corr(numeric_only=True), annot=True);"
   ]
  },
  {
   "cell_type": "markdown",
   "metadata": {},
   "source": [
    "<a id=\"48\"></a>\n",
    "# <p style=\"background-color:#FF6961; font-family:newtimeroman;color:#FFF9ED; font-size:150%; text-align:center; border-radius: 15px 50px;\"> ✨ End of Part - 2 ✨</p>\n"
   ]
  },
  {
   "cell_type": "markdown",
   "metadata": {},
   "source": [
    "<h3 style=\"text-align:center;font-size:200%;\">Progress Bars</h3>\n",
    "<div class=\"progress\">\n",
    "  <div class=\"progress-bar bg-danger\" role=\"progressbar\" style=\"width: 66%;\" aria-valuenow=\"66\" aria-valuemin=\"66\" aria-valuemax=\"100\">66%</div>\n",
    "</div>"
   ]
  }
 ],
 "metadata": {
  "colab": {
   "name": "DAwPy-Capstone_Project_(AutoScout)_Student.ipynb",
   "provenance": []
  },
  "kernelspec": {
   "display_name": "Python 3 (ipykernel)",
   "language": "python",
   "name": "python3"
  },
  "language_info": {
   "codemirror_mode": {
    "name": "ipython",
    "version": 3
   },
   "file_extension": ".py",
   "mimetype": "text/x-python",
   "name": "python",
   "nbconvert_exporter": "python",
   "pygments_lexer": "ipython3",
   "version": "3.11.5"
  },
  "toc": {
   "base_numbering": 1,
   "nav_menu": {},
   "number_sections": false,
   "sideBar": true,
   "skip_h1_title": false,
   "title_cell": "Table of Contents",
   "title_sidebar": "Contents",
   "toc_cell": false,
   "toc_position": {
    "height": "calc(100% - 180px)",
    "left": "10px",
    "top": "150px",
    "width": "384px"
   },
   "toc_section_display": true,
   "toc_window_display": true
  },
  "varInspector": {
   "cols": {
    "lenName": 16,
    "lenType": 16,
    "lenVar": 40
   },
   "kernels_config": {
    "python": {
     "delete_cmd_postfix": "",
     "delete_cmd_prefix": "del ",
     "library": "var_list.py",
     "varRefreshCmd": "print(var_dic_list())"
    },
    "r": {
     "delete_cmd_postfix": ") ",
     "delete_cmd_prefix": "rm(",
     "library": "var_list.r",
     "varRefreshCmd": "cat(var_dic_list()) "
    }
   },
   "types_to_exclude": [
    "module",
    "function",
    "builtin_function_or_method",
    "instance",
    "_Feature"
   ],
   "window_display": false
  }
 },
 "nbformat": 4,
 "nbformat_minor": 1
}
