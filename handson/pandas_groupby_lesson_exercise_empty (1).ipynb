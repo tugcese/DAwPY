{
 "cells": [
  {
   "cell_type": "code",
   "execution_count": 1,
   "id": "a6757362",
   "metadata": {},
   "outputs": [],
   "source": [
    "import numpy as np\n",
    "import pandas as pd\n",
    "import seaborn as sns"
   ]
  },
  {
   "cell_type": "markdown",
   "id": "089c333b",
   "metadata": {},
   "source": [
    "**GENERATE A DATA FRAME NAMED 'df' WITH SIZE (4,3), NUMBERS FROM 1 TO 9, AND LAST ROW CONSISTS OF NAN VALUES, COLUMN NAMES 'A', 'B', 'C'"
   ]
  },
  {
   "cell_type": "code",
   "execution_count": null,
   "id": "4354f6a7",
   "metadata": {},
   "outputs": [],
   "source": []
  },
  {
   "cell_type": "markdown",
   "id": "5884c2c6",
   "metadata": {},
   "source": [
    "**RETURN SUM AND MIN VALUES TOGETHER FOR EACH COLUMN IN df"
   ]
  },
  {
   "cell_type": "code",
   "execution_count": null,
   "id": "d0517cbe",
   "metadata": {},
   "outputs": [],
   "source": []
  },
  {
   "cell_type": "markdown",
   "id": "5ee07495",
   "metadata": {},
   "source": [
    "- more than one arguments is placed in a container."
   ]
  },
  {
   "cell_type": "markdown",
   "id": "3c65cca6",
   "metadata": {},
   "source": [
    "**RETURN SUM OF EACH COLUMN AS A SERIES IN df"
   ]
  },
  {
   "cell_type": "code",
   "execution_count": null,
   "id": "e17309d3",
   "metadata": {},
   "outputs": [],
   "source": []
  },
  {
   "cell_type": "markdown",
   "id": "d6a1fffa",
   "metadata": {},
   "source": [
    "**RETURN SUM OF EACH COLUMN AS A DATA FRAME IN df"
   ]
  },
  {
   "cell_type": "code",
   "execution_count": null,
   "id": "283fa545",
   "metadata": {},
   "outputs": [],
   "source": []
  },
  {
   "cell_type": "markdown",
   "id": "10c02bac",
   "metadata": {},
   "source": [
    "**RETURN SUM AND MIN VALUES FOR COLUMN A, MIN AND MAX VALUES FOR COLUMN B IN df"
   ]
  },
  {
   "cell_type": "code",
   "execution_count": null,
   "id": "ec90d44c",
   "metadata": {},
   "outputs": [],
   "source": []
  },
  {
   "cell_type": "markdown",
   "id": "732ce14a",
   "metadata": {},
   "source": [
    "**RETURN MAX VALUE FOR COLUMN A, MIN VALUE FOR COLUMN B AND MEAN VALUE FOR COLUMN C IN df"
   ]
  },
  {
   "cell_type": "code",
   "execution_count": null,
   "id": "76b6b15d",
   "metadata": {},
   "outputs": [],
   "source": []
  },
  {
   "cell_type": "markdown",
   "id": "d26e24c2",
   "metadata": {},
   "source": [
    "**CALCULATE THE MEAN VALUE OF AXIS 1 FOR df"
   ]
  },
  {
   "cell_type": "code",
   "execution_count": null,
   "id": "1ea48e4f",
   "metadata": {},
   "outputs": [],
   "source": []
  },
  {
   "cell_type": "code",
   "execution_count": null,
   "id": "92f499e2",
   "metadata": {},
   "outputs": [],
   "source": [
    "df = pd.DataFrame([[1,1,0.362],\n",
    "                 [1,2, 0.227],\n",
    "                 [2,3,1.267],\n",
    "                 [2,4,-0.562]], \n",
    "                 columns = [\"A\", \"B\", \"C\"])\n",
    "\n",
    "df"
   ]
  },
  {
   "cell_type": "markdown",
   "id": "60a97773",
   "metadata": {},
   "source": [
    "**GROUP df BY COLUMN A AND RETURN THE MIN VALUES FOR IT"
   ]
  },
  {
   "cell_type": "code",
   "execution_count": null,
   "id": "139f9f96",
   "metadata": {},
   "outputs": [],
   "source": []
  },
  {
   "cell_type": "markdown",
   "id": "f751a766",
   "metadata": {},
   "source": [
    "**GROUP df BY COLUMN A AND RETURN MIN VALUE FOR B COLUMN"
   ]
  },
  {
   "cell_type": "code",
   "execution_count": null,
   "id": "1add751b",
   "metadata": {},
   "outputs": [],
   "source": []
  },
  {
   "cell_type": "code",
   "execution_count": null,
   "id": "0b01ddf7",
   "metadata": {},
   "outputs": [],
   "source": []
  },
  {
   "cell_type": "markdown",
   "id": "98978e23",
   "metadata": {},
   "source": [
    "**GROUP df BY COLUMN A AND RETURN MIN AND MAX VALUES FOR EACH COLUMNS"
   ]
  },
  {
   "cell_type": "code",
   "execution_count": null,
   "id": "859ddc8a",
   "metadata": {},
   "outputs": [],
   "source": []
  },
  {
   "cell_type": "markdown",
   "id": "14fd3c34",
   "metadata": {},
   "source": [
    "**GROUP df BY COLUMN A AND RETURN MIN AND MAX VALUES FOR COLUMN B, SUM OF COLUMN C"
   ]
  },
  {
   "cell_type": "code",
   "execution_count": null,
   "id": "444f754e",
   "metadata": {},
   "outputs": [],
   "source": []
  },
  {
   "cell_type": "markdown",
   "id": "70e2c0eb",
   "metadata": {},
   "source": [
    "- if we are using more than one columns as arguments we use dictionary type"
   ]
  },
  {
   "cell_type": "code",
   "execution_count": null,
   "id": "03256772",
   "metadata": {},
   "outputs": [],
   "source": [
    "df = pd.DataFrame(np.random.randint(0, 100, size=(7, 5)), \n",
    "                  columns=[\"x1\", \"x2\", \"x3\", \"x4\", \"x5\"])\n",
    "df"
   ]
  },
  {
   "cell_type": "markdown",
   "id": "edd21e52",
   "metadata": {},
   "source": [
    "**COUNT THE NUMBER OF CELLS FOR EACH COLUMN IN df"
   ]
  },
  {
   "cell_type": "code",
   "execution_count": null,
   "id": "4a8b2d99",
   "metadata": {},
   "outputs": [],
   "source": []
  },
  {
   "cell_type": "markdown",
   "id": "15130e45",
   "metadata": {},
   "source": [
    "**COUNT THE NUMBER OF CELLS FOR x1 COLUMN IN df"
   ]
  },
  {
   "cell_type": "code",
   "execution_count": null,
   "id": "27655380",
   "metadata": {},
   "outputs": [],
   "source": []
  },
  {
   "cell_type": "markdown",
   "id": "0cd20ca9",
   "metadata": {},
   "source": [
    "**CALCULATE THE MEAN OF EACH FEATURE IN df"
   ]
  },
  {
   "cell_type": "code",
   "execution_count": null,
   "id": "8408477d",
   "metadata": {},
   "outputs": [],
   "source": []
  },
  {
   "cell_type": "code",
   "execution_count": null,
   "id": "3468e626",
   "metadata": {},
   "outputs": [],
   "source": [
    "dfNaN = pd.DataFrame([[1,2,3],\n",
    "                 [4,5,6],\n",
    "                 [7,8,9],\n",
    "                 [np.nan, np.nan, np.nan]], \n",
    "                 columns = [\"A\", \"B\", \"C\"])\n",
    "dfNaN"
   ]
  },
  {
   "cell_type": "markdown",
   "id": "5698c30a",
   "metadata": {},
   "source": [
    "**CALCULATE THE MEAN OF EACH COLUMN IN dfNaN INCLUDING NaN VALUES"
   ]
  },
  {
   "cell_type": "code",
   "execution_count": null,
   "id": "12ea11b1",
   "metadata": {},
   "outputs": [],
   "source": []
  },
  {
   "cell_type": "markdown",
   "id": "8a308130",
   "metadata": {},
   "source": [
    "- if we make a mathematical calculation with a NaN value result is always NaN"
   ]
  },
  {
   "cell_type": "markdown",
   "id": "65bc8a76",
   "metadata": {},
   "source": [
    "**CALCULATE MEDIAN OF x3 COLUMN IN df"
   ]
  },
  {
   "cell_type": "code",
   "execution_count": null,
   "id": "244d209d",
   "metadata": {},
   "outputs": [],
   "source": []
  },
  {
   "cell_type": "markdown",
   "id": "f5cbd2c1",
   "metadata": {},
   "source": [
    "**CALCULATE MEAN OF COLUMN x1 IN df"
   ]
  },
  {
   "cell_type": "code",
   "execution_count": null,
   "id": "cee454b7",
   "metadata": {},
   "outputs": [],
   "source": []
  },
  {
   "cell_type": "markdown",
   "id": "068aff7e",
   "metadata": {},
   "source": [
    "**RETURN MIN VALUE OF COLUMN x5 IN df"
   ]
  },
  {
   "cell_type": "code",
   "execution_count": null,
   "id": "58a6e31e",
   "metadata": {},
   "outputs": [],
   "source": []
  },
  {
   "cell_type": "markdown",
   "id": "86cdf2a0",
   "metadata": {},
   "source": [
    "**RETURN THE INDEX OF FIRST MIN VALUE FOR EACH COLUMN IN df "
   ]
  },
  {
   "cell_type": "code",
   "execution_count": null,
   "id": "70b8348d",
   "metadata": {},
   "outputs": [],
   "source": []
  },
  {
   "cell_type": "markdown",
   "id": "973af6e3",
   "metadata": {},
   "source": [
    "**RETURN THE INDEX OF FIRST MAX VALUE FOR EACH COLUMN IN df"
   ]
  },
  {
   "cell_type": "code",
   "execution_count": null,
   "id": "2e936c50",
   "metadata": {},
   "outputs": [],
   "source": []
  },
  {
   "cell_type": "markdown",
   "id": "90fb79fa",
   "metadata": {},
   "source": [
    "- ARGMIN AND ARGMAX DOES NOT WORK ON DATA FRAMES, THEY WORK ON ONE DIMENSIONAL OBJECTS"
   ]
  },
  {
   "cell_type": "markdown",
   "id": "6d86cece",
   "metadata": {},
   "source": [
    "**RETURN THE VALUES OF THE ROWS FOR THE INDEXES OF FIRST MIN VALUE FOR EACH COLUMN"
   ]
  },
  {
   "cell_type": "code",
   "execution_count": null,
   "id": "d5bc68f8",
   "metadata": {},
   "outputs": [],
   "source": []
  },
  {
   "cell_type": "markdown",
   "id": "514b965e",
   "metadata": {},
   "source": [
    "- we use index min/max for dropping outliers"
   ]
  },
  {
   "cell_type": "markdown",
   "id": "90aac5f2",
   "metadata": {},
   "source": [
    "**CALCULATE STANDART DEVIATION OF x1 AND x2 COLUMNS OF df"
   ]
  },
  {
   "cell_type": "code",
   "execution_count": null,
   "id": "4c444a56",
   "metadata": {},
   "outputs": [],
   "source": []
  },
  {
   "cell_type": "markdown",
   "id": "e4c8d285",
   "metadata": {},
   "source": [
    "**CALCULATE VARIATION OF x1 AND x2 COLUMNS OF df"
   ]
  },
  {
   "cell_type": "code",
   "execution_count": null,
   "id": "73561710",
   "metadata": {},
   "outputs": [],
   "source": []
  },
  {
   "cell_type": "markdown",
   "id": "7947f331",
   "metadata": {},
   "source": [
    "**CALCULATE SUM OF AXIS 1 OF df"
   ]
  },
  {
   "cell_type": "code",
   "execution_count": null,
   "id": "e69ff4dc",
   "metadata": {},
   "outputs": [],
   "source": []
  },
  {
   "cell_type": "markdown",
   "id": "cb947b95",
   "metadata": {},
   "source": [
    "**GENERATE DESCRIPTIVE STATISTICS OF df AND TRANSPOSE IT"
   ]
  },
  {
   "cell_type": "code",
   "execution_count": null,
   "id": "4f74b9b1",
   "metadata": {},
   "outputs": [],
   "source": []
  },
  {
   "cell_type": "markdown",
   "id": "40e450fb",
   "metadata": {},
   "source": [
    "- transpose of describe is useful when there are too much columns "
   ]
  },
  {
   "cell_type": "code",
   "execution_count": null,
   "id": "971ec526",
   "metadata": {},
   "outputs": [],
   "source": [
    "data = {'Company':['GOOG', 'GOOG', 'MSFT', 'MSFT', 'GOOG', 'MSFT', 'GOOG', 'MSFT'],\n",
    "        'Department':['HR', 'IT', 'IT', 'HR', 'HR', 'IT', 'IT', 'HR'],\n",
    "        'Person':['Sam', 'Charlie', 'Amy', 'Vanessa', 'Carl', 'Sarah', 'Tom', 'Terry'],\n",
    "        'Age':[30, 28, 35, 40, 42, 25, 32, 48],\n",
    "        'Sales':[200, 120, 340, 124, 243, 350, 180, 220]}"
   ]
  },
  {
   "cell_type": "code",
   "execution_count": null,
   "id": "ca9d45f6",
   "metadata": {},
   "outputs": [],
   "source": [
    "df1 = pd.DataFrame(data)\n",
    "df1"
   ]
  },
  {
   "cell_type": "markdown",
   "id": "fe74714e",
   "metadata": {},
   "source": [
    "**CALCULATE MEAN FOR EACH COMPANY IN df1"
   ]
  },
  {
   "cell_type": "code",
   "execution_count": null,
   "id": "6a4b54a2",
   "metadata": {},
   "outputs": [],
   "source": []
  },
  {
   "cell_type": "markdown",
   "id": "e9bf5ee6",
   "metadata": {},
   "source": [
    "**CALCULATE AVERAGE SALES FOR EACH Company IN df1"
   ]
  },
  {
   "cell_type": "code",
   "execution_count": null,
   "id": "1f15134a",
   "metadata": {},
   "outputs": [],
   "source": []
  },
  {
   "cell_type": "markdown",
   "id": "42dbbc35",
   "metadata": {},
   "source": [
    "**GROUP df1 BY FEATURE Company AND CALCULATE MEAN OF SALES AS A DATA FRAME"
   ]
  },
  {
   "cell_type": "code",
   "execution_count": null,
   "id": "2062afb9",
   "metadata": {},
   "outputs": [],
   "source": []
  },
  {
   "cell_type": "markdown",
   "id": "88c9cd71",
   "metadata": {},
   "source": [
    "**FIND YOUNGEST EMPLOYEES FOR EACH COMPANY IN df1"
   ]
  },
  {
   "cell_type": "code",
   "execution_count": null,
   "id": "57d035a0",
   "metadata": {},
   "outputs": [],
   "source": []
  },
  {
   "cell_type": "markdown",
   "id": "7de10282",
   "metadata": {},
   "source": [
    "**CALCULATE THE AVERAGE VALUES OF NUMERIC FEATURES FOR EACH COMPANY IN df1"
   ]
  },
  {
   "cell_type": "code",
   "execution_count": null,
   "id": "187d6947",
   "metadata": {},
   "outputs": [],
   "source": []
  },
  {
   "cell_type": "markdown",
   "id": "15235cea",
   "metadata": {},
   "source": [
    "**HOW MANY EMPLOYEES ARE WORKING FOR EACH COMPANY IN df1?"
   ]
  },
  {
   "cell_type": "code",
   "execution_count": null,
   "id": "95527f20",
   "metadata": {},
   "outputs": [],
   "source": []
  },
  {
   "cell_type": "markdown",
   "id": "842b6c40",
   "metadata": {},
   "source": [
    "**CALCULATE THE AVERAGE VALUES OF NUMERIC COLUMNS FOR THE DEPARTMENTS OF COMPANIES IN df1"
   ]
  },
  {
   "cell_type": "code",
   "execution_count": null,
   "id": "9f4b2117",
   "metadata": {},
   "outputs": [],
   "source": []
  },
  {
   "cell_type": "markdown",
   "id": "369dc41a",
   "metadata": {},
   "source": [
    "**CALCULATE SALES AVERAGES OF DEPARTMENTS OF COMPANIES IN df1"
   ]
  },
  {
   "cell_type": "code",
   "execution_count": null,
   "id": "f4a69e46",
   "metadata": {},
   "outputs": [],
   "source": []
  },
  {
   "cell_type": "markdown",
   "id": "e6b5ac17",
   "metadata": {},
   "source": [
    "**GENERATE DESCRIPTIVE STATISTICS OF SALES OF DEPARTMENTS OF COMPANIES IN df1"
   ]
  },
  {
   "cell_type": "code",
   "execution_count": null,
   "id": "5c100c4f",
   "metadata": {},
   "outputs": [],
   "source": []
  },
  {
   "cell_type": "code",
   "execution_count": null,
   "id": "58071d6f",
   "metadata": {},
   "outputs": [],
   "source": [
    "df2 = pd.DataFrame({'groups': ['A', 'B', 'C', 'A', 'B', 'C', 'A', 'B', 'C'],\n",
    "                   'var1': [10, 23, 33, 22, 11, 99, 76, 84, 45],\n",
    "                   'var2': [100, 253, 333, 262, 111, 969, 405, 578, 760]})\n",
    "df2"
   ]
  },
  {
   "cell_type": "markdown",
   "id": "11c158ab",
   "metadata": {},
   "source": [
    "**CALCULATE SUM AND FIND MIN VALUES FOR EACH COLUMNS IN df2"
   ]
  },
  {
   "cell_type": "code",
   "execution_count": null,
   "id": "7115b5e3",
   "metadata": {},
   "outputs": [],
   "source": []
  },
  {
   "cell_type": "markdown",
   "id": "ab780d30",
   "metadata": {},
   "source": [
    "**CALCULATE SUM AND FIND MIN VALUES FOR COLUMNS var1 AND var2"
   ]
  },
  {
   "cell_type": "code",
   "execution_count": null,
   "id": "b6b4f761",
   "metadata": {},
   "outputs": [],
   "source": []
  },
  {
   "cell_type": "markdown",
   "id": "b2939939",
   "metadata": {},
   "source": [
    "**CALCULATE SUM FOR COLUMN var1 AND FIND MIN VALUE FOR COLUMN var2"
   ]
  },
  {
   "cell_type": "code",
   "execution_count": null,
   "id": "11a33f1e",
   "metadata": {},
   "outputs": [],
   "source": []
  },
  {
   "cell_type": "markdown",
   "id": "c708d97e",
   "metadata": {},
   "source": [
    "**CALCULATE SUM AND MEAN FOR COLUMN var1 AND FIND MIN AND MAX VALUES FOR COLUMN var2"
   ]
  },
  {
   "cell_type": "code",
   "execution_count": null,
   "id": "482a23ea",
   "metadata": {},
   "outputs": [],
   "source": []
  },
  {
   "cell_type": "markdown",
   "id": "bc88df45",
   "metadata": {},
   "source": [
    "- we can't write just mean for mean calculations, we write np.mean, because mean is not a function defined in python\n",
    "- if we put mean inside quotes it works for pandas because mean is defined in pandas"
   ]
  },
  {
   "cell_type": "markdown",
   "id": "6034c3d4",
   "metadata": {},
   "source": [
    "**FIND MIN AND MAX VALUES AND CALCULATE MEDIAN FOR EACH GROUP IN df2"
   ]
  },
  {
   "cell_type": "code",
   "execution_count": null,
   "id": "24d592fe",
   "metadata": {},
   "outputs": [],
   "source": []
  },
  {
   "cell_type": "markdown",
   "id": "a42d1b06",
   "metadata": {},
   "source": [
    "**FIND MIN AND MAX VALUES FOR EACH GROUP IN df2"
   ]
  },
  {
   "cell_type": "code",
   "execution_count": null,
   "id": "b6bb1aff",
   "metadata": {},
   "outputs": [],
   "source": []
  },
  {
   "cell_type": "markdown",
   "id": "59c49d98",
   "metadata": {},
   "source": [
    "**FIND MIN AND MAX VALUES OF var1 AND var2 COLUMNS FOR EACH GROUP IN df2"
   ]
  },
  {
   "cell_type": "code",
   "execution_count": null,
   "id": "f13770f3",
   "metadata": {},
   "outputs": [],
   "source": []
  },
  {
   "cell_type": "markdown",
   "id": "99426096",
   "metadata": {},
   "source": [
    "- is filter and selection same?\n",
    "- by using regex and like we can make extra filtering"
   ]
  },
  {
   "cell_type": "markdown",
   "id": "8817baf8",
   "metadata": {},
   "source": [
    "**RETURN COLUMNS NAME STARTING WITH 'var' IN df2"
   ]
  },
  {
   "cell_type": "code",
   "execution_count": null,
   "id": "5106ec11",
   "metadata": {},
   "outputs": [],
   "source": []
  },
  {
   "cell_type": "markdown",
   "id": "f6cbd495",
   "metadata": {},
   "source": [
    "**RETURN COLUMNS NAME INCLUDING 'var' IN df2"
   ]
  },
  {
   "cell_type": "code",
   "execution_count": null,
   "id": "473ede00",
   "metadata": {},
   "outputs": [],
   "source": []
  },
  {
   "cell_type": "code",
   "execution_count": null,
   "id": "147f8286",
   "metadata": {},
   "outputs": [],
   "source": []
  },
  {
   "cell_type": "markdown",
   "id": "8cf69080",
   "metadata": {},
   "source": [
    "**CALCULATE SUM OF COLUMN var2 OF EACH GROUPS "
   ]
  },
  {
   "cell_type": "code",
   "execution_count": null,
   "id": "702d532b",
   "metadata": {},
   "outputs": [],
   "source": []
  },
  {
   "cell_type": "markdown",
   "id": "7d4016f1",
   "metadata": {},
   "source": [
    "**WHICH GROUP'S SUM OF COLUMN var2 IS GREATER THAN 800 IN df2"
   ]
  },
  {
   "cell_type": "code",
   "execution_count": null,
   "id": "d1066989",
   "metadata": {},
   "outputs": [],
   "source": []
  },
  {
   "cell_type": "markdown",
   "id": "1b08caca",
   "metadata": {},
   "source": [
    "**RETURN THE GROUPS THAT ARE "
   ]
  },
  {
   "cell_type": "code",
   "execution_count": null,
   "id": "d76622ac",
   "metadata": {},
   "outputs": [],
   "source": []
  },
  {
   "cell_type": "markdown",
   "id": "cf69ef9e",
   "metadata": {},
   "source": [
    "**RETURN ALL THE ROWS AND var1 AND var2 COLUMNS WITH iloc AND ASSIGN IT TO df_num"
   ]
  },
  {
   "cell_type": "code",
   "execution_count": null,
   "id": "a66c0ebc",
   "metadata": {},
   "outputs": [],
   "source": []
  },
  {
   "cell_type": "markdown",
   "id": "243153fb",
   "metadata": {},
   "source": [
    "**ADD 10 TO ALL VALUES IN df_num, USE TRANSFORM AND LAMBDA"
   ]
  },
  {
   "cell_type": "code",
   "execution_count": null,
   "id": "7ebd45a6",
   "metadata": {},
   "outputs": [],
   "source": []
  },
  {
   "cell_type": "markdown",
   "id": "71553185",
   "metadata": {},
   "source": [
    "**CALCULATE SQUARE ROOT AND EXPONENTIATION OF var1 COLUMN OF df_num WITH TRANSFORM"
   ]
  },
  {
   "cell_type": "code",
   "execution_count": null,
   "id": "7ade3d60",
   "metadata": {},
   "outputs": [],
   "source": []
  },
  {
   "cell_type": "markdown",
   "id": "616015f1",
   "metadata": {},
   "source": [
    "- transform works on single column and generates new features\n",
    "- transform is used for feature engineering"
   ]
  },
  {
   "cell_type": "markdown",
   "id": "29cbb8ce",
   "metadata": {},
   "source": [
    "**DEFINE Z SCORE AS A LAMBDA FUNCTION AND CALCULATE Z SCORE OF EACH VALUE IN df_num"
   ]
  },
  {
   "cell_type": "code",
   "execution_count": null,
   "id": "e2d30701",
   "metadata": {},
   "outputs": [],
   "source": []
  },
  {
   "cell_type": "markdown",
   "id": "6221d673",
   "metadata": {},
   "source": [
    "**CALCULATE MEAN OF COLUMN var1 FOR EACH GROUP IN df2 AND RETURN THE RESULT FOR EACH ROW AND ASSIGN IT AS A NEW COLUMN"
   ]
  },
  {
   "cell_type": "code",
   "execution_count": null,
   "id": "e02016e1",
   "metadata": {},
   "outputs": [],
   "source": []
  },
  {
   "cell_type": "markdown",
   "id": "aa9953a9",
   "metadata": {},
   "source": []
  }
 ],
 "metadata": {
  "kernelspec": {
   "display_name": "Python 3 (ipykernel)",
   "language": "python",
   "name": "python3"
  },
  "language_info": {
   "codemirror_mode": {
    "name": "ipython",
    "version": 3
   },
   "file_extension": ".py",
   "mimetype": "text/x-python",
   "name": "python",
   "nbconvert_exporter": "python",
   "pygments_lexer": "ipython3",
   "version": "3.11.5"
  }
 },
 "nbformat": 4,
 "nbformat_minor": 5
}
