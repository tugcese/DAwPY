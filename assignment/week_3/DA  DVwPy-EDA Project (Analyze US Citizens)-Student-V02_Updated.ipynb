{
 "cells": [
  {
   "cell_type": "markdown",
   "metadata": {
    "id": "RBgL2bqDjwN_"
   },
   "source": [
    "<p style=\"text-align: center;\"><img src=\"https://docs.google.com/uc?id=1lY0Uj5R04yMY3-ZppPWxqCr5pvBLYPnV\" class=\"img-fluid\" \n",
    "alt=\"CLRSWY\"></p>\n",
    "\n",
    "<p style=\"background-color:romance; color:plum; font-size:150%; text-align:center; border-radius:10px 10px; font-family:newtimeroman; line-height: 1; font-weight:bold;\">WAY TO REINVENT YOURSELF</p>\n",
    "\n",
    "<p style=\"background-color:romance; color:jaguar; font-size:250%; text-align:center; border-radius:10px 10px; font-family:newtimeroman; line-height: 1.4;\"><strong>Data Analysis & Visualization with Python</strong></p>\n",
    "\n",
    "![image.png](https://i.ibb.co/mT1GG7j/US-citizen.jpg)\n",
    "\n",
    "<p style=\"background-color:romance; color:jaguar; font-size:200%; text-align:center; border-radius:10px 10px; font-family:newtimeroman; line-height: 1.4;\"><strong>Analysis of US Citizens by Income Levels</strong></p>\n",
    "\n",
    "<!-- <p style=\"background-color:romance; color:jaguar; font-size:200%; text-align:center; border-radius:10px 10px; font-family:newtimeroman; line-height: 1.1;\">Project Solution</p> -->"
   ]
  },
  {
   "cell_type": "markdown",
   "metadata": {},
   "source": [
    "<a id=\"content\"></a>\n",
    "<p style=\"background-color:plum; color:floralwhite; font-size:175%; text-align:center; border-radius:10px 10px; font-family:newtimeroman; line-height: 1.4;\">Content</p>\n",
    "\n",
    "* [Introduction](#0)\n",
    "* [About Dataset](#1)\n",
    "* [Importing Related Libraries](#2)\n",
    "* [Recognizing & Understanding Data](#3)\n",
    "* [Univariate & Multivariate Analysis](#4)    \n",
    "* [Other Specific Analysis Questions](#5)\n",
    "* [Dropping Similar & Unneccessary Features](#6)\n",
    "* [Handling with Missing Values](#7)\n",
    "* [Handling with Outliers](#8)    \n",
    "* [Final Step to make ready dataset for ML Models](#9)\n",
    "* [The End of the Project](#10)"
   ]
  },
  {
   "cell_type": "markdown",
   "metadata": {
    "id": "wN-5l4z7jwN_"
   },
   "source": [
    "<a id=\"0\"></a>\n",
    "<p style=\"background-color:plum; color:floralwhite; font-size:175%; text-align:center; border-radius:10px 10px; font-family:newtimeroman; line-height: 1.4;\">Introduction</p>\n",
    "\n",
    "<a href=\"#content\" class=\"btn btn-primary btn-sm\" role=\"button\" aria-pressed=\"true\" style=\"color:blue; background-color:#dfa8e4\" data-toggle=\"popover\">Content</a>\n",
    "\n",
    "One of the most important components to any data science experiment that doesn’t get as much importance as it should is **``Exploratory Data Analysis (EDA)``**. In short, EDA is **``\"A first look at the data\"``**. It is a critical step in analyzing the data from an experiment. It is used to understand and summarize the content of the dataset to ensure that the features which we feed to our machine learning algorithms are refined and we get valid, correctly interpreted results.\n",
    "In general, looking at a column of numbers or a whole spreadsheet and determining the important characteristics of the data can be very tedious and boring. Moreover, it is **good practice to understand the problem statement** and the data before you get your hands dirty, which in view, **helps to gain a lot of insights**. I will try to explain the concept using the Adult dataset/Census Income dataset available on the [UCI Machine Learning Repository](https://archive.ics.uci.edu/ml/datasets/Adult). The problem statement here is to predict whether the income exceeds 50k a year or not based on the census data.\n",
    "\n",
    "**Aim of the Project**\n",
    "\n",
    "Applying Exploratory Data Analysis (EDA) and preparing the data to implement the Machine Learning Algorithms;\n",
    "1. Analyzing the characteristics of individuals according to income groups\n",
    "2. Preparing data to create a model that will predict the income levels of people according to their characteristics (So the \"salary\" feature is the target feature)"
   ]
  },
  {
   "cell_type": "markdown",
   "metadata": {
    "id": "XzZP-nZ5jwOA"
   },
   "source": [
    "<a id=\"1\"></a>\n",
    "<p style=\"background-color:plum; color:floralwhite; font-size:175%; text-align:center; border-radius:10px 10px; font-family:newtimeroman; line-height: 1.4;\">About Dataset</p>\n",
    "\n",
    "<a href=\"https://www.kaggle.com/code/jieyima/income-classification-model/notebook\" class=\"btn btn-primary btn-sm\" role=\"button\" aria-pressed=\"true\" style=\"color:blue; background-color:#dfa8e4\" data-toggle=\"popover\">Kaggle: Income Classification Model</a>\n",
    "\n",
    "The Census Income dataset has 48,842 entries. Each entry contains the following information about an individual:\n",
    "\n",
    "- **salary (target feature/label):** whether or not an individual makes more than $50,000 annually. (<= 50K, >50K)\n",
    "- **age:** the age of an individual. (Integer greater than 0)\n",
    "- **workclass:** a general term to represent the employment status of an individual. (Private, Self-emp-not-inc, Self-emp-inc, Federal-gov, Local-gov, State-gov, Without-pay, Never-worked)\n",
    "- **fnlwgt:** this is the number of people the census believes the entry represents. People with similar demographic characteristics should have similar weights.  There is one important caveat to remember about this statement. That is that since the CPS sample is actually a collection of 51 state samples, each with its own probability of selection, the statement only applies within state.(Integer greater than 0)\n",
    "- **education:** the highest level of education achieved by an individual. (Bachelors, Some-college, 11th, HS-grad, Prof-school, Assoc-acdm, Assoc-voc, 9th, 7th-8th, 12th, Masters, 1st-4th, 10th, Doctorate, 5th-6th, Preschool.)\n",
    "- **education-num:** the highest level of education achieved in numerical form. (Integer greater than 0)\n",
    "- **marital-status:** marital status of an individual. Married-civ-spouse corresponds to a civilian spouse while Married-AF-spouse is a spouse in the Armed Forces. Married-spouse-absent includes married people living apart because either the husband or wife was employed and living at a considerable distance from home (Married-civ-spouse, Divorced, Never-married, Separated, Widowed, Married-spouse-absent, Married-AF-spouse)\n",
    "- **occupation:** the general type of occupation of an individual. (Tech-support, Craft-repair, Other-service, Sales, Exec-managerial, Prof-specialty, Handlers-cleaners, Machine-op-inspct, Adm-clerical, Farming-fishing, Transport-moving, Priv-house-serv, Protective-serv, Armed-Forces)\n",
    "- **relationship:** represents what this individual is relative to others. For example an individual could be a Husband. Each entry only has one relationship attribute. (Wife, Own-child, Husband, Not-in-family, Other-relative, Unmarried)\n",
    "- **race:** Descriptions of an individual’s race. (White, Asian-Pac-Islander, Amer-Indian-Eskimo, Other, Black)\n",
    "- **sex:** the biological sex of the individual. (Male, female)\n",
    "- **capital-gain:** capital gains for an individual. (Integer greater than or equal to 0)\n",
    "- **capital-loss:** capital loss for an individual. (Integer greater than or equal to 0)\n",
    "- **hours-per-week:** the hours an individual has reported to work per week. (continuous)\n",
    "- **native-country:** country of origin for an individual (United-States, Cambodia, England, Puerto-Rico, Canada, Germany, Outlying-US(Guam-USVI-etc), India, Japan, Greece, South, China, Cuba, Iran, Honduras, Philippines, Italy, Poland, Jamaica, Vietnam, Mexico, Portugal, Ireland, France, Dominican-Republic, Laos, Ecuador, Taiwan, Haiti, Columbia, Hungary, Guatemala, Nicaragua, Scotland, Thailand, Yugoslavia, El-Salvador, Trinadad&Tobago, Peru, Hong, Holand-Netherlands)"
   ]
  },
  {
   "cell_type": "markdown",
   "metadata": {},
   "source": [
    "<p style=\"background-color:plum; color:floralwhite; font-size:175%; text-align:center; border-radius:10px 10px; font-family:newtimeroman; line-height: 1.4;\">How to Installing/Enabling Intellisense or Autocomplete in Jupyter Notebook</p>\n",
    "\n",
    "**Installing [jupyter_contrib_nbextensions](https://jupyter-contrib-nbextensions.readthedocs.io/en/latest/install.html)**\n",
    "\n",
    "**To install the current version from The Python Package Index (PyPI), which is a repository of software for the Python programming language, simply type:**\n",
    "\n",
    "!pip install jupyter_contrib_nbextensions\n",
    "\n",
    "**Alternatively, you can install directly from the current master branch of the repository:**\n",
    "\n",
    "!pip install https://github.com/ipython-contrib/jupyter_contrib_nbextensions/tarball/master\n",
    "\n",
    "**Enabling [Intellisense or Autocomplete in Jupyter Notebook](https://botbark.com/2019/12/18/how-to-enable-intellisense-or-autocomplete-in-jupyter-notebook/)**\n",
    "\n",
    "\n",
    "**Installing hinterland for jupyter without anaconda**\n",
    "\n",
    "**``STEP 1:``** ``Open cmd prompt and run the following commands``\n",
    " 1) pip install jupyter_contrib_nbextensions<br>\n",
    " 2) pip install jupyter_nbextensions_configurator<br>\n",
    " 3) jupyter contrib nbextension install --user<br> \n",
    " 4) jupyter nbextensions_configurator enable --user<br>\n",
    "\n",
    "**``STEP 2:``** ``Open jupyter notebook``\n",
    " - click on nbextensions tab<br>\n",
    " - unckeck disable configuration for nbextensions without explicit compatibility<br>\n",
    " - put a check on Hinterland<br>\n",
    "\n",
    "**``Step 3:``** ``Open new python file and check autocomplete feature``\n",
    "\n",
    "[VIDEO SOURCE](https://www.youtube.com/watch?v=DKE8hED0fow)\n",
    "\n",
    "![Image_Assignment](https://i.ibb.co/RbmDmD6/E8-EED4-F3-B3-F4-4571-B6-A0-1-B3224-AAB060-4-5005-c.jpg)"
   ]
  },
  {
   "cell_type": "markdown",
   "metadata": {
    "id": "rvbIoNsjjwOD"
   },
   "source": [
    "<a id=\"2\"></a>\n",
    "<p style=\"background-color:plum; color:floralwhite; font-size:175%; text-align:center; border-radius:10px 10px; font-family:newtimeroman; line-height: 1.4;\">Importing Related Libraries</p>\n",
    "\n",
    "<a href=\"#content\" class=\"btn btn-primary btn-sm\" role=\"button\" aria-pressed=\"true\" style=\"color:blue; background-color:#dfa8e4\" data-toggle=\"popover\">Content</a>\n",
    "\n",
    "- Once you've Installed NumPy and Pandas etc. you can Import them as a Library.\n",
    "- Reading the Data from File"
   ]
  },
  {
   "cell_type": "code",
   "execution_count": 1,
   "metadata": {
    "id": "p7_KEHrAjwOE"
   },
   "outputs": [],
   "source": [
    "import re\n",
    "import numpy as np\n",
    "import pandas as pd\n",
    "import matplotlib.pyplot as plt\n",
    "import seaborn as sns\n",
    "\n",
    "# Statistics functions\n",
    "from scipy import stats\n",
    "\n",
    "import warnings\n",
    "# Suppressing a warning \n",
    "warnings.filterwarnings(\"ignore\") \n",
    "warnings.warn(\"this will not show\")\n",
    "\n",
    "# The style parameters control properties like the color of the background and whether a grid is enabled by default.\n",
    "sns.set_style(\"darkgrid\")\n",
    "\n",
    "params = {\n",
    "'figure.figsize':(12,5),\n",
    "'figure.titlesize':20,\n",
    "'font.size': 15,\n",
    "'axes.titlesize': 20,\n",
    "'axes.labelsize': 15,\n",
    "'xtick.labelsize': 15,\n",
    "'ytick.labelsize': 15,\n",
    "'legend.fontsize': 15,\n",
    "'boxplot.showmeans': True,\n",
    "'boxplot.meanprops.marker': 'o',\n",
    "'boxplot.meanprops.markeredgecolor': 'k',\n",
    "'boxplot.meanprops.markerfacecolor': 'w',\n",
    "'boxplot.meanprops.markersize': 10.1,\n",
    "}\n",
    "# print(plt.style.library)\n",
    "plt.rcParams.update(params)\n",
    "# plt.rcParams.update(plt.rcParamsDefault)\n",
    "# print(plt.rcParams['figure.figsize'])\n",
    "\n",
    "# Environment settings: \n",
    "pd.set_option('display.float_format', lambda x: '%.3f' % x)\n",
    "# Set it None to display all rows in the dataframe\n",
    "pd.set_option('display.max_rows', 100)\n",
    "# Set it to None to display all columns in the dataframe\n",
    "pd.set_option('display.max_columns', None)\n",
    "\n",
    "# It is a magic function that renders the figure in the notebook\n",
    "# Attention if U use this inline Command not work 'figure.figsize'\n",
    "# %matplotlib inline "
   ]
  },
  {
   "cell_type": "markdown",
   "metadata": {
    "id": "12VFNmTfjwOG"
   },
   "source": [
    "## Reading the Data from File"
   ]
  },
  {
   "cell_type": "code",
   "execution_count": 3,
   "metadata": {},
   "outputs": [],
   "source": [
    "df = pd.read_csv(\"adult_eda.csv\")"
   ]
  },
  {
   "cell_type": "markdown",
   "metadata": {
    "id": "Y_VGwqWCjwOH"
   },
   "source": [
    "<a id=\"3\"></a>\n",
    "<p style=\"background-color:plum; color:floralwhite; font-size:175%; text-align:center; border-radius:10px 10px; font-family:newtimeroman; line-height: 1.4;\">Recognizing and Understanding Data</p>\n",
    "\n",
    "<a href=\"#content\" class=\"btn btn-primary btn-sm\" role=\"button\" aria-pressed=\"true\" style=\"color:blue; background-color:#dfa8e4\" data-toggle=\"popover\">Content</a>\n",
    "\n",
    "## Try to understand what the data looks like\n",
    "- Check the head, shape, data-types of the features.\n",
    "- Check if there are some dublicate rows or not. If there are, then drop them. \n",
    "- Check the statistical values of features.\n",
    "- Basically check the missing values. (NaN, None)\n",
    "- If needed, rename the columns' names for easy use."
   ]
  },
  {
   "cell_type": "markdown",
   "metadata": {},
   "source": [
    "### Check the head, shape, data-types of the features."
   ]
  },
  {
   "cell_type": "code",
   "execution_count": 4,
   "metadata": {},
   "outputs": [
    {
     "data": {
      "text/html": [
       "<div>\n",
       "<style scoped>\n",
       "    .dataframe tbody tr th:only-of-type {\n",
       "        vertical-align: middle;\n",
       "    }\n",
       "\n",
       "    .dataframe tbody tr th {\n",
       "        vertical-align: top;\n",
       "    }\n",
       "\n",
       "    .dataframe thead th {\n",
       "        text-align: right;\n",
       "    }\n",
       "</style>\n",
       "<table border=\"1\" class=\"dataframe\">\n",
       "  <thead>\n",
       "    <tr style=\"text-align: right;\">\n",
       "      <th></th>\n",
       "      <th>age</th>\n",
       "      <th>workclass</th>\n",
       "      <th>fnlwgt</th>\n",
       "      <th>education</th>\n",
       "      <th>education-num</th>\n",
       "      <th>marital-status</th>\n",
       "      <th>occupation</th>\n",
       "      <th>relationship</th>\n",
       "      <th>race</th>\n",
       "      <th>sex</th>\n",
       "      <th>capital-gain</th>\n",
       "      <th>capital-loss</th>\n",
       "      <th>hours-per-week</th>\n",
       "      <th>native-country</th>\n",
       "      <th>salary</th>\n",
       "    </tr>\n",
       "  </thead>\n",
       "  <tbody>\n",
       "    <tr>\n",
       "      <th>0</th>\n",
       "      <td>39</td>\n",
       "      <td>State-gov</td>\n",
       "      <td>77516</td>\n",
       "      <td>Bachelors</td>\n",
       "      <td>13.000</td>\n",
       "      <td>Never-married</td>\n",
       "      <td>Adm-clerical</td>\n",
       "      <td>Not-in-family</td>\n",
       "      <td>White</td>\n",
       "      <td>Male</td>\n",
       "      <td>2174</td>\n",
       "      <td>0</td>\n",
       "      <td>40</td>\n",
       "      <td>United-States</td>\n",
       "      <td>&lt;=50K</td>\n",
       "    </tr>\n",
       "    <tr>\n",
       "      <th>1</th>\n",
       "      <td>50</td>\n",
       "      <td>Self-emp-not-inc</td>\n",
       "      <td>83311</td>\n",
       "      <td>Bachelors</td>\n",
       "      <td>13.000</td>\n",
       "      <td>Married-civ-spouse</td>\n",
       "      <td>Exec-managerial</td>\n",
       "      <td>Husband</td>\n",
       "      <td>White</td>\n",
       "      <td>Male</td>\n",
       "      <td>0</td>\n",
       "      <td>0</td>\n",
       "      <td>13</td>\n",
       "      <td>United-States</td>\n",
       "      <td>&lt;=50K</td>\n",
       "    </tr>\n",
       "    <tr>\n",
       "      <th>2</th>\n",
       "      <td>38</td>\n",
       "      <td>Private</td>\n",
       "      <td>215646</td>\n",
       "      <td>HS-grad</td>\n",
       "      <td>9.000</td>\n",
       "      <td>Divorced</td>\n",
       "      <td>Handlers-cleaners</td>\n",
       "      <td>Not-in-family</td>\n",
       "      <td>White</td>\n",
       "      <td>Male</td>\n",
       "      <td>0</td>\n",
       "      <td>0</td>\n",
       "      <td>40</td>\n",
       "      <td>United-States</td>\n",
       "      <td>&lt;=50K</td>\n",
       "    </tr>\n",
       "    <tr>\n",
       "      <th>3</th>\n",
       "      <td>53</td>\n",
       "      <td>Private</td>\n",
       "      <td>234721</td>\n",
       "      <td>11th</td>\n",
       "      <td>7.000</td>\n",
       "      <td>Married-civ-spouse</td>\n",
       "      <td>Handlers-cleaners</td>\n",
       "      <td>Husband</td>\n",
       "      <td>Black</td>\n",
       "      <td>Male</td>\n",
       "      <td>0</td>\n",
       "      <td>0</td>\n",
       "      <td>40</td>\n",
       "      <td>United-States</td>\n",
       "      <td>&lt;=50K</td>\n",
       "    </tr>\n",
       "    <tr>\n",
       "      <th>4</th>\n",
       "      <td>28</td>\n",
       "      <td>Private</td>\n",
       "      <td>338409</td>\n",
       "      <td>Bachelors</td>\n",
       "      <td>13.000</td>\n",
       "      <td>Married-civ-spouse</td>\n",
       "      <td>Prof-specialty</td>\n",
       "      <td>Wife</td>\n",
       "      <td>Black</td>\n",
       "      <td>Female</td>\n",
       "      <td>0</td>\n",
       "      <td>0</td>\n",
       "      <td>40</td>\n",
       "      <td>Cuba</td>\n",
       "      <td>&lt;=50K</td>\n",
       "    </tr>\n",
       "  </tbody>\n",
       "</table>\n",
       "</div>"
      ],
      "text/plain": [
       "   age         workclass  fnlwgt  education  education-num  \\\n",
       "0   39         State-gov   77516  Bachelors         13.000   \n",
       "1   50  Self-emp-not-inc   83311  Bachelors         13.000   \n",
       "2   38           Private  215646    HS-grad          9.000   \n",
       "3   53           Private  234721       11th          7.000   \n",
       "4   28           Private  338409  Bachelors         13.000   \n",
       "\n",
       "       marital-status         occupation   relationship   race     sex  \\\n",
       "0       Never-married       Adm-clerical  Not-in-family  White    Male   \n",
       "1  Married-civ-spouse    Exec-managerial        Husband  White    Male   \n",
       "2            Divorced  Handlers-cleaners  Not-in-family  White    Male   \n",
       "3  Married-civ-spouse  Handlers-cleaners        Husband  Black    Male   \n",
       "4  Married-civ-spouse     Prof-specialty           Wife  Black  Female   \n",
       "\n",
       "   capital-gain  capital-loss  hours-per-week native-country salary  \n",
       "0          2174             0              40  United-States  <=50K  \n",
       "1             0             0              13  United-States  <=50K  \n",
       "2             0             0              40  United-States  <=50K  \n",
       "3             0             0              40  United-States  <=50K  \n",
       "4             0             0              40           Cuba  <=50K  "
      ]
     },
     "execution_count": 4,
     "metadata": {},
     "output_type": "execute_result"
    }
   ],
   "source": [
    "df.head()"
   ]
  },
  {
   "cell_type": "code",
   "execution_count": 6,
   "metadata": {},
   "outputs": [
    {
     "data": {
      "text/plain": [
       "(32561, 15)"
      ]
     },
     "execution_count": 6,
     "metadata": {},
     "output_type": "execute_result"
    }
   ],
   "source": [
    "df.shape"
   ]
  },
  {
   "cell_type": "code",
   "execution_count": 7,
   "metadata": {},
   "outputs": [
    {
     "name": "stdout",
     "output_type": "stream",
     "text": [
      "<class 'pandas.core.frame.DataFrame'>\n",
      "RangeIndex: 32561 entries, 0 to 32560\n",
      "Data columns (total 15 columns):\n",
      " #   Column          Non-Null Count  Dtype  \n",
      "---  ------          --------------  -----  \n",
      " 0   age             32561 non-null  int64  \n",
      " 1   workclass       32561 non-null  object \n",
      " 2   fnlwgt          32561 non-null  int64  \n",
      " 3   education       32561 non-null  object \n",
      " 4   education-num   31759 non-null  float64\n",
      " 5   marital-status  32561 non-null  object \n",
      " 6   occupation      32561 non-null  object \n",
      " 7   relationship    27493 non-null  object \n",
      " 8   race            32561 non-null  object \n",
      " 9   sex             32561 non-null  object \n",
      " 10  capital-gain    32561 non-null  int64  \n",
      " 11  capital-loss    32561 non-null  int64  \n",
      " 12  hours-per-week  32561 non-null  int64  \n",
      " 13  native-country  32561 non-null  object \n",
      " 14  salary          32561 non-null  object \n",
      "dtypes: float64(1), int64(5), object(9)\n",
      "memory usage: 3.7+ MB\n"
     ]
    }
   ],
   "source": [
    "df.info()"
   ]
  },
  {
   "cell_type": "markdown",
   "metadata": {},
   "source": [
    "### Check if there are some dublicate rows or not. If there are, then drop them."
   ]
  },
  {
   "cell_type": "code",
   "execution_count": 9,
   "metadata": {},
   "outputs": [
    {
     "data": {
      "text/plain": [
       "False    32537\n",
       "True        24\n",
       "Name: count, dtype: int64"
      ]
     },
     "execution_count": 9,
     "metadata": {},
     "output_type": "execute_result"
    }
   ],
   "source": [
    "df.duplicated().value_counts()"
   ]
  },
  {
   "cell_type": "code",
   "execution_count": 10,
   "metadata": {},
   "outputs": [],
   "source": [
    "df.drop_duplicates(inplace=True)"
   ]
  },
  {
   "cell_type": "markdown",
   "metadata": {},
   "source": [
    "### Check the statistical values of features."
   ]
  },
  {
   "cell_type": "code",
   "execution_count": 12,
   "metadata": {},
   "outputs": [
    {
     "data": {
      "text/html": [
       "<div>\n",
       "<style scoped>\n",
       "    .dataframe tbody tr th:only-of-type {\n",
       "        vertical-align: middle;\n",
       "    }\n",
       "\n",
       "    .dataframe tbody tr th {\n",
       "        vertical-align: top;\n",
       "    }\n",
       "\n",
       "    .dataframe thead th {\n",
       "        text-align: right;\n",
       "    }\n",
       "</style>\n",
       "<table border=\"1\" class=\"dataframe\">\n",
       "  <thead>\n",
       "    <tr style=\"text-align: right;\">\n",
       "      <th></th>\n",
       "      <th>count</th>\n",
       "      <th>mean</th>\n",
       "      <th>std</th>\n",
       "      <th>min</th>\n",
       "      <th>25%</th>\n",
       "      <th>50%</th>\n",
       "      <th>75%</th>\n",
       "      <th>max</th>\n",
       "    </tr>\n",
       "  </thead>\n",
       "  <tbody>\n",
       "    <tr>\n",
       "      <th>age</th>\n",
       "      <td>32537.000</td>\n",
       "      <td>38.586</td>\n",
       "      <td>13.638</td>\n",
       "      <td>17.000</td>\n",
       "      <td>28.000</td>\n",
       "      <td>37.000</td>\n",
       "      <td>48.000</td>\n",
       "      <td>90.000</td>\n",
       "    </tr>\n",
       "    <tr>\n",
       "      <th>fnlwgt</th>\n",
       "      <td>32537.000</td>\n",
       "      <td>189780.849</td>\n",
       "      <td>105556.471</td>\n",
       "      <td>12285.000</td>\n",
       "      <td>117827.000</td>\n",
       "      <td>178356.000</td>\n",
       "      <td>236993.000</td>\n",
       "      <td>1484705.000</td>\n",
       "    </tr>\n",
       "    <tr>\n",
       "      <th>education-num</th>\n",
       "      <td>31735.000</td>\n",
       "      <td>10.084</td>\n",
       "      <td>2.575</td>\n",
       "      <td>1.000</td>\n",
       "      <td>9.000</td>\n",
       "      <td>10.000</td>\n",
       "      <td>12.000</td>\n",
       "      <td>16.000</td>\n",
       "    </tr>\n",
       "    <tr>\n",
       "      <th>capital-gain</th>\n",
       "      <td>32537.000</td>\n",
       "      <td>1078.444</td>\n",
       "      <td>7387.957</td>\n",
       "      <td>0.000</td>\n",
       "      <td>0.000</td>\n",
       "      <td>0.000</td>\n",
       "      <td>0.000</td>\n",
       "      <td>99999.000</td>\n",
       "    </tr>\n",
       "    <tr>\n",
       "      <th>capital-loss</th>\n",
       "      <td>32537.000</td>\n",
       "      <td>87.368</td>\n",
       "      <td>403.102</td>\n",
       "      <td>0.000</td>\n",
       "      <td>0.000</td>\n",
       "      <td>0.000</td>\n",
       "      <td>0.000</td>\n",
       "      <td>4356.000</td>\n",
       "    </tr>\n",
       "    <tr>\n",
       "      <th>hours-per-week</th>\n",
       "      <td>32537.000</td>\n",
       "      <td>40.440</td>\n",
       "      <td>12.347</td>\n",
       "      <td>1.000</td>\n",
       "      <td>40.000</td>\n",
       "      <td>40.000</td>\n",
       "      <td>45.000</td>\n",
       "      <td>99.000</td>\n",
       "    </tr>\n",
       "  </tbody>\n",
       "</table>\n",
       "</div>"
      ],
      "text/plain": [
       "                   count       mean        std       min        25%  \\\n",
       "age            32537.000     38.586     13.638    17.000     28.000   \n",
       "fnlwgt         32537.000 189780.849 105556.471 12285.000 117827.000   \n",
       "education-num  31735.000     10.084      2.575     1.000      9.000   \n",
       "capital-gain   32537.000   1078.444   7387.957     0.000      0.000   \n",
       "capital-loss   32537.000     87.368    403.102     0.000      0.000   \n",
       "hours-per-week 32537.000     40.440     12.347     1.000     40.000   \n",
       "\n",
       "                      50%        75%         max  \n",
       "age                37.000     48.000      90.000  \n",
       "fnlwgt         178356.000 236993.000 1484705.000  \n",
       "education-num      10.000     12.000      16.000  \n",
       "capital-gain        0.000      0.000   99999.000  \n",
       "capital-loss        0.000      0.000    4356.000  \n",
       "hours-per-week     40.000     45.000      99.000  "
      ]
     },
     "execution_count": 12,
     "metadata": {},
     "output_type": "execute_result"
    }
   ],
   "source": [
    "df.describe().T"
   ]
  },
  {
   "cell_type": "code",
   "execution_count": null,
   "metadata": {},
   "outputs": [],
   "source": []
  },
  {
   "cell_type": "markdown",
   "metadata": {},
   "source": [
    "### Basically check the missing values. (NaN, None)"
   ]
  },
  {
   "cell_type": "code",
   "execution_count": 13,
   "metadata": {},
   "outputs": [
    {
     "data": {
      "text/plain": [
       "age                  0\n",
       "workclass            0\n",
       "fnlwgt               0\n",
       "education            0\n",
       "education-num      802\n",
       "marital-status       0\n",
       "occupation           0\n",
       "relationship      5064\n",
       "race                 0\n",
       "sex                  0\n",
       "capital-gain         0\n",
       "capital-loss         0\n",
       "hours-per-week       0\n",
       "native-country       0\n",
       "salary               0\n",
       "dtype: int64"
      ]
     },
     "execution_count": 13,
     "metadata": {},
     "output_type": "execute_result"
    }
   ],
   "source": [
    "df.isnull().sum()"
   ]
  },
  {
   "cell_type": "markdown",
   "metadata": {},
   "source": [
    "### If needed, rename the columns' names for easy use. "
   ]
  },
  {
   "cell_type": "code",
   "execution_count": 16,
   "metadata": {},
   "outputs": [],
   "source": [
    "df = df.rename(columns={'education-num': 'education_num', \"marital-status\": \"marital_status\", \"capital-gain\":\"capital_gain\",\"capital-loss\":\"capital_loss\", \"hours-per-week\" : \"hours_per_week\", \"native-country\":\"native_country\"})"
   ]
  },
  {
   "cell_type": "code",
   "execution_count": 21,
   "metadata": {},
   "outputs": [
    {
     "data": {
      "text/plain": [
       "Index(['age', 'workclass', 'fnlwgt', 'education', 'education_num',\n",
       "       'marital_status', 'occupation', 'relationship', 'race', 'sex',\n",
       "       'capital_gain', 'capital_loss', 'hours_per_week', 'native_country',\n",
       "       'salary'],\n",
       "      dtype='object')"
      ]
     },
     "execution_count": 21,
     "metadata": {},
     "output_type": "execute_result"
    }
   ],
   "source": [
    "df.columns"
   ]
  },
  {
   "cell_type": "markdown",
   "metadata": {
    "id": "3QuB60ZKjwOM"
   },
   "source": [
    "## Examining the Data\n",
    "- Look at the counts of columns that have OBJECT datatype \n",
    "- Assign the Columns (Features) of object data type as** **`\"object_col\"`**\n",
    "- Detect strange values apart from the NaN Values.(isin(),Count(),Sum(),Any())"
   ]
  },
  {
   "cell_type": "markdown",
   "metadata": {},
   "source": [
    "### Look at the value counts of columns that have OBJECT datatype"
   ]
  },
  {
   "cell_type": "code",
   "execution_count": 22,
   "metadata": {},
   "outputs": [
    {
     "data": {
      "text/html": [
       "<div>\n",
       "<style scoped>\n",
       "    .dataframe tbody tr th:only-of-type {\n",
       "        vertical-align: middle;\n",
       "    }\n",
       "\n",
       "    .dataframe tbody tr th {\n",
       "        vertical-align: top;\n",
       "    }\n",
       "\n",
       "    .dataframe thead th {\n",
       "        text-align: right;\n",
       "    }\n",
       "</style>\n",
       "<table border=\"1\" class=\"dataframe\">\n",
       "  <thead>\n",
       "    <tr style=\"text-align: right;\">\n",
       "      <th></th>\n",
       "      <th>workclass</th>\n",
       "      <th>education</th>\n",
       "      <th>marital_status</th>\n",
       "      <th>occupation</th>\n",
       "      <th>relationship</th>\n",
       "      <th>race</th>\n",
       "      <th>sex</th>\n",
       "      <th>native_country</th>\n",
       "      <th>salary</th>\n",
       "    </tr>\n",
       "  </thead>\n",
       "  <tbody>\n",
       "    <tr>\n",
       "      <th>count</th>\n",
       "      <td>32537</td>\n",
       "      <td>32537</td>\n",
       "      <td>32537</td>\n",
       "      <td>32537</td>\n",
       "      <td>27473</td>\n",
       "      <td>32537</td>\n",
       "      <td>32537</td>\n",
       "      <td>32537</td>\n",
       "      <td>32537</td>\n",
       "    </tr>\n",
       "    <tr>\n",
       "      <th>unique</th>\n",
       "      <td>9</td>\n",
       "      <td>16</td>\n",
       "      <td>7</td>\n",
       "      <td>15</td>\n",
       "      <td>5</td>\n",
       "      <td>5</td>\n",
       "      <td>2</td>\n",
       "      <td>42</td>\n",
       "      <td>2</td>\n",
       "    </tr>\n",
       "    <tr>\n",
       "      <th>top</th>\n",
       "      <td>Private</td>\n",
       "      <td>HS-grad</td>\n",
       "      <td>Married-civ-spouse</td>\n",
       "      <td>Prof-specialty</td>\n",
       "      <td>Husband</td>\n",
       "      <td>White</td>\n",
       "      <td>Male</td>\n",
       "      <td>United-States</td>\n",
       "      <td>&lt;=50K</td>\n",
       "    </tr>\n",
       "    <tr>\n",
       "      <th>freq</th>\n",
       "      <td>22673</td>\n",
       "      <td>10494</td>\n",
       "      <td>14970</td>\n",
       "      <td>4136</td>\n",
       "      <td>13187</td>\n",
       "      <td>27795</td>\n",
       "      <td>21775</td>\n",
       "      <td>29153</td>\n",
       "      <td>24698</td>\n",
       "    </tr>\n",
       "  </tbody>\n",
       "</table>\n",
       "</div>"
      ],
      "text/plain": [
       "       workclass education      marital_status      occupation relationship  \\\n",
       "count      32537     32537               32537           32537        27473   \n",
       "unique         9        16                   7              15            5   \n",
       "top      Private   HS-grad  Married-civ-spouse  Prof-specialty      Husband   \n",
       "freq       22673     10494               14970            4136        13187   \n",
       "\n",
       "         race    sex native_country salary  \n",
       "count   32537  32537          32537  32537  \n",
       "unique      5      2             42      2  \n",
       "top     White   Male  United-States  <=50K  \n",
       "freq    27795  21775          29153  24698  "
      ]
     },
     "execution_count": 22,
     "metadata": {},
     "output_type": "execute_result"
    }
   ],
   "source": [
    "df.describe(include='object')"
   ]
  },
  {
   "cell_type": "code",
   "execution_count": null,
   "metadata": {},
   "outputs": [],
   "source": []
  },
  {
   "cell_type": "markdown",
   "metadata": {},
   "source": [
    "### Assign the Columns (Features) of object data type as** **``\"object_col\"``"
   ]
  },
  {
   "cell_type": "code",
   "execution_count": 23,
   "metadata": {},
   "outputs": [
    {
     "data": {
      "text/plain": [
       "Index(['workclass', 'education', 'marital_status', 'occupation',\n",
       "       'relationship', 'race', 'sex', 'native_country', 'salary'],\n",
       "      dtype='object')"
      ]
     },
     "execution_count": 23,
     "metadata": {},
     "output_type": "execute_result"
    }
   ],
   "source": [
    "object_col = df.select_dtypes(include='object').columns\n",
    "object_col"
   ]
  },
  {
   "cell_type": "code",
   "execution_count": 24,
   "metadata": {},
   "outputs": [
    {
     "name": "stdout",
     "output_type": "stream",
     "text": [
      "workclass\n",
      "----------------------------------------\n",
      "workclass\n",
      "Private             22673\n",
      "Self-emp-not-inc     2540\n",
      "Local-gov            2093\n",
      "?                    1836\n",
      "State-gov            1298\n",
      "Self-emp-inc         1116\n",
      "Federal-gov           960\n",
      "Without-pay            14\n",
      "Never-worked            7\n",
      "Name: count, dtype: int64\n",
      "////////////////////////////////////////\n",
      "education\n",
      "----------------------------------------\n",
      "education\n",
      "HS-grad         10494\n",
      "Some-college     7282\n",
      "Bachelors        5353\n",
      "Masters          1722\n",
      "Assoc-voc        1382\n",
      "11th             1175\n",
      "Assoc-acdm       1067\n",
      "10th              933\n",
      "7th-8th           645\n",
      "Prof-school       576\n",
      "9th               514\n",
      "12th              433\n",
      "Doctorate         413\n",
      "5th-6th           332\n",
      "1st-4th           166\n",
      "Preschool          50\n",
      "Name: count, dtype: int64\n",
      "////////////////////////////////////////\n",
      "marital_status\n",
      "----------------------------------------\n",
      "marital_status\n",
      "Married-civ-spouse       14970\n",
      "Never-married            10667\n",
      "Divorced                  4441\n",
      "Separated                 1025\n",
      "Widowed                    993\n",
      "Married-spouse-absent      418\n",
      "Married-AF-spouse           23\n",
      "Name: count, dtype: int64\n",
      "////////////////////////////////////////\n",
      "occupation\n",
      "----------------------------------------\n",
      "occupation\n",
      "Prof-specialty       4136\n",
      "Craft-repair         4094\n",
      "Exec-managerial      4065\n",
      "Adm-clerical         3768\n",
      "Sales                3650\n",
      "Other-service        3291\n",
      "Machine-op-inspct    2000\n",
      "?                    1843\n",
      "Transport-moving     1597\n",
      "Handlers-cleaners    1369\n",
      "Farming-fishing       992\n",
      "Tech-support          927\n",
      "Protective-serv       649\n",
      "Priv-house-serv       147\n",
      "Armed-Forces            9\n",
      "Name: count, dtype: int64\n",
      "////////////////////////////////////////\n",
      "relationship\n",
      "----------------------------------------\n",
      "relationship\n",
      "Husband           13187\n",
      "Not-in-family      8292\n",
      "NaN                5064\n",
      "Unmarried          3445\n",
      "Wife               1568\n",
      "Other-relative      981\n",
      "Name: count, dtype: int64\n",
      "////////////////////////////////////////\n",
      "race\n",
      "----------------------------------------\n",
      "race\n",
      "White                 27795\n",
      "Black                  3122\n",
      "Asian-Pac-Islander     1038\n",
      "Amer-Indian-Eskimo      311\n",
      "Other                   271\n",
      "Name: count, dtype: int64\n",
      "////////////////////////////////////////\n",
      "sex\n",
      "----------------------------------------\n",
      "sex\n",
      "Male      21775\n",
      "Female    10762\n",
      "Name: count, dtype: int64\n",
      "////////////////////////////////////////\n",
      "native_country\n",
      "----------------------------------------\n",
      "native_country\n",
      "United-States                 29153\n",
      "Mexico                          639\n",
      "?                               582\n",
      "Philippines                     198\n",
      "Germany                         137\n",
      "Canada                          121\n",
      "Puerto-Rico                     114\n",
      "El-Salvador                     106\n",
      "India                           100\n",
      "Cuba                             95\n",
      "England                          90\n",
      "Jamaica                          81\n",
      "South                            80\n",
      "China                            75\n",
      "Italy                            73\n",
      "Dominican-Republic               70\n",
      "Vietnam                          67\n",
      "Japan                            62\n",
      "Guatemala                        62\n",
      "Poland                           60\n",
      "Columbia                         59\n",
      "Taiwan                           51\n",
      "Haiti                            44\n",
      "Iran                             43\n",
      "Portugal                         37\n",
      "Nicaragua                        34\n",
      "Peru                             31\n",
      "France                           29\n",
      "Greece                           29\n",
      "Ecuador                          28\n",
      "Ireland                          24\n",
      "Hong                             20\n",
      "Cambodia                         19\n",
      "Trinadad&Tobago                  19\n",
      "Laos                             18\n",
      "Thailand                         18\n",
      "Yugoslavia                       16\n",
      "Outlying-US(Guam-USVI-etc)       14\n",
      "Honduras                         13\n",
      "Hungary                          13\n",
      "Scotland                         12\n",
      "Holand-Netherlands                1\n",
      "Name: count, dtype: int64\n",
      "////////////////////////////////////////\n",
      "salary\n",
      "----------------------------------------\n",
      "salary\n",
      "<=50K    24698\n",
      ">50K      7839\n",
      "Name: count, dtype: int64\n",
      "////////////////////////////////////////\n"
     ]
    }
   ],
   "source": [
    "for col in object_col:\n",
    "    print(col)\n",
    "    print(\"--\"*20)\n",
    "    print(df[col].value_counts(dropna=False))\n",
    "    print(\"//\"*20)"
   ]
  },
  {
   "cell_type": "markdown",
   "metadata": {},
   "source": [
    "### Detect strange values apart from the NaN Values.(isin(),Count(),Sum(),Any())"
   ]
  },
  {
   "cell_type": "code",
   "execution_count": null,
   "metadata": {},
   "outputs": [],
   "source": []
  },
  {
   "cell_type": "code",
   "execution_count": null,
   "metadata": {},
   "outputs": [],
   "source": []
  },
  {
   "cell_type": "markdown",
   "metadata": {
    "id": "tRENVPjsjwOO"
   },
   "source": [
    "<a id=\"4\"></a>\n",
    "<p style=\"background-color:plum; color:floralwhite; font-size:175%; text-align:center; border-radius:10px 10px; font-family:newtimeroman; line-height: 1.4;\">Univariate & Multivariate Analysis</p>\n",
    "\n",
    "<a href=\"#content\" class=\"btn btn-primary btn-sm\" role=\"button\" aria-pressed=\"true\" style=\"color:blue; background-color:#dfa8e4\" data-toggle=\"popover\">Content</a>\n",
    "\n",
    "Examine all Features:\n",
    "- **Target Feature**\n",
    "- **Numeric Ones**\n",
    "- **Categoric Ones** separately from different aspects according to target feature.\n",
    "\n",
    "**to do list for numeric features:**\n",
    "1. Check the boxplot to see extreme values \n",
    "2. Check the histplot/kdeplot to see distribution of feature\n",
    "3. Check the statistical values\n",
    "4. Check the boxplot and histplot/kdeplot by target feature\n",
    "5. Check the statistical values by target feature\n",
    "6. Write down the conclusions you draw from your analysis\n",
    "\n",
    "**to do list for categoric features:**\n",
    "1. Find the features which contains similar values, examine the similarities and analyze them together \n",
    "2. Check the count/percentage in each categories and visualize it with a suitable plot\n",
    "3. If need, decrease the number of categories by combining similar categories\n",
    "4. Check the count/percentage in each target feature by categories and visualize it with a suitable plot\n",
    "5. Check the percentage distribution in each target feature by categories and visualize it with suitable plot\n",
    "6. Check the count in each categories by target feature and visualize it with a suitable plot\n",
    "7. Check the percentage distribution in each categories by target feature and visualize it with suitable plot\n",
    "8. Write down the conclusions you draw from your analysis\n",
    "\n",
    "**Note :** **Instruction/direction** for each feature is available under the corresponding feature in detail, as well."
   ]
  },
  {
   "cell_type": "markdown",
   "metadata": {},
   "source": [
    "## Target Feature\n",
    "- Salary"
   ]
  },
  {
   "cell_type": "code",
   "execution_count": null,
   "metadata": {},
   "outputs": [],
   "source": []
  },
  {
   "cell_type": "code",
   "execution_count": null,
   "metadata": {},
   "outputs": [],
   "source": []
  },
  {
   "cell_type": "markdown",
   "metadata": {},
   "source": [
    "## Numeric Features"
   ]
  },
  {
   "cell_type": "code",
   "execution_count": null,
   "metadata": {},
   "outputs": [],
   "source": []
  },
  {
   "cell_type": "code",
   "execution_count": null,
   "metadata": {},
   "outputs": [],
   "source": []
  },
  {
   "cell_type": "markdown",
   "metadata": {},
   "source": [
    "## Categorical Features"
   ]
  },
  {
   "cell_type": "code",
   "execution_count": null,
   "metadata": {},
   "outputs": [],
   "source": []
  },
  {
   "cell_type": "code",
   "execution_count": null,
   "metadata": {},
   "outputs": [],
   "source": []
  },
  {
   "cell_type": "markdown",
   "metadata": {
    "id": "aQo2OjRBjwPE"
   },
   "source": [
    "<a id=\"5\"></a>\n",
    "<p style=\"background-color:plum; color:floralwhite; font-size:175%; text-align:center; border-radius:10px 10px; font-family:newtimeroman; line-height: 1.4;\">Other Specific Analysis Questions</p>\n",
    "\n",
    "<a href=\"#content\" class=\"btn btn-primary btn-sm\" role=\"button\" aria-pressed=\"true\" style=\"color:blue; background-color:#dfa8e4\" data-toggle=\"popover\">Content</a>\n",
    "\n",
    "## Analysis Questions"
   ]
  },
  {
   "cell_type": "markdown",
   "metadata": {
    "id": "4Nzi2KokjwPE"
   },
   "source": [
    "### What is the average age of males and females by income level?"
   ]
  },
  {
   "cell_type": "code",
   "execution_count": null,
   "metadata": {},
   "outputs": [],
   "source": []
  },
  {
   "cell_type": "code",
   "execution_count": null,
   "metadata": {},
   "outputs": [],
   "source": []
  },
  {
   "cell_type": "markdown",
   "metadata": {
    "id": "Atr3vfcKjwPF"
   },
   "source": [
    "### What is the workclass percentages of Americans in high-level income group?"
   ]
  },
  {
   "cell_type": "code",
   "execution_count": null,
   "metadata": {},
   "outputs": [],
   "source": []
  },
  {
   "cell_type": "code",
   "execution_count": null,
   "metadata": {},
   "outputs": [],
   "source": []
  },
  {
   "cell_type": "markdown",
   "metadata": {
    "id": "7CvSp9f7jwPF"
   },
   "source": [
    "### What is the occupation percentages of Americans who work as \"Private\" workclass in high-level income group?"
   ]
  },
  {
   "cell_type": "code",
   "execution_count": null,
   "metadata": {},
   "outputs": [],
   "source": []
  },
  {
   "cell_type": "code",
   "execution_count": null,
   "metadata": {},
   "outputs": [],
   "source": []
  },
  {
   "cell_type": "markdown",
   "metadata": {
    "id": "F7sK9___jwPG"
   },
   "source": [
    "### What is the education level percentages of Asian-Pac-Islander race group in high-level income group?"
   ]
  },
  {
   "cell_type": "code",
   "execution_count": null,
   "metadata": {},
   "outputs": [],
   "source": []
  },
  {
   "cell_type": "code",
   "execution_count": null,
   "metadata": {},
   "outputs": [],
   "source": []
  },
  {
   "cell_type": "markdown",
   "metadata": {
    "id": "7qqMjUE9jwPG"
   },
   "source": [
    "### What is the occupation percentages of Asian-Pac-Islander race group who has a Bachelors degree in high-level income group?"
   ]
  },
  {
   "cell_type": "code",
   "execution_count": null,
   "metadata": {},
   "outputs": [],
   "source": []
  },
  {
   "cell_type": "code",
   "execution_count": null,
   "metadata": {},
   "outputs": [],
   "source": []
  },
  {
   "cell_type": "markdown",
   "metadata": {
    "id": "R5sVvHBYjwPH"
   },
   "source": [
    "### What is the mean of working hours per week by gender for education level, workclass and marital status? Try to plot all required in one figure."
   ]
  },
  {
   "cell_type": "code",
   "execution_count": null,
   "metadata": {},
   "outputs": [],
   "source": []
  },
  {
   "cell_type": "code",
   "execution_count": null,
   "metadata": {},
   "outputs": [],
   "source": []
  },
  {
   "cell_type": "markdown",
   "metadata": {
    "id": "tct5KTULjwPH"
   },
   "source": [
    "<a id=\"6\"></a>\n",
    "<p style=\"background-color:plum; color:floralwhite; font-size:175%; text-align:center; border-radius:10px 10px; font-family:newtimeroman; line-height: 1.4;\">Dropping Similar & Unneccessary Features</p>\n",
    "\n",
    "<a href=\"#content\" class=\"btn btn-primary btn-sm\" role=\"button\" aria-pressed=\"true\" style=\"color:blue; background-color:#dfa8e4\" data-toggle=\"popover\">Content</a>"
   ]
  },
  {
   "cell_type": "code",
   "execution_count": null,
   "metadata": {},
   "outputs": [],
   "source": []
  },
  {
   "cell_type": "code",
   "execution_count": null,
   "metadata": {},
   "outputs": [],
   "source": []
  },
  {
   "cell_type": "code",
   "execution_count": null,
   "metadata": {},
   "outputs": [],
   "source": []
  },
  {
   "cell_type": "markdown",
   "metadata": {
    "id": "-_TS1bdWjwPH"
   },
   "source": [
    "<a id=\"7\"></a>\n",
    "<p style=\"background-color:plum; color:floralwhite; font-size:175%; text-align:center; border-radius:10px 10px; font-family:newtimeroman; line-height: 1.4;\">Handling with Missing Value</p>\n",
    "\n",
    "<a href=\"#content\" class=\"btn btn-primary btn-sm\" role=\"button\" aria-pressed=\"true\" style=\"color:blue; background-color:#dfa8e4\" data-toggle=\"popover\">Content</a>"
   ]
  },
  {
   "cell_type": "code",
   "execution_count": null,
   "metadata": {},
   "outputs": [],
   "source": []
  },
  {
   "cell_type": "code",
   "execution_count": null,
   "metadata": {},
   "outputs": [],
   "source": []
  },
  {
   "cell_type": "code",
   "execution_count": null,
   "metadata": {},
   "outputs": [],
   "source": []
  },
  {
   "cell_type": "markdown",
   "metadata": {
    "id": "OqhEXvvtjwPJ"
   },
   "source": [
    "<a id=\"8\"></a>\n",
    "<p style=\"background-color:plum; color:floralwhite; font-size:175%; text-align:center; border-radius:10px 10px; font-family:newtimeroman; line-height: 1.4;\">Handling with Outliers</p>\n",
    "\n",
    "<a href=\"#content\" class=\"btn btn-primary btn-sm\" role=\"button\" aria-pressed=\"true\" style=\"color:blue; background-color:#dfa8e4\" data-toggle=\"popover\">Content</a>\n",
    "\n",
    "## Analyzing all Features  and Detecting Extreme Values"
   ]
  },
  {
   "cell_type": "code",
   "execution_count": null,
   "metadata": {},
   "outputs": [],
   "source": []
  },
  {
   "cell_type": "code",
   "execution_count": null,
   "metadata": {},
   "outputs": [],
   "source": []
  },
  {
   "cell_type": "code",
   "execution_count": null,
   "metadata": {},
   "outputs": [],
   "source": []
  },
  {
   "cell_type": "markdown",
   "metadata": {
    "id": "CQ9PuUCZjwPa"
   },
   "source": [
    "<a id=\"9\"></a>\n",
    "<p style=\"background-color:plum; color:floralwhite; font-size:175%; text-align:center; border-radius:10px 10px; font-family:newtimeroman; line-height: 1.4;\">Final Step to Make the Dataset Ready for ML Models</p>\n",
    "\n",
    "<a href=\"#content\" class=\"btn btn-primary btn-sm\" role=\"button\" aria-pressed=\"true\" style=\"color:blue; background-color:#dfa8e4\" data-toggle=\"popover\">Content</a>\n",
    "\n",
    "## Final Step\n",
    "- Convert all features to numeric\n",
    "- Take a look at correlation between features by utilizing power of visualizing"
   ]
  },
  {
   "cell_type": "markdown",
   "metadata": {},
   "source": [
    "### Convert all features to numeric"
   ]
  },
  {
   "cell_type": "code",
   "execution_count": null,
   "metadata": {},
   "outputs": [],
   "source": []
  },
  {
   "cell_type": "code",
   "execution_count": null,
   "metadata": {},
   "outputs": [],
   "source": []
  },
  {
   "cell_type": "markdown",
   "metadata": {
    "id": "YjCbYLcxjwPc"
   },
   "source": [
    "### Take a look at correlation between features by utilizing power of visualizing"
   ]
  },
  {
   "cell_type": "code",
   "execution_count": null,
   "metadata": {},
   "outputs": [],
   "source": []
  },
  {
   "cell_type": "code",
   "execution_count": null,
   "metadata": {},
   "outputs": [],
   "source": []
  },
  {
   "cell_type": "markdown",
   "metadata": {
    "id": "II2iQLeCjwPd"
   },
   "source": [
    "<a id=\"10\"></a>\n",
    "\n",
    "<p style=\"background-color:romance; color:plum; font-size:220%; text-align:center; border-radius:10px 10px; font-family:newtimeroman; line-height: 1; font-weight:bold;\">The End of the Project</p>\n",
    "\n",
    "<p style=\"text-align: center; line-height: 1\"><img src=\"https://docs.google.com/uc?id=1lY0Uj5R04yMY3-ZppPWxqCr5pvBLYPnV\" class=\"img-fluid\" alt=\"CLRSWY\"></p>\n",
    "\n",
    "<p style=\"background-color:romance; color:plum; font-size:150%; text-align:center; border-radius:10px 10px; font-family:newtimeroman; line-height: 1; font-weight:bold;\">WAY TO REINVENT YOURSELF</p>\n",
    "\n",
    "<a href=\"#content\" class=\"btn btn-primary btn-sm\" role=\"button\" aria-pressed=\"true\" style=\"color:blue; background-color:#dfa8e4\" data-toggle=\"popover\">Content</a>"
   ]
  }
 ],
 "metadata": {
  "colab": {
   "collapsed_sections": [
    "3QuB60ZKjwOM",
    "tRENVPjsjwOO",
    "FWVwlGMnjwOO",
    "O-WjXfO7jwOQ",
    "UVjAplv8jwOQ",
    "HOIESqNjjwOT",
    "6MCscpw1jwOV",
    "9Xgur7CdjwOY",
    "x6Q6OxR6jwOa",
    "jWt2NRMNjwOd",
    "KoqL-m8HjwOd",
    "r2MBtjItjwOd",
    "vqWCeRBujwOr",
    "ZjfFoHZTjwOx",
    "KxHaqS4mjwO2",
    "eoAUdH20jwO6",
    "-atLCuBJjwO8",
    "Q1AO-wkrjwO_",
    "aQo2OjRBjwPE",
    "4Nzi2KokjwPE",
    "Atr3vfcKjwPF",
    "7CvSp9f7jwPF",
    "F7sK9___jwPG",
    "7qqMjUE9jwPG",
    "R5sVvHBYjwPH",
    "tct5KTULjwPH",
    "-_TS1bdWjwPH",
    "OqhEXvvtjwPJ",
    "A96k9zQ-jwPJ",
    "9s-OW2OwjwPR",
    "vlBdLCMhjwPT",
    "HE-2lkvajwPV",
    "CQ9PuUCZjwPa",
    "slzCtnsnjwPa",
    "YjCbYLcxjwPc",
    "II2iQLeCjwPd"
   ],
   "name": "DAwPy (EDA Project- (Analyze US Citizens))-Solution.ipynb",
   "provenance": []
  },
  "hide_input": false,
  "kernelspec": {
   "display_name": "Python 3 (ipykernel)",
   "language": "python",
   "name": "python3"
  },
  "language_info": {
   "codemirror_mode": {
    "name": "ipython",
    "version": 3
   },
   "file_extension": ".py",
   "mimetype": "text/x-python",
   "name": "python",
   "nbconvert_exporter": "python",
   "pygments_lexer": "ipython3",
   "version": "3.11.5"
  },
  "nbTranslate": {
   "displayLangs": [
    "*"
   ],
   "hotkey": "alt-t",
   "langInMainMenu": true,
   "sourceLang": "en",
   "targetLang": "fr",
   "useGoogleTranslate": true
  },
  "toc": {
   "base_numbering": 1,
   "nav_menu": {},
   "number_sections": false,
   "sideBar": true,
   "skip_h1_title": false,
   "title_cell": "Table of Contents",
   "title_sidebar": "Contents",
   "toc_cell": false,
   "toc_position": {},
   "toc_section_display": true,
   "toc_window_display": false
  },
  "varInspector": {
   "cols": {
    "lenName": 16,
    "lenType": 16,
    "lenVar": 40
   },
   "kernels_config": {
    "python": {
     "delete_cmd_postfix": "",
     "delete_cmd_prefix": "del ",
     "library": "var_list.py",
     "varRefreshCmd": "print(var_dic_list())"
    },
    "r": {
     "delete_cmd_postfix": ") ",
     "delete_cmd_prefix": "rm(",
     "library": "var_list.r",
     "varRefreshCmd": "cat(var_dic_list()) "
    }
   },
   "types_to_exclude": [
    "module",
    "function",
    "builtin_function_or_method",
    "instance",
    "_Feature"
   ],
   "window_display": false
  }
 },
 "nbformat": 4,
 "nbformat_minor": 1
}
