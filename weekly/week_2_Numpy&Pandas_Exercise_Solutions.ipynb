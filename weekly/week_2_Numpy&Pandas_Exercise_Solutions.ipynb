{
 "cells": [
  {
   "cell_type": "markdown",
   "id": "01050f8e",
   "metadata": {
    "id": "01050f8e"
   },
   "source": [
    "# **Import Numpy Library**"
   ]
  },
  {
   "cell_type": "code",
   "execution_count": 1,
   "id": "c2e66874",
   "metadata": {
    "id": "c2e66874",
    "tags": []
   },
   "outputs": [],
   "source": [
    "import numpy as np"
   ]
  },
  {
   "cell_type": "markdown",
   "id": "ddbb1ab2",
   "metadata": {
    "id": "ddbb1ab2"
   },
   "source": [
    "**https://www.w3resource.com/python-exercises/numpy/index-array.php**\n",
    "- Numpy Questions: 4, 8, 9, 10, 12, 14, 19"
   ]
  },
  {
   "cell_type": "markdown",
   "id": "f24860f1",
   "metadata": {
    "id": "f24860f1"
   },
   "source": [
    "**4. Write a NumPy program to create a null vector of size 10 and update sixth value to 11.**\n",
    "<br>[ 0. 0. 0. 0. 0. 0. 0. 0. 0. 0.]\n",
    "<br>Update sixth value to 11\n",
    "<br>[ 0. 0. 0. 0. 0. 0. 11. 0. 0. 0.]"
   ]
  },
  {
   "cell_type": "code",
   "execution_count": 2,
   "id": "bf79c4db",
   "metadata": {
    "id": "bf79c4db",
    "outputId": "ecb43246-f478-4f2e-99b9-44debc7ee3b3",
    "tags": []
   },
   "outputs": [
    {
     "name": "stdout",
     "output_type": "stream",
     "text": [
      "[0. 0. 0. 0. 0. 0. 0. 0. 0. 0.]\n"
     ]
    }
   ],
   "source": [
    "x = np.zeros(10)\n",
    "print(x)"
   ]
  },
  {
   "cell_type": "code",
   "execution_count": 3,
   "id": "b4a18689",
   "metadata": {
    "id": "b4a18689",
    "outputId": "d9357c1f-f468-40ae-fd77-4ba2d4827121",
    "tags": []
   },
   "outputs": [
    {
     "name": "stdout",
     "output_type": "stream",
     "text": [
      "Update sixth value to 11\n",
      "[ 0.  0.  0.  0.  0.  0. 11.  0.  0.  0.]\n"
     ]
    }
   ],
   "source": [
    "print(\"Update sixth value to 11\")\n",
    "\n",
    "x[6] = 11\n",
    "print(x)"
   ]
  },
  {
   "cell_type": "markdown",
   "id": "db7043aa",
   "metadata": {
    "id": "db7043aa"
   },
   "source": [
    "**8. Write a NumPy program to create a 2d array with 1 on the border and 0 inside.**\n",
    "![image-4.png](attachment:image-4.png)"
   ]
  },
  {
   "cell_type": "code",
   "execution_count": 4,
   "id": "0305008e",
   "metadata": {
    "id": "0305008e",
    "outputId": "6e4d4412-0c6a-4461-b7d3-0b02c62f5da3",
    "tags": []
   },
   "outputs": [
    {
     "name": "stdout",
     "output_type": "stream",
     "text": [
      "Original array:\n",
      "[[1. 1. 1. 1. 1.]\n",
      " [1. 1. 1. 1. 1.]\n",
      " [1. 1. 1. 1. 1.]\n",
      " [1. 1. 1. 1. 1.]\n",
      " [1. 1. 1. 1. 1.]]\n"
     ]
    }
   ],
   "source": [
    "x = np.ones((5,5))\n",
    "print(\"Original array:\")\n",
    "print(x)"
   ]
  },
  {
   "cell_type": "code",
   "execution_count": 5,
   "id": "dfd5a480",
   "metadata": {
    "id": "dfd5a480",
    "outputId": "59bec5df-62ed-4678-ef9b-68cb3d9f290d",
    "tags": []
   },
   "outputs": [
    {
     "name": "stdout",
     "output_type": "stream",
     "text": [
      "1 on the border and 0 inside in the array\n",
      "[[1. 1. 1. 1. 1.]\n",
      " [1. 0. 0. 0. 1.]\n",
      " [1. 0. 0. 0. 1.]\n",
      " [1. 0. 0. 0. 1.]\n",
      " [1. 1. 1. 1. 1.]]\n"
     ]
    }
   ],
   "source": [
    "print(\"1 on the border and 0 inside in the array\")\n",
    "x[1:-1,1:-1] = 0\n",
    "print(x)"
   ]
  },
  {
   "cell_type": "markdown",
   "id": "dea6cec0",
   "metadata": {
    "id": "dea6cec0"
   },
   "source": [
    "**9. Write a NumPy program to add a border (filled with 0's) around an existing array.**\n",
    "![image-2.png](attachment:image-2.png)"
   ]
  },
  {
   "cell_type": "code",
   "execution_count": 6,
   "id": "4c0e4f94",
   "metadata": {
    "id": "4c0e4f94",
    "outputId": "0d5f879b-1f3a-40ad-8aad-1d3fd6c57936",
    "tags": []
   },
   "outputs": [
    {
     "name": "stdout",
     "output_type": "stream",
     "text": [
      "Original array:\n",
      "[[1. 1. 1.]\n",
      " [1. 1. 1.]\n",
      " [1. 1. 1.]]\n"
     ]
    }
   ],
   "source": [
    "x = np.ones((3,3))\n",
    "print(\"Original array:\")\n",
    "print(x)"
   ]
  },
  {
   "cell_type": "code",
   "execution_count": 7,
   "id": "b7658f48",
   "metadata": {
    "id": "b7658f48",
    "outputId": "c32391f4-fde3-41e0-f597-5de953820fa3",
    "tags": []
   },
   "outputs": [
    {
     "name": "stdout",
     "output_type": "stream",
     "text": [
      "0 on the border and 1 inside in the array\n",
      "[[0. 0. 0. 0. 0.]\n",
      " [0. 1. 1. 1. 0.]\n",
      " [0. 1. 1. 1. 0.]\n",
      " [0. 1. 1. 1. 0.]\n",
      " [0. 0. 0. 0. 0.]]\n"
     ]
    }
   ],
   "source": [
    "print(\"0 on the border and 1 inside in the array\")\n",
    "x = np.pad(x, pad_width=1, mode='constant', constant_values=0)\n",
    "print(x)"
   ]
  },
  {
   "cell_type": "markdown",
   "id": "ead455ed",
   "metadata": {
    "id": "ead455ed"
   },
   "source": [
    "**10. Write a NumPy program to create a 8x8 matrix and fill it with a checkerboard pattern.**\n",
    "![image.png](attachment:image.png)"
   ]
  },
  {
   "cell_type": "code",
   "execution_count": 8,
   "id": "d9a1ab10",
   "metadata": {
    "id": "d9a1ab10",
    "outputId": "9495289f-ef47-4810-ab01-952d92e255ca",
    "tags": []
   },
   "outputs": [
    {
     "data": {
      "text/plain": [
       "array([[1., 1., 1.],\n",
       "       [1., 1., 1.],\n",
       "       [1., 1., 1.]])"
      ]
     },
     "execution_count": 8,
     "metadata": {},
     "output_type": "execute_result"
    }
   ],
   "source": [
    "x = np.ones((3,3))\n",
    "x"
   ]
  },
  {
   "cell_type": "code",
   "execution_count": 9,
   "id": "45c678ce",
   "metadata": {
    "id": "45c678ce",
    "outputId": "337d3e03-91af-45df-e530-ed9fd75601fb",
    "tags": []
   },
   "outputs": [
    {
     "name": "stdout",
     "output_type": "stream",
     "text": [
      "Checkerboard pattern:\n"
     ]
    },
    {
     "data": {
      "text/plain": [
       "array([[0, 0, 0, 0, 0, 0, 0, 0],\n",
       "       [1, 0, 1, 0, 1, 0, 1, 0],\n",
       "       [0, 0, 0, 0, 0, 0, 0, 0],\n",
       "       [1, 0, 1, 0, 1, 0, 1, 0],\n",
       "       [0, 0, 0, 0, 0, 0, 0, 0],\n",
       "       [1, 0, 1, 0, 1, 0, 1, 0],\n",
       "       [0, 0, 0, 0, 0, 0, 0, 0],\n",
       "       [1, 0, 1, 0, 1, 0, 1, 0]])"
      ]
     },
     "execution_count": 9,
     "metadata": {},
     "output_type": "execute_result"
    }
   ],
   "source": [
    "print(\"Checkerboard pattern:\")\n",
    "x = np.zeros((8,8),dtype=int)\n",
    "x[1::2,::2] = 1\n",
    "x"
   ]
  },
  {
   "cell_type": "code",
   "execution_count": 10,
   "id": "29e785ed",
   "metadata": {
    "id": "29e785ed",
    "outputId": "102a5990-1b4d-4a7a-a2e5-78d155251654",
    "tags": []
   },
   "outputs": [
    {
     "name": "stdout",
     "output_type": "stream",
     "text": [
      "[[0 1 0 1 0 1 0 1]\n",
      " [1 0 1 0 1 0 1 0]\n",
      " [0 1 0 1 0 1 0 1]\n",
      " [1 0 1 0 1 0 1 0]\n",
      " [0 1 0 1 0 1 0 1]\n",
      " [1 0 1 0 1 0 1 0]\n",
      " [0 1 0 1 0 1 0 1]\n",
      " [1 0 1 0 1 0 1 0]]\n"
     ]
    }
   ],
   "source": [
    "x[::2,1::2] = 1\n",
    "print(x)"
   ]
  },
  {
   "cell_type": "markdown",
   "id": "05ad7d46",
   "metadata": {
    "id": "05ad7d46"
   },
   "source": [
    "**12. Write a NumPy program to append values to the end of an array.**\n",
    "![image-2.png](attachment:image-2.png)"
   ]
  },
  {
   "cell_type": "code",
   "execution_count": 11,
   "id": "aec48c3b",
   "metadata": {
    "id": "aec48c3b",
    "outputId": "a8f3cbe7-0cbb-4245-e1c3-74dfa6b692e1",
    "tags": []
   },
   "outputs": [
    {
     "name": "stdout",
     "output_type": "stream",
     "text": [
      "Original array:\n",
      "[10, 20, 30]\n"
     ]
    }
   ],
   "source": [
    "x = [10, 20, 30]\n",
    "print(\"Original array:\")\n",
    "print(x)"
   ]
  },
  {
   "cell_type": "code",
   "execution_count": 12,
   "id": "b69a6105",
   "metadata": {
    "id": "b69a6105",
    "outputId": "615b7c41-361a-4ed6-c932-4099bb6cee89",
    "tags": []
   },
   "outputs": [
    {
     "name": "stdout",
     "output_type": "stream",
     "text": [
      "After append values to the end of the array:\n",
      "[10 20 30 40 50 60 70 80 90]\n"
     ]
    }
   ],
   "source": [
    "x = np.append(x, [[40, 50, 60], [70, 80, 90]])\n",
    "print(\"After append values to the end of the array:\")\n",
    "print(x)"
   ]
  },
  {
   "cell_type": "markdown",
   "id": "42de85e3",
   "metadata": {
    "id": "42de85e3"
   },
   "source": [
    "**14. Write a NumPy program to convert the values of Centigrade degrees into Fahrenheit degrees. Centigrade values are stored into a NumPy array.**\n",
    "![image.png](attachment:image.png)"
   ]
  },
  {
   "cell_type": "code",
   "execution_count": 13,
   "id": "7c6a3eaf",
   "metadata": {
    "id": "7c6a3eaf",
    "outputId": "5039b316-710e-4d48-8633-642fe5bcad52",
    "tags": []
   },
   "outputs": [
    {
     "name": "stdout",
     "output_type": "stream",
     "text": [
      "Values in Fahrenheit degrees:\n",
      "[ 0.   12.   45.21 34.   99.91]\n"
     ]
    }
   ],
   "source": [
    "fvalues = [0, 12, 45.21, 34, 99.91]\n",
    "F = np.array(fvalues)\n",
    "print(\"Values in Fahrenheit degrees:\")\n",
    "print(F)"
   ]
  },
  {
   "cell_type": "code",
   "execution_count": 14,
   "id": "666ab9e5",
   "metadata": {
    "id": "666ab9e5",
    "outputId": "3d2ae818-457d-446d-f94d-b83e930dea1a",
    "tags": []
   },
   "outputs": [
    {
     "name": "stdout",
     "output_type": "stream",
     "text": [
      "Values in  Centigrade degrees:\n",
      "[-17.77777778 -11.11111111   7.33888889   1.11111111  37.72777778]\n"
     ]
    }
   ],
   "source": [
    "print(\"Values in  Centigrade degrees:\")\n",
    "print(5*F/9 - 5*32/9)"
   ]
  },
  {
   "cell_type": "markdown",
   "id": "20c215fe",
   "metadata": {
    "id": "20c215fe"
   },
   "source": [
    "**19. Write a NumPy program to get the unique elements of an array.**\n",
    "![image.png](attachment:image.png)"
   ]
  },
  {
   "cell_type": "code",
   "execution_count": 15,
   "id": "41ef6631",
   "metadata": {
    "id": "41ef6631",
    "outputId": "4ea408d3-1a13-46a2-9e44-859b1edfd7e1",
    "tags": []
   },
   "outputs": [
    {
     "name": "stdout",
     "output_type": "stream",
     "text": [
      "Original array:\n",
      "[10 10 20 20 30 30]\n"
     ]
    }
   ],
   "source": [
    "x = np.array([10, 10, 20, 20, 30, 30])\n",
    "print(\"Original array:\")\n",
    "print(x)"
   ]
  },
  {
   "cell_type": "code",
   "execution_count": 16,
   "id": "5ab275e9",
   "metadata": {
    "id": "5ab275e9",
    "outputId": "cab53891-c796-49cd-e9d6-82215f22b816",
    "tags": []
   },
   "outputs": [
    {
     "name": "stdout",
     "output_type": "stream",
     "text": [
      "Unique elements of the above array:\n",
      "[10 20 30]\n"
     ]
    }
   ],
   "source": [
    "print(\"Unique elements of the above array:\")\n",
    "print(np.unique(x))"
   ]
  },
  {
   "cell_type": "code",
   "execution_count": 17,
   "id": "9e559769",
   "metadata": {
    "id": "9e559769",
    "outputId": "e2413772-b929-46de-9a1a-9e16e4f6c54d",
    "tags": []
   },
   "outputs": [
    {
     "name": "stdout",
     "output_type": "stream",
     "text": [
      "Original array:\n",
      "[[1 1]\n",
      " [2 3]]\n"
     ]
    }
   ],
   "source": [
    "x = np.array([[1, 1], [2, 3]])\n",
    "print(\"Original array:\")\n",
    "print(x)"
   ]
  },
  {
   "cell_type": "code",
   "execution_count": 18,
   "id": "95a5dfe8",
   "metadata": {
    "id": "95a5dfe8",
    "outputId": "af37ac83-2c4b-448a-f735-ed232b145b44",
    "tags": []
   },
   "outputs": [
    {
     "name": "stdout",
     "output_type": "stream",
     "text": [
      "Unique elements of the above array:\n",
      "[1 2 3]\n"
     ]
    }
   ],
   "source": [
    "print(\"Unique elements of the above array:\")\n",
    "print(np.unique(x))"
   ]
  },
  {
   "cell_type": "markdown",
   "id": "f090f65c",
   "metadata": {
    "id": "f090f65c"
   },
   "source": [
    "# **import Pandas Library**"
   ]
  },
  {
   "cell_type": "code",
   "execution_count": 19,
   "id": "dfd40bae",
   "metadata": {
    "id": "dfd40bae",
    "tags": []
   },
   "outputs": [],
   "source": [
    "import pandas as pd"
   ]
  },
  {
   "cell_type": "markdown",
   "id": "b65d66b0",
   "metadata": {
    "id": "b65d66b0"
   },
   "source": [
    "**https://www.w3resource.com/python-exercises/pandas/index-data-series.php**\n",
    "- Pandas Questions: 2, 3, 5, 6, 13"
   ]
  },
  {
   "cell_type": "markdown",
   "id": "4495cd8d",
   "metadata": {
    "id": "4495cd8d"
   },
   "source": [
    "**2. Write a Pandas program to convert a Pandas module Series to Python list and it's type.**"
   ]
  },
  {
   "cell_type": "code",
   "execution_count": 20,
   "id": "e663465f",
   "metadata": {
    "id": "e663465f",
    "tags": []
   },
   "outputs": [],
   "source": [
    "list_1 = [2, 4, 6, 8, 10]"
   ]
  },
  {
   "cell_type": "code",
   "execution_count": 21,
   "id": "6a0fed9e",
   "metadata": {
    "id": "6a0fed9e",
    "outputId": "8b4d223d-08b3-4a03-ff63-8b7c31e60dcf",
    "tags": []
   },
   "outputs": [
    {
     "name": "stdout",
     "output_type": "stream",
     "text": [
      "Pandas Series and type\n",
      "0     2\n",
      "1     4\n",
      "2     6\n",
      "3     8\n",
      "4    10\n",
      "dtype: int64\n",
      "<class 'pandas.core.series.Series'>\n"
     ]
    }
   ],
   "source": [
    "# Convert the Python list to a Pandas Series\n",
    "ds = pd.Series(list_1)\n",
    "print(\"Pandas Series and type\")\n",
    "print(ds)\n",
    "print(type(ds))"
   ]
  },
  {
   "cell_type": "code",
   "execution_count": 22,
   "id": "8488a65f",
   "metadata": {
    "id": "8488a65f",
    "outputId": "806b5c8f-e538-4d7a-b9c1-30f7aa1cb611",
    "tags": []
   },
   "outputs": [
    {
     "name": "stdout",
     "output_type": "stream",
     "text": [
      "[2, 4, 6, 8, 10]\n",
      "<class 'list'>\n"
     ]
    }
   ],
   "source": [
    "# Convert the Pandas Series to Python list\n",
    "print(ds.tolist())\n",
    "print(type(ds.tolist()))"
   ]
  },
  {
   "cell_type": "markdown",
   "id": "9cbbf7c4",
   "metadata": {
    "id": "9cbbf7c4"
   },
   "source": [
    "**3. Write a Pandas program to add, subtract, multiple and divide two Pandas Series.**"
   ]
  },
  {
   "cell_type": "code",
   "execution_count": 23,
   "id": "65d1aaee",
   "metadata": {
    "id": "65d1aaee",
    "tags": []
   },
   "outputs": [],
   "source": [
    "list1 = [2, 4, 6, 8, 10]\n",
    "list2 = [1, 3, 5, 7, 9]"
   ]
  },
  {
   "cell_type": "code",
   "execution_count": 24,
   "id": "d03eadce",
   "metadata": {
    "id": "d03eadce",
    "tags": []
   },
   "outputs": [],
   "source": [
    "# Create two Pandas series with these lists\n",
    "ds1 = pd.Series(list1)\n",
    "ds2 = pd.Series(list2)"
   ]
  },
  {
   "cell_type": "code",
   "execution_count": 25,
   "id": "53867761",
   "metadata": {
    "id": "53867761",
    "outputId": "b0ba97cc-d68e-426e-8af8-b77f800ddf89",
    "tags": []
   },
   "outputs": [
    {
     "name": "stdout",
     "output_type": "stream",
     "text": [
      "Add two Series:\n",
      "0     3\n",
      "1     7\n",
      "2    11\n",
      "3    15\n",
      "4    19\n",
      "dtype: int64\n"
     ]
    }
   ],
   "source": [
    "ds = ds1 + ds2\n",
    "print(\"Add two Series:\")\n",
    "print(ds)"
   ]
  },
  {
   "cell_type": "code",
   "execution_count": 26,
   "id": "ac701bc5",
   "metadata": {
    "id": "ac701bc5",
    "outputId": "b75507f9-685c-4bf3-827c-677ecf17f70d",
    "tags": []
   },
   "outputs": [
    {
     "name": "stdout",
     "output_type": "stream",
     "text": [
      "Subtract two Series:\n",
      "0    1\n",
      "1    1\n",
      "2    1\n",
      "3    1\n",
      "4    1\n",
      "dtype: int64\n"
     ]
    }
   ],
   "source": [
    "print(\"Subtract two Series:\")\n",
    "ds = ds1 - ds2\n",
    "print(ds)"
   ]
  },
  {
   "cell_type": "code",
   "execution_count": 27,
   "id": "c08fd576",
   "metadata": {
    "id": "c08fd576",
    "outputId": "21965c8e-73c3-41fa-e5ad-92b970cecd02",
    "tags": []
   },
   "outputs": [
    {
     "name": "stdout",
     "output_type": "stream",
     "text": [
      "Multiply two Series:\n",
      "0     2\n",
      "1    12\n",
      "2    30\n",
      "3    56\n",
      "4    90\n",
      "dtype: int64\n"
     ]
    }
   ],
   "source": [
    "print(\"Multiply two Series:\")\n",
    "ds = ds1 * ds2\n",
    "print(ds)"
   ]
  },
  {
   "cell_type": "code",
   "execution_count": 28,
   "id": "37d65f42",
   "metadata": {
    "id": "37d65f42",
    "outputId": "604bfc46-6a40-439e-e686-ea827395af67",
    "tags": []
   },
   "outputs": [
    {
     "name": "stdout",
     "output_type": "stream",
     "text": [
      "Divide Series1 by Series2:\n",
      "0    2.000000\n",
      "1    1.333333\n",
      "2    1.200000\n",
      "3    1.142857\n",
      "4    1.111111\n",
      "dtype: float64\n"
     ]
    }
   ],
   "source": [
    "print(\"Divide Series1 by Series2:\")\n",
    "ds = ds1 / ds2\n",
    "print(ds)"
   ]
  },
  {
   "cell_type": "markdown",
   "id": "9abb654b",
   "metadata": {
    "id": "9abb654b"
   },
   "source": [
    "**5. Write a Pandas program to convert a dictionary to a Pandas series.**"
   ]
  },
  {
   "cell_type": "code",
   "execution_count": 29,
   "id": "880cbc47",
   "metadata": {
    "id": "880cbc47",
    "tags": []
   },
   "outputs": [],
   "source": [
    "keys=['a','b','c','d','e']\n",
    "values = [100, 200, 300, 400, 800]"
   ]
  },
  {
   "cell_type": "code",
   "execution_count": 30,
   "id": "53f64b67",
   "metadata": {
    "id": "53f64b67",
    "outputId": "74170698-1603-416e-e8f5-31294a91280f",
    "tags": []
   },
   "outputs": [
    {
     "name": "stdout",
     "output_type": "stream",
     "text": [
      "Original dictionary:\n",
      "{'a': 100, 'b': 200, 'c': 300, 'd': 400, 'e': 800}\n"
     ]
    }
   ],
   "source": [
    "# Create a dictionary from keys and values\n",
    "d1={keys[i]:values[i] for i in range(len(keys))}\n",
    "print(\"Original dictionary:\")\n",
    "print(d1)"
   ]
  },
  {
   "cell_type": "code",
   "execution_count": 31,
   "id": "c9a6e0ff",
   "metadata": {
    "id": "c9a6e0ff",
    "outputId": "9182df16-8b39-4ac6-e65e-87dde22128b5",
    "tags": []
   },
   "outputs": [
    {
     "name": "stdout",
     "output_type": "stream",
     "text": [
      "Converted series:\n",
      "a    100\n",
      "b    200\n",
      "c    300\n",
      "d    400\n",
      "e    800\n",
      "dtype: int64\n"
     ]
    }
   ],
   "source": [
    "# Convert the dictionary to a Pandas series\n",
    "new_series = pd.Series(d1)\n",
    "print(\"Converted series:\")\n",
    "print(new_series)"
   ]
  },
  {
   "cell_type": "markdown",
   "id": "a4f57a08",
   "metadata": {
    "id": "a4f57a08"
   },
   "source": [
    "**6. Write a Pandas program to convert a NumPy array to a Pandas series.**"
   ]
  },
  {
   "cell_type": "code",
   "execution_count": 32,
   "id": "380e6b29",
   "metadata": {
    "id": "380e6b29",
    "outputId": "147cf200-b2a5-40e9-8d25-563e1dbf550e",
    "tags": []
   },
   "outputs": [
    {
     "name": "stdout",
     "output_type": "stream",
     "text": [
      "NumPy array:\n",
      "[10 20 30 40 50]\n"
     ]
    }
   ],
   "source": [
    "# Original Data : [10, 20, 30, 40, 50]\n",
    "# Create a numpy array with this data\n",
    "\n",
    "np_array = np.array([10, 20, 30, 40, 50])\n",
    "print(\"NumPy array:\")\n",
    "print(np_array)"
   ]
  },
  {
   "cell_type": "code",
   "execution_count": 33,
   "id": "35a89c9c",
   "metadata": {
    "id": "35a89c9c",
    "outputId": "1b50f609-af69-41c0-ccf4-e4b3c0c044d5",
    "tags": []
   },
   "outputs": [
    {
     "name": "stdout",
     "output_type": "stream",
     "text": [
      "Converted Pandas series:\n",
      "0    10\n",
      "1    20\n",
      "2    30\n",
      "3    40\n",
      "4    50\n",
      "dtype: int32\n"
     ]
    }
   ],
   "source": [
    "# Convert a NumPy array to this Pandas series.\n",
    "\n",
    "new_series = pd.Series(np_array)\n",
    "print(\"Converted Pandas series:\")\n",
    "print(new_series)"
   ]
  },
  {
   "cell_type": "markdown",
   "id": "136470f9",
   "metadata": {
    "id": "136470f9"
   },
   "source": [
    "**12. Write a Pandas program to add some data to an existing Series.**|"
   ]
  },
  {
   "cell_type": "code",
   "execution_count": 34,
   "id": "a5b0b291",
   "metadata": {
    "id": "a5b0b291",
    "outputId": "342ebe6b-d99e-4419-fcf4-1b72343a7a3b",
    "tags": []
   },
   "outputs": [
    {
     "name": "stdout",
     "output_type": "stream",
     "text": [
      "Original Data Series:\n",
      "0       100\n",
      "1       200\n",
      "2    python\n",
      "3    300.12\n",
      "4       400\n",
      "dtype: object\n"
     ]
    }
   ],
   "source": [
    "# Original Data : ['100', '200', 'python', '300.12', '400']\n",
    "# Built a pandas Series with this data\n",
    "\n",
    "s = pd.Series(['100', '200', 'python', '300.12', '400'])\n",
    "print(\"Original Data Series:\")\n",
    "print(s)"
   ]
  },
  {
   "cell_type": "code",
   "execution_count": 36,
   "id": "c624bcaf-54e1-45ba-93e9-8ee1be548f88",
   "metadata": {
    "tags": []
   },
   "outputs": [
    {
     "name": "stdout",
     "output_type": "stream",
     "text": [
      "0       100\n",
      "1       200\n",
      "2    python\n",
      "3    300.12\n",
      "4       400\n",
      "0       500\n",
      "1       php\n",
      "dtype: object\n"
     ]
    }
   ],
   "source": [
    "new_s = pd.concat([s, pd.Series(['500', 'php'])])\n",
    "\n",
    "print(new_s)"
   ]
  },
  {
   "cell_type": "raw",
   "id": "1c11701a-fccb-4d58-87db-e6918187737a",
   "metadata": {
    "id": "44c6f75b",
    "outputId": "fea0d3e9-47ee-4b21-d585-05131b6c4828",
    "tags": []
   },
   "source": [
    "# Add ['500', 'php'] to the original Data Series\n",
    "\n",
    "print(\"\\nData Series after adding some data:\")\n",
    "new_s = s.append(pd.Series(['500', 'php']))\n",
    "print(new_s)"
   ]
  },
  {
   "cell_type": "markdown",
   "id": "5a8d0f1f",
   "metadata": {
    "id": "5a8d0f1f"
   },
   "source": [
    "**13. Write a Pandas program to create a subset of a given series based on value and condition.**"
   ]
  },
  {
   "cell_type": "code",
   "execution_count": 37,
   "id": "1d035878",
   "metadata": {
    "id": "1d035878",
    "outputId": "c182b25a-c3a0-44e9-e791-7ff8c5572cd6",
    "tags": []
   },
   "outputs": [
    {
     "name": "stdout",
     "output_type": "stream",
     "text": [
      "Original Data Series:\n",
      "0      0\n",
      "1      1\n",
      "2      2\n",
      "3      3\n",
      "4      4\n",
      "5      5\n",
      "6      6\n",
      "7      7\n",
      "8      8\n",
      "9      9\n",
      "10    10\n",
      "dtype: int64\n"
     ]
    }
   ],
   "source": [
    "# Original Data : [0,1,2,3,4,5,6,7,8,9,10]\n",
    "# Built a pandas Series with this data\n",
    "\n",
    "s = pd.Series([0,1,2,3,4,5,6,7,8,9,10])\n",
    "print(\"Original Data Series:\")\n",
    "print(s)"
   ]
  },
  {
   "cell_type": "code",
   "execution_count": 38,
   "id": "c4f632e9",
   "metadata": {
    "id": "c4f632e9",
    "outputId": "65a0015e-1428-4eab-81aa-695a148359f3",
    "tags": []
   },
   "outputs": [
    {
     "name": "stdout",
     "output_type": "stream",
     "text": [
      "\n",
      "Subset of the above Data Series:\n",
      "0    0\n",
      "1    1\n",
      "2    2\n",
      "3    3\n",
      "4    4\n",
      "5    5\n",
      "dtype: int64\n"
     ]
    }
   ],
   "source": [
    "# Create a new series with data with a value less than 6\n",
    "\n",
    "print(\"\\nSubset of the above Data Series:\")\n",
    "n = 6\n",
    "new_s = s[s < n]\n",
    "print(new_s)"
   ]
  },
  {
   "cell_type": "code",
   "execution_count": null,
   "id": "bec745a3-f928-4880-97fe-658cc2fa5a21",
   "metadata": {},
   "outputs": [],
   "source": []
  }
 ],
 "metadata": {
  "colab": {
   "provenance": []
  },
  "kernelspec": {
   "display_name": "Python 3 (ipykernel)",
   "language": "python",
   "name": "python3"
  },
  "language_info": {
   "codemirror_mode": {
    "name": "ipython",
    "version": 3
   },
   "file_extension": ".py",
   "mimetype": "text/x-python",
   "name": "python",
   "nbconvert_exporter": "python",
   "pygments_lexer": "ipython3",
   "version": "3.11.5"
  }
 },
 "nbformat": 4,
 "nbformat_minor": 5
}
